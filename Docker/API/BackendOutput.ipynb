{
 "cells": [
  {
   "cell_type": "code",
   "execution_count": 38,
   "id": "8faac0ea-7911-410e-a6ab-9cb31761924b",
   "metadata": {},
   "outputs": [],
   "source": [
    "import pandas as pd\n",
    "from flask import Flask, jsonify\n",
    "from flask_cors import CORS\n",
    "from datetime import datetime\n",
    "import json"
   ]
  },
  {
   "cell_type": "markdown",
   "id": "a862ea8e-f65c-484f-be81-649d5905c903",
   "metadata": {},
   "source": [
    "### Uplading predicted data & report dictionary"
   ]
  },
  {
   "cell_type": "code",
   "execution_count": 39,
   "id": "9605ad9b-779a-4e53-a8a1-696956c055d0",
   "metadata": {},
   "outputs": [],
   "source": [
    "predicted_data = pd.read_csv('Predicted_Data.csv')"
   ]
  },
  {
   "cell_type": "code",
   "execution_count": 40,
   "id": "a73e260c-cf33-4a43-9654-363af8da9647",
   "metadata": {},
   "outputs": [],
   "source": [
    "with open('Report_Dict.json', 'r') as file:\n",
    "        report_dict = json.load(file)"
   ]
  },
  {
   "cell_type": "markdown",
   "id": "8b99f0f4-bee3-4762-b75a-07cecd4e5461",
   "metadata": {},
   "source": [
    "### Creating string of Last Updated"
   ]
  },
  {
   "cell_type": "code",
   "execution_count": 41,
   "id": "ee753ec5-104a-416c-a5a3-23c94153e5e1",
   "metadata": {},
   "outputs": [],
   "source": [
    "LastUpdated = {'LastUpdated' : f\"Last Updated at {datetime.now().replace(microsecond=0)}\"}\n",
    "jsonLastUpdated = json.dumps(LastUpdated)"
   ]
  },
  {
   "cell_type": "markdown",
   "id": "f9832731-5928-4fde-bdda-ac3f61659e55",
   "metadata": {},
   "source": [
    "### Sending data"
   ]
  },
  {
   "cell_type": "code",
   "execution_count": 42,
   "id": "a17ec3fc-135d-42f2-8e04-9cdb27ce4eb7",
   "metadata": {},
   "outputs": [],
   "source": [
    "# Flask API to send report and predicted data to frontend\n",
    "app = Flask(__name__)\n",
    "CORS(app)\n",
    "\n",
    "@app.route('/api/model')\n",
    "def get_model():\n",
    "    return report_dict\n",
    "\n",
    "@app.route('/api/data')\n",
    "def get_data():\n",
    "    return jsonify(predicted_data.to_dict(orient='records'))\n",
    "\n",
    "if __name__ == 'main':\n",
    "    app.run(debug=True)"
   ]
  }
 ],
 "metadata": {
  "kernelspec": {
   "display_name": "Python 3 (ipykernel)",
   "language": "python",
   "name": "python3"
  },
  "language_info": {
   "codemirror_mode": {
    "name": "ipython",
    "version": 3
   },
   "file_extension": ".py",
   "mimetype": "text/x-python",
   "name": "python",
   "nbconvert_exporter": "python",
   "pygments_lexer": "ipython3",
   "version": "3.10.13"
  }
 },
 "nbformat": 4,
 "nbformat_minor": 5
}
