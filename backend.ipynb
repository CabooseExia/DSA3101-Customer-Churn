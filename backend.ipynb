{
 "cells": [
  {
   "cell_type": "code",
   "execution_count": 72,
   "metadata": {},
   "outputs": [],
   "source": [
    "import pdb\n",
    "import pandas as pd\n",
    "import numpy as np\n",
    "import os\n",
    "from scipy.stats import gaussian_kde\n",
    "from datetime import datetime\n",
    "from faker import Faker\n",
    "import random\n",
    "np.random.seed(3101)\n",
    "random_state = np.random.RandomState(3101)\n",
    "fake = Faker()"
   ]
  },
  {
   "cell_type": "markdown",
   "metadata": {},
   "source": [
    "# Importing data:\n",
    "bank1 = archive  \n",
    "bank2 = bank+marketing"
   ]
  },
  {
   "cell_type": "code",
   "execution_count": 73,
   "metadata": {},
   "outputs": [],
   "source": [
    "# print(os.getcwd())\n",
    "bank_df_train = pd.read_csv('./data/main/train.csv')\n",
    "bank_df_test = pd.read_csv('./data/main/test.csv')"
   ]
  },
  {
   "cell_type": "code",
   "execution_count": 74,
   "metadata": {},
   "outputs": [
    {
     "name": "stdout",
     "output_type": "stream",
     "text": [
      "   id  CustomerId         Surname  CreditScore Geography Gender   Age  Tenure  \\\n",
      "0   0    15674932  Okwudilichukwu          668    France   Male  33.0       3   \n",
      "1   1    15749177   Okwudiliolisa          627    France   Male  33.0       1   \n",
      "2   2    15694510           Hsueh          678    France   Male  40.0      10   \n",
      "3   3    15741417             Kao          581    France   Male  34.0       2   \n",
      "4   4    15766172       Chiemenam          716     Spain   Male  33.0       5   \n",
      "\n",
      "     Balance  NumOfProducts  HasCrCard  IsActiveMember  EstimatedSalary  \\\n",
      "0       0.00              2        1.0             0.0        181449.97   \n",
      "1       0.00              2        1.0             1.0         49503.50   \n",
      "2       0.00              2        1.0             0.0        184866.69   \n",
      "3  148882.54              1        1.0             1.0         84560.88   \n",
      "4       0.00              2        1.0             1.0         15068.83   \n",
      "\n",
      "   Exited  \n",
      "0       0  \n",
      "1       0  \n",
      "2       0  \n",
      "3       0  \n",
      "4       0  \n",
      "165034\n"
     ]
    }
   ],
   "source": [
    "print(bank_df_train.head())\n",
    "print(len(bank_df_train))\n",
    "\n",
    "# bank_df_train_clean = bank_df_train.drop_duplicates(subset=\"CustomerId\", keep=\"first\")\n",
    "# print(len(bank_df_train_clean))"
   ]
  },
  {
   "cell_type": "code",
   "execution_count": 75,
   "metadata": {},
   "outputs": [
    {
     "name": "stdout",
     "output_type": "stream",
     "text": [
      "       id  CustomerId    Surname  CreditScore Geography  Gender   Age  Tenure  \\\n",
      "0  165034    15773898   Lucchese          586    France  Female  23.0       2   \n",
      "1  165035    15782418       Nott          683    France  Female  46.0       2   \n",
      "2  165036    15807120         K?          656    France  Female  34.0       7   \n",
      "3  165037    15808905  O'Donnell          681    France    Male  36.0       8   \n",
      "4  165038    15607314    Higgins          752   Germany    Male  38.0      10   \n",
      "\n",
      "     Balance  NumOfProducts  HasCrCard  IsActiveMember  EstimatedSalary  \n",
      "0       0.00              2        0.0             1.0        160976.75  \n",
      "1       0.00              1        1.0             0.0         72549.27  \n",
      "2       0.00              2        1.0             0.0        138882.09  \n",
      "3       0.00              1        1.0             0.0        113931.57  \n",
      "4  121263.62              1        1.0             0.0        139431.00  \n",
      "0          True\n",
      "1          True\n",
      "2          True\n",
      "3          True\n",
      "4          True\n",
      "          ...  \n",
      "110018     True\n",
      "110019     True\n",
      "110020     True\n",
      "110021    False\n",
      "110022     True\n",
      "Length: 110023, dtype: bool\n"
     ]
    }
   ],
   "source": [
    "print(bank_df_test.head())\n",
    "len(bank_df_test)\n",
    "duplicates = bank_df_test.duplicated(subset=['CustomerId'], keep=False)\n",
    "print(duplicates)\n",
    "#no \"exited\" column"
   ]
  },
  {
   "cell_type": "markdown",
   "metadata": {},
   "source": [
    "# Adding and populating features"
   ]
  },
  {
   "cell_type": "markdown",
   "metadata": {},
   "source": [
    "### 13. Transaction History: Detailed transaction data offers insights into spending patterns and engagement. \n",
    "1 column for number of transactions in the past 3 months\n",
    "1 column for amount transaction in the past 3 months"
   ]
  },
  {
   "cell_type": "code",
   "execution_count": null,
   "metadata": {},
   "outputs": [],
   "source": []
  },
  {
   "cell_type": "markdown",
   "metadata": {},
   "source": [
    "### 14. Customer Service Calls: Higher calls might indicate issues and dissatisfaction, affecting churn. \n",
    "Modeling with poisson distribution. Assuming that those who churned had more calls as they were more likely to had issues and thus needed calls. \n",
    "Poisson distribution deals with discrete events, which means it applies to situations where the number of occurrences (customer calls) can be whole numbers (0, 1, 2, 3, etc.). Customer calls happen independently throughout a specific time frame\n"
   ]
  },
  {
   "cell_type": "code",
   "execution_count": 76,
   "metadata": {},
   "outputs": [
    {
     "name": "stdout",
     "output_type": "stream",
     "text": [
      "   id  CustomerId         Surname  CreditScore Geography Gender   Age  Tenure  \\\n",
      "0   0    15674932  Okwudilichukwu          668    France   Male  33.0       3   \n",
      "1   1    15749177   Okwudiliolisa          627    France   Male  33.0       1   \n",
      "2   2    15694510           Hsueh          678    France   Male  40.0      10   \n",
      "3   3    15741417             Kao          581    France   Male  34.0       2   \n",
      "4   4    15766172       Chiemenam          716     Spain   Male  33.0       5   \n",
      "\n",
      "     Balance  NumOfProducts  HasCrCard  IsActiveMember  EstimatedSalary  \\\n",
      "0       0.00              2        1.0             0.0        181449.97   \n",
      "1       0.00              2        1.0             1.0         49503.50   \n",
      "2       0.00              2        1.0             0.0        184866.69   \n",
      "3  148882.54              1        1.0             1.0         84560.88   \n",
      "4       0.00              2        1.0             1.0         15068.83   \n",
      "\n",
      "   Exited  NumCalls  \n",
      "0       0        15  \n",
      "1       0        14  \n",
      "2       0        16  \n",
      "3       0        17  \n",
      "4       0        10  \n"
     ]
    },
    {
     "data": {
      "text/plain": [
       "False"
      ]
     },
     "execution_count": 76,
     "metadata": {},
     "output_type": "execute_result"
    }
   ],
   "source": [
    "from scipy.stats import poisson\n",
    "\n",
    "avg_call_rate_per_year_unchurned = 12\n",
    "avg_call_rate_per_year_churned = 24\n",
    "# bank_df_train_clean['NumCalls'] = np.random.poisson(avg_call_rate_per_year, size = len(bank_df_train_clean))\n",
    "bank_df_train['NumCalls'] = np.where(bank_df_train['Exited'] == 1, np.random.poisson(avg_call_rate_per_year_churned, size = len(bank_df_train)), np.random.poisson(avg_call_rate_per_year_unchurned, size = len(bank_df_train)))\n",
    "print(bank_df_train.head())\n",
    "\n",
    "(bank_df_train[\"NumCalls\"]<0).any() #no negative calls\n"
   ]
  },
  {
   "cell_type": "markdown",
   "metadata": {},
   "source": [
    "### 15. Total Relationship Count: Reflects the breadth of the customer's relationship with the bank. \n",
    "There are two main ways banks interpret total relationship count:\n",
    "\n",
    "Number of Products and Services: This refers to the variety of products and services a customer uses from the bank. For example, if a customer has a checking account, savings account, and credit card with the same bank, their total relationship count based on products would be 3. A higher number indicates a broader and potentially more complex relationship. -> (sum of NumOfProducts + HasCrCard)\n",
    "\n",
    "Total Assets Under Management: This focuses on the total value a customer entrusts to the bank. It considers the sum of their deposits (checking, savings), investments (stocks, bonds), and borrowings (loans, mortgages) managed through the bank. A higher total asset value suggests a stronger and more significant relationship for the bank. -> (we have deposit(balance). will need to create investments and borrowings). Currently GXS does not offer investment products so I will ignore that. "
   ]
  },
  {
   "cell_type": "code",
   "execution_count": 77,
   "metadata": {},
   "outputs": [
    {
     "name": "stdout",
     "output_type": "stream",
     "text": [
      "   id  CustomerId         Surname  CreditScore Geography Gender   Age  Tenure  \\\n",
      "0   0    15674932  Okwudilichukwu          668    France   Male  33.0       3   \n",
      "1   1    15749177   Okwudiliolisa          627    France   Male  33.0       1   \n",
      "2   2    15694510           Hsueh          678    France   Male  40.0      10   \n",
      "3   3    15741417             Kao          581    France   Male  34.0       2   \n",
      "4   4    15766172       Chiemenam          716     Spain   Male  33.0       5   \n",
      "\n",
      "     Balance  NumOfProducts  HasCrCard  IsActiveMember  EstimatedSalary  \\\n",
      "0       0.00              2        1.0             0.0        181449.97   \n",
      "1       0.00              2        1.0             1.0         49503.50   \n",
      "2       0.00              2        1.0             0.0        184866.69   \n",
      "3  148882.54              1        1.0             1.0         84560.88   \n",
      "4       0.00              2        1.0             1.0         15068.83   \n",
      "\n",
      "   Exited  NumCalls  Loan_Amount  \n",
      "0       0        15  5993.267187  \n",
      "1       0        14  5255.999914  \n",
      "2       0        16  7452.924647  \n",
      "3       0        17  4763.036414  \n",
      "4       0        10  5019.210989  \n"
     ]
    }
   ],
   "source": [
    "mean_loan_amount = 5000  # Example mean loan amount\n",
    "std_dev_loan_amount = 2000  # Example standard deviation\n",
    "\n",
    "np.random.seed(3101)\n",
    "bank_df_train['Loan_Amount'] = np.maximum(np.random.normal(mean_loan_amount, std_dev_loan_amount, len(bank_df_train)), 0)\n",
    "\n",
    "print(bank_df_train.head())"
   ]
  },
  {
   "cell_type": "markdown",
   "metadata": {},
   "source": [
    "### 24. Marketing Offers Accepted\n",
    "Indicates responsiveness to incentives, affecting churn. Range 0-1, (percentage of marketing offers they accept, e.g.5 offer, 4 accepted, the value of the column 0.8)"
   ]
  },
  {
   "cell_type": "code",
   "execution_count": 78,
   "metadata": {},
   "outputs": [
    {
     "name": "stdout",
     "output_type": "stream",
     "text": [
      "   id  CustomerId         Surname  CreditScore Geography Gender   Age  Tenure  \\\n",
      "0   0    15674932  Okwudilichukwu          668    France   Male  33.0       3   \n",
      "1   1    15749177   Okwudiliolisa          627    France   Male  33.0       1   \n",
      "2   2    15694510           Hsueh          678    France   Male  40.0      10   \n",
      "3   3    15741417             Kao          581    France   Male  34.0       2   \n",
      "4   4    15766172       Chiemenam          716     Spain   Male  33.0       5   \n",
      "\n",
      "     Balance  NumOfProducts  HasCrCard  IsActiveMember  EstimatedSalary  \\\n",
      "0       0.00              2        1.0             0.0        181449.97   \n",
      "1       0.00              2        1.0             1.0         49503.50   \n",
      "2       0.00              2        1.0             0.0        184866.69   \n",
      "3  148882.54              1        1.0             1.0         84560.88   \n",
      "4       0.00              2        1.0             1.0         15068.83   \n",
      "\n",
      "   Exited  NumCalls  Loan_Amount  MarketingOffersAcceptance  \n",
      "0       0        15  5993.267187                   0.000000  \n",
      "1       0        14  5255.999914                   0.361008  \n",
      "2       0        16  7452.924647                   0.000000  \n",
      "3       0        17  4763.036414                   0.212547  \n",
      "4       0        10  5019.210989                   0.000000  \n"
     ]
    }
   ],
   "source": [
    "marketing_df = pd.read_csv('./data/marketing offers/marketing_campaign.csv', sep=';')\n",
    "\n",
    "\n",
    "marketing_df[\"MarketingOffersAcceptance\"] = (marketing_df['AcceptedCmp1'] + marketing_df['AcceptedCmp2'] + marketing_df['AcceptedCmp3'] + marketing_df['AcceptedCmp4'] + marketing_df['AcceptedCmp5']) / 5\n",
    "# print(marketing_df.head())\n",
    "\n",
    "kde = gaussian_kde(marketing_df['MarketingOffersAcceptance'])\n",
    "\n",
    "bank_df_train['MarketingOffersAcceptance'] = np.maximum(kde.resample(len(bank_df_train)).flatten(), 0)\n",
    "bank_df_test['MarketingOffersAcceptance'] = np.maximum(kde.resample(len(bank_df_test)).flatten(), 0)\n",
    "\n",
    "print(bank_df_train.head())"
   ]
  },
  {
   "cell_type": "markdown",
   "metadata": {},
   "source": [
    "### 25. Channel Used for Transactions\n",
    "Reflects preferred banking channels and engagement level. \n",
    "faker"
   ]
  },
  {
   "cell_type": "code",
   "execution_count": 79,
   "metadata": {},
   "outputs": [
    {
     "name": "stdout",
     "output_type": "stream",
     "text": [
      "['Electronic check', 'Mailed check', 'Bank transfer (automatic)', 'Credit card (automatic)']\n",
      "   id  CustomerId         Surname  CreditScore Geography Gender   Age  Tenure  \\\n",
      "0   0    15674932  Okwudilichukwu          668    France   Male  33.0       3   \n",
      "1   1    15749177   Okwudiliolisa          627    France   Male  33.0       1   \n",
      "2   2    15694510           Hsueh          678    France   Male  40.0      10   \n",
      "3   3    15741417             Kao          581    France   Male  34.0       2   \n",
      "4   4    15766172       Chiemenam          716     Spain   Male  33.0       5   \n",
      "\n",
      "     Balance  NumOfProducts  HasCrCard  IsActiveMember  EstimatedSalary  \\\n",
      "0       0.00              2        1.0             0.0        181449.97   \n",
      "1       0.00              2        1.0             1.0         49503.50   \n",
      "2       0.00              2        1.0             0.0        184866.69   \n",
      "3  148882.54              1        1.0             1.0         84560.88   \n",
      "4       0.00              2        1.0             1.0         15068.83   \n",
      "\n",
      "   Exited  NumCalls  Loan_Amount  MarketingOffersAcceptance  \\\n",
      "0       0        15  5993.267187                   0.000000   \n",
      "1       0        14  5255.999914                   0.361008   \n",
      "2       0        16  7452.924647                   0.000000   \n",
      "3       0        17  4763.036414                   0.212547   \n",
      "4       0        10  5019.210989                   0.000000   \n",
      "\n",
      "               PaymentMethod  \n",
      "0    Credit card (automatic)  \n",
      "1           Electronic check  \n",
      "2    Credit card (automatic)  \n",
      "3           Electronic check  \n",
      "4  Bank transfer (automatic)  \n"
     ]
    }
   ],
   "source": [
    "transaction_channel_df = pd.read_csv('./data/main_payment_method/WA_Fn-UseC_-Telco-Customer-Churn.csv')\n",
    "\n",
    "# print(transaction_channel_df.head())\n",
    "methods = transaction_channel_df['PaymentMethod'].unique().tolist()\n",
    "print(methods)\n",
    "faked_data = [random.choice(methods) for _ in range(len(bank_df_train))]\n",
    "faked_data_2 = [random.choice(methods) for _ in range(len(bank_df_test))]\n",
    "\n",
    "bank_df_train['PaymentMethod'] = faked_data\n",
    "bank_df_test['PaymentMethod'] = faked_data_2\n",
    "print(bank_df_train.head())"
   ]
  },
  {
   "cell_type": "markdown",
   "metadata": {},
   "source": [
    "### 26. Customer Satisfaction Surveys\n",
    "Provides direct feedback on satisfaction levels, predicting churn. "
   ]
  },
  {
   "cell_type": "code",
   "execution_count": 80,
   "metadata": {},
   "outputs": [
    {
     "name": "stdout",
     "output_type": "stream",
     "text": [
      "0    5\n",
      "1    3\n",
      "2    5\n",
      "3    5\n",
      "4    5\n",
      "5    5\n",
      "6    5\n",
      "7    3\n",
      "8    4\n",
      "9    3\n",
      "Name: CustomerSatisfaction, dtype: int32\n"
     ]
    }
   ],
   "source": [
    "cust_satisfaction_df = pd.read_csv('./data/satisfaction score/Customer-Churn-Records.csv')\n",
    "\n",
    "kde = gaussian_kde(cust_satisfaction_df['Satisfaction Score'])\n",
    "\n",
    "fake_data = np.maximum(kde.resample(len(bank_df_train)).flatten(), 0)\n",
    "fake_data = np.minimum(fake_data.flatten(), 5)\n",
    "fake_data = np.round(fake_data).astype(int)\n",
    "\n",
    "fake_data_2 = np.maximum(kde.resample(len(bank_df_test)).flatten(), 0)\n",
    "fake_data_2 = np.minimum(fake_data_2.flatten(), 5)\n",
    "fake_data_2 = np.round(fake_data_2).astype(int)\n",
    "\n",
    "bank_df_train['CustomerSatisfaction'] = fake_data\n",
    "bank_df_test['CustomerSatisfaction'] = fake_data_2\n",
    "# print(len(bank_df_test))\n",
    "# print(len(fake_data_2))\n",
    "\n",
    "print(bank_df_train['CustomerSatisfaction'].head(10))"
   ]
  },
  {
   "cell_type": "markdown",
   "metadata": {},
   "source": [
    "### 27. Income Source\n",
    "Indicates financial stability and potential churn risk. "
   ]
  },
  {
   "cell_type": "code",
   "execution_count": 81,
   "metadata": {},
   "outputs": [
    {
     "name": "stdout",
     "output_type": "stream",
     "text": [
      "['Private', 'Local-gov', 'Self-emp-not-inc', 'Federal-gov', 'State-gov', 'Self-emp-inc', 'Without-pay', 'Never-worked']\n",
      "   id  CustomerId         Surname  CreditScore Geography Gender   Age  Tenure  \\\n",
      "0   0    15674932  Okwudilichukwu          668    France   Male  33.0       3   \n",
      "1   1    15749177   Okwudiliolisa          627    France   Male  33.0       1   \n",
      "2   2    15694510           Hsueh          678    France   Male  40.0      10   \n",
      "3   3    15741417             Kao          581    France   Male  34.0       2   \n",
      "4   4    15766172       Chiemenam          716     Spain   Male  33.0       5   \n",
      "\n",
      "     Balance  NumOfProducts  HasCrCard  IsActiveMember  EstimatedSalary  \\\n",
      "0       0.00              2        1.0             0.0        181449.97   \n",
      "1       0.00              2        1.0             1.0         49503.50   \n",
      "2       0.00              2        1.0             0.0        184866.69   \n",
      "3  148882.54              1        1.0             1.0         84560.88   \n",
      "4       0.00              2        1.0             1.0         15068.83   \n",
      "\n",
      "   Exited  NumCalls  Loan_Amount  MarketingOffersAcceptance  \\\n",
      "0       0        15  5993.267187                   0.000000   \n",
      "1       0        14  5255.999914                   0.361008   \n",
      "2       0        16  7452.924647                   0.000000   \n",
      "3       0        17  4763.036414                   0.212547   \n",
      "4       0        10  5019.210989                   0.000000   \n",
      "\n",
      "               PaymentMethod  CustomerSatisfaction      IncomeSource  \n",
      "0    Credit card (automatic)                     5      Never-worked  \n",
      "1           Electronic check                     3         Local-gov  \n",
      "2    Credit card (automatic)                     5       Federal-gov  \n",
      "3           Electronic check                     5      Never-worked  \n",
      "4  Bank transfer (automatic)                     5  Self-emp-not-inc  \n"
     ]
    }
   ],
   "source": [
    "income_source_df = pd.read_csv('./data/income source/adult.csv')\n",
    "\n",
    "# print(transaction_channel_df.head())\n",
    "income_sourcs = income_source_df['workclass'].unique().tolist()\n",
    "income_sourcs.remove('?')\n",
    "print(income_sourcs)\n",
    "faked_data = [random.choice(income_sourcs) for _ in range(len(bank_df_train))]\n",
    "faked_data_2 = [random.choice(income_sourcs) for _ in range(len(bank_df_test))]\n",
    "\n",
    "bank_df_train['IncomeSource'] = faked_data\n",
    "bank_df_test['IncomeSource'] = faked_data_2\n",
    "print(bank_df_train.head())"
   ]
  },
  {
   "cell_type": "markdown",
   "metadata": {},
   "source": [
    "### 28. Credit Utilization\n",
    "Reflects financial health and potential churn risk for credit customers."
   ]
  },
  {
   "cell_type": "code",
   "execution_count": 82,
   "metadata": {},
   "outputs": [
    {
     "name": "stdout",
     "output_type": "stream",
     "text": [
      "   id  CustomerId         Surname  CreditScore Geography Gender   Age  Tenure  \\\n",
      "0   0    15674932  Okwudilichukwu          668    France   Male  33.0       3   \n",
      "1   1    15749177   Okwudiliolisa          627    France   Male  33.0       1   \n",
      "2   2    15694510           Hsueh          678    France   Male  40.0      10   \n",
      "3   3    15741417             Kao          581    France   Male  34.0       2   \n",
      "4   4    15766172       Chiemenam          716     Spain   Male  33.0       5   \n",
      "\n",
      "     Balance  NumOfProducts  ...  IsActiveMember  EstimatedSalary  Exited  \\\n",
      "0       0.00              2  ...             0.0        181449.97       0   \n",
      "1       0.00              2  ...             1.0         49503.50       0   \n",
      "2       0.00              2  ...             0.0        184866.69       0   \n",
      "3  148882.54              1  ...             1.0         84560.88       0   \n",
      "4       0.00              2  ...             1.0         15068.83       0   \n",
      "\n",
      "   NumCalls  Loan_Amount  MarketingOffersAcceptance  \\\n",
      "0        15  5993.267187                   0.000000   \n",
      "1        14  5255.999914                   0.361008   \n",
      "2        16  7452.924647                   0.000000   \n",
      "3        17  4763.036414                   0.212547   \n",
      "4        10  5019.210989                   0.000000   \n",
      "\n",
      "               PaymentMethod CustomerSatisfaction      IncomeSource  \\\n",
      "0    Credit card (automatic)                    5      Never-worked   \n",
      "1           Electronic check                    3         Local-gov   \n",
      "2    Credit card (automatic)                    5       Federal-gov   \n",
      "3           Electronic check                    5      Never-worked   \n",
      "4  Bank transfer (automatic)                    5  Self-emp-not-inc   \n",
      "\n",
      "  CreditUtilization  \n",
      "0          0.000000  \n",
      "1          0.115581  \n",
      "2          0.041186  \n",
      "3          0.148752  \n",
      "4          0.315600  \n",
      "\n",
      "[5 rows x 21 columns]\n"
     ]
    }
   ],
   "source": [
    "credit_df = pd.read_csv('./data/credit utilization/BankChurners.csv')\n",
    "\n",
    "kde = gaussian_kde(credit_df['Avg_Utilization_Ratio'])\n",
    "\n",
    "fake_data = np.maximum(kde.resample(len(bank_df_train)).flatten(), 0)\n",
    "fake_data = np.minimum(fake_data.flatten(), 1)\n",
    "# fake_data = np.round(fake_data).astype(int)\n",
    "fake_data_2 = np.maximum(kde.resample(len(bank_df_test)).flatten(), 0)\n",
    "fake_data_2 = np.minimum(fake_data_2.flatten(), 1)\n",
    "\n",
    "bank_df_train['CreditUtilization'] = fake_data\n",
    "bank_df_test['CreditUtilization'] = fake_data_2\n",
    "\n",
    "print(bank_df_train.head())"
   ]
  },
  {
   "cell_type": "markdown",
   "metadata": {},
   "source": [
    "### 29. Response to Previous Retention Efforts\n",
    "Records success or failure of previous retention efforts, guiding future strategies. "
   ]
  },
  {
   "cell_type": "code",
   "execution_count": 83,
   "metadata": {},
   "outputs": [
    {
     "name": "stdout",
     "output_type": "stream",
     "text": [
      "   id  CustomerId         Surname  CreditScore Geography Gender   Age  Tenure  \\\n",
      "0   0    15674932  Okwudilichukwu          668    France   Male  33.0       3   \n",
      "1   1    15749177   Okwudiliolisa          627    France   Male  33.0       1   \n",
      "2   2    15694510           Hsueh          678    France   Male  40.0      10   \n",
      "3   3    15741417             Kao          581    France   Male  34.0       2   \n",
      "4   4    15766172       Chiemenam          716     Spain   Male  33.0       5   \n",
      "\n",
      "     Balance  NumOfProducts  ...  EstimatedSalary  Exited  NumCalls  \\\n",
      "0       0.00              2  ...        181449.97       0        15   \n",
      "1       0.00              2  ...         49503.50       0        14   \n",
      "2       0.00              2  ...        184866.69       0        16   \n",
      "3  148882.54              1  ...         84560.88       0        17   \n",
      "4       0.00              2  ...         15068.83       0        10   \n",
      "\n",
      "   Loan_Amount  MarketingOffersAcceptance              PaymentMethod  \\\n",
      "0  5993.267187                   0.000000    Credit card (automatic)   \n",
      "1  5255.999914                   0.361008           Electronic check   \n",
      "2  7452.924647                   0.000000    Credit card (automatic)   \n",
      "3  4763.036414                   0.212547           Electronic check   \n",
      "4  5019.210989                   0.000000  Bank transfer (automatic)   \n",
      "\n",
      "   CustomerSatisfaction      IncomeSource  CreditUtilization Retention  \n",
      "0                     5      Never-worked           0.000000         0  \n",
      "1                     3         Local-gov           0.115581         0  \n",
      "2                     5       Federal-gov           0.041186         0  \n",
      "3                     5      Never-worked           0.148752         0  \n",
      "4                     5  Self-emp-not-inc           0.315600         0  \n",
      "\n",
      "[5 rows x 22 columns]\n"
     ]
    }
   ],
   "source": [
    "retention_df = pd.read_csv('./data/retention/HR_comma_sep.csv')\n",
    "\n",
    "kde = gaussian_kde(retention_df['promotion_last_5years'])\n",
    "\n",
    "fake_data = np.maximum(kde.resample(len(bank_df_train)).flatten(), 0)\n",
    "fake_data = np.minimum(fake_data.flatten(), 1)\n",
    "fake_data = np.round(fake_data).astype(int)\n",
    "fake_data_2 = np.maximum(kde.resample(len(bank_df_test)).flatten(), 0)\n",
    "fake_data_2 = np.minimum(fake_data_2.flatten(), 1)\n",
    "fake_data_2 = np.round(fake_data_2).astype(int)\n",
    "\n",
    "bank_df_train['Retention'] = fake_data\n",
    "bank_df_test['Retention'] = fake_data_2\n",
    "\n",
    "print(bank_df_train.head())"
   ]
  },
  {
   "cell_type": "markdown",
   "metadata": {},
   "source": [
    "### 30. Change in behavior before n after\n",
    "Average of percentage of increase/decrease (ranging from 0 - infinity, but most of the times it will be ard 0-2)"
   ]
  },
  {
   "cell_type": "code",
   "execution_count": 84,
   "metadata": {},
   "outputs": [],
   "source": [
    "bank_df_train['ChanegInBehaviour'] = np.random.normal(2, 0.25, len(bank_df_train))\n",
    "bank_df_test['ChanegInBehaviour']= np.random.normal(2, 0.25, len(bank_df_test))"
   ]
  },
  {
   "cell_type": "markdown",
   "metadata": {},
   "source": [
    "### 31. Churn Date: The exact date the customer decided to exit.\n"
   ]
  },
  {
   "cell_type": "code",
   "execution_count": 85,
   "metadata": {},
   "outputs": [
    {
     "name": "stdout",
     "output_type": "stream",
     "text": [
      "0           nan\n",
      "1           nan\n",
      "2           nan\n",
      "3           nan\n",
      "4           nan\n",
      "5    2023-07-07\n",
      "6           nan\n",
      "7           nan\n",
      "8           nan\n",
      "9           nan\n",
      "Name: ChurnDate, dtype: object\n"
     ]
    }
   ],
   "source": [
    "start_date = \"2023-01-01\"\n",
    "end_date = \"2023-12-31\"\n",
    "\n",
    "random_dates = pd.date_range(start=start_date, end=end_date, freq='D')\n",
    "random_dates_str = random_dates.strftime('%Y-%m-%d')\n",
    "bank_df_train['ChurnDate'] = np.where(bank_df_train['Exited'] == 1, np.random.choice(random_dates_str) , np.nan) \n",
    "print(bank_df_train['ChurnDate'].head(10))"
   ]
  },
  {
   "cell_type": "markdown",
   "metadata": {},
   "source": [
    "### 32. Sign Up Date: When did the customer create an account\n",
    "has to be linked with churn date if any, and tenure. Tenure is usually rounded down, so "
   ]
  },
  {
   "cell_type": "code",
   "execution_count": 86,
   "metadata": {},
   "outputs": [
    {
     "name": "stdout",
     "output_type": "stream",
     "text": [
      "     SignDate   ChurnDate  Tenure\n",
      "0  2020-07-17         nan       3\n",
      "1  2022-04-05         nan       1\n",
      "2  2013-11-30         nan      10\n",
      "3  2021-01-02         nan       2\n",
      "4  2018-08-29         nan       5\n",
      "5  2019-05-26  2023-07-07       4\n",
      "6  2015-07-28         nan       8\n",
      "7  2022-05-31         nan       1\n",
      "8  2019-11-26         nan       4\n",
      "9  2019-09-03         nan       4\n"
     ]
    }
   ],
   "source": [
    "def generate_signon_date(churn_date, tenure, exited):\n",
    "    if exited == 0:\n",
    "        churn_date = \"2023-12-31\"\n",
    "    churn_date = pd.to_datetime(churn_date)\n",
    "    max = churn_date - pd.DateOffset(years=tenure)\n",
    "    min = churn_date - pd.DateOffset(years=(tenure + 1))\n",
    "    random_dates = pd.date_range(min, max, freq='D').strftime('%Y-%m-%d')\n",
    "    random_date = np.random.choice(random_dates)\n",
    "    return random_date\n",
    "\n",
    "\n",
    "bank_df_train['SignDate'] = bank_df_train.apply(lambda row: generate_signon_date(row['ChurnDate'], row['Tenure'], row['Exited']), axis = 1)\n",
    "print(bank_df_train[['SignDate', 'ChurnDate', 'Tenure']].head(10))\n",
    "\n",
    "bank_df_test['SignDate'] = bank_df_train.apply(lambda row: generate_signon_date(\"2023-12-31\", row['Tenure'], 0), axis = 1)\n",
    "# print(bank_df_train_clean.head(10))"
   ]
  },
  {
   "cell_type": "markdown",
   "metadata": {},
   "source": [
    "# EDA\n",
    "1. covarience matrix\n",
    "2. LDA\n",
    "3. apriori\n",
    "4. domain knowledge"
   ]
  },
  {
   "cell_type": "markdown",
   "metadata": {},
   "source": [
    "### 1. Covariance matrix"
   ]
  },
  {
   "cell_type": "code",
   "execution_count": null,
   "metadata": {},
   "outputs": [],
   "source": [
    "#code for covariance matrix"
   ]
  },
  {
   "cell_type": "markdown",
   "metadata": {},
   "source": [
    "### 2. LDA"
   ]
  },
  {
   "cell_type": "code",
   "execution_count": null,
   "metadata": {},
   "outputs": [],
   "source": [
    "#code for LDA"
   ]
  },
  {
   "cell_type": "markdown",
   "metadata": {},
   "source": [
    "### 3. Aprior"
   ]
  },
  {
   "cell_type": "code",
   "execution_count": null,
   "metadata": {},
   "outputs": [],
   "source": [
    "#code for apriori"
   ]
  },
  {
   "cell_type": "markdown",
   "metadata": {},
   "source": [
    "### 4. Domain knowledge"
   ]
  },
  {
   "cell_type": "code",
   "execution_count": null,
   "metadata": {},
   "outputs": [],
   "source": [
    "#domain knowledge...."
   ]
  },
  {
   "cell_type": "markdown",
   "metadata": {},
   "source": [
    "# Model training:\n",
    "1. Random forest\n",
    "2. XGBoost\n",
    "3. Logistic regression"
   ]
  }
 ],
 "metadata": {
  "kernelspec": {
   "display_name": "Python 3",
   "language": "python",
   "name": "python3"
  },
  "language_info": {
   "codemirror_mode": {
    "name": "ipython",
    "version": 3
   },
   "file_extension": ".py",
   "mimetype": "text/x-python",
   "name": "python",
   "nbconvert_exporter": "python",
   "pygments_lexer": "ipython3",
   "version": "3.11.3"
  }
 },
 "nbformat": 4,
 "nbformat_minor": 2
}
