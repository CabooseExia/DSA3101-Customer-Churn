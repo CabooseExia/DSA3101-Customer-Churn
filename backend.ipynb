{
 "cells": [
  {
   "cell_type": "code",
   "execution_count": 1,
   "metadata": {},
   "outputs": [],
   "source": [
    "import pdb\n",
    "import pandas as pd\n",
    "import numpy as np\n",
    "import os"
   ]
  },
  {
   "cell_type": "markdown",
   "metadata": {},
   "source": [
    "# Importing data:\n",
    "bank1 = archive  \n",
    "bank2 = bank+marketing"
   ]
  },
  {
   "cell_type": "code",
   "execution_count": 5,
   "metadata": {},
   "outputs": [
    {
     "name": "stdout",
     "output_type": "stream",
     "text": [
      "c:\\Users\\caboo\\Documents\\Github\\DSA3101-Customer-Churn\n"
     ]
    }
   ],
   "source": [
    "# print(os.getcwd())\n",
    "bank1_df = pd.read_csv('./data/archive/Bank Customer Churn Prediction.csv')\n",
    "bank2_df = pd.read_csv('./data/bank+marketing/bank/bank-full.csv')"
   ]
  }
 ],
 "metadata": {
  "language_info": {
   "name": "python"
  }
 },
 "nbformat": 4,
 "nbformat_minor": 2
}
