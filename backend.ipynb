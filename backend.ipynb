{
 "cells": [
  {
   "cell_type": "code",
   "execution_count": 64,
   "metadata": {},
   "outputs": [],
   "source": [
    "import pdb\n",
    "import pandas as pd\n",
    "import numpy as np\n",
    "import os\n",
    "from scipy.stats import gaussian_kde\n",
    "from datetime import datetime\n",
    "from faker import Faker\n",
    "import random\n",
    "np.random.seed(3101)\n",
    "random_state = np.random.RandomState(3101)\n",
    "fake = Faker()"
   ]
  },
  {
   "cell_type": "markdown",
   "metadata": {},
   "source": [
    "# Importing data:\n",
    "bank1 = archive  \n",
    "bank2 = bank+marketing"
   ]
  },
  {
   "cell_type": "code",
   "execution_count": 65,
   "metadata": {},
   "outputs": [],
   "source": [
    "# print(os.getcwd())\n",
    "bank_df_train = pd.read_csv('./data/main/train.csv')\n",
    "bank_df_test = pd.read_csv('./data/main/test.csv')"
   ]
  },
  {
   "cell_type": "code",
   "execution_count": 66,
   "metadata": {},
   "outputs": [
    {
     "name": "stdout",
     "output_type": "stream",
     "text": [
      "   id  CustomerId         Surname  CreditScore Geography Gender  Age  Tenure  \\\n",
      "0   0    15674932  Okwudilichukwu          668    France   Male   33       3   \n",
      "1   1    15749177   Okwudiliolisa          627    France   Male   33       1   \n",
      "2   2    15694510           Hsueh          678    France   Male   40      10   \n",
      "3   3    15741417             Kao          581    France   Male   34       2   \n",
      "4   4    15766172       Chiemenam          716     Spain   Male   33       5   \n",
      "\n",
      "   Balance  NumOfProducts  HasCrCard  IsActiveMember  EstimatedSalary  Exited  \n",
      "0        0              2          1               0          181,450       0  \n",
      "1        0              2          1               1           49,504       0  \n",
      "2        0              2          1               0          184,867       0  \n",
      "3  148,883              1          1               1           84,561       0  \n",
      "4        0              2          1               1           15,069       0  \n",
      "165034\n"
     ]
    }
   ],
   "source": [
    "print(bank_df_train.head())\n",
    "print(len(bank_df_train))\n",
    "\n",
    "# bank_df_train_clean = bank_df_train.drop_duplicates(subset=\"CustomerId\", keep=\"first\")\n",
    "# print(len(bank_df_train_clean))"
   ]
  },
  {
   "cell_type": "code",
   "execution_count": 67,
   "metadata": {},
   "outputs": [
    {
     "name": "stdout",
     "output_type": "stream",
     "text": [
      "       id  CustomerId    Surname  CreditScore Geography  Gender  Age  Tenure  \\\n",
      "0  165034    15773898   Lucchese          586    France  Female   23       2   \n",
      "1  165035    15782418       Nott          683    France  Female   46       2   \n",
      "2  165036    15807120         K?          656    France  Female   34       7   \n",
      "3  165037    15808905  O'Donnell          681    France    Male   36       8   \n",
      "4  165038    15607314    Higgins          752   Germany    Male   38      10   \n",
      "\n",
      "   Balance  NumOfProducts  HasCrCard  IsActiveMember  EstimatedSalary  \n",
      "0        0              2          0               1          160,977  \n",
      "1        0              1          1               0           72,549  \n",
      "2        0              2          1               0          138,882  \n",
      "3        0              1          1               0          113,932  \n",
      "4  121,264              1          1               0          139,431  \n",
      "0          True\n",
      "1          True\n",
      "2          True\n",
      "3          True\n",
      "4          True\n",
      "          ...  \n",
      "110018     True\n",
      "110019     True\n",
      "110020     True\n",
      "110021    False\n",
      "110022     True\n",
      "Length: 110023, dtype: bool\n"
     ]
    }
   ],
   "source": [
    "print(bank_df_test.head())\n",
    "len(bank_df_test)\n",
    "duplicates = bank_df_test.duplicated(subset=['CustomerId'], keep=False)\n",
    "print(duplicates)\n",
    "#no \"exited\" column"
   ]
  },
  {
   "cell_type": "markdown",
   "metadata": {},
   "source": [
    "Data Cleaning\n",
    "\n",
    "Removed CustomerId column in both test & train since it is an unused var in the original dataset\n",
    "All other columns returns no duplicates"
   ]
  },
  {
   "cell_type": "code",
   "execution_count": 68,
   "metadata": {},
   "outputs": [
    {
     "name": "stdout",
     "output_type": "stream",
     "text": [
      "Empty DataFrame\n",
      "Columns: [id, Surname, CreditScore, Geography, Gender, Age, Tenure, Balance, NumOfProducts, HasCrCard, IsActiveMember, EstimatedSalary, Exited]\n",
      "Index: []\n"
     ]
    }
   ],
   "source": [
    "bank_df_train = bank_df_train.loc[:, bank_df_train.columns!='CustomerId'] # extract all columns except for CustomerId\n",
    "print(bank_df_train[bank_df_train.duplicated() == True]) # check for duplicate columns \n",
    "\n",
    "bank_df_test = bank_df_test.loc[:, bank_df_test.columns!='CustomerId']\n",
    "\n",
    "n_train = len(bank_df_train)\n",
    "n_test = len(bank_df_test)"
   ]
  },
  {
   "cell_type": "markdown",
   "metadata": {},
   "source": [
    "# Adding and populating features"
   ]
  },
  {
   "cell_type": "markdown",
   "metadata": {},
   "source": [
    "### 13. Churn Date: The exact date the customer decided to exit."
   ]
  },
  {
   "cell_type": "code",
   "execution_count": 69,
   "metadata": {},
   "outputs": [
    {
     "name": "stdout",
     "output_type": "stream",
     "text": [
      "0           nan\n",
      "1           nan\n",
      "2           nan\n",
      "3           nan\n",
      "4           nan\n",
      "5    2023-07-20\n",
      "6           nan\n",
      "7           nan\n",
      "8           nan\n",
      "9           nan\n",
      "Name: ChurnDate, dtype: object\n"
     ]
    }
   ],
   "source": [
    "start_date = \"2023-01-01\"\n",
    "end_date = \"2023-12-31\"\n",
    "\n",
    "random_dates = pd.date_range(start=start_date, end=end_date, freq='D')\n",
    "random_dates_str = random_dates.strftime('%Y-%m-%d')\n",
    "bank_df_train['ChurnDate'] = np.where(bank_df_train['Exited'] == 1, np.random.choice(random_dates_str) , np.nan) \n",
    "print(bank_df_train['ChurnDate'].head(10))"
   ]
  },
  {
   "cell_type": "markdown",
   "metadata": {},
   "source": [
    "### 14. Sign Up Date: When did the customer create an account\n",
    "has to be linked with churn date if any, and tenure. Tenure is usually rounded down, so \n"
   ]
  },
  {
   "cell_type": "code",
   "execution_count": 70,
   "metadata": {},
   "outputs": [
    {
     "name": "stdout",
     "output_type": "stream",
     "text": [
      "     SignDate   ChurnDate  Tenure\n",
      "0  2020-03-08         nan       3\n",
      "1  2022-12-17         nan       1\n",
      "2  2013-06-08         nan      10\n",
      "3  2021-07-08         nan       2\n",
      "4  2018-05-19         nan       5\n",
      "5  2019-05-26  2023-07-20       4\n",
      "6  2015-07-29         nan       8\n",
      "7  2022-08-11         nan       1\n",
      "8  2019-04-15         nan       4\n",
      "9  2019-01-22         nan       4\n"
     ]
    }
   ],
   "source": [
    "def generate_signon_date(churn_date, tenure, exited):\n",
    "    if exited == 0:\n",
    "        churn_date = \"2023-12-31\"\n",
    "    churn_date = pd.to_datetime(churn_date)\n",
    "    max = churn_date - pd.DateOffset(years=tenure)\n",
    "    min = churn_date - pd.DateOffset(years=(tenure + 1))\n",
    "    random_dates = pd.date_range(min, max, freq='D').strftime('%Y-%m-%d')\n",
    "    random_date = np.random.choice(random_dates)\n",
    "    return random_date\n",
    "\n",
    "\n",
    "bank_df_train['SignDate'] = bank_df_train.apply(lambda row: generate_signon_date(row['ChurnDate'], row['Tenure'], row['Exited']), axis = 1)\n",
    "print(bank_df_train[['SignDate', 'ChurnDate', 'Tenure']].head(10))\n",
    "\n",
    "bank_df_test['SignDate'] = bank_df_train.apply(lambda row: generate_signon_date(\"2023-12-31\", row['Tenure'], 0), axis = 1)\n",
    "# print(bank_df_train_clean.head(10))"
   ]
  },
  {
   "cell_type": "markdown",
   "metadata": {},
   "source": [
    "### 15.Transaction History 1\n",
    "Detailed transaction data offers insights into spending patterns and engagement. (Transaction frequency in the last 28 days)"
   ]
  },
  {
   "cell_type": "code",
   "execution_count": 71,
   "metadata": {},
   "outputs": [],
   "source": [
    "transaction_df = pd.read_excel('./data/transaction_history.xlsx')\n",
    "\n",
    "# print(transaction_df.head())\n",
    "transaction_df['DATE'] = pd.to_datetime(transaction_df['DATE'])\n",
    "\n",
    "grouped_df = transaction_df.groupby('Account No')\n",
    "\n",
    "results = []\n",
    "for group_name, group_data in grouped_df:\n",
    "    # Get max and min dates for the group\n",
    "    max_date = group_data['DATE'].max()\n",
    "    min_date = max_date - pd.Timedelta(days=28)\n",
    "    \n",
    "    # Filter group data for transactions within the date range\n",
    "    filtered_group = group_data[(group_data['DATE'] >= min_date) & (group_data['DATE'] <= max_date)]\n",
    "    \n",
    "    # Calculate transaction frequency and amount for the group\n",
    "    transaction_frequency = len(filtered_group)\n",
    "    transaction_amount = filtered_group['DEPOSIT AMT'].sum()\n",
    "    \n",
    "    # Append results to the list\n",
    "    results.append({\n",
    "        'Account No': group_name,\n",
    "        'Total Transaction Amount': transaction_amount,\n",
    "        'Transaction Frequency': transaction_frequency\n",
    "    })\n",
    "\n",
    "# Create DataFrame from results\n",
    "result_df = pd.DataFrame(results)\n",
    "\n",
    "result_df['Total Transaction Amount'] = result_df['Total Transaction Amount'].astype(int)\n",
    "pd.options.display.float_format = '{:,.0f}'.format\n",
    "# print(result_df['Total Transaction Amount'])\n",
    "\n",
    "# print(\"Minimum date in the dataset:\", min_date)\n",
    "# print(\"Maximum date in the dataset:\", max_date)\n",
    "\n",
    "kde_freq = gaussian_kde(result_df['Transaction Frequency'])\n",
    "kde_amnt = gaussian_kde(result_df['Total Transaction Amount'])\n",
    "# print(result_df['Total Transaction Amount'])\n",
    "\n",
    "fake_data_freq = kde_freq.resample(len(bank_df_train)).flatten()\n",
    "fake_data_freq = np.round(fake_data_freq).astype(int)\n",
    "bank_df_train['TransactionFreq'] = fake_data_freq\n",
    "fake_data_freq = kde_freq.resample(len(bank_df_test)).flatten()\n",
    "fake_data_freq = np.round(fake_data_freq).astype(int)\n",
    "bank_df_test['TransactionFreq'] = fake_data_freq\n",
    "\n",
    "# fake_data_amt = kde_amnt.resample(len(bank_df_train)).flatten()\n",
    "# # fake_data_amt = np.round(fake_data_amt).astype(int)\n",
    "# bank_df_train['TransactionAmnt'] = fake_data_amt\n",
    "# fake_data_amt = kde_amnt.resample(len(bank_df_test)).flatten()\n",
    "# # fake_data_amt = np.round(fake_data_amt).astype(int)\n",
    "# bank_df_test['TransactionAmnt'] = fake_data_amt\n",
    "\n",
    "# print(bank_df_train['TransactionAmnt'].head())\n"
   ]
  },
  {
   "cell_type": "markdown",
   "metadata": {},
   "source": [
    "### 16. Transaction History 2\n",
    "Detailed transaction data offers insights into spending patterns and engagement. (Transaction amount in the last 28 days)\n"
   ]
  },
  {
   "cell_type": "code",
   "execution_count": 72,
   "metadata": {},
   "outputs": [],
   "source": [
    "# Import reference set\n",
    "# Warning: File size slightly big\n",
    "trans_hist_data = pd.read_excel('./data/transaction_history.xlsx')\n",
    "\n",
    "trans_hist_data.dtypes\n",
    "# trans_hist_data.describe()\n",
    "\n",
    "# Extract the most recent 2 sets of 3 months assuming the most recent data is the most accurate\n",
    "trans_1st_3mths = trans_hist_data[(trans_hist_data['DATE'] >= pd.to_datetime('2019-01')) & (trans_hist_data['DATE'] <= pd.to_datetime('2019-03'))]\n",
    "trans_2ns_3mths = trans_hist_data[(trans_hist_data['DATE'] >= pd.to_datetime('2018-10')) & (trans_hist_data['DATE'] <= pd.to_datetime('2018-12'))]\n",
    "\n",
    "trans_dist_data = trans_1st_3mths.groupby('Account No').agg({'VALUE DATE': 'size', 'WITHDRAWAL AMT':'sum', 'DEPOSIT AMT': 'sum'}).reset_index()\n",
    "trans_dist_data['TOTAL AMT'] = -trans_dist_data['WITHDRAWAL AMT'] + trans_dist_data['DEPOSIT AMT']\n",
    "\n",
    "# kde = gaussian_kde(trans_dist_data['VALUE DATE'])\n",
    "# train['Transaction Freq'] = abs(kde.resample(n_train).flatten()).astype(int)\n",
    "\n",
    "kde = gaussian_kde(trans_dist_data['TOTAL AMT'])\n",
    "bank_df_train['Transaction Amt'] = kde.resample(n_train).flatten().astype(float)"
   ]
  },
  {
   "cell_type": "markdown",
   "metadata": {},
   "source": [
    "### 17. Call support frequency\n",
    "Higher calls might indicate issues and dissatisfaction, affecting churn. Past year. Past month "
   ]
  },
  {
   "cell_type": "code",
   "execution_count": 73,
   "metadata": {},
   "outputs": [
    {
     "name": "stdout",
     "output_type": "stream",
     "text": [
      "   id         Surname  CreditScore Geography Gender  Age  Tenure  Balance  \\\n",
      "0   0  Okwudilichukwu          668    France   Male   33       3        0   \n",
      "1   1   Okwudiliolisa          627    France   Male   33       1        0   \n",
      "2   2           Hsueh          678    France   Male   40      10        0   \n",
      "3   3             Kao          581    France   Male   34       2  148,883   \n",
      "4   4       Chiemenam          716     Spain   Male   33       5        0   \n",
      "\n",
      "   NumOfProducts  HasCrCard  IsActiveMember  EstimatedSalary  Exited  \\\n",
      "0              2          1               0          181,450       0   \n",
      "1              2          1               1           49,504       0   \n",
      "2              2          1               0          184,867       0   \n",
      "3              1          1               1           84,561       0   \n",
      "4              2          1               1           15,069       0   \n",
      "\n",
      "  ChurnDate    SignDate  TransactionFreq  Transaction Amt  \\\n",
      "0       nan  2020-03-08               21      -14,455,448   \n",
      "1       nan  2022-12-17             -263        2,122,559   \n",
      "2       nan  2013-06-08             -308          383,972   \n",
      "3       nan  2021-07-08             -175        1,778,977   \n",
      "4       nan  2018-05-19              876          882,196   \n",
      "\n",
      "   call support frequency  \n",
      "0                      37  \n",
      "1                      19  \n",
      "2                       6  \n",
      "3                      11  \n",
      "4                       2  \n"
     ]
    }
   ],
   "source": [
    "support_freq = pd.read_csv(\"./data/support_frequency.csv\")\n",
    "\n",
    "kde = gaussian_kde(support_freq['no_of_cases'])\n",
    "bank_df_train['call support frequency'] = abs(kde.resample(n_train).flatten()/12).astype(int)\n",
    "print(bank_df_train.head())\n"
   ]
  },
  {
   "cell_type": "markdown",
   "metadata": {},
   "source": [
    "### 18.Relationship Count\n",
    "Reflects the breadth of the customer's relationship with the bank.\n",
    "Shld be correlated to 6: No. of products   "
   ]
  },
  {
   "cell_type": "code",
   "execution_count": 74,
   "metadata": {},
   "outputs": [
    {
     "name": "stdout",
     "output_type": "stream",
     "text": [
      "0    8225300\n",
      "1    8387237\n",
      "2      37815\n",
      "3     135496\n",
      "4     117630\n",
      "Name: RelationshipCount, dtype: int32\n"
     ]
    },
    {
     "name": "stderr",
     "output_type": "stream",
     "text": [
      "C:\\Users\\Ethan\\AppData\\Local\\Temp\\ipykernel_2624\\4051543762.py:2: FutureWarning: A value is trying to be set on a copy of a DataFrame or Series through chained assignment using an inplace method.\n",
      "The behavior will change in pandas 3.0. This inplace method will never work because the intermediate object on which we are setting values always behaves as a copy.\n",
      "\n",
      "For example, when doing 'df[col].method(value, inplace=True)', try using 'df.method({col: value}, inplace=True)' or df[col] = df[col].method(value) instead, to perform the operation inplace on the original object.\n",
      "\n",
      "\n",
      "  relationship_count['Current Loan Amount'].fillna(0, inplace=True)\n"
     ]
    }
   ],
   "source": [
    "relationship_count = pd.read_csv('./data/loan/credit_train.csv')\n",
    "relationship_count['Current Loan Amount'].fillna(0, inplace=True) \n",
    "if np.any(np.isinf(relationship_count['Current Loan Amount'])):\n",
    "    # Handle infinite values, such as replacing them with a large finite value\n",
    "    relationship_count['Current Loan Amount'].replace([np.inf, -np.inf], np.finfo(np.float64).max, inplace=True)\n",
    "\n",
    "kde = gaussian_kde(relationship_count['Current Loan Amount'])\n",
    "bank_df_train['RelationshipCount'] = abs(kde.resample(n_train).flatten()/12).astype(int)\n",
    "\n",
    "print(bank_df_train['RelationshipCount'].head())"
   ]
  },
  {
   "cell_type": "markdown",
   "metadata": {},
   "source": [
    "### 19. Months Inactive\n",
    "Indicates customer disengagement, potentially preceding churn. "
   ]
  },
  {
   "cell_type": "code",
   "execution_count": 75,
   "metadata": {},
   "outputs": [
    {
     "name": "stdout",
     "output_type": "stream",
     "text": [
      "0    1\n",
      "1    1\n",
      "2    2\n",
      "3    0\n",
      "4    1\n",
      "5    2\n",
      "6    3\n",
      "7    1\n",
      "8    1\n",
      "9    0\n",
      "10   0\n",
      "11   0\n",
      "12   0\n",
      "13   1\n",
      "14   0\n",
      "15   1\n",
      "16   3\n",
      "17   0\n",
      "18   2\n",
      "19   1\n",
      "Name: MonthsInactive, dtype: float64\n"
     ]
    }
   ],
   "source": [
    "np.random.seed(3101)\n",
    "bank_df_train['MonthsInactive'] = np.minimum(np.random.normal(0.5, 1.5, n_train), bank_df_train['Tenure'] * 12)\n",
    "bank_df_train['MonthsInactive'] = np.maximum(bank_df_train['MonthsInactive'], 0)\n",
    "\n",
    "print(bank_df_train['MonthsInactive'].head(20))"
   ]
  },
  {
   "cell_type": "markdown",
   "metadata": {},
   "source": [
    "### 20. Net Promoter Score (NPS)\n",
    "Measure of customer satisfaction and loyalty.\n",
    "Scaled from 1 to 10 \n"
   ]
  },
  {
   "cell_type": "code",
   "execution_count": 76,
   "metadata": {},
   "outputs": [],
   "source": [
    "nps = pd.read_csv('./data/NPS.csv')\n",
    "\n",
    "nps_data = nps.groupby('Customer Name').agg({'NPS':'mean'}).reset_index()\n",
    "kde = gaussian_kde(nps_data['NPS'])\n",
    "bank_df_train['NPS'] = abs(kde.resample(n_train).flatten()).astype(int)"
   ]
  },
  {
   "cell_type": "markdown",
   "metadata": {},
   "source": [
    "### 21. Education\n",
    "Education level might influence financial behavior and churn.\n",
    "Shld be correlated to 5. Acct Balance\n"
   ]
  },
  {
   "cell_type": "code",
   "execution_count": 77,
   "metadata": {},
   "outputs": [
    {
     "name": "stdout",
     "output_type": "stream",
     "text": [
      "   id         Surname  CreditScore Geography Gender  Age  Tenure  Balance  \\\n",
      "0   0  Okwudilichukwu          668    France   Male   33       3        0   \n",
      "1   1   Okwudiliolisa          627    France   Male   33       1        0   \n",
      "2   2           Hsueh          678    France   Male   40      10        0   \n",
      "3   3             Kao          581    France   Male   34       2  148,883   \n",
      "4   4       Chiemenam          716     Spain   Male   33       5        0   \n",
      "\n",
      "   NumOfProducts  HasCrCard  ...  Exited  ChurnDate    SignDate  \\\n",
      "0              2          1  ...       0        nan  2020-03-08   \n",
      "1              2          1  ...       0        nan  2022-12-17   \n",
      "2              2          1  ...       0        nan  2013-06-08   \n",
      "3              1          1  ...       0        nan  2021-07-08   \n",
      "4              2          1  ...       0        nan  2018-05-19   \n",
      "\n",
      "  TransactionFreq Transaction Amt  call support frequency  RelationshipCount  \\\n",
      "0              21     -14,455,448                      37            8225300   \n",
      "1            -263       2,122,559                      19            8387237   \n",
      "2            -308         383,972                       6              37815   \n",
      "3            -175       1,778,977                      11             135496   \n",
      "4             876         882,196                       2             117630   \n",
      "\n",
      "   MonthsInactive  NPS      Education  \n",
      "0               1    7       Graduate  \n",
      "1               1    2        College  \n",
      "2               2    0     Uneducated  \n",
      "3               0    9        College  \n",
      "4               1    9  Post-Graduate  \n",
      "\n",
      "[5 rows x 22 columns]\n"
     ]
    }
   ],
   "source": [
    "education_marital = pd.read_csv(\"./data/education_marital.csv\")\n",
    "\n",
    "education = education_marital['Education_Level'].unique()\n",
    "\n",
    "edu, counts = np.unique(education, return_counts=True)\n",
    "value_to_index = {value: i for i, value in enumerate(edu)}\n",
    "numerical_data = [value_to_index[value] for value in education]\n",
    "\n",
    "kde = gaussian_kde(numerical_data)\n",
    "\n",
    "x_values = np.unique(numerical_data)\n",
    "pdf_values = kde(x_values)\n",
    "\n",
    "pmf = pdf_values / np.sum(pdf_values)\n",
    "\n",
    "resampled_indices = np.random.choice(x_values, size=n_train, p=pmf)\n",
    "\n",
    "resampled_values = [edu[index] for index in resampled_indices]\n",
    "\n",
    "bank_df_train['Education'] = resampled_values\n",
    "\n",
    "print(bank_df_train.head())"
   ]
  },
  {
   "cell_type": "markdown",
   "metadata": {},
   "source": [
    "### 22 Employment Status\n",
    "Indicates financial stability, affecting churn likelihood. \n",
    "Shld be correlated to 5. Acct Balance & 21. Education  "
   ]
  },
  {
   "cell_type": "code",
   "execution_count": 78,
   "metadata": {},
   "outputs": [
    {
     "name": "stdout",
     "output_type": "stream",
     "text": [
      "   id         Surname  CreditScore Geography Gender  Age  Tenure  Balance  \\\n",
      "0   0  Okwudilichukwu          668    France   Male   33       3        0   \n",
      "1   1   Okwudiliolisa          627    France   Male   33       1        0   \n",
      "2   2           Hsueh          678    France   Male   40      10        0   \n",
      "3   3             Kao          581    France   Male   34       2  148,883   \n",
      "4   4       Chiemenam          716     Spain   Male   33       5        0   \n",
      "\n",
      "   NumOfProducts  HasCrCard  ...  ChurnDate    SignDate  TransactionFreq  \\\n",
      "0              2          1  ...        nan  2020-03-08               21   \n",
      "1              2          1  ...        nan  2022-12-17             -263   \n",
      "2              2          1  ...        nan  2013-06-08             -308   \n",
      "3              1          1  ...        nan  2021-07-08             -175   \n",
      "4              2          1  ...        nan  2018-05-19              876   \n",
      "\n",
      "  Transaction Amt call support frequency  RelationshipCount  MonthsInactive  \\\n",
      "0     -14,455,448                     37            8225300               1   \n",
      "1       2,122,559                     19            8387237               1   \n",
      "2         383,972                      6              37815               2   \n",
      "3       1,778,977                     11             135496               0   \n",
      "4         882,196                      2             117630               1   \n",
      "\n",
      "   NPS      Education  Employment Status  \n",
      "0    7       Graduate         unemployed  \n",
      "1    2        College         management  \n",
      "2    0     Uneducated             admin.  \n",
      "3    9        College            retired  \n",
      "4    9  Post-Graduate         unemployed  \n",
      "\n",
      "[5 rows x 23 columns]\n"
     ]
    }
   ],
   "source": [
    "employment = pd.read_csv(\"./data/employment.csv\")\n",
    "\n",
    "employment_data = employment['job'].unique()\n",
    "\n",
    "employment_status, counts = np.unique(employment_data, return_counts=True)\n",
    "value_to_index = {value: i for i, value in enumerate(employment_status)}\n",
    "numerical_data = [value_to_index[value] for value in employment_data]\n",
    "\n",
    "kde = gaussian_kde(numerical_data)\n",
    "\n",
    "x_values = np.unique(numerical_data)\n",
    "pdf_values = kde(x_values)\n",
    "pmf = pdf_values / np.sum(pdf_values)\n",
    "\n",
    "resampled_indices = np.random.choice(x_values, size=n_train, p=pmf)\n",
    "\n",
    "resampled_values = [employment_status[index] for index in resampled_indices]\n",
    "\n",
    "bank_df_train['Employment Status'] = resampled_values\n",
    "\n",
    "print(bank_df_train.head())"
   ]
  },
  {
   "cell_type": "markdown",
   "metadata": {},
   "source": [
    "### 23. Marital Status\n",
    "Can impact financial decision-making and churn behavior. "
   ]
  },
  {
   "cell_type": "code",
   "execution_count": 79,
   "metadata": {},
   "outputs": [
    {
     "name": "stdout",
     "output_type": "stream",
     "text": [
      "   id         Surname  CreditScore Geography Gender  Age  Tenure  Balance  \\\n",
      "0   0  Okwudilichukwu          668    France   Male   33       3        0   \n",
      "1   1   Okwudiliolisa          627    France   Male   33       1        0   \n",
      "2   2           Hsueh          678    France   Male   40      10        0   \n",
      "3   3             Kao          581    France   Male   34       2  148,883   \n",
      "4   4       Chiemenam          716     Spain   Male   33       5        0   \n",
      "\n",
      "   NumOfProducts  HasCrCard  ...    SignDate  TransactionFreq  \\\n",
      "0              2          1  ...  2020-03-08               21   \n",
      "1              2          1  ...  2022-12-17             -263   \n",
      "2              2          1  ...  2013-06-08             -308   \n",
      "3              1          1  ...  2021-07-08             -175   \n",
      "4              2          1  ...  2018-05-19              876   \n",
      "\n",
      "   Transaction Amt call support frequency RelationshipCount  MonthsInactive  \\\n",
      "0      -14,455,448                     37           8225300               1   \n",
      "1        2,122,559                     19           8387237               1   \n",
      "2          383,972                      6             37815               2   \n",
      "3        1,778,977                     11            135496               0   \n",
      "4          882,196                      2            117630               1   \n",
      "\n",
      "   NPS      Education  Employment Status  Marital Status  \n",
      "0    7       Graduate         unemployed         Unknown  \n",
      "1    2        College         management         Unknown  \n",
      "2    0     Uneducated             admin.        Divorced  \n",
      "3    9        College            retired          Single  \n",
      "4    9  Post-Graduate         unemployed        Divorced  \n",
      "\n",
      "[5 rows x 24 columns]\n"
     ]
    }
   ],
   "source": [
    "education_marital = pd.read_csv(\"./data/education_marital.csv\")\n",
    "\n",
    "marital_status = education_marital['Marital_Status'].unique()\n",
    "\n",
    "marital, counts = np.unique(marital_status, return_counts=True)\n",
    "value_to_index = {value: i for i, value in enumerate(marital)}\n",
    "numerical_data = [value_to_index[value] for value in marital_status]\n",
    "\n",
    "kde = gaussian_kde(numerical_data)\n",
    "\n",
    "x_values = np.unique(numerical_data)\n",
    "pdf_values = kde(x_values)\n",
    "\n",
    "pmf = pdf_values / np.sum(pdf_values)\n",
    "\n",
    "resampled_indices = np.random.choice(x_values, size=n_train, p=pmf)\n",
    "\n",
    "resampled_values = [marital[index] for index in resampled_indices]\n",
    "\n",
    "bank_df_train['Marital Status'] = resampled_values\n",
    "\n",
    "print(bank_df_train.head())"
   ]
  },
  {
   "cell_type": "markdown",
   "metadata": {},
   "source": [
    "### 24. Housing Status\n",
    "Reflects stability and long-term commitment, influencing churn. "
   ]
  },
  {
   "cell_type": "code",
   "execution_count": 80,
   "metadata": {},
   "outputs": [
    {
     "name": "stdout",
     "output_type": "stream",
     "text": [
      "   id         Surname  CreditScore Geography Gender  Age  Tenure  Balance  \\\n",
      "0   0  Okwudilichukwu          668    France   Male   33       3        0   \n",
      "1   1   Okwudiliolisa          627    France   Male   33       1        0   \n",
      "2   2           Hsueh          678    France   Male   40      10        0   \n",
      "3   3             Kao          581    France   Male   34       2  148,883   \n",
      "4   4       Chiemenam          716     Spain   Male   33       5        0   \n",
      "\n",
      "   NumOfProducts  HasCrCard  ...  TransactionFreq  Transaction Amt  \\\n",
      "0              2          1  ...               21      -14,455,448   \n",
      "1              2          1  ...             -263        2,122,559   \n",
      "2              2          1  ...             -308          383,972   \n",
      "3              1          1  ...             -175        1,778,977   \n",
      "4              2          1  ...              876          882,196   \n",
      "\n",
      "   call support frequency RelationshipCount MonthsInactive  NPS  \\\n",
      "0                      37           8225300              1    7   \n",
      "1                      19           8387237              1    2   \n",
      "2                       6             37815              2    0   \n",
      "3                      11            135496              0    9   \n",
      "4                       2            117630              1    9   \n",
      "\n",
      "       Education  Employment Status  Marital Status  Housing Status  \n",
      "0       Graduate         unemployed         Unknown    norent_noown  \n",
      "1        College         management         Unknown           owned  \n",
      "2     Uneducated             admin.        Divorced    norent_noown  \n",
      "3        College            retired          Single           owned  \n",
      "4  Post-Graduate         unemployed        Divorced          rented  \n",
      "\n",
      "[5 rows x 25 columns]\n"
     ]
    }
   ],
   "source": [
    "housing = pd.read_csv(\"./data/housing.csv\")\n",
    "\n",
    "housing_status = housing['House_Ownership'].unique()\n",
    "\n",
    "house, counts = np.unique(housing_status, return_counts=True)\n",
    "value_to_index = {value: i for i, value in enumerate(house)}\n",
    "numerical_data = [value_to_index[value] for value in housing_status]\n",
    "\n",
    "kde = gaussian_kde(numerical_data)\n",
    "\n",
    "x_values = np.unique(numerical_data)\n",
    "pdf_values = kde(x_values)\n",
    "\n",
    "pmf = pdf_values / np.sum(pdf_values)\n",
    "\n",
    "resampled_indices = np.random.choice(x_values, size=n_train, p=pmf)\n",
    "\n",
    "resampled_values = [house[index] for index in resampled_indices]\n",
    "\n",
    "bank_df_train['Housing Status'] = resampled_values\n",
    "\n",
    "print(bank_df_train.head())"
   ]
  },
  {
   "cell_type": "markdown",
   "metadata": {},
   "source": [
    "### 25. Number of Dependents\n",
    "Impacts financial priorities and risk tolerance, affecting churn."
   ]
  },
  {
   "cell_type": "code",
   "execution_count": 81,
   "metadata": {},
   "outputs": [
    {
     "name": "stdout",
     "output_type": "stream",
     "text": [
      "   id         Surname  CreditScore Geography Gender  Age  Tenure  Balance  \\\n",
      "0   0  Okwudilichukwu          668    France   Male   33       3        0   \n",
      "1   1   Okwudiliolisa          627    France   Male   33       1        0   \n",
      "2   2           Hsueh          678    France   Male   40      10        0   \n",
      "3   3             Kao          581    France   Male   34       2  148,883   \n",
      "4   4       Chiemenam          716     Spain   Male   33       5        0   \n",
      "\n",
      "   NumOfProducts  HasCrCard  ...  Transaction Amt  call support frequency  \\\n",
      "0              2          1  ...      -14,455,448                      37   \n",
      "1              2          1  ...        2,122,559                      19   \n",
      "2              2          1  ...          383,972                       6   \n",
      "3              1          1  ...        1,778,977                      11   \n",
      "4              2          1  ...          882,196                       2   \n",
      "\n",
      "   RelationshipCount MonthsInactive NPS      Education  Employment Status  \\\n",
      "0            8225300              1   7       Graduate         unemployed   \n",
      "1            8387237              1   2        College         management   \n",
      "2              37815              2   0     Uneducated             admin.   \n",
      "3             135496              0   9        College            retired   \n",
      "4             117630              1   9  Post-Graduate         unemployed   \n",
      "\n",
      "   Marital Status  Housing Status  Dependants  \n",
      "0         Unknown    norent_noown           3  \n",
      "1         Unknown           owned           4  \n",
      "2        Divorced    norent_noown           5  \n",
      "3          Single           owned           0  \n",
      "4        Divorced          rented           2  \n",
      "\n",
      "[5 rows x 26 columns]\n"
     ]
    }
   ],
   "source": [
    "dependants_df = pd.read_csv('./data/education+dependents+maritalstatus/BankChurners.csv')\n",
    "\n",
    "kde = gaussian_kde(dependants_df['Dependent_count'])\n",
    "\n",
    "bank_df_train['Dependants'] = np.maximum(kde.resample(len(bank_df_train)).flatten(), 0)\n",
    "bank_df_train['Dependants'] = np.round(bank_df_train['Dependants']).astype(int)\n",
    "bank_df_test['Dependants'] = np.maximum(kde.resample(len(bank_df_test)).flatten(), 0)\n",
    "bank_df_test['Dependants'] = np.round(bank_df_test['Dependants']).astype(int)\n",
    "\n",
    "print(bank_df_train.head())"
   ]
  },
  {
   "cell_type": "markdown",
   "metadata": {},
   "source": [
    "### 26. Marketing Offers Accepted\n",
    "Indicates responsiveness to incentives, affecting churn. Range 0-1, (percentage of marketing offers they accept, e.g.5 offer, 4 accepted, the value of the column 0.8)"
   ]
  },
  {
   "cell_type": "code",
   "execution_count": 82,
   "metadata": {},
   "outputs": [
    {
     "name": "stdout",
     "output_type": "stream",
     "text": [
      "   id         Surname  CreditScore Geography Gender  Age  Tenure  Balance  \\\n",
      "0   0  Okwudilichukwu          668    France   Male   33       3        0   \n",
      "1   1   Okwudiliolisa          627    France   Male   33       1        0   \n",
      "2   2           Hsueh          678    France   Male   40      10        0   \n",
      "3   3             Kao          581    France   Male   34       2  148,883   \n",
      "4   4       Chiemenam          716     Spain   Male   33       5        0   \n",
      "\n",
      "   NumOfProducts  HasCrCard  ...  call support frequency  RelationshipCount  \\\n",
      "0              2          1  ...                      37            8225300   \n",
      "1              2          1  ...                      19            8387237   \n",
      "2              2          1  ...                       6              37815   \n",
      "3              1          1  ...                      11             135496   \n",
      "4              2          1  ...                       2             117630   \n",
      "\n",
      "   MonthsInactive NPS      Education  Employment Status  Marital Status  \\\n",
      "0               1   7       Graduate         unemployed         Unknown   \n",
      "1               1   2        College         management         Unknown   \n",
      "2               2   0     Uneducated             admin.        Divorced   \n",
      "3               0   9        College            retired          Single   \n",
      "4               1   9  Post-Graduate         unemployed        Divorced   \n",
      "\n",
      "   Housing Status  Dependants  MarketingOffersAcceptance  \n",
      "0    norent_noown           3                          0  \n",
      "1           owned           4                          0  \n",
      "2    norent_noown           5                          0  \n",
      "3           owned           0                          1  \n",
      "4          rented           2                          0  \n",
      "\n",
      "[5 rows x 27 columns]\n"
     ]
    }
   ],
   "source": [
    "marketing_df = pd.read_csv('./data/marketing offers/marketing_campaign.csv', sep=';')\n",
    "\n",
    "\n",
    "marketing_df[\"MarketingOffersAcceptance\"] = (marketing_df['AcceptedCmp1'] + marketing_df['AcceptedCmp2'] + marketing_df['AcceptedCmp3'] + marketing_df['AcceptedCmp4'] + marketing_df['AcceptedCmp5']) / 5\n",
    "# print(marketing_df.head())\n",
    "\n",
    "kde = gaussian_kde(marketing_df['MarketingOffersAcceptance'])\n",
    "\n",
    "bank_df_train['MarketingOffersAcceptance'] = np.maximum(kde.resample(len(bank_df_train)).flatten(), 0)\n",
    "bank_df_test['MarketingOffersAcceptance'] = np.maximum(kde.resample(len(bank_df_test)).flatten(), 0)\n",
    "\n",
    "print(bank_df_train.head())"
   ]
  },
  {
   "cell_type": "markdown",
   "metadata": {},
   "source": [
    "### 27. Channel Used for Transactions\n",
    "Reflects preferred banking channels and engagement level. \n",
    "faker"
   ]
  },
  {
   "cell_type": "code",
   "execution_count": 83,
   "metadata": {},
   "outputs": [
    {
     "name": "stdout",
     "output_type": "stream",
     "text": [
      "['Electronic check', 'Mailed check', 'Bank transfer (automatic)', 'Credit card (automatic)']\n",
      "   id         Surname  CreditScore Geography Gender  Age  Tenure  Balance  \\\n",
      "0   0  Okwudilichukwu          668    France   Male   33       3        0   \n",
      "1   1   Okwudiliolisa          627    France   Male   33       1        0   \n",
      "2   2           Hsueh          678    France   Male   40      10        0   \n",
      "3   3             Kao          581    France   Male   34       2  148,883   \n",
      "4   4       Chiemenam          716     Spain   Male   33       5        0   \n",
      "\n",
      "   NumOfProducts  HasCrCard  ...  RelationshipCount  MonthsInactive  NPS  \\\n",
      "0              2          1  ...            8225300               1    7   \n",
      "1              2          1  ...            8387237               1    2   \n",
      "2              2          1  ...              37815               2    0   \n",
      "3              1          1  ...             135496               0    9   \n",
      "4              2          1  ...             117630               1    9   \n",
      "\n",
      "       Education Employment Status  Marital Status  Housing Status  \\\n",
      "0       Graduate        unemployed         Unknown    norent_noown   \n",
      "1        College        management         Unknown           owned   \n",
      "2     Uneducated            admin.        Divorced    norent_noown   \n",
      "3        College           retired          Single           owned   \n",
      "4  Post-Graduate        unemployed        Divorced          rented   \n",
      "\n",
      "   Dependants  MarketingOffersAcceptance              PaymentMethod  \n",
      "0           3                          0  Bank transfer (automatic)  \n",
      "1           4                          0               Mailed check  \n",
      "2           5                          0  Bank transfer (automatic)  \n",
      "3           0                          1  Bank transfer (automatic)  \n",
      "4           2                          0           Electronic check  \n",
      "\n",
      "[5 rows x 28 columns]\n"
     ]
    }
   ],
   "source": [
    "transaction_channel_df = pd.read_csv('./data/main_payment_method/WA_Fn-UseC_-Telco-Customer-Churn.csv')\n",
    "\n",
    "# print(transaction_channel_df.head())\n",
    "methods = transaction_channel_df['PaymentMethod'].unique().tolist()\n",
    "print(methods)\n",
    "faked_data = [random.choice(methods) for _ in range(len(bank_df_train))]\n",
    "faked_data_2 = [random.choice(methods) for _ in range(len(bank_df_test))]\n",
    "\n",
    "bank_df_train['PaymentMethod'] = faked_data\n",
    "bank_df_test['PaymentMethod'] = faked_data_2\n",
    "print(bank_df_train.head())"
   ]
  },
  {
   "cell_type": "markdown",
   "metadata": {},
   "source": [
    "### 28. Customer Satisfaction Surveys\n",
    "Provides direct feedback on satisfaction levels, predicting churn. "
   ]
  },
  {
   "cell_type": "code",
   "execution_count": 84,
   "metadata": {},
   "outputs": [
    {
     "name": "stdout",
     "output_type": "stream",
     "text": [
      "0    2\n",
      "1    4\n",
      "2    5\n",
      "3    3\n",
      "4    1\n",
      "5    2\n",
      "6    1\n",
      "7    4\n",
      "8    2\n",
      "9    3\n",
      "Name: CustomerSatisfaction, dtype: int32\n"
     ]
    }
   ],
   "source": [
    "cust_satisfaction_df = pd.read_csv('./data/satisfaction score/Customer-Churn-Records.csv')\n",
    "\n",
    "kde = gaussian_kde(cust_satisfaction_df['Satisfaction Score'])\n",
    "\n",
    "fake_data = np.maximum(kde.resample(len(bank_df_train)).flatten(), 0)\n",
    "fake_data = np.minimum(fake_data.flatten(), 5)\n",
    "fake_data = np.round(fake_data).astype(int)\n",
    "\n",
    "fake_data_2 = np.maximum(kde.resample(len(bank_df_test)).flatten(), 0)\n",
    "fake_data_2 = np.minimum(fake_data_2.flatten(), 5)\n",
    "fake_data_2 = np.round(fake_data_2).astype(int)\n",
    "\n",
    "bank_df_train['CustomerSatisfaction'] = fake_data\n",
    "bank_df_test['CustomerSatisfaction'] = fake_data_2\n",
    "# print(len(bank_df_test))\n",
    "# print(len(fake_data_2))\n",
    "\n",
    "print(bank_df_train['CustomerSatisfaction'].head(10))"
   ]
  },
  {
   "cell_type": "markdown",
   "metadata": {},
   "source": [
    "### 29. Feature Satisfaction\n",
    "Scale on 1 to 5\n"
   ]
  },
  {
   "cell_type": "code",
   "execution_count": 85,
   "metadata": {},
   "outputs": [
    {
     "name": "stdout",
     "output_type": "stream",
     "text": [
      "0    4\n",
      "1    5\n",
      "2    5\n",
      "3    4\n",
      "4    3\n",
      "Name: FeatureSatisfaction, dtype: int32\n"
     ]
    }
   ],
   "source": [
    "feature_df = pd.read_csv('./data/feature_and_support_satisfaction/Customer-survey-data.csv')\n",
    "feature_df = feature_df.dropna()\n",
    "kde = gaussian_kde(feature_df['How satisfied were you with your overall delivery experience at Ali?                    1-5 where 1 = extremely dissatisfied and 5 = extremely satisfied'])\n",
    "bank_df_train['FeatureSatisfaction'] = kde.resample(len(bank_df_train)).flatten().astype(int)\n",
    "bank_df_test['FeatureSatisfaction'] = kde.resample(len(bank_df_test)).flatten().astype(int)\n",
    "\n",
    "print(bank_df_train['FeatureSatisfaction'].head())"
   ]
  },
  {
   "cell_type": "markdown",
   "metadata": {},
   "source": [
    "### 30. Support Satisfaction\n",
    "Scale on 1 to 5\n"
   ]
  },
  {
   "cell_type": "code",
   "execution_count": 86,
   "metadata": {},
   "outputs": [
    {
     "name": "stdout",
     "output_type": "stream",
     "text": [
      "0    2\n",
      "1    4\n",
      "2    2\n",
      "3    2\n",
      "4    3\n",
      "Name: SupportSatisfaction, dtype: int32\n"
     ]
    }
   ],
   "source": [
    "feature_df = pd.read_csv('./data/feature_and_support_satisfaction/Customer-survey-data.csv')\n",
    "feature_df = feature_df.dropna()\n",
    "kde = gaussian_kde(feature_df['How satisfied were you with the speed of delivery at Alis?                                1-5 where 1 = extremely dissatisfied and 5 = extremely satisfied'])\n",
    "bank_df_train['SupportSatisfaction'] = kde.resample(len(bank_df_train)).flatten().astype(int)\n",
    "bank_df_test['SupportSatisfaction'] = kde.resample(len(bank_df_test)).flatten().astype(int)\n",
    "\n",
    "print(bank_df_train['SupportSatisfaction'].head())"
   ]
  },
  {
   "cell_type": "markdown",
   "metadata": {},
   "source": [
    "### 31.Service Support Frequency (per mth)"
   ]
  },
  {
   "cell_type": "code",
   "execution_count": 87,
   "metadata": {},
   "outputs": [],
   "source": [
    "support_freq = pd.read_csv(\"./data/support_frequency.csv\")\n",
    "kde = gaussian_kde(support_freq['no_of_cases'])\n",
    "bank_df_train['service support frequency'] = abs(kde.resample(n_train).flatten()/12).astype(int)"
   ]
  },
  {
   "cell_type": "markdown",
   "metadata": {},
   "source": [
    "### 32. Income Source\n",
    "Indicates financial stability and potential churn risk. "
   ]
  },
  {
   "cell_type": "code",
   "execution_count": 88,
   "metadata": {},
   "outputs": [
    {
     "name": "stdout",
     "output_type": "stream",
     "text": [
      "['Private', 'Local-gov', 'Self-emp-not-inc', 'Federal-gov', 'State-gov', 'Self-emp-inc', 'Without-pay', 'Never-worked']\n",
      "   id         Surname  CreditScore Geography Gender  Age  Tenure  Balance  \\\n",
      "0   0  Okwudilichukwu          668    France   Male   33       3        0   \n",
      "1   1   Okwudiliolisa          627    France   Male   33       1        0   \n",
      "2   2           Hsueh          678    France   Male   40      10        0   \n",
      "3   3             Kao          581    France   Male   34       2  148,883   \n",
      "4   4       Chiemenam          716     Spain   Male   33       5        0   \n",
      "\n",
      "   NumOfProducts  HasCrCard  ...  Marital Status  Housing Status  Dependants  \\\n",
      "0              2          1  ...         Unknown    norent_noown           3   \n",
      "1              2          1  ...         Unknown           owned           4   \n",
      "2              2          1  ...        Divorced    norent_noown           5   \n",
      "3              1          1  ...          Single           owned           0   \n",
      "4              2          1  ...        Divorced          rented           2   \n",
      "\n",
      "  MarketingOffersAcceptance              PaymentMethod  CustomerSatisfaction  \\\n",
      "0                         0  Bank transfer (automatic)                     2   \n",
      "1                         0               Mailed check                     4   \n",
      "2                         0  Bank transfer (automatic)                     5   \n",
      "3                         1  Bank transfer (automatic)                     3   \n",
      "4                         0           Electronic check                     1   \n",
      "\n",
      "   FeatureSatisfaction  SupportSatisfaction  service support frequency  \\\n",
      "0                    4                    2                         19   \n",
      "1                    5                    4                          2   \n",
      "2                    5                    2                          5   \n",
      "3                    4                    2                         11   \n",
      "4                    3                    3                          4   \n",
      "\n",
      "   IncomeSource  \n",
      "0  Self-emp-inc  \n",
      "1   Federal-gov  \n",
      "2  Self-emp-inc  \n",
      "3   Federal-gov  \n",
      "4  Self-emp-inc  \n",
      "\n",
      "[5 rows x 33 columns]\n"
     ]
    }
   ],
   "source": [
    "income_source_df = pd.read_csv('./data/income source/adult.csv')\n",
    "\n",
    "# print(transaction_channel_df.head())\n",
    "income_sourcs = income_source_df['workclass'].unique().tolist()\n",
    "income_sourcs.remove('?')\n",
    "print(income_sourcs)\n",
    "faked_data = [random.choice(income_sourcs) for _ in range(len(bank_df_train))]\n",
    "faked_data_2 = [random.choice(income_sourcs) for _ in range(len(bank_df_test))]\n",
    "\n",
    "bank_df_train['IncomeSource'] = faked_data\n",
    "bank_df_test['IncomeSource'] = faked_data_2\n",
    "print(bank_df_train.head())"
   ]
  },
  {
   "cell_type": "markdown",
   "metadata": {},
   "source": [
    "### 33. Credit Utilization\n",
    "Reflects financial health and potential churn risk for credit customers."
   ]
  },
  {
   "cell_type": "code",
   "execution_count": 89,
   "metadata": {},
   "outputs": [
    {
     "name": "stdout",
     "output_type": "stream",
     "text": [
      "   id         Surname  CreditScore Geography Gender  Age  Tenure  Balance  \\\n",
      "0   0  Okwudilichukwu          668    France   Male   33       3        0   \n",
      "1   1   Okwudiliolisa          627    France   Male   33       1        0   \n",
      "2   2           Hsueh          678    France   Male   40      10        0   \n",
      "3   3             Kao          581    France   Male   34       2  148,883   \n",
      "4   4       Chiemenam          716     Spain   Male   33       5        0   \n",
      "\n",
      "   NumOfProducts  HasCrCard  ...  Housing Status  Dependants  \\\n",
      "0              2          1  ...    norent_noown           3   \n",
      "1              2          1  ...           owned           4   \n",
      "2              2          1  ...    norent_noown           5   \n",
      "3              1          1  ...           owned           0   \n",
      "4              2          1  ...          rented           2   \n",
      "\n",
      "   MarketingOffersAcceptance              PaymentMethod CustomerSatisfaction  \\\n",
      "0                          0  Bank transfer (automatic)                    2   \n",
      "1                          0               Mailed check                    4   \n",
      "2                          0  Bank transfer (automatic)                    5   \n",
      "3                          1  Bank transfer (automatic)                    3   \n",
      "4                          0           Electronic check                    1   \n",
      "\n",
      "   FeatureSatisfaction  SupportSatisfaction  service support frequency  \\\n",
      "0                    4                    2                         19   \n",
      "1                    5                    4                          2   \n",
      "2                    5                    2                          5   \n",
      "3                    4                    2                         11   \n",
      "4                    3                    3                          4   \n",
      "\n",
      "   IncomeSource  CreditUtilization  \n",
      "0  Self-emp-inc                  0  \n",
      "1   Federal-gov                  0  \n",
      "2  Self-emp-inc                  0  \n",
      "3   Federal-gov                  1  \n",
      "4  Self-emp-inc                  0  \n",
      "\n",
      "[5 rows x 34 columns]\n"
     ]
    }
   ],
   "source": [
    "credit_df = pd.read_csv('./data/credit utilization/BankChurners.csv')\n",
    "\n",
    "kde = gaussian_kde(credit_df['Avg_Utilization_Ratio'])\n",
    "\n",
    "fake_data = np.maximum(kde.resample(len(bank_df_train)).flatten(), 0)\n",
    "fake_data = np.minimum(fake_data.flatten(), 1)\n",
    "# fake_data = np.round(fake_data).astype(int)\n",
    "fake_data_2 = np.maximum(kde.resample(len(bank_df_test)).flatten(), 0)\n",
    "fake_data_2 = np.minimum(fake_data_2.flatten(), 1)\n",
    "\n",
    "bank_df_train['CreditUtilization'] = fake_data\n",
    "bank_df_test['CreditUtilization'] = fake_data_2\n",
    "\n",
    "print(bank_df_train.head())"
   ]
  },
  {
   "cell_type": "markdown",
   "metadata": {},
   "source": [
    "### 34. Response to Previous Retention Efforts\n",
    "Records success or failure of previous retention efforts, guiding future strategies. "
   ]
  },
  {
   "cell_type": "code",
   "execution_count": 90,
   "metadata": {},
   "outputs": [
    {
     "name": "stdout",
     "output_type": "stream",
     "text": [
      "   id         Surname  CreditScore Geography Gender  Age  Tenure  Balance  \\\n",
      "0   0  Okwudilichukwu          668    France   Male   33       3        0   \n",
      "1   1   Okwudiliolisa          627    France   Male   33       1        0   \n",
      "2   2           Hsueh          678    France   Male   40      10        0   \n",
      "3   3             Kao          581    France   Male   34       2  148,883   \n",
      "4   4       Chiemenam          716     Spain   Male   33       5        0   \n",
      "\n",
      "   NumOfProducts  HasCrCard  ...  Dependants  MarketingOffersAcceptance  \\\n",
      "0              2          1  ...           3                          0   \n",
      "1              2          1  ...           4                          0   \n",
      "2              2          1  ...           5                          0   \n",
      "3              1          1  ...           0                          1   \n",
      "4              2          1  ...           2                          0   \n",
      "\n",
      "               PaymentMethod CustomerSatisfaction FeatureSatisfaction  \\\n",
      "0  Bank transfer (automatic)                    2                   4   \n",
      "1               Mailed check                    4                   5   \n",
      "2  Bank transfer (automatic)                    5                   5   \n",
      "3  Bank transfer (automatic)                    3                   4   \n",
      "4           Electronic check                    1                   3   \n",
      "\n",
      "   SupportSatisfaction  service support frequency  IncomeSource  \\\n",
      "0                    2                         19  Self-emp-inc   \n",
      "1                    4                          2   Federal-gov   \n",
      "2                    2                          5  Self-emp-inc   \n",
      "3                    2                         11   Federal-gov   \n",
      "4                    3                          4  Self-emp-inc   \n",
      "\n",
      "   CreditUtilization  Retention  \n",
      "0                  0          0  \n",
      "1                  0          0  \n",
      "2                  0          0  \n",
      "3                  1          0  \n",
      "4                  0          0  \n",
      "\n",
      "[5 rows x 35 columns]\n"
     ]
    }
   ],
   "source": [
    "retention_df = pd.read_csv('./data/retention/HR_comma_sep.csv')\n",
    "\n",
    "kde = gaussian_kde(retention_df['promotion_last_5years'])\n",
    "\n",
    "fake_data = np.maximum(kde.resample(len(bank_df_train)).flatten(), 0)\n",
    "fake_data = np.minimum(fake_data.flatten(), 1)\n",
    "fake_data = np.round(fake_data).astype(int)\n",
    "fake_data_2 = np.maximum(kde.resample(len(bank_df_test)).flatten(), 0)\n",
    "fake_data_2 = np.minimum(fake_data_2.flatten(), 1)\n",
    "fake_data_2 = np.round(fake_data_2).astype(int)\n",
    "\n",
    "bank_df_train['Retention'] = fake_data\n",
    "bank_df_test['Retention'] = fake_data_2\n",
    "\n",
    "print(bank_df_train.head())"
   ]
  },
  {
   "cell_type": "markdown",
   "metadata": {},
   "source": [
    "### 35. Change in behavior before n after\n",
    "Average of percentage of increase/decrease (ranging from 0 - infinity, but most of the times it will be ard 0-2)"
   ]
  },
  {
   "cell_type": "code",
   "execution_count": 91,
   "metadata": {},
   "outputs": [
    {
     "name": "stdout",
     "output_type": "stream",
     "text": [
      "   id         Surname  CreditScore Geography Gender  Age  Tenure  Balance  \\\n",
      "0   0  Okwudilichukwu          668    France   Male   33       3        0   \n",
      "1   1   Okwudiliolisa          627    France   Male   33       1        0   \n",
      "2   2           Hsueh          678    France   Male   40      10        0   \n",
      "3   3             Kao          581    France   Male   34       2  148,883   \n",
      "4   4       Chiemenam          716     Spain   Male   33       5        0   \n",
      "\n",
      "   NumOfProducts  HasCrCard  ...  MarketingOffersAcceptance  \\\n",
      "0              2          1  ...                          0   \n",
      "1              2          1  ...                          0   \n",
      "2              2          1  ...                          0   \n",
      "3              1          1  ...                          1   \n",
      "4              2          1  ...                          0   \n",
      "\n",
      "               PaymentMethod  CustomerSatisfaction FeatureSatisfaction  \\\n",
      "0  Bank transfer (automatic)                     2                   4   \n",
      "1               Mailed check                     4                   5   \n",
      "2  Bank transfer (automatic)                     5                   5   \n",
      "3  Bank transfer (automatic)                     3                   4   \n",
      "4           Electronic check                     1                   3   \n",
      "\n",
      "  SupportSatisfaction  service support frequency  IncomeSource  \\\n",
      "0                   2                         19  Self-emp-inc   \n",
      "1                   4                          2   Federal-gov   \n",
      "2                   2                          5  Self-emp-inc   \n",
      "3                   2                         11   Federal-gov   \n",
      "4                   3                          4  Self-emp-inc   \n",
      "\n",
      "   CreditUtilization  Retention  ChanegInBehaviourMkt  \n",
      "0                  0          0                     3  \n",
      "1                  0          0                     2  \n",
      "2                  0          0                     1  \n",
      "3                  1          0                     2  \n",
      "4                  0          0                     2  \n",
      "\n",
      "[5 rows x 36 columns]\n"
     ]
    }
   ],
   "source": [
    "bank_df_train['ChanegInBehaviourMkt'] = np.random.normal(2, 0.25, len(bank_df_train))\n",
    "bank_df_test['ChanegInBehaviourMkt']= np.random.normal(2, 0.25, len(bank_df_test))\n",
    "\n",
    "print(bank_df_train.head())"
   ]
  },
  {
   "cell_type": "markdown",
   "metadata": {},
   "source": [
    "### 36. Change in behavior before n after for Support"
   ]
  },
  {
   "cell_type": "code",
   "execution_count": 92,
   "metadata": {},
   "outputs": [
    {
     "name": "stdout",
     "output_type": "stream",
     "text": [
      "   id         Surname  CreditScore Geography Gender  Age  Tenure  Balance  \\\n",
      "0   0  Okwudilichukwu          668    France   Male   33       3        0   \n",
      "1   1   Okwudiliolisa          627    France   Male   33       1        0   \n",
      "2   2           Hsueh          678    France   Male   40      10        0   \n",
      "3   3             Kao          581    France   Male   34       2  148,883   \n",
      "4   4       Chiemenam          716     Spain   Male   33       5        0   \n",
      "\n",
      "   NumOfProducts  HasCrCard  ...              PaymentMethod  \\\n",
      "0              2          1  ...  Bank transfer (automatic)   \n",
      "1              2          1  ...               Mailed check   \n",
      "2              2          1  ...  Bank transfer (automatic)   \n",
      "3              1          1  ...  Bank transfer (automatic)   \n",
      "4              2          1  ...           Electronic check   \n",
      "\n",
      "   CustomerSatisfaction  FeatureSatisfaction SupportSatisfaction  \\\n",
      "0                     2                    4                   2   \n",
      "1                     4                    5                   4   \n",
      "2                     5                    5                   2   \n",
      "3                     3                    4                   2   \n",
      "4                     1                    3                   3   \n",
      "\n",
      "  service support frequency  IncomeSource  CreditUtilization  Retention  \\\n",
      "0                        19  Self-emp-inc                  0          0   \n",
      "1                         2   Federal-gov                  0          0   \n",
      "2                         5  Self-emp-inc                  0          0   \n",
      "3                        11   Federal-gov                  1          0   \n",
      "4                         4  Self-emp-inc                  0          0   \n",
      "\n",
      "   ChanegInBehaviourMkt  ChanegInBehaviourCust  \n",
      "0                     3                      2  \n",
      "1                     2                      2  \n",
      "2                     1                      2  \n",
      "3                     2                      2  \n",
      "4                     2                      2  \n",
      "\n",
      "[5 rows x 37 columns]\n"
     ]
    }
   ],
   "source": [
    "bank_df_train['ChanegInBehaviourCust'] = np.random.normal(2, 0.25, len(bank_df_train))\n",
    "bank_df_test['ChanegInBehaviourCust']= np.random.normal(2, 0.25, len(bank_df_test))\n",
    "\n",
    "print(bank_df_train.head())"
   ]
  },
  {
   "cell_type": "markdown",
   "metadata": {},
   "source": [
    "### 37. Previous Lifecycle status "
   ]
  },
  {
   "cell_type": "code",
   "execution_count": 96,
   "metadata": {},
   "outputs": [
    {
     "name": "stdout",
     "output_type": "stream",
     "text": [
      "0         Active\n",
      "1        Dormant\n",
      "2        Dormant\n",
      "3    Reactivated\n",
      "4         Active\n",
      "5        Churned\n",
      "6        Dormant\n",
      "7         Active\n",
      "8    Reactivated\n",
      "9         Active\n",
      "Name: PrevLifecycle, dtype: object\n"
     ]
    }
   ],
   "source": [
    "life_cycles = ['Active', 'Dormant', 'Reactivated'] #everything but churned\n",
    "\n",
    "bank_df_train['PrevLifecycle'] = bank_df_train.apply(lambda row: 'Churned' if row['Exited'] == 1 else np.random.choice(life_cycles), axis=1)\n",
    "\n",
    "print(bank_df_train['PrevLifecycle'].head(10))"
   ]
  },
  {
   "cell_type": "code",
   "execution_count": null,
   "metadata": {},
   "outputs": [],
   "source": []
  },
  {
   "cell_type": "markdown",
   "metadata": {},
   "source": [
    "### 38. Current Lifecycle status "
   ]
  },
  {
   "cell_type": "code",
   "execution_count": null,
   "metadata": {},
   "outputs": [],
   "source": []
  },
  {
   "cell_type": "markdown",
   "metadata": {},
   "source": [
    "### 39. Customer Happiness Status "
   ]
  },
  {
   "cell_type": "code",
   "execution_count": null,
   "metadata": {},
   "outputs": [],
   "source": []
  },
  {
   "cell_type": "markdown",
   "metadata": {},
   "source": [
    "### 40. Customer Personas"
   ]
  },
  {
   "cell_type": "code",
   "execution_count": null,
   "metadata": {},
   "outputs": [],
   "source": []
  },
  {
   "cell_type": "markdown",
   "metadata": {},
   "source": [
    "### 41. Price Sensitivity %"
   ]
  },
  {
   "cell_type": "code",
   "execution_count": null,
   "metadata": {},
   "outputs": [],
   "source": []
  },
  {
   "cell_type": "markdown",
   "metadata": {},
   "source": [
    "### 42. Feature Driven % "
   ]
  },
  {
   "cell_type": "code",
   "execution_count": null,
   "metadata": {},
   "outputs": [],
   "source": []
  },
  {
   "cell_type": "markdown",
   "metadata": {},
   "source": [
    "### 43. Service Driven % "
   ]
  },
  {
   "cell_type": "code",
   "execution_count": null,
   "metadata": {},
   "outputs": [],
   "source": []
  },
  {
   "cell_type": "markdown",
   "metadata": {},
   "source": [
    "### 44. Social Influencer"
   ]
  },
  {
   "cell_type": "code",
   "execution_count": null,
   "metadata": {},
   "outputs": [],
   "source": []
  },
  {
   "cell_type": "markdown",
   "metadata": {},
   "source": [
    "# EDA\n",
    "1. covarience matrix\n",
    "2. LDA\n",
    "3. apriori\n",
    "4. domain knowledge"
   ]
  },
  {
   "cell_type": "markdown",
   "metadata": {},
   "source": [
    "### 1. Covariance matrix"
   ]
  },
  {
   "cell_type": "code",
   "execution_count": null,
   "metadata": {},
   "outputs": [],
   "source": [
    "#code for covariance matrix"
   ]
  },
  {
   "cell_type": "markdown",
   "metadata": {},
   "source": [
    "### 2. LDA"
   ]
  },
  {
   "cell_type": "code",
   "execution_count": null,
   "metadata": {},
   "outputs": [],
   "source": [
    "#code for LDA"
   ]
  },
  {
   "cell_type": "markdown",
   "metadata": {},
   "source": [
    "### 3. Aprior"
   ]
  },
  {
   "cell_type": "code",
   "execution_count": null,
   "metadata": {},
   "outputs": [],
   "source": [
    "#code for apriori"
   ]
  },
  {
   "cell_type": "markdown",
   "metadata": {},
   "source": [
    "### 4. Domain knowledge"
   ]
  },
  {
   "cell_type": "code",
   "execution_count": null,
   "metadata": {},
   "outputs": [],
   "source": [
    "#domain knowledge...."
   ]
  },
  {
   "cell_type": "markdown",
   "metadata": {},
   "source": [
    "# Model training:\n",
    "1. Random forest\n",
    "2. XGBoost\n",
    "3. Logistic regression"
   ]
  }
 ],
 "metadata": {
  "kernelspec": {
   "display_name": "Python 3",
   "language": "python",
   "name": "python3"
  },
  "language_info": {
   "codemirror_mode": {
    "name": "ipython",
    "version": 3
   },
   "file_extension": ".py",
   "mimetype": "text/x-python",
   "name": "python",
   "nbconvert_exporter": "python",
   "pygments_lexer": "ipython3",
   "version": "3.11.4"
  }
 },
 "nbformat": 4,
 "nbformat_minor": 2
}
