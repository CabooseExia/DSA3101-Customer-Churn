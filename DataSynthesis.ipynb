{
 "cells": [
  {
   "cell_type": "code",
   "execution_count": 52,
   "metadata": {},
   "outputs": [],
   "source": [
    "import pdb\n",
    "import pandas as pd\n",
    "import numpy as np\n",
    "import os\n",
    "import random\n",
    "import seaborn as sns\n",
    "from scipy import stats\n",
    "from scipy.stats import gaussian_kde\n",
    "from datetime import datetime, timedelta\n",
    "from faker import Faker\n",
    "from sklearn.neighbors import KernelDensity\n",
    "np.random.seed(3101)\n",
    "random_state = np.random.RandomState(3101)\n",
    "fake = Faker()\n",
    "pd.set_option('display.float_format', lambda x: '{:.6f}'.format(x))"
   ]
  },
  {
   "cell_type": "markdown",
   "metadata": {},
   "source": [
    "# Importing data:\n",
    "bank1 = archive  \n",
    "bank2 = bank+marketing"
   ]
  },
  {
   "cell_type": "code",
   "execution_count": 53,
   "metadata": {},
   "outputs": [],
   "source": [
    "# print(os.getcwd())\n",
    "bank_df_train = pd.read_csv('./data/main/train.csv')\n",
    "bank_df_test = pd.read_csv('./data/main/test.csv')"
   ]
  },
  {
   "cell_type": "code",
   "execution_count": 54,
   "metadata": {},
   "outputs": [
    {
     "name": "stdout",
     "output_type": "stream",
     "text": [
      "   id  CustomerId         Surname  CreditScore Geography Gender       Age  \\\n",
      "0   0    15674932  Okwudilichukwu          668    France   Male 33.000000   \n",
      "1   1    15749177   Okwudiliolisa          627    France   Male 33.000000   \n",
      "2   2    15694510           Hsueh          678    France   Male 40.000000   \n",
      "3   3    15741417             Kao          581    France   Male 34.000000   \n",
      "4   4    15766172       Chiemenam          716     Spain   Male 33.000000   \n",
      "\n",
      "   Tenure       Balance  NumOfProducts  HasCrCard  IsActiveMember  \\\n",
      "0       3      0.000000              2   1.000000        0.000000   \n",
      "1       1      0.000000              2   1.000000        1.000000   \n",
      "2      10      0.000000              2   1.000000        0.000000   \n",
      "3       2 148882.540000              1   1.000000        1.000000   \n",
      "4       5      0.000000              2   1.000000        1.000000   \n",
      "\n",
      "   EstimatedSalary  Exited  \n",
      "0    181449.970000       0  \n",
      "1     49503.500000       0  \n",
      "2    184866.690000       0  \n",
      "3     84560.880000       0  \n",
      "4     15068.830000       0  \n",
      "165034\n"
     ]
    }
   ],
   "source": [
    "print(bank_df_train.head())\n",
    "print(len(bank_df_train))\n",
    "\n",
    "# bank_df_train_clean = bank_df_train.drop_duplicates(subset=\"CustomerId\", keep=\"first\")\n",
    "# print(len(bank_df_train_clean))"
   ]
  },
  {
   "cell_type": "code",
   "execution_count": 55,
   "metadata": {},
   "outputs": [
    {
     "name": "stdout",
     "output_type": "stream",
     "text": [
      "       id  CustomerId    Surname  CreditScore Geography  Gender       Age  \\\n",
      "0  165034    15773898   Lucchese          586    France  Female 23.000000   \n",
      "1  165035    15782418       Nott          683    France  Female 46.000000   \n",
      "2  165036    15807120         K?          656    France  Female 34.000000   \n",
      "3  165037    15808905  O'Donnell          681    France    Male 36.000000   \n",
      "4  165038    15607314    Higgins          752   Germany    Male 38.000000   \n",
      "\n",
      "   Tenure       Balance  NumOfProducts  HasCrCard  IsActiveMember  \\\n",
      "0       2      0.000000              2   0.000000        1.000000   \n",
      "1       2      0.000000              1   1.000000        0.000000   \n",
      "2       7      0.000000              2   1.000000        0.000000   \n",
      "3       8      0.000000              1   1.000000        0.000000   \n",
      "4      10 121263.620000              1   1.000000        0.000000   \n",
      "\n",
      "   EstimatedSalary  \n",
      "0    160976.750000  \n",
      "1     72549.270000  \n",
      "2    138882.090000  \n",
      "3    113931.570000  \n",
      "4    139431.000000  \n"
     ]
    },
    {
     "data": {
      "text/plain": [
       "110023"
      ]
     },
     "execution_count": 55,
     "metadata": {},
     "output_type": "execute_result"
    }
   ],
   "source": [
    "print(bank_df_test.head())\n",
    "len(bank_df_test)\n",
    "# duplicates = bank_df_test.duplicated(subset=['CustomerId'], keep=False)\n",
    "# print(duplicates)\n",
    "#no \"exited\" column"
   ]
  },
  {
   "cell_type": "markdown",
   "metadata": {},
   "source": [
    "Data Cleaning\n",
    "\n",
    "Removed CustomerId column in both test & train since it is an unused var in the original dataset\n",
    "All other columns returns no duplicates\n",
    "scalling tenure too to when the bank opened"
   ]
  },
  {
   "cell_type": "code",
   "execution_count": 56,
   "metadata": {},
   "outputs": [
    {
     "name": "stdout",
     "output_type": "stream",
     "text": [
      "Percentage of 0 entries in 'Balance': 54.32%\n"
     ]
    },
    {
     "data": {
      "image/png": "[encoded data removed]",
      "text/plain": [
       "<Figure size 1000x600 with 1 Axes>"
      ]
     },
     "metadata": {},
     "output_type": "display_data"
    }
   ],
   "source": [
    "import matplotlib.pyplot as plt\n",
    "\n",
    "\n",
    "zero_count = (bank_df_train['Balance'] == 0).sum()\n",
    "total_count = len(bank_df_train)\n",
    "zero_percentage = (zero_count / total_count) * 100\n",
    "\n",
    "print(f\"Percentage of 0 entries in 'Balance': {zero_percentage:.2f}%\")\n",
    "\n",
    "non_zero_data = bank_df_train.loc[bank_df_train['Balance'] != 0, 'Balance']\n",
    "mean_non_zero = non_zero_data.mean()\n",
    "std_non_zero = non_zero_data.std()\n",
    "\n",
    "zero_indices = bank_df_train.index[bank_df_train['Balance'] == 0]\n",
    "num_zeros = len(zero_indices)\n",
    "random_samples = np.random.normal(loc=mean_non_zero, scale=std_non_zero, size=num_zeros)\n",
    "bank_df_train.loc[zero_indices, 'Balance'] = random_samples\n",
    "\n",
    "\n",
    "plt.figure(figsize=(10, 6))\n",
    "plt.hist(bank_df_train['Balance'], bins=30, color='skyblue', edgecolor='black')\n",
    "plt.xlabel('Balance')\n",
    "plt.ylabel('Frequency')\n",
    "plt.title('Distribution of Balance')\n",
    "plt.grid(True)\n",
    "plt.show()\n"
   ]
  },
  {
   "cell_type": "markdown",
   "metadata": {},
   "source": [
    "# OverSampling"
   ]
  },
  {
   "cell_type": "code",
   "execution_count": 57,
   "metadata": {},
   "outputs": [],
   "source": [
    "# from sklearn.utils import resample\n",
    "# percentage_exited_1 = (bank_df_train['Exited'] == 1).mean() * 100\n",
    "\n",
    "# print(f\"Percentage of Exited=1: {percentage_exited_1:.2f}%\")\n",
    "\n",
    "# class_distribution = bank_df_train['Exited'].value_counts(normalize=True)\n",
    "\n",
    "# desired_percentage_exited_1 = 0.5\n",
    "\n",
    "# while class_distribution[1] < desired_percentage_exited_1:\n",
    "#     oversampled_minority = resample(\n",
    "#         bank_df_train[bank_df_train['Exited'] == 1], \n",
    "#         replace=True,\n",
    "#         n_samples=len(bank_df_train[bank_df_train['Exited'] == 0]),  \n",
    "#         random_state=42\n",
    "#     )\n",
    "#     bank_df_train = pd.concat([bank_df_train, oversampled_minority])\n",
    "#     class_distribution = bank_df_train['Exited'].value_counts(normalize=True)\n",
    "\n",
    "# oversampled_class_distribution = bank_df_train['Exited'].value_counts(normalize=True)\n",
    "# print(oversampled_class_distribution)\n",
    "# print(len(bank_df_train))"
   ]
  },
  {
   "cell_type": "markdown",
   "metadata": {},
   "source": [
    "# Customer ID"
   ]
  },
  {
   "cell_type": "code",
   "execution_count": 58,
   "metadata": {},
   "outputs": [],
   "source": [
    "n_rows = len(bank_df_train)\n",
    "new_customer_ids = range(1, n_rows + 1)\n",
    "\n",
    "bank_df_train['CustomerId'] = new_customer_ids"
   ]
  },
  {
   "cell_type": "code",
   "execution_count": 59,
   "metadata": {},
   "outputs": [
    {
     "name": "stdout",
     "output_type": "stream",
     "text": [
      "165034\n",
      "[0.63461568 0.31213008 0.56974709 ... 0.18298272 0.75245866 0.8570277 ]\n",
      "0      6\n",
      "1      1\n",
      "2     19\n",
      "3      3\n",
      "4      9\n",
      "5      8\n",
      "6     14\n",
      "7      1\n",
      "8      7\n",
      "9      7\n",
      "10    11\n",
      "11     5\n",
      "12    17\n",
      "13     9\n",
      "14    12\n",
      "15     9\n",
      "16    12\n",
      "17     8\n",
      "18    15\n",
      "19     1\n",
      "Name: Tenure, dtype: int32\n"
     ]
    }
   ],
   "source": [
    "# bank_df_train = bank_df_train.loc[:, bank_df_train.columns!='CustomerId'] # extract all columns except for CustomerId\n",
    "# print(bank_df_train[bank_df_train.duplicated() == True]) # check for duplicate columns \n",
    "\n",
    "# bank_df_test = bank_df_test.loc[:, bank_df_test.columns!='CustomerId']\n",
    "\n",
    "### DELETE OR COMMENT OUT THIS LATER ###\n",
    "# bank_df_train.drop_duplicates(subset=['CustomerId'], inplace=True)\n",
    "# bank_df_test.drop_duplicates(subset=['CustomerId'], inplace=True)\n",
    "### DELETE OR COMMENT OUT THIS LATER ###\n",
    "bank_df_train['Age'] = bank_df_train['Age'].astype(int)\n",
    "bank_df_test['Age'] = bank_df_test['Age'].astype(int)\n",
    "\n",
    "n_train = len(bank_df_train)\n",
    "n_test = len(bank_df_test)\n",
    "print(n_train)\n",
    "\n",
    "aug_2022 = datetime(2022, 8, 31)\n",
    "today = datetime.now()\n",
    "months_since_aug_2022 = (today.year - aug_2022.year) * 12 + today.month - aug_2022.month - 2\n",
    "def scale_int_to_months(int_val):\n",
    "    return int_val * (months_since_aug_2022 / 10)\n",
    "bank_df_train['Tenure'] = bank_df_train['Tenure'] * (months_since_aug_2022 / 10)\n",
    "bank_df_train['Tenure'] = bank_df_train['Tenure'].astype(int)\n",
    "\n",
    "random_numbers = np.random.rand(n_train)\n",
    "threshold = 0.5\n",
    "print(random_numbers)\n",
    "bank_df_train.loc[random_numbers > threshold, 'Tenure'] += 1\n",
    "\n",
    "print(bank_df_train['Tenure'].head(20))"
   ]
  },
  {
   "cell_type": "markdown",
   "metadata": {},
   "source": [
    "# Adding and populating features"
   ]
  },
  {
   "cell_type": "markdown",
   "metadata": {},
   "source": [
    "### 13. Churn Date: The exact date the customer decided to exit."
   ]
  },
  {
   "cell_type": "code",
   "execution_count": 60,
   "metadata": {},
   "outputs": [
    {
     "name": "stdout",
     "output_type": "stream",
     "text": [
      "    Tenure  ChurnDate\n",
      "0        6        NaT\n",
      "1        1        NaT\n",
      "2       19        NaT\n",
      "3        3        NaT\n",
      "4        9        NaT\n",
      "5        8 2024-01-22\n",
      "6       14        NaT\n",
      "7        1        NaT\n",
      "8        7        NaT\n",
      "9        7        NaT\n",
      "10      11        NaT\n",
      "11       5        NaT\n",
      "12      17        NaT\n",
      "13       9        NaT\n",
      "14      12        NaT\n",
      "15       9        NaT\n",
      "16      12        NaT\n",
      "17       8        NaT\n",
      "18      15 2024-01-29\n",
      "19       1 2022-11-12\n",
      "20      16        NaT\n",
      "21      15        NaT\n",
      "22      16        NaT\n",
      "23      17 2024-04-07\n",
      "24      10        NaT\n",
      "25      16 2024-03-23\n",
      "26       5        NaT\n",
      "27       3        NaT\n",
      "28       7 2023-09-04\n",
      "29      10        NaT\n"
     ]
    }
   ],
   "source": [
    "start_date = datetime(2022, 8, 31)\n",
    "end_date = end_date = datetime.now().strftime('%Y-%m-%d') \n",
    "\n",
    "# random_dates = pd.date_range(start=start_date, end=end_date, freq='D')\n",
    "# random_dates_str = random_dates.strftime('%Y-%m-%d')\n",
    "# bank_df_train['ChurnDate'] = np.where(bank_df_train['Exited'] == 1, np.random.choice(random_dates_str) , np.nan) \n",
    "def generate_random_date(exited, tenure_months):\n",
    "    if exited == 1:\n",
    "        tenure_days = tenure_months * 30\n",
    "        random_date = np.random.choice(pd.date_range(start=start_date + timedelta(days=tenure_days), end=end_date, freq='D'))\n",
    "        return random_date\n",
    "    else:\n",
    "        return np.nan\n",
    "bank_df_train['ChurnDate'] = bank_df_train.apply(lambda row: generate_random_date(row['Exited'], row['Tenure']), axis=1)\n",
    "\n",
    "# random_dates = pd.date_range(start=start_date, end=end_date, freq='D')\n",
    "# random_dates_str = random_dates.strftime('%Y-%m-%d')\n",
    "# bank_df_train['ChurnDate'] = np.where(bank_df_train['Exited'] == 1, np.random.choice(random_dates_str) , np.nan) \n",
    "# bank_df_train['ChurnDate'] = pd.to_datetime(bank_df_train['ChurnDate'])\n",
    "print(bank_df_train[['Tenure', 'ChurnDate']].head(30))"
   ]
  },
  {
   "cell_type": "markdown",
   "metadata": {},
   "source": [
    "### months inactive\n"
   ]
  },
  {
   "cell_type": "code",
   "execution_count": 61,
   "metadata": {},
   "outputs": [
    {
     "name": "stdout",
     "output_type": "stream",
     "text": [
      "    Tenure  ChurnDate  MonthsInactive\n",
      "0        6        NaT        1.000000\n",
      "1        1        NaT        0.000000\n",
      "2       19        NaT        2.000000\n",
      "3        3        NaT        0.000000\n",
      "4        9        NaT        0.000000\n",
      "5        8 2024-01-22             NaN\n",
      "6       14        NaT        2.000000\n",
      "7        1        NaT        1.000000\n",
      "8        7        NaT        1.000000\n",
      "9        7        NaT        0.000000\n",
      "10      11        NaT        0.000000\n",
      "11       5        NaT        0.000000\n",
      "12      17        NaT        0.000000\n",
      "13       9        NaT        1.000000\n",
      "14      12        NaT        0.000000\n",
      "15       9        NaT        1.000000\n",
      "16      12        NaT        2.000000\n",
      "17       8        NaT        0.000000\n",
      "18      15 2024-01-29             NaN\n",
      "19       1 2022-11-12             NaN\n"
     ]
    }
   ],
   "source": [
    "np.random.seed(3101)\n",
    "bank_df_train['MonthsInactive'] = np.minimum(np.random.normal(0.5, 1.5, n_train), bank_df_train['Tenure'] * 12)\n",
    "bank_df_train['MonthsInactive'] = np.maximum(bank_df_train['MonthsInactive'], 0)\n",
    "\n",
    "bank_df_test['MonthsInactive'] = bank_df_test.apply(lambda row: \n",
    "    np.random.normal(0.5, 1.5) if row['IsActiveMember'] == 0 else 0,\n",
    "    axis=1)\n",
    "\n",
    "def set_max_to_tenure(row):\n",
    "    return min(row['MonthsInactive'], row['Tenure'])\n",
    "\n",
    "bank_df_train['MonthsInactive'] = np.maximum(bank_df_train['MonthsInactive'], 0)\n",
    "bank_df_train['MonthsInactive'] = bank_df_train.apply(set_max_to_tenure, axis=1)\n",
    "bank_df_train['MonthsInactive'] = bank_df_train['MonthsInactive'].astype(int)\n",
    "bank_df_test['MonthsInactive'] = np.maximum(bank_df_test['MonthsInactive'], 0)\n",
    "bank_df_test['MonthsInactive'] = bank_df_test.apply(set_max_to_tenure, axis=1)\n",
    "bank_df_test['MonthsInactive'] = bank_df_test['MonthsInactive'].astype(int)\n",
    "\n",
    "bank_df_train.loc[bank_df_train['Exited'] == 1, 'MonthsInactive'] = np.nan\n",
    "\n",
    "print(bank_df_train[['Tenure', 'ChurnDate', 'MonthsInactive']].head(20))"
   ]
  },
  {
   "attachments": {
    "image.png": {
     "image/png": "[encoded data removed]"
    }
   },
   "cell_type": "markdown",
   "metadata": {},
   "source": [
    "### 15.Transaction History Freq\n",
    "Detailed transaction data offers insights into spending patterns and engagement. (Transaction frequency in the last 28 days)\n",
    "\n",
    "![image.png](attachment:image.png)\n",
    "\n",
    "\n",
    "inr to sgd is * 0.016"
   ]
  },
  {
   "cell_type": "code",
   "execution_count": 21,
   "metadata": {},
   "outputs": [],
   "source": [
    "# transaction_df = pd.read_excel('./data/transaction_history.xlsx')\n",
    "\n",
    "# # print(transaction_df.head())\n",
    "# transaction_df['DATE'] = pd.to_datetime(transaction_df['DATE'])\n",
    "\n",
    "# grouped_df = transaction_df.groupby('Account No')\n",
    "\n",
    "# results = []\n",
    "# for group_name, group_data in grouped_df:\n",
    "#     # Get max and min dates for the group\n",
    "#     max_date = group_data['DATE'].max()\n",
    "#     min_date = max_date - pd.Timedelta(days=28)\n",
    "    \n",
    "#     # Filter group data for transactions within the date range\n",
    "#     filtered_group = group_data[(group_data['DATE'] >= min_date) & (group_data['DATE'] <= max_date)]\n",
    "    \n",
    "#     # Calculate transaction frequency and amount for the group\n",
    "#     transaction_frequency = len(filtered_group)\n",
    "#     transaction_amount = filtered_group['DEPOSIT AMT'].sum()\n",
    "    \n",
    "#     # Append results to the list\n",
    "#     results.append({\n",
    "#         'Account No': group_name,\n",
    "#         'Total Transaction Amount': transaction_amount,\n",
    "#         'Transaction Frequency': transaction_frequency\n",
    "#     })\n",
    "\n",
    "# # Create DataFrame from results\n",
    "# result_df = pd.DataFrame(results)\n",
    "\n",
    "# result_df['Total Transaction Amount'] = result_df['Total Transaction Amount'].astype(int)\n",
    "# pd.options.display.float_format = '{:,.0f}'.format\n",
    "# # print(result_df['Total Transaction Amount'])\n",
    "\n",
    "# # print(\"Minimum date in the dataset:\", min_date)\n",
    "# # print(\"Maximum date in the dataset:\", max_date)\n",
    "\n",
    "# kde_freq = gaussian_kde(result_df['Transaction Frequency'])\n",
    "# kde_amnt = gaussian_kde(result_df['Total Transaction Amount'])\n",
    "# # print(result_df['Total Transaction Amount'])\n",
    "\n",
    "# fake_data_freq = kde_freq.resample(len(bank_df_train)).flatten()\n",
    "# fake_data_freq = np.round(fake_data_freq).astype(int)\n",
    "# bank_df_train['TransactionFreq'] = fake_data_freq\n",
    "# fake_data_freq = kde_freq.resample(len(bank_df_test)).flatten()\n",
    "# fake_data_freq = np.round(fake_data_freq).astype(int)\n",
    "# bank_df_test['TransactionFreq'] = fake_data_freq\n",
    "\n",
    "# # fake_data_amt = kde_amnt.resample(len(bank_df_train)).flatten()\n",
    "# # # fake_data_amt = np.round(fake_data_amt).astype(int)\n",
    "# # bank_df_train['TransactionAmnt'] = fake_data_amt\n",
    "# # fake_data_amt = kde_amnt.resample(len(bank_df_test)).flatten()\n",
    "# # # fake_data_amt = np.round(fake_data_amt).astype(int)\n",
    "# # bank_df_test['TransactionAmnt'] = fake_data_amt\n",
    "\n",
    "# # print(bank_df_train['TransactionAmnt'].head())\n",
    "# date_28_days_ago = datetime.now() - timedelta(days=28)\n",
    "\n",
    "# bank_df_train['TransactionFreq'] = np.where(\n",
    "#     (bank_df_train['ChurnDate'] <= date_28_days_ago),\n",
    "#     0,\n",
    "#     bank_df_train['TransactionFreq']\n",
    "# )\n",
    "\n",
    "# bank_df_test['TransactionFreq'] = np.where(\n",
    "#     (bank_df_test['IsActiveMember'] == 0),\n",
    "#     0,\n",
    "#     bank_df_test['TransactionFreq']\n",
    "# )\n",
    "\n",
    "# bank_df_train['TransactionFreq'] = np.maximum(bank_df_train['TransactionFreq'], 0)\n",
    "# bank_df_test['TransactionFreq'] = np.maximum(bank_df_test['TransactionFreq'], 0)\n",
    "\n",
    "# min_train_value = bank_df_train['TransactionFreq'].min()\n",
    "# max_train_value = bank_df_train['TransactionFreq'].max()\n",
    "# min_test_value = bank_df_test['TransactionFreq'].min()\n",
    "# max_test_value = bank_df_test['TransactionFreq'].max()\n",
    "\n",
    "# def scale_transaction_freq_train(freq):\n",
    "#     scaled_freq = ((freq - min_train_value) / (max_train_value - min_train_value)) * 150\n",
    "#     return scaled_freq\n",
    "\n",
    "# def scale_transaction_freq_test(freq):\n",
    "#     scaled_freq = ((freq - min_test_value) / (max_test_value - min_test_value)) * 150\n",
    "#     return scaled_freq\n",
    "\n",
    "# bank_df_train['TransactionFreq'] = bank_df_train['TransactionFreq'].apply(scale_transaction_freq_train).astype(int)\n",
    "\n",
    "# bank_df_test['TransactionFreq'] = bank_df_test['TransactionFreq'].apply(scale_transaction_freq_test).astype(int)\n",
    "\n",
    "# print(bank_df_train[['ChurnDate', 'TransactionFreq']].head(20))"
   ]
  },
  {
   "cell_type": "code",
   "execution_count": 22,
   "metadata": {},
   "outputs": [
    {
     "name": "stderr",
     "output_type": "stream",
     "text": [
      "C:\\Users\\caboo\\AppData\\Local\\Temp\\ipykernel_24748\\1205733650.py:5: UserWarning: Parsing dates in %d/%m/%Y %H:%M:%S format when dayfirst=False (the default) was specified. Pass `dayfirst=True` or specify a format to silence this warning.\n",
      "  trans_df['Date'] = pd.to_datetime(trans_df['Date'], errors='coerce')\n"
     ]
    },
    {
     "name": "stdout",
     "output_type": "stream",
     "text": [
      "   TransactionFreq  TransactionAmt\n",
      "0                4      182.666495\n",
      "1                6      143.569398\n",
      "2               32      137.335693\n",
      "3               31      210.146542\n",
      "4               40      193.705012\n",
      "5               59      158.661945\n",
      "6                7      158.429087\n",
      "7                8      159.083204\n",
      "8               51      181.020193\n",
      "9               30      189.206813\n"
     ]
    },
    {
     "name": "stdout",
     "output_type": "stream",
     "text": [
      "   TransactionFreq  TransactionAmt\n",
      "0                0        0.000000\n",
      "1                6     1504.220000\n",
      "2                0        0.000000\n",
      "3               31     7793.130000\n",
      "4               40     8507.080000\n",
      "5                0        0.000000\n",
      "6                0        0.000000\n",
      "7                0        0.000000\n",
      "8                0        0.000000\n",
      "9               30     6224.270000\n",
      "<bound method NDFrame.describe of             id  CustomerId         Surname  CreditScore Geography  Gender  \\\n",
      "0            0           1  Okwudilichukwu          668    France    Male   \n",
      "1            1           2   Okwudiliolisa          627    France    Male   \n",
      "2            2           3           Hsueh          678    France    Male   \n",
      "3            3           4             Kao          581    France    Male   \n",
      "4            4           5       Chiemenam          716     Spain    Male   \n",
      "...        ...         ...             ...          ...       ...     ...   \n",
      "165029  165029      165030            Meng          667     Spain  Female   \n",
      "165030  165030      165031       Okechukwu          792    France    Male   \n",
      "165031  165031      165032            Hsia          565    France    Male   \n",
      "165032  165032      165033          Hsiung          554     Spain  Female   \n",
      "165033  165033      165034         Ulyanov          850    France    Male   \n",
      "\n",
      "        Age  Tenure       Balance  NumOfProducts  HasCrCard  IsActiveMember  \\\n",
      "0        33       6 133877.387693              2   1.000000        0.000000   \n",
      "1        33       1 124654.362135              2   1.000000        1.000000   \n",
      "2        40      19 152137.330246              2   1.000000        0.000000   \n",
      "3        34       3 148882.540000              1   1.000000        1.000000   \n",
      "4        33       9 118487.514477              2   1.000000        1.000000   \n",
      "...     ...     ...           ...            ...        ...             ...   \n",
      "165029   33       3 142721.606203              1   1.000000        1.000000   \n",
      "165030   35       6 114483.605842              1   0.000000        0.000000   \n",
      "165031   31       9 148965.599886              1   1.000000        1.000000   \n",
      "165032   30      13 161533.000000              1   0.000000        1.000000   \n",
      "165033   31       2  92334.180286              1   1.000000        0.000000   \n",
      "\n",
      "        EstimatedSalary  Exited  ChurnDate  MonthsInactive  TransactionFreq  \\\n",
      "0         181449.970000       0        NaT               1                0   \n",
      "1          49503.500000       0        NaT               0                6   \n",
      "2         184866.690000       0        NaT               2                0   \n",
      "3          84560.880000       0        NaT               0               31   \n",
      "4          15068.830000       0        NaT               0               40   \n",
      "...                 ...     ...        ...             ...              ...   \n",
      "165029    131834.750000       0        NaT               0               23   \n",
      "165030    131834.450000       0        NaT               0                4   \n",
      "165031    127429.560000       0        NaT               0               60   \n",
      "165032     71173.030000       0        NaT               0               46   \n",
      "165033     61581.790000       1 2022-11-01              17                0   \n",
      "\n",
      "        TransactionAmt  \n",
      "0             0.000000  \n",
      "1          1504.220000  \n",
      "2             0.000000  \n",
      "3          7793.130000  \n",
      "4          8507.080000  \n",
      "...                ...  \n",
      "165029     8232.140000  \n",
      "165030     1067.870000  \n",
      "165031    11015.130000  \n",
      "165032     9866.730000  \n",
      "165033        0.000000  \n",
      "\n",
      "[165034 rows x 18 columns]>\n"
     ]
    },
    {
     "data": {
      "image/png": "[encoded data removed]",
      "text/plain": [
       "<Figure size 1000x600 with 1 Axes>"
      ]
     },
     "metadata": {},
     "output_type": "display_data"
    }
   ],
   "source": [
    "from sklearn.neighbors import KernelDensity\n",
    "\n",
    "trans_df = pd.read_csv('./data/Daily Household Transactions.csv')\n",
    "\n",
    "trans_df['Date'] = pd.to_datetime(trans_df['Date'], errors='coerce')\n",
    "\n",
    "trans_df = trans_df.dropna(subset=['Date'])\n",
    "\n",
    "trans_df['Date'] = trans_df['Date'].dt.strftime('%Y-%m-%d')\n",
    "\n",
    "trans_df['Year'] = trans_df['Date'].str[:4].astype(int)\n",
    "trans_df['Month'] = trans_df['Date'].str[5:7].astype(int)\n",
    "trans_df['Day'] = trans_df['Date'].str[8:10].astype(int)\n",
    "# print(trans_df['Date'].head(20))\n",
    "\n",
    "exchange_rate_inr_to_sgd = 0.016\n",
    "trans_df['Amount'] = trans_df['Amount'] * exchange_rate_inr_to_sgd\n",
    "trans_df['Amount'] = trans_df['Amount'].round(2)\n",
    "\n",
    "\n",
    "monthly_data = trans_df.groupby(['Year', 'Month']).agg({'Amount': 'sum', 'Date': 'count'}).reset_index()\n",
    "monthly_data.rename(columns={'Amount': 'TotalAmount', 'Date': 'Frequency'}, inplace=True)\n",
    "monthly_data['AvgTransactionPerMonth'] = monthly_data['TotalAmount'] / monthly_data['Frequency']\n",
    "\n",
    "# print(monthly_data.head(20))\n",
    "\n",
    "\n",
    "kde_freq = KernelDensity(bandwidth=1, kernel='gaussian')\n",
    "kde_amount = KernelDensity(bandwidth=25, kernel='gaussian')\n",
    "\n",
    "kde_freq.fit(monthly_data['Frequency'].values.reshape(-1, 1))\n",
    "kde_amount.fit(monthly_data['AvgTransactionPerMonth'].values.reshape(-1, 1))\n",
    "\n",
    "new_freq_samples = kde_freq.sample(len(bank_df_train)).reshape(-1)\n",
    "new_amount_samples = kde_amount.sample(len(bank_df_train)).reshape(-1)\n",
    "\n",
    "new_freq_samples_2 = kde_freq.sample(len(bank_df_test)).reshape(-1)\n",
    "new_amount_samples_2 = kde_amount.sample(len(bank_df_test)).reshape(-1)\n",
    "\n",
    "bank_df_train['TransactionFreq'] = new_freq_samples\n",
    "bank_df_train['TransactionFreq'] = bank_df_train['TransactionFreq'].astype(int)\n",
    "bank_df_train['TransactionAmt'] = new_amount_samples\n",
    "percentile_75 = bank_df_train['TransactionAmt'].quantile(0.75)\n",
    "# bank_df_train['TransactionAmt'] = bank_df_train['TransactionAmt'].apply(lambda x: max(x, percentile_75))\n",
    "\n",
    "min_value = bank_df_train['TransactionAmt'].min()\n",
    "max_value = bank_df_train['TransactionAmt'].max()\n",
    "bank_df_train['TransactionAmt'] = ((bank_df_train['TransactionAmt'] - min_value) / (max_value - min_value)) * (percentile_75 - min_value) + percentile_75\n",
    "print(bank_df_train[['TransactionFreq', 'TransactionAmt']].head(10))\n",
    "\n",
    "\n",
    "bank_df_train['TransactionAmt'] = bank_df_train['TransactionAmt'] * bank_df_train['TransactionFreq']\n",
    "\n",
    "\n",
    "bank_df_test['TransactionFreq'] = new_freq_samples_2\n",
    "bank_df_test['TransactionFreq'] = bank_df_test['TransactionFreq'].astype(int)\n",
    "bank_df_test['TransactionAmt'] = new_amount_samples_2\n",
    "\n",
    "bank_df_train.loc[(bank_df_train['Exited'] == 1) | (bank_df_train['MonthsInactive'] > 0), ['TransactionFreq', 'TransactionAmt']] = 0\n",
    "\n",
    "non_zero_mask = (bank_df_train['TransactionFreq'] != 0) & (bank_df_train['TransactionAmt'] != 0)\n",
    "noise_freq = np.random.normal(0, 0.00, len(bank_df_train))\n",
    "noise_amt = np.random.normal(1000, 500, len(bank_df_train))\n",
    "\n",
    "bank_df_train.loc[non_zero_mask, 'TransactionFreq'] += noise_freq[non_zero_mask]\n",
    "bank_df_train.loc[non_zero_mask, 'TransactionAmt'] += noise_amt[non_zero_mask]\n",
    "\n",
    "bank_df_train['TransactionAmt'] = bank_df_train['TransactionAmt'].abs().round(2)\n",
    "\n",
    "print(bank_df_train[['TransactionFreq', 'TransactionAmt']].head(10))\n",
    "print(bank_df_train.describe)\n",
    "\n",
    "\n",
    "\n",
    "non_zero_rows = bank_df_train[bank_df_train['TransactionAmt'] != 0] \n",
    "plt.figure(figsize=(10, 6))\n",
    "plt.scatter(non_zero_rows['TransactionFreq'], non_zero_rows['TransactionAmt'], color='skyblue')\n",
    "plt.title('Transaction Frequency vs. Transaction Amount (Non-Zero Transactions)')\n",
    "plt.xlabel('Transaction Frequency')\n",
    "plt.ylabel('Transaction Amount')\n",
    "plt.grid(axis='both', linestyle='--', alpha=0.5)  \n",
    "plt.tight_layout()\n",
    "plt.show()"
   ]
  },
  {
   "cell_type": "code",
   "execution_count": 23,
   "metadata": {},
   "outputs": [],
   "source": [
    "# from sklearn.neighbors import KernelDensity\n",
    "\n",
    "# trans_df = pd.read_csv('./data/Daily Household Transactions.csv')\n",
    "# trans_df['Date'] = pd.to_datetime(trans_df['Date'], errors='coerce')\n",
    "# trans_df = trans_df.dropna(subset=['Date'])\n",
    "# trans_df = trans_df[~((trans_df['Date'].dt.year == 2018) & (trans_df['Date'].dt.month == 9))]\n",
    "\n",
    "# max_date = trans_df['Date'].max()\n",
    "# today = pd.to_datetime('today').normalize()\n",
    "# date_diff = today - max_date\n",
    "# trans_df['Date'] += date_diff\n",
    "\n",
    "# exchange_rate_inr_to_sgd = 0.016\n",
    "# trans_df['Amount'] = trans_df['Amount'] * exchange_rate_inr_to_sgd\n",
    "# trans_df['Amount'] = trans_df['Amount'].round(2)\n",
    "\n",
    "# print(trans_df.head())\n",
    "\n"
   ]
  },
  {
   "cell_type": "markdown",
   "metadata": {},
   "source": [
    "### 16. Transaction History Amt\n",
    "Detailed transaction data offers insights into spending patterns and engagement. (Transaction amount in the last 28 days)\n"
   ]
  },
  {
   "cell_type": "code",
   "execution_count": 24,
   "metadata": {},
   "outputs": [],
   "source": [
    "# # Import reference set\n",
    "# # Warning: File size slightly big\n",
    "# trans_hist_data = pd.read_excel('./data/transaction_history.xlsx')\n",
    "\n",
    "# trans_hist_data.dtypes\n",
    "# # trans_hist_data.describe()\n",
    "\n",
    "# # Extract the most recent 2 sets of 3 months assuming the most recent data is the most accurate\n",
    "# trans_1st_3mths = trans_hist_data[(trans_hist_data['DATE'] >= pd.to_datetime('2019-01')) & (trans_hist_data['DATE'] <= pd.to_datetime('2019-03'))]\n",
    "# trans_2ns_3mths = trans_hist_data[(trans_hist_data['DATE'] >= pd.to_datetime('2018-10')) & (trans_hist_data['DATE'] <= pd.to_datetime('2018-12'))]\n",
    "\n",
    "# trans_dist_data = trans_1st_3mths.groupby('Account No').agg({'VALUE DATE': 'size', 'WITHDRAWAL AMT':'sum', 'DEPOSIT AMT': 'sum'}).reset_index()\n",
    "# trans_dist_data['TOTAL AMT'] = -trans_dist_data['WITHDRAWAL AMT'] + trans_dist_data['DEPOSIT AMT']\n",
    "\n",
    "# # kde = gaussian_kde(trans_dist_data['VALUE DATE'])\n",
    "# # train['Transaction Freq'] = abs(kde.resample(n_train).flatten()).astype(int)\n",
    "\n",
    "# kde = gaussian_kde(trans_dist_data['TOTAL AMT'])\n",
    "# bank_df_train['Cashflow'] = kde.resample(n_train).flatten().astype(float)\n",
    "# bank_df_test['Cashflow'] = kde.resample(n_test).flatten().astype(float)\n",
    "\n",
    "# date_28_days_ago = datetime.now() - timedelta(days=28)\n",
    "\n",
    "# bank_df_train['Cashflow'] = np.where(\n",
    "#     (bank_df_train['ChurnDate'] <= date_28_days_ago),\n",
    "#     0,\n",
    "#     bank_df_train['Cashflow']\n",
    "# )\n",
    "\n",
    "# bank_df_train['Cashflow'] = np.where(\n",
    "#     (bank_df_train['TransactionFreq'] == 0),\n",
    "#     0,\n",
    "#     bank_df_train['Cashflow']\n",
    "# )\n",
    "\n",
    "# bank_df_test['Cashflow'] = np.where(\n",
    "#     (bank_df_test['TransactionFreq'] == 0),\n",
    "#     0,\n",
    "#     bank_df_test['Cashflow']\n",
    "# )\n",
    "\n",
    "# new_min = -20000\n",
    "# new_max = 20000\n",
    "\n",
    "# current_min = bank_df_train['Cashflow'].min()\n",
    "# current_max = bank_df_train['Cashflow'].max()\n",
    "\n",
    "# # Perform Min-Max scaling\n",
    "# bank_df_train['Cashflow'] = ((bank_df_train['Cashflow'] - current_min) / (current_max - current_min)) * (new_max - new_min) + new_min\n",
    "\n",
    "\n",
    "# print(bank_df_train[['ChurnDate', 'TransactionFreq', 'Cashflow']].head(20))\n",
    "# # print(bank_df_test[['TransactionFreq', 'TransactionAmt']].head(20))"
   ]
  },
  {
   "cell_type": "code",
   "execution_count": 25,
   "metadata": {},
   "outputs": [],
   "source": [
    "#np.random.uniform(0, 1, size=bank_df_train.shape[0])\n",
    "\n",
    "#bank_df_train.loc[bank_df_train['TransactionAmt'] > bank_df_train['Balance'], 'TransactionAmt'] = bank_df_train.loc[bank_df_train['TransactionAmt'] > bank_df_train['Balance'], 'TransactionAmt'] * unif[bank_df_train['TransactionAmt'] > bank_df_train['Balance']]\n",
    "#bank_df_train['TransactionAmt'] > bank_df_train['Balance'] == True\n",
    "\n",
    "# print(bank_df_train['TransactionAmt'].head(20))"
   ]
  },
  {
   "cell_type": "markdown",
   "metadata": {},
   "source": [
    "### 17.Service Support Frequency (per mth)"
   ]
  },
  {
   "cell_type": "code",
   "execution_count": 26,
   "metadata": {},
   "outputs": [
    {
     "name": "stdout",
     "output_type": "stream",
     "text": [
      "0         21\n",
      "1          2\n",
      "2          1\n",
      "3         27\n",
      "4         13\n",
      "          ..\n",
      "165029    36\n",
      "165030    34\n",
      "165031    24\n",
      "165032    38\n",
      "165033     3\n",
      "Name: ServiceSupportFrequency, Length: 165034, dtype: int32\n"
     ]
    }
   ],
   "source": [
    "\n",
    "support_freq = pd.read_csv(\"./data/support_frequency.csv\")\n",
    "kde = gaussian_kde(support_freq['no_of_cases'])\n",
    "resampled_train = abs(kde.resample(len(bank_df_train)).flatten() / 12).astype(int)\n",
    "resampled_test = abs(kde.resample(len(bank_df_test)).flatten() / 12).astype(int)\n",
    "\n",
    "bank_df_train['ServiceSupportFrequency'] = resampled_train\n",
    "bank_df_test['ServiceSupportFrequency'] = resampled_test\n",
    "\n",
    "print(bank_df_train['ServiceSupportFrequency'])\n"
   ]
  },
  {
   "cell_type": "markdown",
   "metadata": {},
   "source": [
    "### 18.Months Inactive\n",
    "Indicates customer disengagement, potentially preceding churn. "
   ]
  },
  {
   "cell_type": "code",
   "execution_count": 27,
   "metadata": {},
   "outputs": [],
   "source": [
    "# np.random.seed(3101)\n",
    "# bank_df_train['MonthsInactive'] = np.minimum(np.random.normal(0.5, 1.5, n_train), bank_df_train['Tenure'] * 12)\n",
    "# bank_df_train['MonthsInactive'] = np.maximum(bank_df_train['MonthsInactive'], 0)\n",
    "\n",
    "# bank_df_test['MonthsInactive'] = bank_df_test.apply(lambda row: \n",
    "#     np.random.normal(0.5, 1.5) if row['TransactionFreq'] == 0 else 0,\n",
    "#     axis=1)\n",
    "\n",
    "# def set_max_to_tenure(row):\n",
    "#     return min(row['MonthsInactive'], row['Tenure'])\n",
    "\n",
    "# bank_df_train['MonthsInactive'] = np.maximum(bank_df_train['MonthsInactive'], 0)\n",
    "# bank_df_train['MonthsInactive'] = bank_df_train.apply(set_max_to_tenure, axis=1)\n",
    "# bank_df_train['MonthsInactive'] = bank_df_train['MonthsInactive'].astype(int)\n",
    "# bank_df_test['MonthsInactive'] = np.maximum(bank_df_test['MonthsInactive'], 0)\n",
    "# bank_df_test['MonthsInactive'] = bank_df_test.apply(set_max_to_tenure, axis=1)\n",
    "# bank_df_test['MonthsInactive'] = bank_df_test['MonthsInactive'].astype(int)\n",
    "\n",
    "\n",
    "\n",
    "# # print(bank_df_train['MonthsInactive'].head(20))\n",
    "# print(bank_df_test['MonthsInactive'].head(20))"
   ]
  },
  {
   "cell_type": "markdown",
   "metadata": {},
   "source": [
    "### 19.Net Promoter Score (NPS)\n",
    "Measure of customer satisfaction and loyalty.\n",
    "Scaled from 1 to 10 \n"
   ]
  },
  {
   "cell_type": "code",
   "execution_count": 28,
   "metadata": {},
   "outputs": [
    {
     "name": "stdout",
     "output_type": "stream",
     "text": [
      "count   165034.000000\n",
      "mean         5.739284\n",
      "std          2.986092\n",
      "min          0.000000\n",
      "25%          4.000000\n",
      "50%          7.000000\n",
      "75%          8.000000\n",
      "max         10.000000\n",
      "Name: NPS, dtype: float64\n"
     ]
    }
   ],
   "source": [
    "nps = pd.read_csv('./data/NPS.csv')\n",
    "\n",
    "nps_data = nps.groupby('Customer Name').agg({'NPS':'mean'}).reset_index()\n",
    "kde = gaussian_kde(nps_data['NPS'])\n",
    "resampled_train = abs(kde.resample(len(bank_df_train)).flatten()).astype(int)\n",
    "resampled_test = abs(kde.resample(len(bank_df_test)).flatten()).astype(int)\n",
    "\n",
    "bank_df_train['NPS'] = np.ceil(resampled_train / 12 * 10)\n",
    "bank_df_test['NPS'] = np.ceil(resampled_test / 12 * 10)\n",
    "\n",
    "print(bank_df_train['NPS'].describe())"
   ]
  },
  {
   "cell_type": "markdown",
   "metadata": {},
   "source": [
    "### 20.Education\n",
    "Education level might influence financial behavior and churn.\n",
    "Shld be correlated to 5. Acct Balance\n"
   ]
  },
  {
   "cell_type": "code",
   "execution_count": 29,
   "metadata": {},
   "outputs": [
    {
     "name": "stderr",
     "output_type": "stream",
     "text": [
      "C:\\Users\\caboo\\AppData\\Local\\Temp\\ipykernel_24748\\910833916.py:32: FutureWarning: A value is trying to be set on a copy of a DataFrame or Series through chained assignment using an inplace method.\n",
      "The behavior will change in pandas 3.0. This inplace method will never work because the intermediate object on which we are setting values always behaves as a copy.\n",
      "\n",
      "For example, when doing 'df[col].method(value, inplace=True)', try using 'df.method({col: value}, inplace=True)' or df[col] = df[col].method(value) instead, to perform the operation inplace on the original object.\n",
      "\n",
      "\n",
      "  bank_df_train['Education'].replace({'Unknown': 'PSLE'}, inplace=True)\n"
     ]
    },
    {
     "name": "stderr",
     "output_type": "stream",
     "text": [
      "C:\\Users\\caboo\\AppData\\Local\\Temp\\ipykernel_24748\\910833916.py:42: FutureWarning: A value is trying to be set on a copy of a DataFrame or Series through chained assignment using an inplace method.\n",
      "The behavior will change in pandas 3.0. This inplace method will never work because the intermediate object on which we are setting values always behaves as a copy.\n",
      "\n",
      "For example, when doing 'df[col].method(value, inplace=True)', try using 'df.method({col: value}, inplace=True)' or df[col] = df[col].method(value) instead, to perform the operation inplace on the original object.\n",
      "\n",
      "\n",
      "  bank_df_test['Education'].replace({'Unknown': 'PSLE'}, inplace=True)\n"
     ]
    },
    {
     "name": "stdout",
     "output_type": "stream",
     "text": [
      "0           PHD\n",
      "1          PSLE\n",
      "2             A\n",
      "3     Bachelors\n",
      "4           PHD\n",
      "5     Bachelors\n",
      "6           O/N\n",
      "7     Bachelors\n",
      "8          PSLE\n",
      "9           PHD\n",
      "10          O/N\n",
      "11    Bachelors\n",
      "12          PHD\n",
      "13      Masters\n",
      "14            A\n",
      "15      Masters\n",
      "16            A\n",
      "17          PHD\n",
      "18            A\n",
      "19         PSLE\n",
      "20     Post-Doc\n",
      "21    Bachelors\n",
      "22         PSLE\n",
      "23            A\n",
      "24      Masters\n",
      "25      Masters\n",
      "26          O/N\n",
      "27      Diploma\n",
      "28            A\n",
      "29          PHD\n",
      "Name: Education, dtype: object\n"
     ]
    }
   ],
   "source": [
    "education_marital = pd.read_csv(\"./data/education_marital.csv\")\n",
    "\n",
    "education = education_marital['Education_Level'].unique()\n",
    "\n",
    "edu, counts = np.unique(education, return_counts=True)\n",
    "value_to_index = {value: i for i, value in enumerate(edu)}\n",
    "numerical_data = [value_to_index[value] for value in education]\n",
    "\n",
    "kde = gaussian_kde(numerical_data)\n",
    "\n",
    "x_values = np.unique(numerical_data)\n",
    "pdf_values = kde(x_values)\n",
    "\n",
    "pmf = pdf_values / np.sum(pdf_values)\n",
    "\n",
    "resampled_indices = np.random.choice(x_values, size=n_train, p=pmf)\n",
    "resampled_indices_test = np.random.choice(x_values, size=n_test, p=pmf)\n",
    "\n",
    "resampled_values = [edu[index] for index in resampled_indices]\n",
    "resampled_values_test = [edu[index] for index in resampled_indices_test]\n",
    "\n",
    "bank_df_train['Education'] = resampled_values\n",
    "bank_df_test['Education'] = resampled_values_test\n",
    "\n",
    "def convert_phd_to_postdoc(edu_level):\n",
    "    if edu_level == 'PHD':\n",
    "        # Randomly choose between 'PHD' and 'Post-Doc' with equal probability\n",
    "        return np.random.choice(['PHD', 'Post-Doc'])\n",
    "    else:\n",
    "        return edu_level  # Keep other education levels unchanged\n",
    "\n",
    "bank_df_train['Education'].replace({'Unknown': 'PSLE'}, inplace=True)\n",
    "bank_df_train['Education'].replace({'Uneducated': 'O/N'}, inplace=True)\n",
    "bank_df_train['Education'].replace({'High School': 'A'}, inplace=True)\n",
    "bank_df_train['Education'].replace({'College': 'Diploma'}, inplace=True)\n",
    "bank_df_train['Education'].replace({'Graduate': 'Bachelors'}, inplace=True)\n",
    "bank_df_train['Education'].replace({'Post-Graduate': 'Masters'}, inplace=True)\n",
    "bank_df_train['Education'].replace({'Doctorate': 'PHD'}, inplace=True)\n",
    "\n",
    "bank_df_train['Education'] = bank_df_train['Education'].apply(convert_phd_to_postdoc)\n",
    "\n",
    "bank_df_test['Education'].replace({'Unknown': 'PSLE'}, inplace=True)\n",
    "bank_df_test['Education'].replace({'Uneducated': 'O/N'}, inplace=True)\n",
    "bank_df_test['Education'].replace({'High School': 'A'}, inplace=True)\n",
    "bank_df_test['Education'].replace({'College': 'Diploma'}, inplace=True)\n",
    "bank_df_test['Education'].replace({'Graduate': 'Bachelors'}, inplace=True)\n",
    "bank_df_test['Education'].replace({'Post-Graduate': 'Masters'}, inplace=True)\n",
    "bank_df_test['Education'].replace({'Doctorate': 'PHD'}, inplace=True)\n",
    "\n",
    "bank_df_test['Education'] = bank_df_test['Education'].apply(convert_phd_to_postdoc)\n",
    "\n",
    "print(bank_df_train['Education'].head(30))"
   ]
  },
  {
   "cell_type": "markdown",
   "metadata": {},
   "source": [
    "### 21.Employment Status\n",
    "Indicates financial stability, affecting churn likelihood. \n",
    "Shld be correlated to 5. Acct Balance & 21. Education  "
   ]
  },
  {
   "cell_type": "code",
   "execution_count": 30,
   "metadata": {},
   "outputs": [
    {
     "name": "stderr",
     "output_type": "stream",
     "text": [
      "C:\\Users\\caboo\\AppData\\Local\\Temp\\ipykernel_24748\\1694598254.py:24: FutureWarning: A value is trying to be set on a copy of a DataFrame or Series through chained assignment using an inplace method.\n",
      "The behavior will change in pandas 3.0. This inplace method will never work because the intermediate object on which we are setting values always behaves as a copy.\n",
      "\n",
      "For example, when doing 'df[col].method(value, inplace=True)', try using 'df.method({col: value}, inplace=True)' or df[col] = df[col].method(value) instead, to perform the operation inplace on the original object.\n",
      "\n",
      "\n",
      "  bank_df_train['EmploymentStatus'].replace({'admin.': 'Fulltime'}, inplace=True)\n",
      "C:\\Users\\caboo\\AppData\\Local\\Temp\\ipykernel_24748\\1694598254.py:37: FutureWarning: A value is trying to be set on a copy of a DataFrame or Series through chained assignment using an inplace method.\n",
      "The behavior will change in pandas 3.0. This inplace method will never work because the intermediate object on which we are setting values always behaves as a copy.\n",
      "\n",
      "For example, when doing 'df[col].method(value, inplace=True)', try using 'df.method({col: value}, inplace=True)' or df[col] = df[col].method(value) instead, to perform the operation inplace on the original object.\n",
      "\n",
      "\n",
      "  bank_df_test['EmploymentStatus'].replace({'admin.': 'Fulltime'}, inplace=True)\n"
     ]
    },
    {
     "name": "stdout",
     "output_type": "stream",
     "text": [
      "0     Self-employed\n",
      "1          Parttime\n",
      "2          Parttime\n",
      "3          Parttime\n",
      "4          Parttime\n",
      "5        Unemployed\n",
      "6          Fulltime\n",
      "7          Fulltime\n",
      "8           Student\n",
      "9          Parttime\n",
      "10         Fulltime\n",
      "11         Fulltime\n",
      "12         Fulltime\n",
      "13         Fulltime\n",
      "14         Fulltime\n",
      "15         Fulltime\n",
      "16          Retired\n",
      "17         Fulltime\n",
      "18          Retired\n",
      "19          Retired\n",
      "Name: EmploymentStatus, dtype: object\n"
     ]
    }
   ],
   "source": [
    "employment = pd.read_csv(\"./data/employment.csv\")\n",
    "\n",
    "employment_data = employment['job'].unique()\n",
    "\n",
    "employment_status, counts = np.unique(employment_data, return_counts=True)\n",
    "value_to_index = {value: i for i, value in enumerate(employment_status)}\n",
    "numerical_data = [value_to_index[value] for value in employment_data]\n",
    "\n",
    "kde = gaussian_kde(numerical_data)\n",
    "\n",
    "x_values = np.unique(numerical_data)\n",
    "pdf_values = kde(x_values)\n",
    "pmf = pdf_values / np.sum(pdf_values)\n",
    "\n",
    "resampled_indices = np.random.choice(x_values, size=n_train, p=pmf)\n",
    "resampled_indices_test = np.random.choice(x_values, size=n_test, p=pmf)\n",
    "\n",
    "resampled_values = [employment_status[index] for index in resampled_indices]\n",
    "resampled_values_test = [employment_status[index] for index in resampled_indices_test]\n",
    "\n",
    "bank_df_train['EmploymentStatus'] = resampled_values\n",
    "bank_df_test['EmploymentStatus'] = resampled_values_test\n",
    "\n",
    "bank_df_train['EmploymentStatus'].replace({'admin.': 'Fulltime'}, inplace=True)\n",
    "bank_df_train['EmploymentStatus'].replace({'blue-collar': 'Fulltime'}, inplace=True)\n",
    "bank_df_train['EmploymentStatus'].replace({'entrepreneur': 'Fulltime'}, inplace=True)\n",
    "bank_df_train['EmploymentStatus'].replace({'housemaid': 'Parttime'}, inplace=True)\n",
    "bank_df_train['EmploymentStatus'].replace({'management': 'Fulltime'}, inplace=True)\n",
    "bank_df_train['EmploymentStatus'].replace({'retired': 'Retired'}, inplace=True)\n",
    "bank_df_train['EmploymentStatus'].replace({'student': 'Student'}, inplace=True)\n",
    "bank_df_train['EmploymentStatus'].replace({'services': 'Fulltime'}, inplace=True)\n",
    "bank_df_train['EmploymentStatus'].replace({'self-employed': 'Self-employed'}, inplace=True)\n",
    "bank_df_train['EmploymentStatus'].replace({'technician': 'Parttime'}, inplace=True)\n",
    "bank_df_train['EmploymentStatus'].replace({'unemployed': 'Unemployed'}, inplace=True)\n",
    "bank_df_train['EmploymentStatus'].replace({'unknown': 'Parttime'}, inplace=True)\n",
    "\n",
    "bank_df_test['EmploymentStatus'].replace({'admin.': 'Fulltime'}, inplace=True)\n",
    "bank_df_test['EmploymentStatus'].replace({'blue-collar': 'Fulltime'}, inplace=True)\n",
    "bank_df_test['EmploymentStatus'].replace({'entrepreneur': 'Fulltime'}, inplace=True)\n",
    "bank_df_test['EmploymentStatus'].replace({'housemaid': 'Parttime'}, inplace=True)\n",
    "bank_df_test['EmploymentStatus'].replace({'management': 'Fulltime'}, inplace=True)\n",
    "bank_df_test['EmploymentStatus'].replace({'retired': 'Retired'}, inplace=True)\n",
    "bank_df_test['EmploymentStatus'].replace({'student': 'Student'}, inplace=True)\n",
    "bank_df_test['EmploymentStatus'].replace({'services': 'Fulltime'}, inplace=True)\n",
    "bank_df_test['EmploymentStatus'].replace({'self-employed': 'Self-employed'}, inplace=True)\n",
    "bank_df_test['EmploymentStatus'].replace({'technician': 'Parttime'}, inplace=True)\n",
    "bank_df_test['EmploymentStatus'].replace({'unemployed': 'Unemployed'}, inplace=True)\n",
    "bank_df_test['EmploymentStatus'].replace({'unknown': 'Parttime'}, inplace=True)\n",
    "\n",
    "print(bank_df_train['EmploymentStatus'].head(20))"
   ]
  },
  {
   "attachments": {
    "image.png": {
     "image/png": "[encoded data removed]"
    }
   },
   "cell_type": "markdown",
   "metadata": {},
   "source": [
    "### 22.Marital Status\n",
    "Can impact financial decision-making and churn behavior. \n",
    "\n",
    "![image.png](attachment:image.png)"
   ]
  },
  {
   "cell_type": "code",
   "execution_count": 31,
   "metadata": {},
   "outputs": [
    {
     "name": "stdout",
     "output_type": "stream",
     "text": [
      "[0.16952641316778871, 0.6855695892192502, 0.06663588479524293, 0.07826811281771828]\n",
      "MaritalStatus\n",
      "Married    0.685210\n",
      "Single     0.174091\n",
      "Divorced   0.076481\n",
      "Widowed    0.064217\n",
      "Name: proportion, dtype: float64\n"
     ]
    },
    {
     "data": {
      "image/png": "[encoded data removed]",
      "text/plain": [
       "<Figure size 640x480 with 1 Axes>"
      ]
     },
     "metadata": {},
     "output_type": "display_data"
    }
   ],
   "source": [
    "percentage_single = (55.5 * 220.3 + 9.6 * 1152.3) / (220.3 + 1152.3)\n",
    "percentage_married = (12.2 * 220.3 + 79.4 * 1152.3) / (220.3 + 1152.3)\n",
    "percentage_widowed = (15.4 * 220.3 + 5 * 1152.3) / (220.3 + 1152.3) #25 above\n",
    "percentage_divorced = (16.9 * 220.3 + 6.1 * 1152.3) / (220.3 + 1152.3) #25 above\n",
    "\n",
    "marital_status = ['Single', 'Married', 'Widowed', 'Divorced']\n",
    "total_percentage = percentage_single + percentage_married + percentage_widowed + percentage_divorced\n",
    "normalized_percentages = [percentage_single / total_percentage,\n",
    "                           percentage_married / total_percentage,\n",
    "                           percentage_widowed / total_percentage,\n",
    "                           percentage_divorced / total_percentage]\n",
    "print(normalized_percentages)\n",
    "\n",
    "bank_df_train['MaritalStatus'] = np.random.choice(['Single', 'Married', 'Widowed', 'Divorced'],\n",
    "                                                   size=len(bank_df_train), p=normalized_percentages)\n",
    "\n",
    "\n",
    "young_divorced_widowed_indices = bank_df_train[(bank_df_train['Age'] < 25) & (bank_df_train['MaritalStatus'].isin(['Widowed', 'Divorced']))].index\n",
    "bank_df_train.loc[young_divorced_widowed_indices, 'MaritalStatus'] = 'Single'\n",
    "\n",
    "\n",
    "# print(bank_df_train[['Age', 'MaritalStatus']].head(20))\n",
    "marital_status_distribution = bank_df_train['MaritalStatus'].value_counts(normalize=True)\n",
    "print(marital_status_distribution)\n",
    "\n",
    "arital_status_distribution = bank_df_train['MaritalStatus'].value_counts(normalize=True)\n",
    "plt.bar(marital_status_distribution.index, marital_status_distribution.values)\n",
    "plt.xlabel('Marital Status')\n",
    "plt.ylabel('Percentage')\n",
    "plt.title('Distribution of Marital Status')\n",
    "plt.show()"
   ]
  },
  {
   "cell_type": "code",
   "execution_count": 32,
   "metadata": {},
   "outputs": [],
   "source": [
    "# education_marital = pd.read_csv(\"./data/education_marital.csv\")\n",
    "\n",
    "# marital_status = education_marital['Marital_Status'].unique()\n",
    "\n",
    "# marital, counts = np.unique(marital_status, return_counts=True)\n",
    "# value_to_index = {value: i for i, value in enumerate(marital)}\n",
    "# numerical_data = [value_to_index[value] for value in marital_status]\n",
    "\n",
    "# kde = gaussian_kde(numerical_data)\n",
    "\n",
    "# x_values = np.unique(numerical_data)\n",
    "# pdf_values = kde(x_values)\n",
    "\n",
    "# pmf = pdf_values / np.sum(pdf_values)\n",
    "\n",
    "# resampled_indices = np.random.choice(x_values, size=n_train, p=pmf)\n",
    "# resampled_indices_test = np.random.choice(x_values, size=n_test, p=pmf)\n",
    "\n",
    "# resampled_values = [marital[index] for index in resampled_indices]\n",
    "# resampled_values_test = [marital[index] for index in resampled_indices_test]\n",
    "\n",
    "# bank_df_train['MaritalStatus'] = resampled_values\n",
    "# bank_df_test['MaritalStatus'] = resampled_values_test\n",
    "\n",
    "# bank_df_train['MaritalStatus'].replace({'Unknown': 'Divorced'}, inplace=True)\n",
    "# bank_df_test['MaritalStatus'].replace({'Unknown': 'Divorced'}, inplace=True)\n",
    "\n",
    "# print(bank_df_train['MaritalStatus'].head(20))"
   ]
  },
  {
   "cell_type": "markdown",
   "metadata": {},
   "source": [
    "### 23.Housing Status\n",
    "Reflects stability and long-term commitment, influencing churn. "
   ]
  },
  {
   "cell_type": "code",
   "execution_count": 33,
   "metadata": {},
   "outputs": [
    {
     "name": "stdout",
     "output_type": "stream",
     "text": [
      "   id  CustomerId         Surname  CreditScore Geography Gender  Age  Tenure  \\\n",
      "0   0           1  Okwudilichukwu          668    France   Male   33       6   \n",
      "1   1           2   Okwudiliolisa          627    France   Male   33       1   \n",
      "2   2           3           Hsueh          678    France   Male   40      19   \n",
      "3   3           4             Kao          581    France   Male   34       3   \n",
      "4   4           5       Chiemenam          716     Spain   Male   33       9   \n",
      "\n",
      "        Balance  NumOfProducts  ...  ChurnDate  MonthsInactive  \\\n",
      "0 133877.387693              2  ...        NaT               1   \n",
      "1 124654.362135              2  ...        NaT               0   \n",
      "2 152137.330246              2  ...        NaT               2   \n",
      "3 148882.540000              1  ...        NaT               0   \n",
      "4 118487.514477              2  ...        NaT               0   \n",
      "\n",
      "   TransactionFreq  TransactionAmt ServiceSupportFrequency      NPS  \\\n",
      "0                0        0.000000                      21 0.000000   \n",
      "1                6     1504.220000                       2 7.000000   \n",
      "2                0        0.000000                       1 7.000000   \n",
      "3               31     7793.130000                      27 7.000000   \n",
      "4               40     8507.080000                      13 9.000000   \n",
      "\n",
      "   Education  EmploymentStatus  MaritalStatus  HousingStatus  \n",
      "0        PHD     Self-employed        Married         rented  \n",
      "1       PSLE          Parttime        Married          owned  \n",
      "2          A          Parttime        Married          owned  \n",
      "3  Bachelors          Parttime        Married         rented  \n",
      "4        PHD          Parttime       Divorced          owned  \n",
      "\n",
      "[5 rows x 24 columns]\n"
     ]
    }
   ],
   "source": [
    "housing = pd.read_csv(\"./data/housing.csv\")\n",
    "\n",
    "housing_status = housing['House_Ownership'].unique()\n",
    "\n",
    "house, counts = np.unique(housing_status, return_counts=True)\n",
    "value_to_index = {value: i for i, value in enumerate(house)}\n",
    "numerical_data = [value_to_index[value] for value in housing_status]\n",
    "\n",
    "kde = gaussian_kde(numerical_data)\n",
    "\n",
    "x_values = np.unique(numerical_data)\n",
    "pdf_values = kde(x_values)\n",
    "\n",
    "pmf = pdf_values / np.sum(pdf_values)\n",
    "\n",
    "resampled_indices = np.random.choice(x_values, size=n_train, p=pmf)\n",
    "resampled_indices_test = np.random.choice(x_values, size=n_test, p=pmf)\n",
    "\n",
    "resampled_values = [house[index] for index in resampled_indices]\n",
    "resampled_values_test = [house[index] for index in resampled_indices_test]\n",
    "\n",
    "bank_df_train['HousingStatus'] = resampled_values\n",
    "bank_df_test['HousingStatus'] = resampled_values_test\n",
    "\n",
    "\n",
    "print(bank_df_train.head())"
   ]
  },
  {
   "cell_type": "markdown",
   "metadata": {},
   "source": [
    "### 24.Number of Dependents\n",
    "Impacts financial priorities and risk tolerance, affecting churn."
   ]
  },
  {
   "cell_type": "code",
   "execution_count": 34,
   "metadata": {},
   "outputs": [
    {
     "name": "stdout",
     "output_type": "stream",
     "text": [
      "   id  CustomerId         Surname  CreditScore Geography Gender  Age  Tenure  \\\n",
      "0   0           1  Okwudilichukwu          668    France   Male   33       6   \n",
      "1   1           2   Okwudiliolisa          627    France   Male   33       1   \n",
      "2   2           3           Hsueh          678    France   Male   40      19   \n",
      "3   3           4             Kao          581    France   Male   34       3   \n",
      "4   4           5       Chiemenam          716     Spain   Male   33       9   \n",
      "\n",
      "        Balance  NumOfProducts  ...  MonthsInactive  TransactionFreq  \\\n",
      "0 133877.387693              2  ...               1                0   \n",
      "1 124654.362135              2  ...               0                6   \n",
      "2 152137.330246              2  ...               2                0   \n",
      "3 148882.540000              1  ...               0               31   \n",
      "4 118487.514477              2  ...               0               40   \n",
      "\n",
      "   TransactionAmt  ServiceSupportFrequency      NPS  Education  \\\n",
      "0        0.000000                       21 0.000000        PHD   \n",
      "1     1504.220000                        2 7.000000       PSLE   \n",
      "2        0.000000                        1 7.000000          A   \n",
      "3     7793.130000                       27 7.000000  Bachelors   \n",
      "4     8507.080000                       13 9.000000        PHD   \n",
      "\n",
      "   EmploymentStatus  MaritalStatus  HousingStatus  Dependents  \n",
      "0     Self-employed        Married         rented           0  \n",
      "1          Parttime        Married          owned           1  \n",
      "2          Parttime        Married          owned           5  \n",
      "3          Parttime        Married         rented           1  \n",
      "4          Parttime       Divorced          owned           2  \n",
      "\n",
      "[5 rows x 25 columns]\n"
     ]
    }
   ],
   "source": [
    "dependents_df = pd.read_csv('./data/education+dependents+maritalstatus/BankChurners.csv')\n",
    "\n",
    "kde = gaussian_kde(dependents_df['Dependent_count'])\n",
    "\n",
    "bank_df_train['Dependents'] = np.maximum(kde.resample(len(bank_df_train)).flatten(), 0)\n",
    "bank_df_train['Dependents'] = np.round(bank_df_train['Dependents']).astype(int)\n",
    "bank_df_test['Dependents'] = np.maximum(kde.resample(len(bank_df_test)).flatten(), 0)\n",
    "bank_df_test['Dependents'] = np.round(bank_df_test['Dependents']).astype(int)\n",
    "\n",
    "print(bank_df_train.head())"
   ]
  },
  {
   "cell_type": "markdown",
   "metadata": {},
   "source": [
    "### 25.Marketing Offers Accepted\n",
    "Indicates responsiveness to incentives, affecting churn. Range 0-1, (percentage of marketing offers they accept, e.g.5 offer, 4 accepted, the value of the column 0.8)"
   ]
  },
  {
   "cell_type": "code",
   "execution_count": 35,
   "metadata": {},
   "outputs": [
    {
     "name": "stdout",
     "output_type": "stream",
     "text": [
      "   id  CustomerId         Surname  CreditScore Geography Gender  Age  Tenure  \\\n",
      "0   0           1  Okwudilichukwu          668    France   Male   33       6   \n",
      "1   1           2   Okwudiliolisa          627    France   Male   33       1   \n",
      "2   2           3           Hsueh          678    France   Male   40      19   \n",
      "3   3           4             Kao          581    France   Male   34       3   \n",
      "4   4           5       Chiemenam          716     Spain   Male   33       9   \n",
      "\n",
      "        Balance  NumOfProducts  ...  TransactionFreq  TransactionAmt  \\\n",
      "0 133877.387693              2  ...                0        0.000000   \n",
      "1 124654.362135              2  ...                6     1504.220000   \n",
      "2 152137.330246              2  ...                0        0.000000   \n",
      "3 148882.540000              1  ...               31     7793.130000   \n",
      "4 118487.514477              2  ...               40     8507.080000   \n",
      "\n",
      "   ServiceSupportFrequency      NPS  Education  EmploymentStatus  \\\n",
      "0                       21 0.000000        PHD     Self-employed   \n",
      "1                        2 7.000000       PSLE          Parttime   \n",
      "2                        1 7.000000          A          Parttime   \n",
      "3                       27 7.000000  Bachelors          Parttime   \n",
      "4                       13 9.000000        PHD          Parttime   \n",
      "\n",
      "   MaritalStatus  HousingStatus  Dependents  MarketingOffersAcceptance  \n",
      "0        Married         rented           0                   0.019870  \n",
      "1        Married          owned           1                   0.048805  \n",
      "2        Married          owned           5                   0.000000  \n",
      "3        Married         rented           1                   0.012002  \n",
      "4       Divorced          owned           2                   0.000000  \n",
      "\n",
      "[5 rows x 26 columns]\n"
     ]
    }
   ],
   "source": [
    "marketing_df = pd.read_csv('./data/marketing offers/marketing_campaign.csv', sep=';')\n",
    "\n",
    "\n",
    "marketing_df[\"MarketingOffersAcceptance\"] = (marketing_df['AcceptedCmp1'] + marketing_df['AcceptedCmp2'] + marketing_df['AcceptedCmp3'] + marketing_df['AcceptedCmp4'] + marketing_df['AcceptedCmp5']) / 5\n",
    "# print(marketing_df.head())\n",
    "\n",
    "kde = gaussian_kde(marketing_df['MarketingOffersAcceptance'])\n",
    "\n",
    "bank_df_train['MarketingOffersAcceptance'] = np.maximum(kde.resample(len(bank_df_train)).flatten(), 0)\n",
    "bank_df_test['MarketingOffersAcceptance'] = np.maximum(kde.resample(len(bank_df_test)).flatten(), 0)\n",
    "\n",
    "print(bank_df_train.head())"
   ]
  },
  {
   "attachments": {
    "image-2.png": {
     "image/png": "[encoded data removed]"
    },
    "image.png": {
     "image/png": "[encoded data removed]"
    }
   },
   "cell_type": "markdown",
   "metadata": {},
   "source": [
    "### 26.Channel Used for Transactions\n",
    "Reflects preferred banking channels and engagement level. \n",
    "https://www.straitstimes.com/business/cards-are-king-when-it-comes-to-making-payment-in-singapore-report\n",
    "\n",
    "![image.png](attachment:image.png)\n",
    "\n",
    "![image-2.png](attachment:image-2.png)"
   ]
  },
  {
   "cell_type": "code",
   "execution_count": 36,
   "metadata": {},
   "outputs": [
    {
     "name": "stdout",
     "output_type": "stream",
     "text": [
      "[0.34782608695652173, 0.5434782608695652, 0.09782608695652174, 0.010869565217391304]\n",
      "0     Debit\n",
      "1    Paynow\n",
      "2    Paynow\n",
      "3    Paynow\n",
      "4     Debit\n",
      "5      Cash\n",
      "6     Debit\n",
      "7    Paynow\n",
      "8    Paynow\n",
      "9    Paynow\n",
      "Name: PaymentMethod, dtype: object\n"
     ]
    },
    {
     "data": {
      "image/png": "[encoded data removed]",
      "text/plain": [
       "<Figure size 800x600 with 1 Axes>"
      ]
     },
     "metadata": {},
     "output_type": "display_data"
    }
   ],
   "source": [
    "Debit = 11 + 21\n",
    "Paynow = 32 + 18\n",
    "FAST = 9\n",
    "Cash = 1\n",
    "\n",
    "Payment_methods = ['Debit', 'Paynow', 'FAST', 'Cash']\n",
    "total = Debit + Paynow + FAST + Cash\n",
    "percentages = [Debit / total, Paynow / total, FAST / total, Cash / total]\n",
    "\n",
    "print(percentages)\n",
    "\n",
    "bank_df_train['PaymentMethod'] = np.random.choice(Payment_methods,\n",
    "                                                   size=len(bank_df_train), p=percentages)\n",
    "\n",
    "print(bank_df_train['PaymentMethod'].head(10))\n",
    "\n",
    "payment_counts = bank_df_train['PaymentMethod'].value_counts()\n",
    "\n",
    "plt.figure(figsize=(8, 6))\n",
    "sns.barplot(x=payment_counts.index, y=payment_counts.values)\n",
    "plt.xlabel('Payment Method')\n",
    "plt.ylabel('Count')\n",
    "plt.title('Distribution of Payment Methods')\n",
    "plt.xticks(rotation=45)  # Rotate x-axis labels for better visibility\n",
    "plt.tight_layout()\n",
    "plt.show()\n",
    "\n"
   ]
  },
  {
   "cell_type": "code",
   "execution_count": 37,
   "metadata": {},
   "outputs": [],
   "source": [
    "# transaction_channel_df = pd.read_csv('./data/main_payment_method/WA_Fn-UseC_-Telco-Customer-Churn.csv')\n",
    "\n",
    "# # print(transaction_channel_df.head())\n",
    "# methods = transaction_channel_df['PaymentMethod'].unique().tolist()\n",
    "# # print(methods)\n",
    "# faked_data = [random.choice(methods) for _ in range(len(bank_df_train))]\n",
    "# faked_data_2 = [random.choice(methods) for _ in range(len(bank_df_test))]\n",
    "\n",
    "# bank_df_train['PaymentMethod'] = faked_data\n",
    "# bank_df_test['PaymentMethod'] = faked_data_2\n",
    "\n",
    "# bank_df_train['PaymentMethod'].replace({'Bank transfer (automatic)': 'Intrabank transfer (GXS Savings Account only)'}, inplace=True)\n",
    "# bank_df_train['PaymentMethod'].replace({'Electronic check': 'PayNow'}, inplace=True)\n",
    "# bank_df_train['PaymentMethod'].replace({'Credit card (automatic)': 'Debit card'}, inplace=True)\n",
    "# bank_df_train['PaymentMethod'].replace({'Mailed check': 'FAST'}, inplace=True)\n",
    "\n",
    "# bank_df_test['PaymentMethod'].replace({'Bank transfer (automatic)': 'Intrabank transfer (GXS Savings Account only)'}, inplace=True)\n",
    "# bank_df_test['PaymentMethod'].replace({'Electronic check': 'PayNow'}, inplace=True)\n",
    "# bank_df_test['PaymentMethod'].replace({'Credit card (automatic)': 'Debit card'}, inplace=True)\n",
    "# bank_df_test['PaymentMethod'].replace({'Mailed check': 'FAST'}, inplace=True)\n",
    "\n",
    "# print(bank_df_train['PaymentMethod'].head(10))\n",
    "\n",
    "# payment_method_distribution = bank_df_train['PaymentMethod'].value_counts(normalize=True)\n",
    "# print(payment_method_distribution)\n",
    "\n",
    "# plt.figure(figsize=(8, 6))\n",
    "# payment_method_distribution.plot(kind='bar', color='skyblue')\n",
    "# plt.title('Distribution of Payment Methods')\n",
    "# plt.xlabel('Payment Method')\n",
    "# plt.ylabel('Proportion')\n",
    "# plt.xticks(rotation=45, ha='right')  # Rotate x-axis labels for better visibility\n",
    "# plt.tight_layout()\n",
    "# plt.show()"
   ]
  },
  {
   "cell_type": "markdown",
   "metadata": {},
   "source": [
    "### 27.Customer Satisfaction Surveys\n",
    "Provides direct feedback on satisfaction levels, predicting churn. "
   ]
  },
  {
   "cell_type": "code",
   "execution_count": 38,
   "metadata": {},
   "outputs": [
    {
     "name": "stdout",
     "output_type": "stream",
     "text": [
      "0    4\n",
      "1    1\n",
      "2    3\n",
      "3    1\n",
      "4    5\n",
      "5    4\n",
      "6    1\n",
      "7    4\n",
      "8    2\n",
      "9    3\n",
      "Name: CustomerSatisfaction, dtype: int32\n"
     ]
    }
   ],
   "source": [
    "cust_satisfaction_df = pd.read_csv('./data/satisfaction score/Customer-Churn-Records.csv')\n",
    "\n",
    "kde = gaussian_kde(cust_satisfaction_df['Satisfaction Score'])\n",
    "\n",
    "fake_data = np.maximum(kde.resample(len(bank_df_train)).flatten(), 0)\n",
    "fake_data = np.minimum(fake_data.flatten(), 5)\n",
    "fake_data = np.round(fake_data).astype(int)\n",
    "\n",
    "fake_data_2 = np.maximum(kde.resample(len(bank_df_test)).flatten(), 0)\n",
    "fake_data_2 = np.minimum(fake_data_2.flatten(), 5)\n",
    "fake_data_2 = np.round(fake_data_2).astype(int)\n",
    "\n",
    "bank_df_train['CustomerSatisfaction'] = fake_data\n",
    "bank_df_test['CustomerSatisfaction'] = fake_data_2\n",
    "# print(len(bank_df_test))\n",
    "# print(len(fake_data_2))\n",
    "\n",
    "print(bank_df_train['CustomerSatisfaction'].head(10))"
   ]
  },
  {
   "cell_type": "markdown",
   "metadata": {},
   "source": [
    "### 28.Feature Satisfaction\n",
    "Scale on 1 to 5\n"
   ]
  },
  {
   "cell_type": "code",
   "execution_count": 39,
   "metadata": {},
   "outputs": [
    {
     "name": "stdout",
     "output_type": "stream",
     "text": [
      "0    1\n",
      "1    1\n",
      "2    3\n",
      "3    2\n",
      "4    2\n",
      "Name: FeatureSatisfaction, dtype: int32\n"
     ]
    }
   ],
   "source": [
    "feature_df = pd.read_csv('./data/feature_and_support_satisfaction/Customer-survey-data.csv')\n",
    "feature_df = feature_df.dropna()\n",
    "kde = gaussian_kde(feature_df['How satisfied were you with your overall delivery experience at Ali?                    1-5 where 1 = extremely dissatisfied and 5 = extremely satisfied'])\n",
    "bank_df_train['FeatureSatisfaction'] = kde.resample(len(bank_df_train)).flatten().astype(int)\n",
    "bank_df_test['FeatureSatisfaction'] = kde.resample(len(bank_df_test)).flatten().astype(int)\n",
    "\n",
    "print(bank_df_train['FeatureSatisfaction'].head())"
   ]
  },
  {
   "cell_type": "markdown",
   "metadata": {},
   "source": [
    "### 29.Support Satisfaction\n",
    "Scale on 1 to 5\n"
   ]
  },
  {
   "cell_type": "code",
   "execution_count": 40,
   "metadata": {},
   "outputs": [
    {
     "name": "stdout",
     "output_type": "stream",
     "text": [
      "0    5\n",
      "1    2\n",
      "2    4\n",
      "3    1\n",
      "4    3\n",
      "Name: SupportSatisfaction, dtype: int32\n"
     ]
    }
   ],
   "source": [
    "feature_df = pd.read_csv('./data/feature_and_support_satisfaction/Customer-survey-data.csv')\n",
    "feature_df = feature_df.dropna()\n",
    "kde = gaussian_kde(feature_df['How satisfied were you with the speed of delivery at Alis?                                1-5 where 1 = extremely dissatisfied and 5 = extremely satisfied'])\n",
    "bank_df_train['SupportSatisfaction'] = kde.resample(len(bank_df_train)).flatten().astype(int)\n",
    "bank_df_test['SupportSatisfaction'] = kde.resample(len(bank_df_test)).flatten().astype(int)\n",
    "\n",
    "print(bank_df_train['SupportSatisfaction'].head())"
   ]
  },
  {
   "cell_type": "markdown",
   "metadata": {},
   "source": [
    "### 30. Feature support frequency\n",
    "\n",
    "Higher calls might indicate issues and dissatisfaction, affecting churn. Past year. Past month \n"
   ]
  },
  {
   "cell_type": "code",
   "execution_count": 41,
   "metadata": {},
   "outputs": [
    {
     "name": "stdout",
     "output_type": "stream",
     "text": [
      "   id  CustomerId         Surname  CreditScore Geography Gender  Age  Tenure  \\\n",
      "0   0           1  Okwudilichukwu          668    France   Male   33       6   \n",
      "1   1           2   Okwudiliolisa          627    France   Male   33       1   \n",
      "2   2           3           Hsueh          678    France   Male   40      19   \n",
      "3   3           4             Kao          581    France   Male   34       3   \n",
      "4   4           5       Chiemenam          716     Spain   Male   33       9   \n",
      "\n",
      "        Balance  NumOfProducts  ...  EmploymentStatus  MaritalStatus  \\\n",
      "0 133877.387693              2  ...     Self-employed        Married   \n",
      "1 124654.362135              2  ...          Parttime        Married   \n",
      "2 152137.330246              2  ...          Parttime        Married   \n",
      "3 148882.540000              1  ...          Parttime        Married   \n",
      "4 118487.514477              2  ...          Parttime       Divorced   \n",
      "\n",
      "   HousingStatus  Dependents MarketingOffersAcceptance  PaymentMethod  \\\n",
      "0         rented           0                  0.019870          Debit   \n",
      "1          owned           1                  0.048805         Paynow   \n",
      "2          owned           5                  0.000000         Paynow   \n",
      "3         rented           1                  0.012002         Paynow   \n",
      "4          owned           2                  0.000000          Debit   \n",
      "\n",
      "   CustomerSatisfaction  FeatureSatisfaction  SupportSatisfaction  \\\n",
      "0                     4                    1                    5   \n",
      "1                     1                    1                    2   \n",
      "2                     3                    3                    4   \n",
      "3                     1                    2                    1   \n",
      "4                     5                    2                    3   \n",
      "\n",
      "   FeatureSupportFrequency  \n",
      "0                       19  \n",
      "1                       46  \n",
      "2                       13  \n",
      "3                       21  \n",
      "4                        6  \n",
      "\n",
      "[5 rows x 31 columns]\n"
     ]
    }
   ],
   "source": [
    "support_freq = pd.read_csv(\"./data/support_frequency.csv\")\n",
    "\n",
    "kde = gaussian_kde(support_freq['no_of_cases'])\n",
    "bank_df_train['FeatureSupportFrequency'] = abs(kde.resample(n_train).flatten()/12).astype(int)\n",
    "bank_df_test['FeatureSupportFrequency'] = abs(kde.resample(n_test).flatten()/12).astype(int)\n",
    "print(bank_df_train.head())\n"
   ]
  },
  {
   "cell_type": "markdown",
   "metadata": {},
   "source": [
    "### 31.Relationship Count\n",
    "Reflects the breadth of the customer's relationship with the bank.\n",
    "Shld be correlated to 6: No. of products   "
   ]
  },
  {
   "cell_type": "code",
   "execution_count": 42,
   "metadata": {},
   "outputs": [
    {
     "name": "stderr",
     "output_type": "stream",
     "text": [
      "C:\\Users\\caboo\\AppData\\Local\\Temp\\ipykernel_24748\\607543198.py:3: FutureWarning: A value is trying to be set on a copy of a DataFrame or Series through chained assignment using an inplace method.\n",
      "The behavior will change in pandas 3.0. This inplace method will never work because the intermediate object on which we are setting values always behaves as a copy.\n",
      "\n",
      "For example, when doing 'df[col].method(value, inplace=True)', try using 'df.method({col: value}, inplace=True)' or df[col] = df[col].method(value) instead, to perform the operation inplace on the original object.\n",
      "\n",
      "\n",
      "  relationship_count['Current Loan Amount'].fillna(0, inplace=True)\n"
     ]
    },
    {
     "name": "stdout",
     "output_type": "stream",
     "text": [
      "0   19956.150000\n",
      "1   17323.850000\n",
      "2   17391.860000\n",
      "3   14617.360000\n",
      "4   19929.870000\n",
      "5   21946.990000\n",
      "6   14529.250000\n",
      "7   25659.720000\n",
      "8   16649.930000\n",
      "9   16448.990000\n",
      "Name: LoanAmt, dtype: float64\n",
      "30000.0\n",
      "3000.0\n"
     ]
    },
    {
     "data": {
      "image/png": "[encoded data removed]",
      "text/plain": [
       "<Figure size 800x600 with 1 Axes>"
      ]
     },
     "metadata": {},
     "output_type": "display_data"
    }
   ],
   "source": [
    "import seaborn as sns\n",
    "relationship_count = pd.read_csv('./data/loan/credit_train.csv')\n",
    "relationship_count['Current Loan Amount'].fillna(0, inplace=True) \n",
    "relationship_count = relationship_count[relationship_count['Current Loan Amount'] <= 200000]\n",
    "\n",
    "if np.any(np.isinf(relationship_count['Current Loan Amount'])):\n",
    "    # Handle infinite values, such as replacing them with a large finite value\n",
    "    relationship_count['Current Loan Amount'].replace([np.inf, -np.inf], np.finfo(np.float64).max, inplace=True)\n",
    "\n",
    "\n",
    "median_loan_amount = relationship_count['Current Loan Amount'].median()\n",
    "below_median = relationship_count[relationship_count['Current Loan Amount'] < median_loan_amount]\n",
    "above_median = relationship_count[relationship_count['Current Loan Amount'] >= median_loan_amount]\n",
    "\n",
    "# print(above_median)\n",
    "kde_upper = gaussian_kde(above_median['Current Loan Amount'])\n",
    "kde_lower = gaussian_kde(below_median['Current Loan Amount'])\n",
    "\n",
    "bank_df_train['LoanAmt'] = np.where(bank_df_train['CustomerSatisfaction'] >= 4, abs(kde_upper.resample(n_train).flatten()/12).astype(int) , abs(kde_lower.resample(n_train).flatten()/12).astype(int))\n",
    "bank_df_test['LoanAmt'] = np.where(bank_df_test['CustomerSatisfaction'] >= 4, abs(kde_upper.resample(n_test).flatten()/12).astype(int) , abs(kde_lower.resample(n_test).flatten()/12).astype(int))\n",
    "\n",
    "min_value = bank_df_train['LoanAmt'].min()\n",
    "max_value = bank_df_train['LoanAmt'].max()\n",
    "min_value_2 = bank_df_test['LoanAmt'].min()\n",
    "max_value_2 = bank_df_test['LoanAmt'].max()\n",
    "new_min_value = 3000\n",
    "new_max_value = 30000\n",
    "\n",
    "def scale_values(value):\n",
    "    scaled_value = new_min_value + ((value - min_value) / (max_value - min_value)) * (new_max_value - new_min_value)\n",
    "    return scaled_value\n",
    "\n",
    "def scale_values_2(value):\n",
    "    scaled_value = new_min_value + ((value - min_value_2) / (max_value_2 - min_value_2)) * (new_max_value - new_min_value)\n",
    "    return scaled_value\n",
    "\n",
    "bank_df_train['LoanAmt'] = bank_df_train['LoanAmt'].apply(scale_values)\n",
    "bank_df_test['LoanAmt'] = bank_df_test['LoanAmt'].apply(scale_values_2)\n",
    "\n",
    "bank_df_train['LoanAmt'] = bank_df_train['LoanAmt'].round(2)\n",
    "# kde = gaussian_kde(relationship_count['Current Loan Amount'])\n",
    "# bank_df_train['RelationshipCount'] = abs(kde.resample(n_train).flatten()/12).astype(int)\n",
    "\n",
    "print(bank_df_train['LoanAmt'].head(10))\n",
    "print(bank_df_train['LoanAmt'].max())\n",
    "print(bank_df_train['LoanAmt'].min())\n",
    "\n",
    "sns.set_style('whitegrid')\n",
    "plt.figure(figsize=(8, 6))\n",
    "sns.histplot(bank_df_train['LoanAmt'], kde=True, bins=10)  # Adjust the number of bins as needed\n",
    "plt.xlabel('Loan Amount')\n",
    "plt.ylabel('Frequency')\n",
    "plt.title('Distribution of Loan Amount')\n",
    "plt.show()"
   ]
  },
  {
   "cell_type": "markdown",
   "metadata": {},
   "source": [
    "### 32. Income Source\n",
    "Indicates financial stability and potential churn risk. "
   ]
  },
  {
   "cell_type": "code",
   "execution_count": 43,
   "metadata": {},
   "outputs": [
    {
     "name": "stdout",
     "output_type": "stream",
     "text": [
      "  EmploymentStatus     IncomeSource\n",
      "0    Self-employed  Self-employment\n",
      "1         Parttime       Employment\n",
      "2         Parttime       Employment\n",
      "3         Parttime       Employment\n",
      "4         Parttime       Employment\n",
      "5       Unemployed       Investment\n",
      "6         Fulltime       Employment\n",
      "7         Fulltime       Employment\n",
      "8          Student        Allowance\n",
      "9         Parttime       Employment\n",
      "IncomeSource\n",
      "Employment        0.485076\n",
      "Investment        0.260431\n",
      "Self-employment   0.096289\n",
      "Allowance         0.070361\n",
      "Rental            0.055692\n",
      "Retirement        0.032151\n",
      "Name: proportion, dtype: float64\n"
     ]
    },
    {
     "data": {
      "image/png": "[encoded data removed]",
      "text/plain": [
       "<Figure size 800x600 with 1 Axes>"
      ]
     },
     "metadata": {},
     "output_type": "display_data"
    }
   ],
   "source": [
    "# income_source_df = pd.read_csv('./data/income source/adult.csv')\n",
    "\n",
    "# # print(transaction_channel_df.head())\n",
    "# income_sourcs = income_source_df['workclass'].unique().tolist()\n",
    "# income_sourcs.remove('?')\n",
    "# print(income_sourcs)\n",
    "# faked_data = [random.choice(income_sourcs) for _ in range(len(bank_df_train))]\n",
    "# faked_data_2 = [random.choice(income_sourcs) for _ in range(len(bank_df_test))]\n",
    "\n",
    "# bank_df_train['IncomeSource'] = faked_data\n",
    "# bank_df_test['IncomeSource'] = faked_data_2\n",
    "\n",
    "def choose_value(row):\n",
    "    if row['EmploymentStatus'] == 'Fulltime':\n",
    "        return np.random.choice(['Employment', 'Investment'])\n",
    "    elif row['EmploymentStatus'] == 'Parttime':\n",
    "        return 'Employment' \n",
    "    elif row['EmploymentStatus'] == 'Retired':\n",
    "        return np.random.choice(['Retirement', 'Rental', 'Investment'])\n",
    "    elif row['EmploymentStatus'] == 'Student':\n",
    "        return np.random.choice(['Allowance', 'Employment'])\n",
    "    elif row['EmploymentStatus'] == 'Self-employed':\n",
    "        return 'Self-employment'\n",
    "    elif row['EmploymentStatus'] == 'Unemployed':\n",
    "        return np.random.choice(['Rental', 'Investment', 'Allowance'])\n",
    "    \n",
    "bank_df_train['IncomeSource'] = bank_df_train.apply(choose_value, axis=1)\n",
    "print(bank_df_train[['EmploymentStatus', 'IncomeSource']].head(10))\n",
    "\n",
    "income_distribution = bank_df_train['IncomeSource'].value_counts(normalize=True)\n",
    "print(income_distribution)\n",
    "\n",
    "plt.figure(figsize=(8, 6))\n",
    "income_distribution.plot(kind='bar', color='skyblue')\n",
    "plt.title('Distribution of Income Sources')\n",
    "plt.xlabel('Income Source')\n",
    "plt.ylabel('Proportion')\n",
    "plt.xticks(rotation=45, ha='right')  # Rotate x-axis labels for better visibility\n",
    "plt.tight_layout()\n",
    "plt.show()"
   ]
  },
  {
   "cell_type": "markdown",
   "metadata": {},
   "source": [
    "### 33. Credit Utilization\n",
    "Reflects financial health and potential churn risk for credit customers."
   ]
  },
  {
   "cell_type": "code",
   "execution_count": 44,
   "metadata": {},
   "outputs": [
    {
     "name": "stdout",
     "output_type": "stream",
     "text": [
      "   id  CustomerId         Surname  CreditScore Geography Gender  Age  Tenure  \\\n",
      "0   0           1  Okwudilichukwu          668    France   Male   33       6   \n",
      "1   1           2   Okwudiliolisa          627    France   Male   33       1   \n",
      "2   2           3           Hsueh          678    France   Male   40      19   \n",
      "3   3           4             Kao          581    France   Male   34       3   \n",
      "4   4           5       Chiemenam          716     Spain   Male   33       9   \n",
      "\n",
      "        Balance  NumOfProducts  ...  Dependents  MarketingOffersAcceptance  \\\n",
      "0 133877.387693              2  ...           0                   0.019870   \n",
      "1 124654.362135              2  ...           1                   0.048805   \n",
      "2 152137.330246              2  ...           5                   0.000000   \n",
      "3 148882.540000              1  ...           1                   0.012002   \n",
      "4 118487.514477              2  ...           2                   0.000000   \n",
      "\n",
      "   PaymentMethod  CustomerSatisfaction FeatureSatisfaction  \\\n",
      "0          Debit                     4                   1   \n",
      "1         Paynow                     1                   1   \n",
      "2         Paynow                     3                   3   \n",
      "3         Paynow                     1                   2   \n",
      "4          Debit                     5                   2   \n",
      "\n",
      "   SupportSatisfaction  FeatureSupportFrequency      LoanAmt     IncomeSource  \\\n",
      "0                    5                       19 19956.150000  Self-employment   \n",
      "1                    2                       46 17323.850000       Employment   \n",
      "2                    4                       13 17391.860000       Employment   \n",
      "3                    1                       21 14617.360000       Employment   \n",
      "4                    3                        6 19929.870000       Employment   \n",
      "\n",
      "   CreditUtilization  \n",
      "0           0.537423  \n",
      "1           0.204811  \n",
      "2           0.728950  \n",
      "3           0.186255  \n",
      "4           0.040264  \n",
      "\n",
      "[5 rows x 34 columns]\n"
     ]
    }
   ],
   "source": [
    "credit_df = pd.read_csv('./data/credit utilization/BankChurners.csv')\n",
    "\n",
    "kde = gaussian_kde(credit_df['Avg_Utilization_Ratio'])\n",
    "\n",
    "fake_data = np.maximum(kde.resample(len(bank_df_train)).flatten(), 0)\n",
    "fake_data = np.minimum(fake_data.flatten(), 1)\n",
    "# fake_data = np.round(fake_data).astype(int)\n",
    "fake_data_2 = np.maximum(kde.resample(len(bank_df_test)).flatten(), 0)\n",
    "fake_data_2 = np.minimum(fake_data_2.flatten(), 1)\n",
    "\n",
    "bank_df_train['CreditUtilization'] = fake_data\n",
    "bank_df_test['CreditUtilization'] = fake_data_2\n",
    "\n",
    "print(bank_df_train.head())"
   ]
  },
  {
   "cell_type": "markdown",
   "metadata": {},
   "source": [
    "### 34. Response to Previous Retention Efforts\n",
    "Records success or failure of previous retention efforts, guiding future strategies. % 0-1. Using a beta distribution to model this. "
   ]
  },
  {
   "cell_type": "code",
   "execution_count": 45,
   "metadata": {},
   "outputs": [
    {
     "data": {
      "image/png": "[encoded data removed]",
      "text/plain": [
       "<Figure size 640x480 with 1 Axes>"
      ]
     },
     "metadata": {},
     "output_type": "display_data"
    }
   ],
   "source": [
    "alpha = 4\n",
    "beta = 2\n",
    "\n",
    "responsiveness_values = np.random.beta(alpha, beta, size=n_train)\n",
    "\n",
    "bank_df_train['Retention'] = responsiveness_values\n",
    "\n",
    "plt.hist(bank_df_train['Retention'], bins=30, edgecolor='black')\n",
    "plt.xlabel('Responsiveness')\n",
    "plt.ylabel('Frequency')\n",
    "plt.title('Distribution of Responsiveness')\n",
    "plt.show()"
   ]
  },
  {
   "cell_type": "code",
   "execution_count": 46,
   "metadata": {},
   "outputs": [],
   "source": [
    "# retention_df = pd.read_csv('./data/retention/HR_comma_sep.csv')\n",
    "\n",
    "# kde = gaussian_kde(retention_df['promotion_last_5years'])\n",
    "\n",
    "# fake_data = np.maximum(kde.resample(len(bank_df_train)).flatten(), 0)\n",
    "# fake_data = np.minimum(fake_data.flatten(), 1)\n",
    "\n",
    "# fake_data_2 = np.maximum(kde.resample(len(bank_df_test)).flatten(), 0)\n",
    "# fake_data_2 = np.minimum(fake_data_2.flatten(), 1)\n",
    "\n",
    "\n",
    "# bank_df_train['Retention'] = fake_data\n",
    "# bank_df_test['Retention'] = fake_data_2\n",
    "\n",
    "# print(bank_df_train['Retention'].head(20))\n",
    "\n",
    "# filtered_retention_rate = bank_df_train[bank_df_train['Retention'] < 0.2]['Retention']\n",
    "\n",
    "\n",
    "# sns.kdeplot(filtered_retention_rate, shade=True)\n",
    "# plt.xlabel('Retention Rate')\n",
    "# plt.ylabel('Density')\n",
    "# plt.title('Kernel Density Estimation of Retention Rate (<0.2)')\n",
    "# plt.show()"
   ]
  },
  {
   "cell_type": "markdown",
   "metadata": {},
   "source": [
    "### 35. Change in behavior before n after\n",
    "Average of percentage of increase/decrease (ranging from 0 - infinity, but most of the times it will be ard 0-2)"
   ]
  },
  {
   "cell_type": "code",
   "execution_count": 47,
   "metadata": {},
   "outputs": [
    {
     "name": "stdout",
     "output_type": "stream",
     "text": [
      "0   1.132823\n",
      "1   0.916042\n",
      "2   0.700201\n",
      "3   0.911662\n",
      "4   1.063843\n",
      "5   0.847994\n",
      "6   1.200094\n",
      "7   0.836622\n",
      "8   0.452415\n",
      "9   0.503835\n",
      "Name: ChangeInBehaviourMkt, dtype: float64\n"
     ]
    }
   ],
   "source": [
    "bank_df_train['ChangeInBehaviourMkt'] = np.random.normal(1, 0.25, len(bank_df_train))\n",
    "bank_df_train['ChangeInBehaviourMkt'] = np.maximum(bank_df_train['ChangeInBehaviourMkt'], 0)\n",
    "bank_df_test['ChangeInBehaviourMkt']= np.random.normal(1, 0.25, len(bank_df_test))\n",
    "# test = np.random.normal(1, 0.25, len(bank_df_train))\n",
    "# # print(test)\n",
    "# bank_df_train['ChangeInBehaviourMkt'] = test.astype(float)\n",
    "\n",
    "print(bank_df_train['ChangeInBehaviourMkt'].head(10))"
   ]
  },
  {
   "cell_type": "markdown",
   "metadata": {},
   "source": [
    "### 36. Change in behavior before n after for Support"
   ]
  },
  {
   "cell_type": "code",
   "execution_count": 48,
   "metadata": {},
   "outputs": [
    {
     "name": "stdout",
     "output_type": "stream",
     "text": [
      "0   1.541084\n",
      "1   0.813436\n",
      "2   1.249613\n",
      "3   1.210422\n",
      "4   1.058571\n",
      "Name: ChangeInBehaviourCust, dtype: float64\n"
     ]
    }
   ],
   "source": [
    "bank_df_train['ChangeInBehaviourCust'] = np.random.normal(1, 0.25, len(bank_df_train))\n",
    "bank_df_train['ChangeInBehaviourCust'] = np.maximum(bank_df_train['ChangeInBehaviourCust'], 0)\n",
    "bank_df_test['ChangeInBehaviourCust']= np.random.normal(1, 0.25, len(bank_df_test))\n",
    "\n",
    "print(bank_df_train['ChangeInBehaviourCust'].head())"
   ]
  },
  {
   "cell_type": "markdown",
   "metadata": {},
   "source": [
    "### 37. Previous Lifecycle status "
   ]
  },
  {
   "cell_type": "code",
   "execution_count": 49,
   "metadata": {},
   "outputs": [
    {
     "name": "stdout",
     "output_type": "stream",
     "text": [
      "    ChurnDate  Tenure  MonthsInactive PrevLifecycle\n",
      "0         NaT       6               1   Reactivated\n",
      "1         NaT       1               0           NaN\n",
      "2         NaT      19               2       Dormant\n",
      "3         NaT       3               0   Reactivated\n",
      "4         NaT       9               0   Reactivated\n",
      "5  2024-01-22       8               2       Churned\n",
      "6         NaT      14               2       Dormant\n",
      "7         NaT       1               1           NaN\n",
      "8         NaT       7               1   Reactivated\n",
      "9         NaT       7               0        Active\n",
      "10        NaT      11               0        Active\n",
      "11        NaT       5               0   Reactivated\n",
      "12        NaT      17               0   Reactivated\n",
      "13        NaT       9               1   Reactivated\n",
      "14        NaT      12               0   Reactivated\n",
      "15        NaT       9               1        Active\n",
      "16        NaT      12               2       Dormant\n",
      "17        NaT       8               0        Active\n",
      "18 2024-01-29      15               2       Churned\n",
      "19 2022-11-12       1              17       Churned\n",
      "20        NaT      16               0   Reactivated\n",
      "21        NaT      15               4       Dormant\n",
      "22        NaT      16               1   Reactivated\n",
      "23 2024-04-07      17               0       Churned\n",
      "24        NaT      10               2       Dormant\n",
      "25 2024-03-23      16               0       Churned\n",
      "26        NaT       5               0        Active\n",
      "27        NaT       3               0   Reactivated\n",
      "28 2023-09-04       7               7       Churned\n",
      "29        NaT      10               0   Reactivated\n",
      "30        NaT       9               1        Active\n",
      "31        NaT      12               0        Active\n",
      "32 2023-04-09       0              12       Churned\n",
      "33        NaT      16               1        Active\n",
      "34 2023-08-21      10               7       Churned\n",
      "35        NaT       6               0        Active\n",
      "36        NaT       0               0           NaN\n",
      "37        NaT      10               0        Active\n",
      "38 2024-04-14      17               0       Churned\n",
      "39 2024-02-03      17               2       Churned\n",
      "40        NaT      14               0   Reactivated\n",
      "41        NaT       7               2       Dormant\n",
      "42 2024-03-21       5               0       Churned\n",
      "43        NaT       9               2       Dormant\n",
      "44        NaT      15               1   Reactivated\n",
      "45        NaT      19               0        Active\n",
      "46        NaT      10               2       Dormant\n",
      "47        NaT      19               0        Active\n",
      "48        NaT      11               1        Active\n",
      "49        NaT       1               1           NaN\n"
     ]
    }
   ],
   "source": [
    "life_cycles = ['Active', 'Reactivated'] #everything but churned\n",
    "\n",
    "# bank_df_train['PrevLifecycle'] = bank_df_train.apply(lambda row: np.random.choice(life_cycles) if row['Tenure'] > 1 else ('Churned' if row['Exited'] == 1 else np.nan), axis=1)\n",
    "# bank_df_test['PrevLifecycle'] = np.where(bank_df_test['Tenure'] > 1,\n",
    "#                                           np.random.choice(life_cycles, size=len(bank_df_test)),\n",
    "#                                           np.nan)\n",
    "\n",
    "bank_df_train['PrevLifecycle'] = bank_df_train.apply(\n",
    "    lambda row: 'Churned' if row['Exited'] == 1 else 'Dormant' if row['MonthsInactive'] > 1 else np.random.choice(life_cycles) if row['Tenure'] > 1 else np.nan,\n",
    "    axis=1\n",
    ")\n",
    "\n",
    "# bank_df_test['PrevLifecycle'] = np.where(\n",
    "#     bank_df_test['Exited'] == 1,\n",
    "#     'Churned',\n",
    "#     np.where(\n",
    "#         bank_df_test['Tenure'] > 1,\n",
    "#         np.random.choice(life_cycles, size=len(bank_df_test)),\n",
    "#         np.nan\n",
    "#     )\n",
    "# )\n",
    "\n",
    "print(bank_df_train[['ChurnDate', 'Tenure', 'MonthsInactive', 'PrevLifecycle']].head(50))\n",
    "# print(bank_df_test[['Tenure', 'PrevLifecycle']].head(20))"
   ]
  },
  {
   "cell_type": "markdown",
   "metadata": {},
   "source": [
    "### 38. Current Lifecycle status "
   ]
  },
  {
   "cell_type": "code",
   "execution_count": 50,
   "metadata": {},
   "outputs": [
    {
     "name": "stdout",
     "output_type": "stream",
     "text": [
      "  PrevLifecycle CurrLifecycle\n",
      "0   Reactivated       Dormant\n",
      "1           NaN        Active\n",
      "2       Dormant       Dormant\n",
      "3   Reactivated        Active\n",
      "4   Reactivated        Active\n",
      "5       Churned       Churned\n",
      "6       Dormant       Dormant\n",
      "7           NaN       Dormant\n",
      "8   Reactivated       Dormant\n",
      "9        Active        Active\n"
     ]
    }
   ],
   "source": [
    "prev_active = ['Active', 'Dormant'] #excluding churn, also same for reactivated\n",
    "prev_dormant = ['Dormant', 'Reactivated'] #excluding churn\n",
    "\n",
    "# bank_df_train['CurrLifecycle'] = bank_df_train.apply(lambda row: 'Churned' if row['PrevLifecycle'] == 'Churned' else \\\n",
    "#                                                     np.random.choice(prev_active) if (row['PrevLifecycle'] == 'Active' or row['PrevLifecycle'] == 'Reactivated') else \\\n",
    "#                                                     np.random.choice(prev_dormant) if row['PrevLifecycle'] == 'Dormant' else \\\n",
    "#                                                     np.nan, axis=1)\n",
    "bank_df_train['CurrLifecycle'] = bank_df_train.apply(lambda row: 'Churned' if row['PrevLifecycle'] == 'Churned' else \\\n",
    "                                                     'Reactivated' if (row['PrevLifecycle'] == 'Dormant' and row['TransactionFreq'] > 0) else \\\n",
    "                                                     'Dormant' if row['TransactionFreq'] == 0 else \\\n",
    "                                                     'Active', axis=1)\n",
    "\n",
    "print(bank_df_train[['PrevLifecycle', 'CurrLifecycle']].head(10))\n"
   ]
  },
  {
   "cell_type": "markdown",
   "metadata": {},
   "source": [
    "### 39. Customer Happiness Status \n",
    "1 == happy, 0 == unhappy\n",
    "\n",
    "Customer satisfaction survey score \n",
    "\n",
    "Relationship Count \n",
    "\n",
    "Response to previous retention efforts (no more yay)\n",
    "\n",
    "if we want the top 15.9%\n"
   ]
  },
  {
   "cell_type": "code",
   "execution_count": 51,
   "metadata": {},
   "outputs": [
    {
     "ename": "KeyboardInterrupt",
     "evalue": "",
     "output_type": "error",
     "traceback": [
      "\u001b[1;31m---------------------------------------------------------------------------\u001b[0m",
      "\u001b[1;31mKeyboardInterrupt\u001b[0m                         Traceback (most recent call last)",
      "\u001b[1;32m~\\AppData\\Local\\Temp\\ipykernel_24748\\3497042641.py\u001b[0m in \u001b[0;36m?\u001b[1;34m()\u001b[0m\n\u001b[0;32m      9\u001b[0m \u001b[1;33m\u001b[0m\u001b[0m\n\u001b[0;32m     10\u001b[0m \u001b[1;33m\u001b[0m\u001b[0m\n\u001b[0;32m     11\u001b[0m \u001b[1;31m# need to delete Custpercentile, RsPercentile and ResponsePercentile later\u001b[0m\u001b[1;33m\u001b[0m\u001b[1;33m\u001b[0m\u001b[0m\n\u001b[0;32m     12\u001b[0m \u001b[0mbank_df_train\u001b[0m\u001b[1;33m[\u001b[0m\u001b[1;34m'CustPercentile'\u001b[0m\u001b[1;33m]\u001b[0m \u001b[1;33m=\u001b[0m \u001b[0mbank_df_train\u001b[0m\u001b[1;33m[\u001b[0m\u001b[1;34m'CustomerSatisfaction'\u001b[0m\u001b[1;33m]\u001b[0m\u001b[1;33m.\u001b[0m\u001b[0mapply\u001b[0m\u001b[1;33m(\u001b[0m\u001b[1;32mlambda\u001b[0m \u001b[0mx\u001b[0m\u001b[1;33m:\u001b[0m \u001b[0mstats\u001b[0m\u001b[1;33m.\u001b[0m\u001b[0mpercentileofscore\u001b[0m\u001b[1;33m(\u001b[0m\u001b[0mbank_df_train\u001b[0m\u001b[1;33m[\u001b[0m\u001b[1;34m'CustomerSatisfaction'\u001b[0m\u001b[1;33m]\u001b[0m\u001b[1;33m,\u001b[0m \u001b[0mx\u001b[0m\u001b[1;33m)\u001b[0m\u001b[1;33m)\u001b[0m\u001b[1;33m\u001b[0m\u001b[1;33m\u001b[0m\u001b[0m\n\u001b[1;32m---> 13\u001b[1;33m \u001b[0mbank_df_train\u001b[0m\u001b[1;33m[\u001b[0m\u001b[1;34m'RsPercentile'\u001b[0m\u001b[1;33m]\u001b[0m \u001b[1;33m=\u001b[0m \u001b[0mbank_df_train\u001b[0m\u001b[1;33m[\u001b[0m\u001b[1;34m'LoanAmt'\u001b[0m\u001b[1;33m]\u001b[0m\u001b[1;33m.\u001b[0m\u001b[0mapply\u001b[0m\u001b[1;33m(\u001b[0m\u001b[1;32mlambda\u001b[0m \u001b[0mx\u001b[0m\u001b[1;33m:\u001b[0m \u001b[0mstats\u001b[0m\u001b[1;33m.\u001b[0m\u001b[0mpercentileofscore\u001b[0m\u001b[1;33m(\u001b[0m\u001b[0mbank_df_train\u001b[0m\u001b[1;33m[\u001b[0m\u001b[1;34m'CustomerSatisfaction'\u001b[0m\u001b[1;33m]\u001b[0m\u001b[1;33m,\u001b[0m \u001b[0mx\u001b[0m\u001b[1;33m)\u001b[0m\u001b[1;33m)\u001b[0m\u001b[1;33m\u001b[0m\u001b[1;33m\u001b[0m\u001b[0m\n\u001b[0m\u001b[0;32m     14\u001b[0m \u001b[1;33m\u001b[0m\u001b[0m\n\u001b[0;32m     15\u001b[0m \u001b[0mbank_df_test\u001b[0m\u001b[1;33m[\u001b[0m\u001b[1;34m'CustPercentile'\u001b[0m\u001b[1;33m]\u001b[0m \u001b[1;33m=\u001b[0m \u001b[0mbank_df_test\u001b[0m\u001b[1;33m[\u001b[0m\u001b[1;34m'CustomerSatisfaction'\u001b[0m\u001b[1;33m]\u001b[0m\u001b[1;33m.\u001b[0m\u001b[0mapply\u001b[0m\u001b[1;33m(\u001b[0m\u001b[1;32mlambda\u001b[0m \u001b[0mx\u001b[0m\u001b[1;33m:\u001b[0m \u001b[0mstats\u001b[0m\u001b[1;33m.\u001b[0m\u001b[0mpercentileofscore\u001b[0m\u001b[1;33m(\u001b[0m\u001b[0mbank_df_test\u001b[0m\u001b[1;33m[\u001b[0m\u001b[1;34m'CustomerSatisfaction'\u001b[0m\u001b[1;33m]\u001b[0m\u001b[1;33m,\u001b[0m \u001b[0mx\u001b[0m\u001b[1;33m)\u001b[0m\u001b[1;33m)\u001b[0m\u001b[1;33m\u001b[0m\u001b[1;33m\u001b[0m\u001b[0m\n\u001b[0;32m     16\u001b[0m \u001b[0mbank_df_test\u001b[0m\u001b[1;33m[\u001b[0m\u001b[1;34m'RsPercentile'\u001b[0m\u001b[1;33m]\u001b[0m \u001b[1;33m=\u001b[0m \u001b[0mbank_df_test\u001b[0m\u001b[1;33m[\u001b[0m\u001b[1;34m'LoanAmt'\u001b[0m\u001b[1;33m]\u001b[0m\u001b[1;33m.\u001b[0m\u001b[0mapply\u001b[0m\u001b[1;33m(\u001b[0m\u001b[1;32mlambda\u001b[0m \u001b[0mx\u001b[0m\u001b[1;33m:\u001b[0m \u001b[0mstats\u001b[0m\u001b[1;33m.\u001b[0m\u001b[0mpercentileofscore\u001b[0m\u001b[1;33m(\u001b[0m\u001b[0mbank_df_test\u001b[0m\u001b[1;33m[\u001b[0m\u001b[1;34m'CustomerSatisfaction'\u001b[0m\u001b[1;33m]\u001b[0m\u001b[1;33m,\u001b[0m \u001b[0mx\u001b[0m\u001b[1;33m)\u001b[0m\u001b[1;33m)\u001b[0m\u001b[1;33m\u001b[0m\u001b[1;33m\u001b[0m\u001b[0m\n",
      "\u001b[1;32mc:\\Users\\caboo\\AppData\\Local\\Programs\\Python\\Python311\\Lib\\site-packages\\pandas\\core\\series.py\u001b[0m in \u001b[0;36m?\u001b[1;34m(self, func, convert_dtype, args, by_row, **kwargs)\u001b[0m\n\u001b[0;32m   4911\u001b[0m             \u001b[0mconvert_dtype\u001b[0m\u001b[1;33m=\u001b[0m\u001b[0mconvert_dtype\u001b[0m\u001b[1;33m,\u001b[0m\u001b[1;33m\u001b[0m\u001b[1;33m\u001b[0m\u001b[0m\n\u001b[0;32m   4912\u001b[0m             \u001b[0mby_row\u001b[0m\u001b[1;33m=\u001b[0m\u001b[0mby_row\u001b[0m\u001b[1;33m,\u001b[0m\u001b[1;33m\u001b[0m\u001b[1;33m\u001b[0m\u001b[0m\n\u001b[0;32m   4913\u001b[0m             \u001b[0margs\u001b[0m\u001b[1;33m=\u001b[0m\u001b[0margs\u001b[0m\u001b[1;33m,\u001b[0m\u001b[1;33m\u001b[0m\u001b[1;33m\u001b[0m\u001b[0m\n\u001b[0;32m   4914\u001b[0m             \u001b[0mkwargs\u001b[0m\u001b[1;33m=\u001b[0m\u001b[0mkwargs\u001b[0m\u001b[1;33m,\u001b[0m\u001b[1;33m\u001b[0m\u001b[1;33m\u001b[0m\u001b[0m\n\u001b[1;32m-> 4915\u001b[1;33m         ).apply()\n\u001b[0m",
      "\u001b[1;32mc:\\Users\\caboo\\AppData\\Local\\Programs\\Python\\Python311\\Lib\\site-packages\\pandas\\core\\apply.py\u001b[0m in \u001b[0;36m?\u001b[1;34m(self)\u001b[0m\n\u001b[0;32m   1423\u001b[0m         \u001b[1;32mif\u001b[0m \u001b[0mself\u001b[0m\u001b[1;33m.\u001b[0m\u001b[0mby_row\u001b[0m \u001b[1;33m==\u001b[0m \u001b[1;34m\"_compat\"\u001b[0m\u001b[1;33m:\u001b[0m\u001b[1;33m\u001b[0m\u001b[1;33m\u001b[0m\u001b[0m\n\u001b[0;32m   1424\u001b[0m             \u001b[1;32mreturn\u001b[0m \u001b[0mself\u001b[0m\u001b[1;33m.\u001b[0m\u001b[0mapply_compat\u001b[0m\u001b[1;33m(\u001b[0m\u001b[1;33m)\u001b[0m\u001b[1;33m\u001b[0m\u001b[1;33m\u001b[0m\u001b[0m\n\u001b[0;32m   1425\u001b[0m \u001b[1;33m\u001b[0m\u001b[0m\n\u001b[0;32m   1426\u001b[0m         \u001b[1;31m# self.func is Callable\u001b[0m\u001b[1;33m\u001b[0m\u001b[1;33m\u001b[0m\u001b[0m\n\u001b[1;32m-> 1427\u001b[1;33m         \u001b[1;32mreturn\u001b[0m \u001b[0mself\u001b[0m\u001b[1;33m.\u001b[0m\u001b[0mapply_standard\u001b[0m\u001b[1;33m(\u001b[0m\u001b[1;33m)\u001b[0m\u001b[1;33m\u001b[0m\u001b[1;33m\u001b[0m\u001b[0m\n\u001b[0m",
      "\u001b[1;32mc:\\Users\\caboo\\AppData\\Local\\Programs\\Python\\Python311\\Lib\\site-packages\\pandas\\core\\apply.py\u001b[0m in \u001b[0;36m?\u001b[1;34m(self)\u001b[0m\n\u001b[0;32m   1503\u001b[0m         \u001b[1;31m# we need to give `na_action=\"ignore\"` for categorical data.\u001b[0m\u001b[1;33m\u001b[0m\u001b[1;33m\u001b[0m\u001b[0m\n\u001b[0;32m   1504\u001b[0m         \u001b[1;31m# TODO: remove the `na_action=\"ignore\"` when that default has been changed in\u001b[0m\u001b[1;33m\u001b[0m\u001b[1;33m\u001b[0m\u001b[0m\n\u001b[0;32m   1505\u001b[0m         \u001b[1;31m#  Categorical (GH51645).\u001b[0m\u001b[1;33m\u001b[0m\u001b[1;33m\u001b[0m\u001b[0m\n\u001b[0;32m   1506\u001b[0m         \u001b[0maction\u001b[0m \u001b[1;33m=\u001b[0m \u001b[1;34m\"ignore\"\u001b[0m \u001b[1;32mif\u001b[0m \u001b[0misinstance\u001b[0m\u001b[1;33m(\u001b[0m\u001b[0mobj\u001b[0m\u001b[1;33m.\u001b[0m\u001b[0mdtype\u001b[0m\u001b[1;33m,\u001b[0m \u001b[0mCategoricalDtype\u001b[0m\u001b[1;33m)\u001b[0m \u001b[1;32melse\u001b[0m \u001b[1;32mNone\u001b[0m\u001b[1;33m\u001b[0m\u001b[1;33m\u001b[0m\u001b[0m\n\u001b[1;32m-> 1507\u001b[1;33m         mapped = obj._map_values(\n\u001b[0m\u001b[0;32m   1508\u001b[0m             \u001b[0mmapper\u001b[0m\u001b[1;33m=\u001b[0m\u001b[0mcurried\u001b[0m\u001b[1;33m,\u001b[0m \u001b[0mna_action\u001b[0m\u001b[1;33m=\u001b[0m\u001b[0maction\u001b[0m\u001b[1;33m,\u001b[0m \u001b[0mconvert\u001b[0m\u001b[1;33m=\u001b[0m\u001b[0mself\u001b[0m\u001b[1;33m.\u001b[0m\u001b[0mconvert_dtype\u001b[0m\u001b[1;33m\u001b[0m\u001b[1;33m\u001b[0m\u001b[0m\n\u001b[0;32m   1509\u001b[0m         )\n\u001b[0;32m   1510\u001b[0m \u001b[1;33m\u001b[0m\u001b[0m\n",
      "\u001b[1;32mc:\\Users\\caboo\\AppData\\Local\\Programs\\Python\\Python311\\Lib\\site-packages\\pandas\\core\\base.py\u001b[0m in \u001b[0;36m?\u001b[1;34m(self, mapper, na_action, convert)\u001b[0m\n\u001b[0;32m    917\u001b[0m \u001b[1;33m\u001b[0m\u001b[0m\n\u001b[0;32m    918\u001b[0m         \u001b[1;32mif\u001b[0m \u001b[0misinstance\u001b[0m\u001b[1;33m(\u001b[0m\u001b[0marr\u001b[0m\u001b[1;33m,\u001b[0m \u001b[0mExtensionArray\u001b[0m\u001b[1;33m)\u001b[0m\u001b[1;33m:\u001b[0m\u001b[1;33m\u001b[0m\u001b[1;33m\u001b[0m\u001b[0m\n\u001b[0;32m    919\u001b[0m             \u001b[1;32mreturn\u001b[0m \u001b[0marr\u001b[0m\u001b[1;33m.\u001b[0m\u001b[0mmap\u001b[0m\u001b[1;33m(\u001b[0m\u001b[0mmapper\u001b[0m\u001b[1;33m,\u001b[0m \u001b[0mna_action\u001b[0m\u001b[1;33m=\u001b[0m\u001b[0mna_action\u001b[0m\u001b[1;33m)\u001b[0m\u001b[1;33m\u001b[0m\u001b[1;33m\u001b[0m\u001b[0m\n\u001b[0;32m    920\u001b[0m \u001b[1;33m\u001b[0m\u001b[0m\n\u001b[1;32m--> 921\u001b[1;33m         \u001b[1;32mreturn\u001b[0m \u001b[0malgorithms\u001b[0m\u001b[1;33m.\u001b[0m\u001b[0mmap_array\u001b[0m\u001b[1;33m(\u001b[0m\u001b[0marr\u001b[0m\u001b[1;33m,\u001b[0m \u001b[0mmapper\u001b[0m\u001b[1;33m,\u001b[0m \u001b[0mna_action\u001b[0m\u001b[1;33m=\u001b[0m\u001b[0mna_action\u001b[0m\u001b[1;33m,\u001b[0m \u001b[0mconvert\u001b[0m\u001b[1;33m=\u001b[0m\u001b[0mconvert\u001b[0m\u001b[1;33m)\u001b[0m\u001b[1;33m\u001b[0m\u001b[1;33m\u001b[0m\u001b[0m\n\u001b[0m",
      "\u001b[1;32mc:\\Users\\caboo\\AppData\\Local\\Programs\\Python\\Python311\\Lib\\site-packages\\pandas\\core\\algorithms.py\u001b[0m in \u001b[0;36m?\u001b[1;34m(arr, mapper, na_action, convert)\u001b[0m\n\u001b[0;32m   1739\u001b[0m \u001b[1;33m\u001b[0m\u001b[0m\n\u001b[0;32m   1740\u001b[0m     \u001b[1;31m# we must convert to python types\u001b[0m\u001b[1;33m\u001b[0m\u001b[1;33m\u001b[0m\u001b[0m\n\u001b[0;32m   1741\u001b[0m     \u001b[0mvalues\u001b[0m \u001b[1;33m=\u001b[0m \u001b[0marr\u001b[0m\u001b[1;33m.\u001b[0m\u001b[0mastype\u001b[0m\u001b[1;33m(\u001b[0m\u001b[0mobject\u001b[0m\u001b[1;33m,\u001b[0m \u001b[0mcopy\u001b[0m\u001b[1;33m=\u001b[0m\u001b[1;32mFalse\u001b[0m\u001b[1;33m)\u001b[0m\u001b[1;33m\u001b[0m\u001b[1;33m\u001b[0m\u001b[0m\n\u001b[0;32m   1742\u001b[0m     \u001b[1;32mif\u001b[0m \u001b[0mna_action\u001b[0m \u001b[1;32mis\u001b[0m \u001b[1;32mNone\u001b[0m\u001b[1;33m:\u001b[0m\u001b[1;33m\u001b[0m\u001b[1;33m\u001b[0m\u001b[0m\n\u001b[1;32m-> 1743\u001b[1;33m         \u001b[1;32mreturn\u001b[0m \u001b[0mlib\u001b[0m\u001b[1;33m.\u001b[0m\u001b[0mmap_infer\u001b[0m\u001b[1;33m(\u001b[0m\u001b[0mvalues\u001b[0m\u001b[1;33m,\u001b[0m \u001b[0mmapper\u001b[0m\u001b[1;33m,\u001b[0m \u001b[0mconvert\u001b[0m\u001b[1;33m=\u001b[0m\u001b[0mconvert\u001b[0m\u001b[1;33m)\u001b[0m\u001b[1;33m\u001b[0m\u001b[1;33m\u001b[0m\u001b[0m\n\u001b[0m\u001b[0;32m   1744\u001b[0m     \u001b[1;32melse\u001b[0m\u001b[1;33m:\u001b[0m\u001b[1;33m\u001b[0m\u001b[1;33m\u001b[0m\u001b[0m\n\u001b[0;32m   1745\u001b[0m         return lib.map_infer_mask(\n\u001b[0;32m   1746\u001b[0m             \u001b[0mvalues\u001b[0m\u001b[1;33m,\u001b[0m \u001b[0mmapper\u001b[0m\u001b[1;33m,\u001b[0m \u001b[0mmask\u001b[0m\u001b[1;33m=\u001b[0m\u001b[0misna\u001b[0m\u001b[1;33m(\u001b[0m\u001b[0mvalues\u001b[0m\u001b[1;33m)\u001b[0m\u001b[1;33m.\u001b[0m\u001b[0mview\u001b[0m\u001b[1;33m(\u001b[0m\u001b[0mnp\u001b[0m\u001b[1;33m.\u001b[0m\u001b[0muint8\u001b[0m\u001b[1;33m)\u001b[0m\u001b[1;33m,\u001b[0m \u001b[0mconvert\u001b[0m\u001b[1;33m=\u001b[0m\u001b[0mconvert\u001b[0m\u001b[1;33m\u001b[0m\u001b[1;33m\u001b[0m\u001b[0m\n",
      "\u001b[1;32mlib.pyx\u001b[0m in \u001b[0;36m?\u001b[1;34m()\u001b[0m\n\u001b[1;32m-> 2972\u001b[1;33m \u001b[1;34m'Could not get source, probably due dynamically evaluated source code.'\u001b[0m\u001b[1;33m\u001b[0m\u001b[1;33m\u001b[0m\u001b[0m\n\u001b[0m",
      "\u001b[1;32m~\\AppData\\Local\\Temp\\ipykernel_24748\\3497042641.py\u001b[0m in \u001b[0;36m?\u001b[1;34m(x)\u001b[0m\n\u001b[1;32m---> 13\u001b[1;33m \u001b[0mbank_df_train\u001b[0m\u001b[1;33m[\u001b[0m\u001b[1;34m'RsPercentile'\u001b[0m\u001b[1;33m]\u001b[0m \u001b[1;33m=\u001b[0m \u001b[0mbank_df_train\u001b[0m\u001b[1;33m[\u001b[0m\u001b[1;34m'LoanAmt'\u001b[0m\u001b[1;33m]\u001b[0m\u001b[1;33m.\u001b[0m\u001b[0mapply\u001b[0m\u001b[1;33m(\u001b[0m\u001b[1;32mlambda\u001b[0m \u001b[0mx\u001b[0m\u001b[1;33m:\u001b[0m \u001b[0mstats\u001b[0m\u001b[1;33m.\u001b[0m\u001b[0mpercentileofscore\u001b[0m\u001b[1;33m(\u001b[0m\u001b[0mbank_df_train\u001b[0m\u001b[1;33m[\u001b[0m\u001b[1;34m'CustomerSatisfaction'\u001b[0m\u001b[1;33m]\u001b[0m\u001b[1;33m,\u001b[0m \u001b[0mx\u001b[0m\u001b[1;33m)\u001b[0m\u001b[1;33m)\u001b[0m\u001b[1;33m\u001b[0m\u001b[1;33m\u001b[0m\u001b[0m\n\u001b[0m",
      "\u001b[1;32mc:\\Users\\caboo\\AppData\\Local\\Programs\\Python\\Python311\\Lib\\site-packages\\scipy\\stats\\_stats_py.py\u001b[0m in \u001b[0;36m?\u001b[1;34m(a, score, kind, nan_policy)\u001b[0m\n\u001b[0;32m   2428\u001b[0m \u001b[1;33m\u001b[0m\u001b[0m\n\u001b[0;32m   2429\u001b[0m             \u001b[1;31m# Main computations/logic\u001b[0m\u001b[1;33m\u001b[0m\u001b[1;33m\u001b[0m\u001b[0m\n\u001b[0;32m   2430\u001b[0m             \u001b[1;32mif\u001b[0m \u001b[0mkind\u001b[0m \u001b[1;33m==\u001b[0m \u001b[1;34m'rank'\u001b[0m\u001b[1;33m:\u001b[0m\u001b[1;33m\u001b[0m\u001b[1;33m\u001b[0m\u001b[0m\n\u001b[0;32m   2431\u001b[0m                 \u001b[0mleft\u001b[0m \u001b[1;33m=\u001b[0m \u001b[0mcount\u001b[0m\u001b[1;33m(\u001b[0m\u001b[0ma\u001b[0m \u001b[1;33m<\u001b[0m \u001b[0mscore\u001b[0m\u001b[1;33m)\u001b[0m\u001b[1;33m\u001b[0m\u001b[1;33m\u001b[0m\u001b[0m\n\u001b[1;32m-> 2432\u001b[1;33m                 \u001b[0mright\u001b[0m \u001b[1;33m=\u001b[0m \u001b[0mcount\u001b[0m\u001b[1;33m(\u001b[0m\u001b[0ma\u001b[0m \u001b[1;33m<=\u001b[0m \u001b[0mscore\u001b[0m\u001b[1;33m)\u001b[0m\u001b[1;33m\u001b[0m\u001b[1;33m\u001b[0m\u001b[0m\n\u001b[0m\u001b[0;32m   2433\u001b[0m                 \u001b[0mplus1\u001b[0m \u001b[1;33m=\u001b[0m \u001b[0mleft\u001b[0m \u001b[1;33m<\u001b[0m \u001b[0mright\u001b[0m\u001b[1;33m\u001b[0m\u001b[1;33m\u001b[0m\u001b[0m\n\u001b[0;32m   2434\u001b[0m                 \u001b[0mperct\u001b[0m \u001b[1;33m=\u001b[0m \u001b[1;33m(\u001b[0m\u001b[0mleft\u001b[0m \u001b[1;33m+\u001b[0m \u001b[0mright\u001b[0m \u001b[1;33m+\u001b[0m \u001b[0mplus1\u001b[0m\u001b[1;33m)\u001b[0m \u001b[1;33m*\u001b[0m \u001b[1;33m(\u001b[0m\u001b[1;36m50.0\u001b[0m \u001b[1;33m/\u001b[0m \u001b[0mn\u001b[0m\u001b[1;33m)\u001b[0m\u001b[1;33m\u001b[0m\u001b[1;33m\u001b[0m\u001b[0m\n\u001b[0;32m   2435\u001b[0m             \u001b[1;32melif\u001b[0m \u001b[0mkind\u001b[0m \u001b[1;33m==\u001b[0m \u001b[1;34m'strict'\u001b[0m\u001b[1;33m:\u001b[0m\u001b[1;33m\u001b[0m\u001b[1;33m\u001b[0m\u001b[0m\n",
      "\u001b[1;32mc:\\Users\\caboo\\AppData\\Local\\Programs\\Python\\Python311\\Lib\\site-packages\\scipy\\stats\\_stats_py.py\u001b[0m in \u001b[0;36m?\u001b[1;34m(x)\u001b[0m\n\u001b[1;32m-> 2416\u001b[1;33m         \u001b[1;32mdef\u001b[0m \u001b[0mcount\u001b[0m\u001b[1;33m(\u001b[0m\u001b[0mx\u001b[0m\u001b[1;33m)\u001b[0m\u001b[1;33m:\u001b[0m\u001b[1;33m\u001b[0m\u001b[1;33m\u001b[0m\u001b[0m\n\u001b[0m\u001b[0;32m   2417\u001b[0m             \u001b[1;32mreturn\u001b[0m \u001b[0mnp\u001b[0m\u001b[1;33m.\u001b[0m\u001b[0mcount_nonzero\u001b[0m\u001b[1;33m(\u001b[0m\u001b[0mx\u001b[0m\u001b[1;33m,\u001b[0m \u001b[1;33m-\u001b[0m\u001b[1;36m1\u001b[0m\u001b[1;33m)\u001b[0m\u001b[1;33m\u001b[0m\u001b[1;33m\u001b[0m\u001b[0m\n",
      "\u001b[1;31mKeyboardInterrupt\u001b[0m: "
     ]
    }
   ],
   "source": [
    "happiness_benchmark = 50\n",
    "\n",
    "# bank_df_train['Happiness'] = bank_df_train.apply(lambda row: 1 if row['CustomerSatisfaction'] + \\\n",
    "#                                                                   row['FeatureSatisfaction'] + \\\n",
    "#                                                                   row['SupportSatisfaction'] + \\\n",
    "#                                                                   row['NPS'] + \\\n",
    "#                                                                   row['Tenure'] >= happiness_benchmark else \\\n",
    "#                                                                   0, axis=1)\n",
    "\n",
    "\n",
    "# need to delete Custpercentile, RsPercentile and ResponsePercentile later\n",
    "bank_df_train['CustPercentile'] = bank_df_train['CustomerSatisfaction'].apply(lambda x: stats.percentileofscore(bank_df_train['CustomerSatisfaction'], x))\n",
    "bank_df_train['RsPercentile'] = bank_df_train['LoanAmt'].apply(lambda x: stats.percentileofscore(bank_df_train['CustomerSatisfaction'], x))\n",
    "\n",
    "bank_df_test['CustPercentile'] = bank_df_test['CustomerSatisfaction'].apply(lambda x: stats.percentileofscore(bank_df_test['CustomerSatisfaction'], x))\n",
    "bank_df_test['RsPercentile'] = bank_df_test['LoanAmt'].apply(lambda x: stats.percentileofscore(bank_df_test['CustomerSatisfaction'], x))\n",
    "\n",
    "# print(bank_df_train['CustPercentile'].head(10))\n",
    "bank_df_train['Happiness'] = bank_df_train.apply(lambda row: 1 if (row['CustPercentile'] > happiness_benchmark and \\\n",
    "                                                                   row['RsPercentile'] > happiness_benchmark ) else 0, axis=1)\n",
    "bank_df_train.drop(columns=['CustPercentile', 'RsPercentile'], inplace=True)\n",
    "\n",
    "bank_df_test['Happiness'] = bank_df_test.apply(lambda row: 1 if (row['CustPercentile'] > happiness_benchmark and \\\n",
    "                                                                   row['RsPercentile'] > happiness_benchmark ) else 0, axis=1)\n",
    "bank_df_test.drop(columns=['CustPercentile', 'RsPercentile'], inplace=True)\n",
    "\n",
    "# print(bank_df_train['Happiness'].head(10))\n",
    "# print(\"percentage happy =\", (bank_df_train['Happiness'] == 1).mean() * 100)\n",
    "print(bank_df_test['Happiness'].head(10))\n",
    "print(\"percentage happy =\", (bank_df_test['Happiness'] == 1).mean() * 100)"
   ]
  },
  {
   "cell_type": "markdown",
   "metadata": {},
   "source": [
    "### 40.Price Sensitivity %\n",
    "26. marketing offers accepted %\n",
    "35. change in behaviour %\n",
    "\n",
    "Mkting Offers Accepted\n",
    "Change in behavior before n after for mkting offer \n"
   ]
  },
  {
   "cell_type": "code",
   "execution_count": null,
   "metadata": {},
   "outputs": [],
   "source": [
    "# MarketingOffersAcceptance_df = bank_df_train['MarketingOffersAcceptance'].apply(lambda x: stats.percentileofscore(bank_df_train['MarketingOffersAcceptance'], x))\n",
    "# ChangeInBehaviourMkt_df = bank_df_train['ChangeInBehaviourMkt'].apply(lambda x: stats.percentileofscore(bank_df_train['ChangeInBehaviourMkt'], x))\n",
    "\n",
    "# MarketingOffersAcceptance_df_2 = bank_df_test['MarketingOffersAcceptance'].apply(lambda x: stats.percentileofscore(bank_df_test['MarketingOffersAcceptance'], x))\n",
    "# ChangeInBehaviourMkt_df_2 = bank_df_test['ChangeInBehaviourMkt'].apply(lambda x: stats.percentileofscore(bank_df_test['ChangeInBehaviourMkt'], x))\n",
    "# # print(MarketingOffersAcceptance_df.head())\n",
    "# # print(ChangeInBehaviourMkt_df.head())\n",
    "# bank_df_train['PriceSensitivity'] = (MarketingOffersAcceptance_df + ChangeInBehaviourMkt_df) / 2\n",
    "# bank_df_test['PriceSensitivity'] = (MarketingOffersAcceptance_df_2 + ChangeInBehaviourMkt_df_2) / 2\n",
    "\n",
    "# print(bank_df_train['PriceSensitivity'].head(20))"
   ]
  },
  {
   "cell_type": "code",
   "execution_count": null,
   "metadata": {},
   "outputs": [],
   "source": [
    "bank_df_train['Savings Savant'] = ((bank_df_train['MarketingOffersAcceptance'].rank(pct=True)*100).astype(int)+(bank_df_train['ChangeInBehaviourMkt'].rank(pct=True)*100).astype(int))/2\n",
    "bank_df_test['Savings Savant'] = ((bank_df_test['MarketingOffersAcceptance'].rank(pct=True)*100).astype(int)+(bank_df_test['ChangeInBehaviourMkt'].rank(pct=True)*100).astype(int))/2"
   ]
  },
  {
   "cell_type": "markdown",
   "metadata": {},
   "source": [
    "### 41.Feature Driven % \n",
    "28. Customer satisfaction survey 0-5\n",
    "6. num products 1-4\n",
    "29. Feature Satisfaction 0-5\n",
    "\n",
    "Number of products last 1 year\n",
    "Feature Satisfaction Column (0 to 1)\n",
    "Feature Support freq\n"
   ]
  },
  {
   "cell_type": "code",
   "execution_count": null,
   "metadata": {},
   "outputs": [],
   "source": [
    "# print(bank_df_train['NumOfProducts'].max())\n",
    "# print(bank_df_train['NumOfProducts'].min())\n",
    "\n",
    "# feature_driven = bank_df_train['CustomerSatisfaction'] + bank_df_train['NumOfProducts'] + bank_df_train['FeatureSatisfaction']\n",
    "# percentiles = np.percentile(feature_driven, [0, 25, 50, 75, 100]) \n",
    "\n",
    "# def assign_percentile(metric):\n",
    "#     if metric <= percentiles[1]:\n",
    "#         return ((metric / percentiles[1]) * 25)\n",
    "#     elif metric <= percentiles[2]:\n",
    "#         return (25 + ((metric - percentiles[1]) / (percentiles[2] - percentiles[1])) * 25)\n",
    "#     elif metric <= percentiles[3]:\n",
    "#         return (50 + ((metric - percentiles[2]) / (percentiles[3] - percentiles[2])) * 25)\n",
    "#     else:\n",
    "#         return (75 + ((metric - percentiles[3]) / (percentiles[4] - percentiles[3])) * 25)\n",
    "        \n",
    "# bank_df_train['FeatureSensitivity'] = feature_driven.apply(assign_percentile)\n",
    "# bank_df_train['FeatureSensitivity'] = bank_df_train['FeatureSensitivity'].replace(np.NaN, 0, regex=True)\n",
    "\n",
    "# CustomerSatisfaction_df = bank_df_train['CustomerSatisfaction'].apply(lambda x: stats.percentileofscore(bank_df_train['CustomerSatisfaction'], x))\n",
    "# NumOfProducts_df = bank_df_train['NumOfProducts'].apply(lambda x: stats.percentileofscore(bank_df_train['NumOfProducts'], x))\n",
    "# FeatureSatisfaction_df = bank_df_train['FeatureSatisfaction'].apply(lambda x: stats.percentileofscore(bank_df_train['FeatureSatisfaction'], x))\n",
    "# FeatureSupportFrequency_df = bank_df_train['FeatureSupportFrequency'].apply(lambda x: stats.percentileofscore(bank_df_train['FeatureSatisfaction'], x))\n",
    "\n",
    "# CustomerSatisfaction_df_2 = bank_df_test['CustomerSatisfaction'].apply(lambda x: stats.percentileofscore(bank_df_test['CustomerSatisfaction'], x))\n",
    "# NumOfProducts_df_2 = bank_df_test['NumOfProducts'].apply(lambda x: stats.percentileofscore(bank_df_test['NumOfProducts'], x))\n",
    "# FeatureSatisfaction_df_2 = bank_df_test['FeatureSatisfaction'].apply(lambda x: stats.percentileofscore(bank_df_test['FeatureSatisfaction'], x))\n",
    "# FeatureSupportFrequency_df_2 = bank_df_test['FeatureSupportFrequency'].apply(lambda x: stats.percentileofscore(bank_df_test['FeatureSatisfaction'], x))\n",
    "\n",
    "# bank_df_train['FeatureSensitivity'] = (CustomerSatisfaction_df + NumOfProducts_df + FeatureSatisfaction_df + FeatureSupportFrequency_df) / 4\n",
    "# bank_df_test['FeatureSensitivity'] = (CustomerSatisfaction_df_2 + NumOfProducts_df_2 + FeatureSatisfaction_df_2 + FeatureSupportFrequency_df_2) / 4\n",
    "\n",
    "# print(bank_df_train['FeatureSensitivity'].head(20))"
   ]
  },
  {
   "cell_type": "code",
   "execution_count": null,
   "metadata": {},
   "outputs": [],
   "source": [
    "bank_df_train['Digital Dynamos'] = ((bank_df_train['CustomerSatisfaction'].rank(pct=True)*100).astype(int)+(bank_df_train['NumOfProducts'].rank(pct=True)*100).astype(int)+(bank_df_train['FeatureSatisfaction'].rank(pct=True)*100).astype(int)+(bank_df_train['FeatureSupportFrequency'].rank(pct=True)*100).astype(int))/4\n",
    "bank_df_test['Digital Dynamos'] = ((bank_df_test['CustomerSatisfaction'].rank(pct=True)*100).astype(int)+(bank_df_test['NumOfProducts'].rank(pct=True)*100).astype(int)+(bank_df_test['FeatureSatisfaction'].rank(pct=True)*100).astype(int)+(bank_df_test['FeatureSupportFrequency'].rank(pct=True)*100).astype(int))/4\n"
   ]
  },
  {
   "cell_type": "markdown",
   "metadata": {},
   "source": [
    "### 42.Service Dependent % \n",
    "31. service support freq per month number\n",
    "39. Customer Happiness Status binary\n",
    "36. Change in behavior before n after for Support %\n",
    "\n",
    "CALL Support frequency\n",
    "Support Satisfaction Column (0 to 1)\n",
    "Change in behavior before n after support"
   ]
  },
  {
   "cell_type": "code",
   "execution_count": null,
   "metadata": {},
   "outputs": [],
   "source": [
    "# print(bank_df_train['ServiceSupportFrequency'])\n",
    "# CallSupportFrequency_df = bank_df_train['CallSupportFrequency'].apply(lambda x: stats.percentileofscore(bank_df_train['CallSupportFrequency'], x))\n",
    "# ServiceSupportFrequency_df = bank_df_train['ServiceSupportFrequency'].apply(lambda x: stats.percentileofscore(bank_df_train['ServiceSupportFrequency'], x))\n",
    "# SupportSatisfaction_df = bank_df_train['SupportSatisfaction'].apply(lambda x: stats.percentileofscore(bank_df_train['SupportSatisfaction'], x))\n",
    "# ChanegInBehaviourCust_df = bank_df_train['ChanegInBehaviourCust'].apply(lambda x: stats.percentileofscore(bank_df_train['ChanegInBehaviourCust'], x))\n",
    "\n",
    "# ServiceSupportFrequency_df_2 = bank_df_test['ServiceSupportFrequency'].apply(lambda x: stats.percentileofscore(bank_df_test['ServiceSupportFrequency'], x))\n",
    "# SupportSatisfaction_df_2 = bank_df_test['SupportSatisfaction'].apply(lambda x: stats.percentileofscore(bank_df_test['SupportSatisfaction'], x))\n",
    "# ChanegInBehaviourCust_df_2 = bank_df_test['ChanegInBehaviourCust'].apply(lambda x: stats.percentileofscore(bank_df_test['ChanegInBehaviourCust'], x))\n",
    "\n",
    "# bank_df_train['ServiceSensitivity'] = (ServiceSupportFrequency_df + SupportSatisfaction_df + ChanegInBehaviourCust_df) / 3\n",
    "# bank_df_test['ServiceSensitivity'] = (ServiceSupportFrequency_df_2 + SupportSatisfaction_df_2 + ChanegInBehaviourCust_df_2) / 3\n",
    "\n",
    "# print(bank_df_train['ServiceSensitivity'].head())"
   ]
  },
  {
   "cell_type": "code",
   "execution_count": null,
   "metadata": {},
   "outputs": [
    {
     "name": "stdout",
     "output_type": "stream",
     "text": [
      "0   88.666667\n",
      "1   23.000000\n",
      "2   55.000000\n",
      "3   59.333333\n",
      "4   57.333333\n",
      "Name: Trustee Tribe, dtype: float64\n"
     ]
    }
   ],
   "source": [
    "bank_df_train['Trustee Tribe'] = ((bank_df_train['ServiceSupportFrequency'].rank(pct=True)*100).astype(int)+(bank_df_train['SupportSatisfaction'].rank(pct=True)*100).astype(int)+(bank_df_train['ChangeInBehaviourCust'].rank(pct=True)*100).astype(int))/3\n",
    "bank_df_test['Trustee Tribe'] = ((bank_df_test['ServiceSupportFrequency'].rank(pct=True)*100).astype(int)+(bank_df_test['SupportSatisfaction'].rank(pct=True)*100).astype(int)+(bank_df_test['ChangeInBehaviourCust'].rank(pct=True)*100).astype(int))/3\n",
    "print(bank_df_train['Trustee Tribe'].head())"
   ]
  },
  {
   "cell_type": "markdown",
   "metadata": {},
   "source": [
    "### 43.Customer Personas "
   ]
  },
  {
   "cell_type": "code",
   "execution_count": null,
   "metadata": {},
   "outputs": [
    {
     "name": "stdout",
     "output_type": "stream",
     "text": [
      "        Savings Savant  Digital Dynamos  Trustee Tribe\n",
      "0            64.500000        57.000000      88.666667\n",
      "1            55.500000        48.250000      23.000000\n",
      "2            15.000000        58.500000      55.000000\n",
      "3            44.000000        35.250000      59.333333\n",
      "4            39.000000        57.500000      57.333333\n",
      "...                ...              ...            ...\n",
      "165029       79.500000        57.750000      66.333333\n",
      "165030       21.000000        24.000000      75.000000\n",
      "165031       89.000000        51.000000      47.666667\n",
      "165032       77.000000        37.750000      64.666667\n",
      "165033       43.500000        48.750000      17.666667\n",
      "\n",
      "[165034 rows x 3 columns]\n"
     ]
    }
   ],
   "source": [
    "print(bank_df_train[['Savings Savant', 'Digital Dynamos', 'Trustee Tribe']])"
   ]
  },
  {
   "cell_type": "code",
   "execution_count": null,
   "metadata": {},
   "outputs": [
    {
     "name": "stdout",
     "output_type": "stream",
     "text": [
      "      FirstPersona    SecondPersona ThirdPersona\n",
      "0    Trustee Tribe              NaN          NaN\n",
      "1   Savings Savant  Digital Dynamos          NaN\n",
      "2  Digital Dynamos    Trustee Tribe          NaN\n",
      "3    Trustee Tribe              NaN          NaN\n",
      "4  Digital Dynamos    Trustee Tribe          NaN\n",
      "5  Digital Dynamos              NaN          NaN\n",
      "6   Savings Savant    Trustee Tribe          NaN\n",
      "7    Trustee Tribe              NaN          NaN\n",
      "8  Digital Dynamos              NaN          NaN\n",
      "9  Digital Dynamos              NaN          NaN\n",
      "       FirstPersona    SecondPersona     ThirdPersona\n",
      "0     Trustee Tribe   Savings Savant              NaN\n",
      "1     Trustee Tribe   Savings Savant              NaN\n",
      "2   Digital Dynamos              NaN              NaN\n",
      "3    Savings Savant              NaN              NaN\n",
      "4     Trustee Tribe  Digital Dynamos              NaN\n",
      "5   Digital Dynamos   Savings Savant              NaN\n",
      "6   Digital Dynamos   Savings Savant    Trustee Tribe\n",
      "7    Savings Savant    Trustee Tribe              NaN\n",
      "8   Digital Dynamos    Trustee Tribe              NaN\n",
      "9   Digital Dynamos              NaN              NaN\n",
      "10  Digital Dynamos   Savings Savant    Trustee Tribe\n",
      "11   Savings Savant    Trustee Tribe              NaN\n",
      "12  Digital Dynamos              NaN              NaN\n",
      "13   Savings Savant              NaN              NaN\n",
      "14   Savings Savant    Trustee Tribe  Digital Dynamos\n",
      "15    Trustee Tribe              NaN              NaN\n",
      "16    Trustee Tribe              NaN              NaN\n",
      "17   Savings Savant              NaN              NaN\n",
      "18   Savings Savant              NaN              NaN\n",
      "19  Digital Dynamos              NaN              NaN\n"
     ]
    }
   ],
   "source": [
    "import warnings\n",
    "warnings.simplefilter(action='ignore', category=FutureWarning)\n",
    "# Restore default warning behavior after your code\n",
    "# warnings.simplefilter(action='default', category=FutureWarning)\n",
    "\n",
    "persona_df = bank_df_train[['Savings Savant', 'Digital Dynamos', 'Trustee Tribe']]\n",
    "largest_values = persona_df.max(axis=1)\n",
    "smallest_values = persona_df.min(axis=1)\n",
    "\n",
    "sum_values = persona_df.sum(axis=1)\n",
    "second_largest_values = sum_values - largest_values - smallest_values\n",
    "first_diff = largest_values - second_largest_values\n",
    "second_diff = largest_values - smallest_values\n",
    "\n",
    "def get_columns(row):\n",
    "    sorted_indices = np.argsort(row)[::-1]  \n",
    "    largest_index = sorted_indices[0]  \n",
    "    second_largest_index = sorted_indices[1] \n",
    "    smallest_index = sorted_indices[-1] \n",
    "    return (persona_df.columns[largest_index], persona_df.columns[second_largest_index], persona_df.columns[smallest_index])\n",
    "\n",
    "columns_tuple = persona_df.apply(get_columns, axis=1)\n",
    "bank_df_train[['FirstPersona', 'SecondPersona', 'ThirdPersona']] = pd.DataFrame(columns_tuple.tolist(), index=persona_df.index)\n",
    "bank_df_train.loc[first_diff > 10, ['SecondPersona', 'ThirdPersona']] = np.nan\n",
    "bank_df_train.loc[second_diff > 10, ['ThirdPersona']] = np.nan\n",
    "\n",
    "print(bank_df_train[['FirstPersona', 'SecondPersona', 'ThirdPersona']].head(10))\n",
    "\n",
    "persona_df_2 = bank_df_test[['Savings Savant', 'Digital Dynamos', 'Trustee Tribe']]\n",
    "largest_values_2 = persona_df_2.max(axis=1)\n",
    "smallest_values_2 = persona_df_2.min(axis=1)\n",
    "\n",
    "sum_values_2 = persona_df_2.sum(axis=1)\n",
    "second_largest_values_2 = sum_values_2 - largest_values_2 - smallest_values_2\n",
    "first_diff_2 = largest_values_2 - second_largest_values_2\n",
    "second_diff_2 = largest_values_2 - smallest_values_2\n",
    "\n",
    "columns_tuple_2 = persona_df_2.apply(get_columns, axis=1)\n",
    "bank_df_test[['FirstPersona', 'SecondPersona', 'ThirdPersona']] = pd.DataFrame(columns_tuple_2.tolist()).reset_index(drop=True)\n",
    "\n",
    "bank_df_test.loc[first_diff_2 > 10, ['SecondPersona', 'ThirdPersona']] = np.nan\n",
    "bank_df_test.loc[second_diff_2 > 10, ['ThirdPersona']] = np.nan\n",
    "\n",
    "print(bank_df_test[['FirstPersona', 'SecondPersona', 'ThirdPersona']].head(20))\n",
    "# print(persona_df_2.head(10))\n"
   ]
  },
  {
   "cell_type": "code",
   "execution_count": null,
   "metadata": {},
   "outputs": [
    {
     "name": "stdout",
     "output_type": "stream",
     "text": [
      "        Savings Savant  Digital Dynamos  Trustee Tribe\n",
      "0            30.689929        27.121332      42.188739\n",
      "1            43.786982        38.067061      18.145957\n",
      "2            11.673152        45.525292      42.801556\n",
      "3            31.749850        25.435959      42.814191\n",
      "4            25.352113        37.378115      37.269772\n",
      "...                ...              ...            ...\n",
      "165029       39.050348        28.366762      32.582890\n",
      "165030       17.500000        20.000000      62.500000\n",
      "165031       47.424512        27.175844      25.399645\n",
      "165032       42.916860        21.040409      36.042731\n",
      "165033       39.575436        44.351782      16.072782\n",
      "\n",
      "[165034 rows x 3 columns]\n"
     ]
    }
   ],
   "source": [
    "columns_to_normalize = ['Savings Savant', 'Digital Dynamos', 'Trustee Tribe']\n",
    "\n",
    "bank_df_train[columns_to_normalize] = bank_df_train[columns_to_normalize].div(bank_df_train[columns_to_normalize].sum(axis=1), axis=0) * 100\n",
    "# bank_df_train['CustomerPersona'] = bank_df_train[columns_to_normalize].idxmax(axis=1)\n",
    "\n",
    "bank_df_test[columns_to_normalize] = bank_df_test[columns_to_normalize].div(bank_df_test[columns_to_normalize].sum(axis=1), axis=0) * 100\n",
    "# bank_df_test['CustomerPersona'] = bank_df_test[columns_to_normalize].idxmax(axis=1)\n",
    "\n",
    "print(bank_df_train[['Savings Savant', 'Digital Dynamos', 'Trustee Tribe']])"
   ]
  },
  {
   "cell_type": "markdown",
   "metadata": {},
   "source": [
    "### 44. Social Influencer"
   ]
  },
  {
   "cell_type": "code",
   "execution_count": null,
   "metadata": {},
   "outputs": [
    {
     "name": "stdout",
     "output_type": "stream",
     "text": [
      "0    0\n",
      "1    1\n",
      "2    1\n",
      "3    1\n",
      "4    1\n",
      "5    0\n",
      "6    0\n",
      "7    0\n",
      "8    1\n",
      "9    0\n",
      "Name: SocialInfluencer, dtype: int64\n",
      "percentage social influencer = 52.162584679520585\n"
     ]
    },
    {
     "data": {
      "image/png": "[encoded data removed]",
      "text/plain": [
       "<Figure size 640x480 with 1 Axes>"
      ]
     },
     "metadata": {},
     "output_type": "display_data"
    }
   ],
   "source": [
    "social_benchmark = 84.1\n",
    "\n",
    "bank_df_train['SocialInfluencer'] = bank_df_train['NPS'].apply(lambda x: stats.percentileofscore(bank_df_train['NPS'], x))\n",
    "bank_df_train['SocialInfluencer'] = bank_df_train.apply(lambda row: 1 if (row['SocialInfluencer'] > happiness_benchmark) else 0, axis=1)\n",
    "\n",
    "bank_df_test['SocialInfluencer'] = bank_df_test['NPS'].apply(lambda x: stats.percentileofscore(bank_df_test['NPS'], x))\n",
    "bank_df_test['SocialInfluencer'] = bank_df_test.apply(lambda row: 1 if (row['SocialInfluencer'] > happiness_benchmark) else 0, axis=1)\n",
    "\n",
    "print(bank_df_train['SocialInfluencer'].head(10))\n",
    "print(\"percentage social influencer =\", (bank_df_train['SocialInfluencer'] == 1).mean() * 100)\n",
    "\n",
    "\n",
    "plt.hist(bank_df_train['NPS'], bins=10, edgecolor='black')\n",
    "plt.xlabel('NPS')\n",
    "plt.ylabel('Frequency')\n",
    "plt.title('Distribution of NPS')\n",
    "plt.show()"
   ]
  },
  {
   "cell_type": "markdown",
   "metadata": {},
   "source": [
    "### 45. Combined Personas column"
   ]
  },
  {
   "cell_type": "code",
   "execution_count": null,
   "metadata": {},
   "outputs": [
    {
     "name": "stdout",
     "output_type": "stream",
     "text": [
      "0                 Trustee Tribe\n",
      "1             Frugal Innovators\n",
      "2               Premium Patrons\n",
      "3                 Trustee Tribe\n",
      "4               Premium Patrons\n",
      "5               Digital Dynamos\n",
      "6    Cost-Conscious Careseekers\n",
      "7                 Trustee Tribe\n",
      "8               Digital Dynamos\n",
      "9               Digital Dynamos\n",
      "Name: CombinedPersonas, dtype: object\n"
     ]
    }
   ],
   "source": [
    "# bank_df_train['CombinedPersonas'] = bank_df_train[['FirstPersona', 'SecondPersona', 'ThirdPersona']].apply(lambda row: ', '.join(row.dropna().astype(str)), axis=1)\n",
    "# bank_df_test['CombinedPersonas'] = bank_df_test[['FirstPersona', 'SecondPersona', 'ThirdPersona']].apply(lambda row: ', '.join(row.dropna().astype(str)), axis=1)\n",
    "def combine_personas(row):\n",
    "    if ('Savings Savant' in row.values) and ('Digital Dynamos' in row.values) and ('Trustee Tribe' in row.values):\n",
    "        return 'Triple Advantage Allies'\n",
    "    elif ('Savings Savant' in row.values) and ('Digital Dynamos' in row.values):\n",
    "        return 'Frugal Innovators'\n",
    "    elif ('Savings Savant' in row.values) and ('Trustee Tribe' in row.values):\n",
    "        return 'Cost-Conscious Careseekers'\n",
    "    elif ('Digital Dynamos' in row.values) and ('Trustee Tribe' in row.values):\n",
    "        return 'Premium Patrons'\n",
    "    elif 'Savings Savant' in row.values:\n",
    "        return 'Savings Savant'\n",
    "    elif 'Digital Dynamos' in row.values:\n",
    "        return 'Digital Dynamos'\n",
    "    elif 'Trustee Tribe' in row.values:\n",
    "        return 'Trustee Tribe'\n",
    "bank_df_train['CombinedPersonas'] = bank_df_train[['FirstPersona', 'SecondPersona', 'ThirdPersona']].apply(combine_personas, axis=1)\n",
    "print(bank_df_train['CombinedPersonas'].head(10))"
   ]
  },
  {
   "cell_type": "markdown",
   "metadata": {},
   "source": []
  },
  {
   "cell_type": "markdown",
   "metadata": {},
   "source": [
    "# Removing useless columns"
   ]
  },
  {
   "cell_type": "code",
   "execution_count": null,
   "metadata": {},
   "outputs": [],
   "source": [
    "# print(bank_df_train.dtypes)\n",
    "useless_cols = ['id', 'Surname', 'Geography', 'Exited', 'IsActiveMember', 'CreditScore', 'HasCrCard', 'CreditUtilization']\n",
    "useless_cols_2 = ['id', 'CustomerId', 'Surname', 'Geography', 'IsActiveMember', 'CreditScore', 'HasCrCard', 'CreditUtilization']\n",
    "# to_one_hot_encode_cols = ['Gender', 'Education', 'Employment Status', 'Marital Status', 'Housing Status', 'PaymentMethod', 'IncomeSource', 'PrevLifecycle', 'CurrLifecycle', 'CustomerPersona']\n",
    "\n",
    "bank_df_train.drop(columns=useless_cols, inplace=True)\n",
    "bank_df_test.drop(columns=useless_cols_2, inplace=True)\n",
    "# bank_df_train = pd.get_dummies(bank_df_train, columns=to_one_hot_encode_cols)\n",
    "\n"
   ]
  },
  {
   "cell_type": "code",
   "execution_count": null,
   "metadata": {},
   "outputs": [
    {
     "name": "stdout",
     "output_type": "stream",
     "text": [
      "CustomerId                            int64\n",
      "Gender                               object\n",
      "Age                                   int32\n",
      "Tenure                                int32\n",
      "Balance                             float64\n",
      "NumOfProducts                         int64\n",
      "EstimatedSalary                     float64\n",
      "ChurnDate                    datetime64[ns]\n",
      "MonthsInactive                        int64\n",
      "TransactionFreq                       int32\n",
      "TransactionAmt                      float64\n",
      "ServiceSupportFrequency               int32\n",
      "NPS                                 float64\n",
      "Education                            object\n",
      "EmploymentStatus                     object\n",
      "MaritalStatus                        object\n",
      "HousingStatus                        object\n",
      "Dependents                            int32\n",
      "MarketingOffersAcceptance           float64\n",
      "PaymentMethod                        object\n",
      "CustomerSatisfaction                  int32\n",
      "FeatureSatisfaction                   int32\n",
      "SupportSatisfaction                   int32\n",
      "FeatureSupportFrequency               int32\n",
      "LoanAmt                             float64\n",
      "IncomeSource                         object\n",
      "Retention                           float64\n",
      "ChangeInBehaviourMkt                float64\n",
      "ChangeInBehaviourCust               float64\n",
      "PrevLifecycle                        object\n",
      "CurrLifecycle                        object\n",
      "Happiness                             int64\n",
      "Savings Savant                      float64\n",
      "Digital Dynamos                     float64\n",
      "Trustee Tribe                       float64\n",
      "FirstPersona                         object\n",
      "SecondPersona                        object\n",
      "ThirdPersona                         object\n",
      "SocialInfluencer                      int64\n",
      "CombinedPersonas                     object\n",
      "dtype: object\n",
      "   CustomerId  Gender  Age  Tenure       Balance  NumOfProducts  \\\n",
      "0           1    Male   33       6 133877.387693              2   \n",
      "1           2    Male   33       1 124654.362135              2   \n",
      "2           3    Male   40      19 152137.330246              2   \n",
      "3           4    Male   34       3 148882.540000              1   \n",
      "4           5    Male   33       9 118487.514477              2   \n",
      "5           6    Male   36       8 131778.580000              1   \n",
      "6           7  Female   30      14 144772.690000              1   \n",
      "7           8    Male   37       1 138476.410000              1   \n",
      "8           9    Male   43       7 121692.193074              2   \n",
      "9          10    Male   40       7  81274.330000              1   \n",
      "\n",
      "   EstimatedSalary  ChurnDate  MonthsInactive  TransactionFreq  ...  \\\n",
      "0    181449.970000        NaT               1                0  ...   \n",
      "1     49503.500000        NaT               0                6  ...   \n",
      "2    184866.690000        NaT               2                0  ...   \n",
      "3     84560.880000        NaT               0               31  ...   \n",
      "4     15068.830000        NaT               0               40  ...   \n",
      "5    136024.310000 2024-01-22               2                0  ...   \n",
      "6     29792.110000        NaT               2                0  ...   \n",
      "7    106851.600000        NaT               1                0  ...   \n",
      "8    142917.130000        NaT               1                0  ...   \n",
      "9    170843.070000        NaT               0               30  ...   \n",
      "\n",
      "   CurrLifecycle  Happiness  Savings Savant Digital Dynamos Trustee Tribe  \\\n",
      "0        Dormant          1       30.689929       27.121332     42.188739   \n",
      "1         Active          0       43.786982       38.067061     18.145957   \n",
      "2        Dormant          0       11.673152       45.525292     42.801556   \n",
      "3         Active          0       31.749850       25.435959     42.814191   \n",
      "4         Active          1       25.352113       37.378115     37.269772   \n",
      "5        Churned          1       23.389831       48.813559     27.796610   \n",
      "6        Dormant          0       40.889319       18.704688     40.405993   \n",
      "7        Dormant          1       19.790105       30.134933     50.074963   \n",
      "8        Dormant          0       10.389610       55.324675     34.285714   \n",
      "9         Active          0       10.588235       53.445378     35.966387   \n",
      "\n",
      "      FirstPersona    SecondPersona  ThirdPersona  SocialInfluencer  \\\n",
      "0    Trustee Tribe              NaN           NaN                 0   \n",
      "1   Savings Savant  Digital Dynamos           NaN                 1   \n",
      "2  Digital Dynamos    Trustee Tribe           NaN                 1   \n",
      "3    Trustee Tribe              NaN           NaN                 1   \n",
      "4  Digital Dynamos    Trustee Tribe           NaN                 1   \n",
      "5  Digital Dynamos              NaN           NaN                 0   \n",
      "6   Savings Savant    Trustee Tribe           NaN                 0   \n",
      "7    Trustee Tribe              NaN           NaN                 0   \n",
      "8  Digital Dynamos              NaN           NaN                 1   \n",
      "9  Digital Dynamos              NaN           NaN                 0   \n",
      "\n",
      "             CombinedPersonas  \n",
      "0               Trustee Tribe  \n",
      "1           Frugal Innovators  \n",
      "2             Premium Patrons  \n",
      "3               Trustee Tribe  \n",
      "4             Premium Patrons  \n",
      "5             Digital Dynamos  \n",
      "6  Cost-Conscious Careseekers  \n",
      "7               Trustee Tribe  \n",
      "8             Digital Dynamos  \n",
      "9             Digital Dynamos  \n",
      "\n",
      "[10 rows x 40 columns]\n",
      "      FirstPersona    SecondPersona   ThirdPersona  Happiness  \\\n",
      "0    Trustee Tribe   Savings Savant            NaN          0   \n",
      "1    Trustee Tribe   Savings Savant            NaN          1   \n",
      "2  Digital Dynamos              NaN            NaN          1   \n",
      "3   Savings Savant              NaN            NaN          0   \n",
      "4    Trustee Tribe  Digital Dynamos            NaN          0   \n",
      "5  Digital Dynamos   Savings Savant            NaN          1   \n",
      "6  Digital Dynamos   Savings Savant  Trustee Tribe          0   \n",
      "7   Savings Savant    Trustee Tribe            NaN          0   \n",
      "8  Digital Dynamos    Trustee Tribe            NaN          0   \n",
      "9  Digital Dynamos              NaN            NaN          0   \n",
      "\n",
      "   SocialInfluencer  \n",
      "0                 1  \n",
      "1                 1  \n",
      "2                 1  \n",
      "3                 0  \n",
      "4                 0  \n",
      "5                 1  \n",
      "6                 1  \n",
      "7                 0  \n",
      "8                 1  \n",
      "9                 1  \n"
     ]
    }
   ],
   "source": [
    "# reference_date = bank_df_train['ChurnDate'].min()\n",
    "# bank_df_train['ChurnDate_Numeric'] = (bank_df_train['ChurnDate'] - reference_date).dt.days\n",
    "# bank_df_train['ChurnDate_Numeric'] = pd.to_numeric(bank_df_train['ChurnDate'])\n",
    "\n",
    "\n",
    "print(bank_df_train.dtypes)\n",
    "print(bank_df_train.head(10))\n",
    "print(bank_df_test[['FirstPersona', 'SecondPersona', 'ThirdPersona', 'Happiness', 'SocialInfluencer']].head(10))\n",
    "\n",
    "# to get our dates back\n",
    "# bank_df_train['ChurnDate_Back'] = reference_date + pd.to_timedelta(bank_df_train['ChurnDate_Numeric'], unit='D')"
   ]
  },
  {
   "cell_type": "code",
   "execution_count": null,
   "metadata": {},
   "outputs": [
    {
     "name": "stdout",
     "output_type": "stream",
     "text": [
      "Gender                        object\n",
      "Age                            int32\n",
      "Tenure                         int64\n",
      "Balance                      float64\n",
      "NumOfProducts                  int64\n",
      "EstimatedSalary              float64\n",
      "MonthsInactive                 int32\n",
      "TransactionFreq                int32\n",
      "TransactionAmt               float64\n",
      "ServiceSupportFrequency        int32\n",
      "NPS                          float64\n",
      "Education                     object\n",
      "EmploymentStatus              object\n",
      "HousingStatus                 object\n",
      "Dependents                     int32\n",
      "MarketingOffersAcceptance    float64\n",
      "CustomerSatisfaction           int32\n",
      "FeatureSatisfaction            int32\n",
      "SupportSatisfaction            int32\n",
      "FeatureSupportFrequency        int32\n",
      "LoanAmt                      float64\n",
      "ChangeInBehaviourMkt         float64\n",
      "ChangeInBehaviourCust        float64\n",
      "Happiness                      int64\n",
      "Savings Savant               float64\n",
      "Digital Dynamos              float64\n",
      "Trustee Tribe                float64\n",
      "FirstPersona                  object\n",
      "SecondPersona                 object\n",
      "ThirdPersona                  object\n",
      "SocialInfluencer               int64\n",
      "dtype: object\n",
      "   Gender  Age  Tenure       Balance  NumOfProducts  EstimatedSalary  \\\n",
      "0  Female   23       2      0.000000              2    160976.750000   \n",
      "1  Female   46       2      0.000000              1     72549.270000   \n",
      "2  Female   34       7      0.000000              2    138882.090000   \n",
      "3    Male   36       8      0.000000              1    113931.570000   \n",
      "4    Male   38      10 121263.620000              1    139431.000000   \n",
      "5  Female   22       9      0.000000              2     51907.720000   \n",
      "6    Male   45       4      0.000000              2    157878.670000   \n",
      "7  Female   47       8      0.000000              2    126784.290000   \n",
      "8  Female   47       3 111096.910000              1     94978.100000   \n",
      "9    Male   30       5      0.000000              2    149195.440000   \n",
      "\n",
      "   MonthsInactive  TransactionFreq  TransactionAmt  ServiceSupportFrequency  \\\n",
      "0               0               39       63.484830                       20   \n",
      "1               0               52       27.012773                       32   \n",
      "2               0               16       45.207565                        6   \n",
      "3               0               10       35.768359                        7   \n",
      "4               1               23       26.399135                       26   \n",
      "5               0               63       48.734204                        1   \n",
      "6               0               24       65.369913                       26   \n",
      "7               0               39       29.822234                        8   \n",
      "8               0                9       55.035540                        3   \n",
      "9               0               53       35.994292                        4   \n",
      "\n",
      "   ...  ChangeInBehaviourMkt ChangeInBehaviourCust Happiness Savings Savant  \\\n",
      "0  ...              1.257327              1.174837         0      35.113636   \n",
      "1  ...              1.103456              1.331683         1      37.033969   \n",
      "2  ...              0.997328              1.137654         1      24.747475   \n",
      "3  ...              0.761424              1.105690         0      44.329229   \n",
      "4  ...              1.080451              1.038549         0      27.645051   \n",
      "5  ...              1.313603              0.850909         1      41.571050   \n",
      "6  ...              1.101825              0.655963         0      33.070866   \n",
      "7  ...              1.120076              1.260101         0      39.348837   \n",
      "8  ...              0.918160              1.114765         0      27.654321   \n",
      "9  ...              0.973972              0.704812         0      28.656716   \n",
      "\n",
      "   Digital Dynamos  Trustee Tribe     FirstPersona    SecondPersona  \\\n",
      "0        27.613636      37.272727    Trustee Tribe   Savings Savant   \n",
      "1        24.855012      38.111019    Trustee Tribe   Savings Savant   \n",
      "2        41.919192      33.333333  Digital Dynamos              NaN   \n",
      "3        19.637071      36.033701   Savings Savant              NaN   \n",
      "4        33.447099      38.907850    Trustee Tribe  Digital Dynamos   \n",
      "5        42.894969      15.533981  Digital Dynamos   Savings Savant   \n",
      "6        34.645669      32.283465  Digital Dynamos   Savings Savant   \n",
      "7        26.790698      33.860465   Savings Savant    Trustee Tribe   \n",
      "8        38.765432      33.580247  Digital Dynamos    Trustee Tribe   \n",
      "9        44.776119      26.567164  Digital Dynamos              NaN   \n",
      "\n",
      "    ThirdPersona  SocialInfluencer  \n",
      "0            NaN                 1  \n",
      "1            NaN                 1  \n",
      "2            NaN                 1  \n",
      "3            NaN                 0  \n",
      "4            NaN                 0  \n",
      "5            NaN                 1  \n",
      "6  Trustee Tribe                 1  \n",
      "7            NaN                 0  \n",
      "8            NaN                 1  \n",
      "9            NaN                 1  \n",
      "\n",
      "[10 rows x 31 columns]\n"
     ]
    }
   ],
   "source": [
    "print(bank_df_test.dtypes)\n",
    "print(bank_df_test.head(10))"
   ]
  },
  {
   "cell_type": "markdown",
   "metadata": {},
   "source": [
    "### One hot encoding Current Lifecycle "
   ]
  },
  {
   "cell_type": "code",
   "execution_count": null,
   "metadata": {},
   "outputs": [],
   "source": [
    "one_hot_encode_prev = pd.get_dummies(bank_df_train, columns=['PrevLifecycle'],dtype ='int').iloc[:,-4:]\n",
    "one_hot_encode_curr = pd.get_dummies(bank_df_train, columns=['CurrLifecycle'],dtype ='int').iloc[:,-4:]\n",
    "bank_df_train = pd.concat([bank_df_train, one_hot_encode_prev, one_hot_encode_curr], axis = 1)\n",
    "\n",
    "# one_hot_encode2 = pd.get_dummies(bank_df_test, columns=['PrevLifecycle'],dtype ='int').iloc[:,-4:]\n",
    "# bank_df_test = pd.concat([bank_df_test, one_hot_encode2], axis = 1)"
   ]
  },
  {
   "cell_type": "markdown",
   "metadata": {},
   "source": [
    "### FOR THE TIME BEING, PUT SOME CURR LIFECYCLE = DORMANT "
   ]
  },
  {
   "cell_type": "code",
   "execution_count": null,
   "metadata": {},
   "outputs": [],
   "source": [
    "# n = round(bank_df_train.shape[0]*0.25)\n",
    "# bank_df_train['CurrLifecycle'].iloc[:n] = \"Dormant\"\n",
    "\n",
    "# print(bank_df_train['CurrLifecycle'].head)"
   ]
  },
  {
   "cell_type": "markdown",
   "metadata": {},
   "source": [
    "# EDA\n"
   ]
  },
  {
   "cell_type": "markdown",
   "metadata": {},
   "source": [
    "### 1. Correlation matrix"
   ]
  },
  {
   "cell_type": "code",
   "execution_count": null,
   "metadata": {},
   "outputs": [
    {
     "ename": "ValueError",
     "evalue": "y should be a 1d array, got an array of shape (165034, 2) instead.",
     "output_type": "error",
     "traceback": [
      "\u001b[1;31m---------------------------------------------------------------------------\u001b[0m",
      "\u001b[1;31mValueError\u001b[0m                                Traceback (most recent call last)",
      "Cell \u001b[1;32mIn[166], line 15\u001b[0m\n\u001b[0;32m     13\u001b[0m \u001b[38;5;66;03m# Encode categorical columns using LabelEncoder\u001b[39;00m\n\u001b[0;32m     14\u001b[0m \u001b[38;5;28;01mfor\u001b[39;00m col \u001b[38;5;129;01min\u001b[39;00m encoded_df\u001b[38;5;241m.\u001b[39mselect_dtypes(include\u001b[38;5;241m=\u001b[39m[\u001b[38;5;124m'\u001b[39m\u001b[38;5;124mobject\u001b[39m\u001b[38;5;124m'\u001b[39m]):\n\u001b[1;32m---> 15\u001b[0m     encoded_df[col] \u001b[38;5;241m=\u001b[39m \u001b[43mlabel_encoder\u001b[49m\u001b[38;5;241;43m.\u001b[39;49m\u001b[43mfit_transform\u001b[49m\u001b[43m(\u001b[49m\u001b[43mencoded_df\u001b[49m\u001b[43m[\u001b[49m\u001b[43mcol\u001b[49m\u001b[43m]\u001b[49m\u001b[43m)\u001b[49m\n\u001b[0;32m     17\u001b[0m \u001b[38;5;66;03m# Calculate correlation matrix\u001b[39;00m\n\u001b[0;32m     18\u001b[0m corr_matrix \u001b[38;5;241m=\u001b[39m encoded_df\u001b[38;5;241m.\u001b[39mcorr()\n",
      "File \u001b[1;32mc:\\Users\\caboo\\AppData\\Local\\Programs\\Python\\Python311\\Lib\\site-packages\\sklearn\\utils\\_set_output.py:140\u001b[0m, in \u001b[0;36m_wrap_method_output.<locals>.wrapped\u001b[1;34m(self, X, *args, **kwargs)\u001b[0m\n\u001b[0;32m    138\u001b[0m \u001b[38;5;129m@wraps\u001b[39m(f)\n\u001b[0;32m    139\u001b[0m \u001b[38;5;28;01mdef\u001b[39;00m \u001b[38;5;21mwrapped\u001b[39m(\u001b[38;5;28mself\u001b[39m, X, \u001b[38;5;241m*\u001b[39margs, \u001b[38;5;241m*\u001b[39m\u001b[38;5;241m*\u001b[39mkwargs):\n\u001b[1;32m--> 140\u001b[0m     data_to_wrap \u001b[38;5;241m=\u001b[39m \u001b[43mf\u001b[49m\u001b[43m(\u001b[49m\u001b[38;5;28;43mself\u001b[39;49m\u001b[43m,\u001b[49m\u001b[43m \u001b[49m\u001b[43mX\u001b[49m\u001b[43m,\u001b[49m\u001b[43m \u001b[49m\u001b[38;5;241;43m*\u001b[39;49m\u001b[43margs\u001b[49m\u001b[43m,\u001b[49m\u001b[43m \u001b[49m\u001b[38;5;241;43m*\u001b[39;49m\u001b[38;5;241;43m*\u001b[39;49m\u001b[43mkwargs\u001b[49m\u001b[43m)\u001b[49m\n\u001b[0;32m    141\u001b[0m     \u001b[38;5;28;01mif\u001b[39;00m \u001b[38;5;28misinstance\u001b[39m(data_to_wrap, \u001b[38;5;28mtuple\u001b[39m):\n\u001b[0;32m    142\u001b[0m         \u001b[38;5;66;03m# only wrap the first output for cross decomposition\u001b[39;00m\n\u001b[0;32m    143\u001b[0m         return_tuple \u001b[38;5;241m=\u001b[39m (\n\u001b[0;32m    144\u001b[0m             _wrap_data_with_container(method, data_to_wrap[\u001b[38;5;241m0\u001b[39m], X, \u001b[38;5;28mself\u001b[39m),\n\u001b[0;32m    145\u001b[0m             \u001b[38;5;241m*\u001b[39mdata_to_wrap[\u001b[38;5;241m1\u001b[39m:],\n\u001b[0;32m    146\u001b[0m         )\n",
      "File \u001b[1;32mc:\\Users\\caboo\\AppData\\Local\\Programs\\Python\\Python311\\Lib\\site-packages\\sklearn\\preprocessing\\_label.py:114\u001b[0m, in \u001b[0;36mLabelEncoder.fit_transform\u001b[1;34m(self, y)\u001b[0m\n\u001b[0;32m    101\u001b[0m \u001b[38;5;28;01mdef\u001b[39;00m \u001b[38;5;21mfit_transform\u001b[39m(\u001b[38;5;28mself\u001b[39m, y):\n\u001b[0;32m    102\u001b[0m \u001b[38;5;250m    \u001b[39m\u001b[38;5;124;03m\"\"\"Fit label encoder and return encoded labels.\u001b[39;00m\n\u001b[0;32m    103\u001b[0m \n\u001b[0;32m    104\u001b[0m \u001b[38;5;124;03m    Parameters\u001b[39;00m\n\u001b[1;32m   (...)\u001b[0m\n\u001b[0;32m    112\u001b[0m \u001b[38;5;124;03m        Encoded labels.\u001b[39;00m\n\u001b[0;32m    113\u001b[0m \u001b[38;5;124;03m    \"\"\"\u001b[39;00m\n\u001b[1;32m--> 114\u001b[0m     y \u001b[38;5;241m=\u001b[39m \u001b[43mcolumn_or_1d\u001b[49m\u001b[43m(\u001b[49m\u001b[43my\u001b[49m\u001b[43m,\u001b[49m\u001b[43m \u001b[49m\u001b[43mwarn\u001b[49m\u001b[38;5;241;43m=\u001b[39;49m\u001b[38;5;28;43;01mTrue\u001b[39;49;00m\u001b[43m)\u001b[49m\n\u001b[0;32m    115\u001b[0m     \u001b[38;5;28mself\u001b[39m\u001b[38;5;241m.\u001b[39mclasses_, y \u001b[38;5;241m=\u001b[39m _unique(y, return_inverse\u001b[38;5;241m=\u001b[39m\u001b[38;5;28;01mTrue\u001b[39;00m)\n\u001b[0;32m    116\u001b[0m     \u001b[38;5;28;01mreturn\u001b[39;00m y\n",
      "File \u001b[1;32mc:\\Users\\caboo\\AppData\\Local\\Programs\\Python\\Python311\\Lib\\site-packages\\sklearn\\utils\\validation.py:1245\u001b[0m, in \u001b[0;36mcolumn_or_1d\u001b[1;34m(y, dtype, warn)\u001b[0m\n\u001b[0;32m   1234\u001b[0m         warnings\u001b[38;5;241m.\u001b[39mwarn(\n\u001b[0;32m   1235\u001b[0m             (\n\u001b[0;32m   1236\u001b[0m                 \u001b[38;5;124m\"\u001b[39m\u001b[38;5;124mA column-vector y was passed when a 1d array was\u001b[39m\u001b[38;5;124m\"\u001b[39m\n\u001b[1;32m   (...)\u001b[0m\n\u001b[0;32m   1241\u001b[0m             stacklevel\u001b[38;5;241m=\u001b[39m\u001b[38;5;241m2\u001b[39m,\n\u001b[0;32m   1242\u001b[0m         )\n\u001b[0;32m   1243\u001b[0m     \u001b[38;5;28;01mreturn\u001b[39;00m _asarray_with_order(xp\u001b[38;5;241m.\u001b[39mreshape(y, (\u001b[38;5;241m-\u001b[39m\u001b[38;5;241m1\u001b[39m,)), order\u001b[38;5;241m=\u001b[39m\u001b[38;5;124m\"\u001b[39m\u001b[38;5;124mC\u001b[39m\u001b[38;5;124m\"\u001b[39m, xp\u001b[38;5;241m=\u001b[39mxp)\n\u001b[1;32m-> 1245\u001b[0m \u001b[38;5;28;01mraise\u001b[39;00m \u001b[38;5;167;01mValueError\u001b[39;00m(\n\u001b[0;32m   1246\u001b[0m     \u001b[38;5;124m\"\u001b[39m\u001b[38;5;124my should be a 1d array, got an array of shape \u001b[39m\u001b[38;5;132;01m{}\u001b[39;00m\u001b[38;5;124m instead.\u001b[39m\u001b[38;5;124m\"\u001b[39m\u001b[38;5;241m.\u001b[39mformat(shape)\n\u001b[0;32m   1247\u001b[0m )\n",
      "\u001b[1;31mValueError\u001b[0m: y should be a 1d array, got an array of shape (165034, 2) instead."
     ]
    }
   ],
   "source": [
    "from sklearn.preprocessing import LabelEncoder\n",
    "import seaborn as sns\n",
    "import matplotlib.pyplot as plt\n",
    "\n",
    "# Assuming bank_df_train is your DataFrame with both numeric and categorical columns\n",
    "\n",
    "# Create a copy of the DataFrame\n",
    "encoded_df = bank_df_train.copy()\n",
    "\n",
    "# Initialize LabelEncoder\n",
    "label_encoder = LabelEncoder()\n",
    "\n",
    "# Encode categorical columns using LabelEncoder\n",
    "for col in encoded_df.select_dtypes(include=['object']):\n",
    "    encoded_df[col] = label_encoder.fit_transform(encoded_df[col])\n",
    "\n",
    "# Calculate correlation matrix\n",
    "corr_matrix = encoded_df.corr()\n",
    "\n",
    "# Plot the heatmap for all columns without numeric annotations\n",
    "plt.figure(figsize=(15, 12))\n",
    "sns.heatmap(corr_matrix, annot=False, cmap='viridis')\n",
    "\n",
    "# Customize the plot\n",
    "plt.title('Correlation Matrix', fontsize=16)\n",
    "plt.xticks(rotation=45, fontsize=8)\n",
    "plt.yticks(rotation=0, fontsize=8)\n",
    "\n",
    "# Display the plot\n",
    "plt.tight_layout()\n",
    "plt.show()\n",
    "\n",
    "# Identify highly correlated columns\n",
    "correlated_columns = []\n",
    "threshold = 0.9  # Adjust as needed\n",
    "\n",
    "for col in corr_matrix.columns:\n",
    "    correlated_cols = corr_matrix.index[(corr_matrix[col] > threshold) | (corr_matrix[col] < -threshold)].tolist()\n",
    "    correlated_cols.remove(col)  # Remove the current column itself\n",
    "    correlated_columns.extend([(col, corr) for corr in correlated_cols])\n",
    "\n",
    "# Print highly correlated columns and their correlations\n",
    "for col, corr in correlated_columns:\n",
    "    print(f\"{col} and {corr}: {corr_matrix.loc[col, corr]}\")"
   ]
  },
  {
   "cell_type": "code",
   "execution_count": null,
   "metadata": {},
   "outputs": [
    {
     "name": "stdout",
     "output_type": "stream",
     "text": [
      "The column most highly correlated with 'Balance' is 'Gender' with a correlation of 0.01\n"
     ]
    }
   ],
   "source": [
    "# Identify highly correlated columns with 'Account balance'\n",
    "target_column = 'Balance'\n",
    "correlated_with_target = corr_matrix[target_column].drop(target_column).sort_values(ascending=False)\n",
    "\n",
    "# Print the most highly correlated column and its correlation value\n",
    "most_correlated_column = correlated_with_target.index[0]\n",
    "correlation_value = correlated_with_target.iloc[0]\n",
    "print(f\"The column most highly correlated with '{target_column}' is '{most_correlated_column}' with a correlation of {correlation_value:.2f}\")\n"
   ]
  },
  {
   "cell_type": "code",
   "execution_count": null,
   "metadata": {},
   "outputs": [
    {
     "name": "stdout",
     "output_type": "stream",
     "text": [
      "The correlation value between 'Balance' and 'Age' is 0.00\n"
     ]
    }
   ],
   "source": [
    "# Assuming 'column1' and 'column2' are the names of the two specific columns you want to find the correlation for\n",
    "column1 = 'Balance'\n",
    "column2 = 'Age'\n",
    "\n",
    "# Find the correlation value between 'column1' and 'column2'\n",
    "correlation_value = corr_matrix.loc[column1, column2]\n",
    "\n",
    "# Print the correlation value\n",
    "print(f\"The correlation value between '{column1}' and '{column2}' is {correlation_value:.2f}\")\n"
   ]
  },
  {
   "cell_type": "markdown",
   "metadata": {},
   "source": [
    "### 2. LDA"
   ]
  },
  {
   "cell_type": "code",
   "execution_count": null,
   "metadata": {},
   "outputs": [],
   "source": [
    "# from sklearn.discriminant_analysis import LinearDiscriminantAnalysis\n",
    "\n",
    "# # Assuming bank_df_train is already defined and contains your data\n",
    "\n",
    "# # Create a copy of bank_df_train\n",
    "# test_df = bank_df_train.copy()\n",
    "\n",
    "# # Separate features and target\n",
    "# y = test_df['Exited']\n",
    "# X = test_df.drop(columns=['Exited'])  # Drop 'Exited' column and create X\n",
    "\n",
    "# # Convert X and y to numpy arrays\n",
    "# X = np.array(X)\n",
    "# y = np.array(y)\n",
    "\n",
    "# # Reshape y to a 1D array if needed\n",
    "# if y.ndim > 1:\n",
    "#     y = y.ravel()\n",
    "\n",
    "# # Initialize LDA model\n",
    "# lda = LinearDiscriminantAnalysis(n_components=1)  # Set the number of components (dimensions)\n",
    "\n",
    "# # Fit the model to the data\n",
    "# lda.fit(X, y)\n",
    "\n",
    "# # Transform the data\n",
    "# X_lda = lda.transform(X)\n",
    "\n",
    "# # Add the transformed data to the DataFrame\n",
    "# test_df['LDA_Component'] = X_lda\n",
    "\n",
    "# # Print the DataFrame with LDA component\n",
    "# print(test_df)\n"
   ]
  },
  {
   "cell_type": "markdown",
   "metadata": {},
   "source": [
    "### 3. Try MCA "
   ]
  },
  {
   "cell_type": "code",
   "execution_count": null,
   "metadata": {},
   "outputs": [],
   "source": [
    "#col_idx = [(i, column_name) for i, column_name in enumerate(bank_df_train.columns)]"
   ]
  },
  {
   "cell_type": "code",
   "execution_count": null,
   "metadata": {},
   "outputs": [],
   "source": [
    "#X_train_1 = bank_df_train.iloc[:, [1] + list(range(14, 17)) + [20, 26]]\n",
    "#X_train_2 = bank_df_train.iloc[:, 21:38]"
   ]
  },
  {
   "cell_type": "code",
   "execution_count": null,
   "metadata": {},
   "outputs": [],
   "source": [
    "# mca = prince.MCA(n_components=2)\n",
    "# mca = mca.fit(X_train_1)"
   ]
  },
  {
   "cell_type": "code",
   "execution_count": null,
   "metadata": {},
   "outputs": [],
   "source": [
    "# mca.column_contributions_.head().style.format('{:.0%}')"
   ]
  },
  {
   "cell_type": "markdown",
   "metadata": {},
   "source": [
    "### 4. FAMD"
   ]
  },
  {
   "cell_type": "code",
   "execution_count": null,
   "metadata": {},
   "outputs": [],
   "source": [
    "# famd = prince.FAMD(n_components=2)\n",
    "# famd = famd.fit(X_train_2)"
   ]
  },
  {
   "cell_type": "markdown",
   "metadata": {},
   "source": [
    "# Export to csv"
   ]
  },
  {
   "cell_type": "code",
   "execution_count": null,
   "metadata": {},
   "outputs": [
    {
     "name": "stdout",
     "output_type": "stream",
     "text": [
      "Train set size: 132027\n",
      "Test set size: 33007\n"
     ]
    }
   ],
   "source": [
    "from sklearn.model_selection import train_test_split\n",
    "# bank_df_train.to_csv('./data/final/dataset.csv', index=False)\n",
    "# bank_df_test.to_csv('./data/final/test_data.csv', index=False)\n",
    "\n",
    "# Assuming your DataFrame is named df and contains your data\n",
    "# Splitting into train and test sets with a ratio of 2:8\n",
    "train_df, test_df = train_test_split(bank_df_train, test_size=0.2, random_state=42, stratify=bank_df_train['CurrLifecycle'])\n",
    "\n",
    "# Print the sizes of the train and test sets\n",
    "print(\"Train set size:\", len(train_df))\n",
    "print(\"Test set size:\", len(test_df))\n",
    "\n",
    "train_df.to_csv('./data/final/train.csv', index=False)\n",
    "test_df.to_csv('./data/final/test.csv', index=False)"
   ]
  },
  {
   "cell_type": "markdown",
   "metadata": {},
   "source": [
    "# Model Training"
   ]
  },
  {
   "cell_type": "code",
   "execution_count": null,
   "metadata": {},
   "outputs": [
    {
     "data": {
      "text/html": [
       "<div>\n",
       "<style scoped>\n",
       "    .dataframe tbody tr th:only-of-type {\n",
       "        vertical-align: middle;\n",
       "    }\n",
       "\n",
       "    .dataframe tbody tr th {\n",
       "        vertical-align: top;\n",
       "    }\n",
       "\n",
       "    .dataframe thead th {\n",
       "        text-align: right;\n",
       "    }\n",
       "</style>\n",
       "<table border=\"1\" class=\"dataframe\">\n",
       "  <thead>\n",
       "    <tr style=\"text-align: right;\">\n",
       "      <th></th>\n",
       "      <th>Gender</th>\n",
       "      <th>Age</th>\n",
       "      <th>Tenure</th>\n",
       "      <th>Balance</th>\n",
       "      <th>NumOfProducts</th>\n",
       "      <th>EstimatedSalary</th>\n",
       "      <th>MonthsInactive</th>\n",
       "      <th>TransactionFreq</th>\n",
       "      <th>TransactionAmt</th>\n",
       "      <th>ServiceSupportFrequency</th>\n",
       "      <th>...</th>\n",
       "      <th>ChangeInBehaviourMkt</th>\n",
       "      <th>ChangeInBehaviourCust</th>\n",
       "      <th>Happiness</th>\n",
       "      <th>Savings Savant</th>\n",
       "      <th>Digital Dynamos</th>\n",
       "      <th>Trustee Tribe</th>\n",
       "      <th>FirstPersona</th>\n",
       "      <th>SecondPersona</th>\n",
       "      <th>ThirdPersona</th>\n",
       "      <th>SocialInfluencer</th>\n",
       "    </tr>\n",
       "  </thead>\n",
       "  <tbody>\n",
       "    <tr>\n",
       "      <th>0</th>\n",
       "      <td>Female</td>\n",
       "      <td>23</td>\n",
       "      <td>2</td>\n",
       "      <td>0.000000</td>\n",
       "      <td>2</td>\n",
       "      <td>160976.750000</td>\n",
       "      <td>0</td>\n",
       "      <td>39</td>\n",
       "      <td>63.484830</td>\n",
       "      <td>20</td>\n",
       "      <td>...</td>\n",
       "      <td>1.257327</td>\n",
       "      <td>1.174837</td>\n",
       "      <td>0</td>\n",
       "      <td>35.113636</td>\n",
       "      <td>27.613636</td>\n",
       "      <td>37.272727</td>\n",
       "      <td>Trustee Tribe</td>\n",
       "      <td>Savings Savant</td>\n",
       "      <td>NaN</td>\n",
       "      <td>1</td>\n",
       "    </tr>\n",
       "    <tr>\n",
       "      <th>1</th>\n",
       "      <td>Female</td>\n",
       "      <td>46</td>\n",
       "      <td>2</td>\n",
       "      <td>0.000000</td>\n",
       "      <td>1</td>\n",
       "      <td>72549.270000</td>\n",
       "      <td>0</td>\n",
       "      <td>52</td>\n",
       "      <td>27.012773</td>\n",
       "      <td>32</td>\n",
       "      <td>...</td>\n",
       "      <td>1.103456</td>\n",
       "      <td>1.331683</td>\n",
       "      <td>1</td>\n",
       "      <td>37.033969</td>\n",
       "      <td>24.855012</td>\n",
       "      <td>38.111019</td>\n",
       "      <td>Trustee Tribe</td>\n",
       "      <td>Savings Savant</td>\n",
       "      <td>NaN</td>\n",
       "      <td>1</td>\n",
       "    </tr>\n",
       "    <tr>\n",
       "      <th>2</th>\n",
       "      <td>Female</td>\n",
       "      <td>34</td>\n",
       "      <td>7</td>\n",
       "      <td>0.000000</td>\n",
       "      <td>2</td>\n",
       "      <td>138882.090000</td>\n",
       "      <td>0</td>\n",
       "      <td>16</td>\n",
       "      <td>45.207565</td>\n",
       "      <td>6</td>\n",
       "      <td>...</td>\n",
       "      <td>0.997328</td>\n",
       "      <td>1.137654</td>\n",
       "      <td>1</td>\n",
       "      <td>24.747475</td>\n",
       "      <td>41.919192</td>\n",
       "      <td>33.333333</td>\n",
       "      <td>Digital Dynamos</td>\n",
       "      <td>NaN</td>\n",
       "      <td>NaN</td>\n",
       "      <td>1</td>\n",
       "    </tr>\n",
       "    <tr>\n",
       "      <th>3</th>\n",
       "      <td>Male</td>\n",
       "      <td>36</td>\n",
       "      <td>8</td>\n",
       "      <td>0.000000</td>\n",
       "      <td>1</td>\n",
       "      <td>113931.570000</td>\n",
       "      <td>0</td>\n",
       "      <td>10</td>\n",
       "      <td>35.768359</td>\n",
       "      <td>7</td>\n",
       "      <td>...</td>\n",
       "      <td>0.761424</td>\n",
       "      <td>1.105690</td>\n",
       "      <td>0</td>\n",
       "      <td>44.329229</td>\n",
       "      <td>19.637071</td>\n",
       "      <td>36.033701</td>\n",
       "      <td>Savings Savant</td>\n",
       "      <td>NaN</td>\n",
       "      <td>NaN</td>\n",
       "      <td>0</td>\n",
       "    </tr>\n",
       "    <tr>\n",
       "      <th>4</th>\n",
       "      <td>Male</td>\n",
       "      <td>38</td>\n",
       "      <td>10</td>\n",
       "      <td>121263.620000</td>\n",
       "      <td>1</td>\n",
       "      <td>139431.000000</td>\n",
       "      <td>1</td>\n",
       "      <td>23</td>\n",
       "      <td>26.399135</td>\n",
       "      <td>26</td>\n",
       "      <td>...</td>\n",
       "      <td>1.080451</td>\n",
       "      <td>1.038549</td>\n",
       "      <td>0</td>\n",
       "      <td>27.645051</td>\n",
       "      <td>33.447099</td>\n",
       "      <td>38.907850</td>\n",
       "      <td>Trustee Tribe</td>\n",
       "      <td>Digital Dynamos</td>\n",
       "      <td>NaN</td>\n",
       "      <td>0</td>\n",
       "    </tr>\n",
       "    <tr>\n",
       "      <th>...</th>\n",
       "      <td>...</td>\n",
       "      <td>...</td>\n",
       "      <td>...</td>\n",
       "      <td>...</td>\n",
       "      <td>...</td>\n",
       "      <td>...</td>\n",
       "      <td>...</td>\n",
       "      <td>...</td>\n",
       "      <td>...</td>\n",
       "      <td>...</td>\n",
       "      <td>...</td>\n",
       "      <td>...</td>\n",
       "      <td>...</td>\n",
       "      <td>...</td>\n",
       "      <td>...</td>\n",
       "      <td>...</td>\n",
       "      <td>...</td>\n",
       "      <td>...</td>\n",
       "      <td>...</td>\n",
       "      <td>...</td>\n",
       "      <td>...</td>\n",
       "    </tr>\n",
       "    <tr>\n",
       "      <th>110018</th>\n",
       "      <td>Male</td>\n",
       "      <td>29</td>\n",
       "      <td>7</td>\n",
       "      <td>116099.820000</td>\n",
       "      <td>1</td>\n",
       "      <td>148087.620000</td>\n",
       "      <td>0</td>\n",
       "      <td>9</td>\n",
       "      <td>130.808506</td>\n",
       "      <td>2</td>\n",
       "      <td>...</td>\n",
       "      <td>0.622711</td>\n",
       "      <td>1.254063</td>\n",
       "      <td>1</td>\n",
       "      <td>30.306470</td>\n",
       "      <td>30.646992</td>\n",
       "      <td>39.046538</td>\n",
       "      <td>Trustee Tribe</td>\n",
       "      <td>NaN</td>\n",
       "      <td>NaN</td>\n",
       "      <td>0</td>\n",
       "    </tr>\n",
       "    <tr>\n",
       "      <th>110019</th>\n",
       "      <td>Female</td>\n",
       "      <td>36</td>\n",
       "      <td>4</td>\n",
       "      <td>178032.530000</td>\n",
       "      <td>1</td>\n",
       "      <td>42181.680000</td>\n",
       "      <td>0</td>\n",
       "      <td>11</td>\n",
       "      <td>46.396096</td>\n",
       "      <td>18</td>\n",
       "      <td>...</td>\n",
       "      <td>0.867977</td>\n",
       "      <td>0.751012</td>\n",
       "      <td>0</td>\n",
       "      <td>26.017699</td>\n",
       "      <td>24.424779</td>\n",
       "      <td>49.557522</td>\n",
       "      <td>Trustee Tribe</td>\n",
       "      <td>NaN</td>\n",
       "      <td>NaN</td>\n",
       "      <td>0</td>\n",
       "    </tr>\n",
       "    <tr>\n",
       "      <th>110020</th>\n",
       "      <td>Male</td>\n",
       "      <td>31</td>\n",
       "      <td>2</td>\n",
       "      <td>0.000000</td>\n",
       "      <td>2</td>\n",
       "      <td>16287.380000</td>\n",
       "      <td>0</td>\n",
       "      <td>18</td>\n",
       "      <td>165.831212</td>\n",
       "      <td>20</td>\n",
       "      <td>...</td>\n",
       "      <td>1.518336</td>\n",
       "      <td>1.334776</td>\n",
       "      <td>0</td>\n",
       "      <td>29.974381</td>\n",
       "      <td>29.205807</td>\n",
       "      <td>40.819812</td>\n",
       "      <td>Trustee Tribe</td>\n",
       "      <td>NaN</td>\n",
       "      <td>NaN</td>\n",
       "      <td>0</td>\n",
       "    </tr>\n",
       "    <tr>\n",
       "      <th>110021</th>\n",
       "      <td>Female</td>\n",
       "      <td>32</td>\n",
       "      <td>3</td>\n",
       "      <td>0.000000</td>\n",
       "      <td>1</td>\n",
       "      <td>158816.580000</td>\n",
       "      <td>0</td>\n",
       "      <td>45</td>\n",
       "      <td>157.541850</td>\n",
       "      <td>5</td>\n",
       "      <td>...</td>\n",
       "      <td>0.843185</td>\n",
       "      <td>1.012152</td>\n",
       "      <td>0</td>\n",
       "      <td>26.470588</td>\n",
       "      <td>35.882353</td>\n",
       "      <td>37.647059</td>\n",
       "      <td>Trustee Tribe</td>\n",
       "      <td>Digital Dynamos</td>\n",
       "      <td>Savings Savant</td>\n",
       "      <td>0</td>\n",
       "    </tr>\n",
       "    <tr>\n",
       "      <th>110022</th>\n",
       "      <td>Female</td>\n",
       "      <td>37</td>\n",
       "      <td>7</td>\n",
       "      <td>87848.390000</td>\n",
       "      <td>1</td>\n",
       "      <td>24210.560000</td>\n",
       "      <td>0</td>\n",
       "      <td>17</td>\n",
       "      <td>43.177488</td>\n",
       "      <td>13</td>\n",
       "      <td>...</td>\n",
       "      <td>1.160299</td>\n",
       "      <td>0.434800</td>\n",
       "      <td>0</td>\n",
       "      <td>45.596376</td>\n",
       "      <td>35.480624</td>\n",
       "      <td>18.922999</td>\n",
       "      <td>Savings Savant</td>\n",
       "      <td>NaN</td>\n",
       "      <td>NaN</td>\n",
       "      <td>0</td>\n",
       "    </tr>\n",
       "  </tbody>\n",
       "</table>\n",
       "<p>110023 rows × 31 columns</p>\n",
       "</div>"
      ],
      "text/plain": [
       "        Gender  Age  Tenure       Balance  NumOfProducts  EstimatedSalary  \\\n",
       "0       Female   23       2      0.000000              2    160976.750000   \n",
       "1       Female   46       2      0.000000              1     72549.270000   \n",
       "2       Female   34       7      0.000000              2    138882.090000   \n",
       "3         Male   36       8      0.000000              1    113931.570000   \n",
       "4         Male   38      10 121263.620000              1    139431.000000   \n",
       "...        ...  ...     ...           ...            ...              ...   \n",
       "110018    Male   29       7 116099.820000              1    148087.620000   \n",
       "110019  Female   36       4 178032.530000              1     42181.680000   \n",
       "110020    Male   31       2      0.000000              2     16287.380000   \n",
       "110021  Female   32       3      0.000000              1    158816.580000   \n",
       "110022  Female   37       7  87848.390000              1     24210.560000   \n",
       "\n",
       "        MonthsInactive  TransactionFreq  TransactionAmt  \\\n",
       "0                    0               39       63.484830   \n",
       "1                    0               52       27.012773   \n",
       "2                    0               16       45.207565   \n",
       "3                    0               10       35.768359   \n",
       "4                    1               23       26.399135   \n",
       "...                ...              ...             ...   \n",
       "110018               0                9      130.808506   \n",
       "110019               0               11       46.396096   \n",
       "110020               0               18      165.831212   \n",
       "110021               0               45      157.541850   \n",
       "110022               0               17       43.177488   \n",
       "\n",
       "        ServiceSupportFrequency  ...  ChangeInBehaviourMkt  \\\n",
       "0                            20  ...              1.257327   \n",
       "1                            32  ...              1.103456   \n",
       "2                             6  ...              0.997328   \n",
       "3                             7  ...              0.761424   \n",
       "4                            26  ...              1.080451   \n",
       "...                         ...  ...                   ...   \n",
       "110018                        2  ...              0.622711   \n",
       "110019                       18  ...              0.867977   \n",
       "110020                       20  ...              1.518336   \n",
       "110021                        5  ...              0.843185   \n",
       "110022                       13  ...              1.160299   \n",
       "\n",
       "       ChangeInBehaviourCust Happiness Savings Savant  Digital Dynamos  \\\n",
       "0                   1.174837         0      35.113636        27.613636   \n",
       "1                   1.331683         1      37.033969        24.855012   \n",
       "2                   1.137654         1      24.747475        41.919192   \n",
       "3                   1.105690         0      44.329229        19.637071   \n",
       "4                   1.038549         0      27.645051        33.447099   \n",
       "...                      ...       ...            ...              ...   \n",
       "110018              1.254063         1      30.306470        30.646992   \n",
       "110019              0.751012         0      26.017699        24.424779   \n",
       "110020              1.334776         0      29.974381        29.205807   \n",
       "110021              1.012152         0      26.470588        35.882353   \n",
       "110022              0.434800         0      45.596376        35.480624   \n",
       "\n",
       "        Trustee Tribe     FirstPersona    SecondPersona    ThirdPersona  \\\n",
       "0           37.272727    Trustee Tribe   Savings Savant             NaN   \n",
       "1           38.111019    Trustee Tribe   Savings Savant             NaN   \n",
       "2           33.333333  Digital Dynamos              NaN             NaN   \n",
       "3           36.033701   Savings Savant              NaN             NaN   \n",
       "4           38.907850    Trustee Tribe  Digital Dynamos             NaN   \n",
       "...               ...              ...              ...             ...   \n",
       "110018      39.046538    Trustee Tribe              NaN             NaN   \n",
       "110019      49.557522    Trustee Tribe              NaN             NaN   \n",
       "110020      40.819812    Trustee Tribe              NaN             NaN   \n",
       "110021      37.647059    Trustee Tribe  Digital Dynamos  Savings Savant   \n",
       "110022      18.922999   Savings Savant              NaN             NaN   \n",
       "\n",
       "        SocialInfluencer  \n",
       "0                      1  \n",
       "1                      1  \n",
       "2                      1  \n",
       "3                      0  \n",
       "4                      0  \n",
       "...                  ...  \n",
       "110018                 0  \n",
       "110019                 0  \n",
       "110020                 0  \n",
       "110021                 0  \n",
       "110022                 0  \n",
       "\n",
       "[110023 rows x 31 columns]"
      ]
     },
     "execution_count": 68,
     "metadata": {},
     "output_type": "execute_result"
    }
   ],
   "source": [
    "bank_df_train \n",
    "bank_df_test #missing ChurnDate and CurrLifecycle"
   ]
  },
  {
   "cell_type": "code",
   "execution_count": null,
   "metadata": {},
   "outputs": [],
   "source": []
  },
  {
   "cell_type": "code",
   "execution_count": null,
   "metadata": {},
   "outputs": [],
   "source": []
  }
 ],
 "metadata": {
  "kernelspec": {
   "display_name": "Python 3",
   "language": "python",
   "name": "python3"
  },
  "language_info": {
   "codemirror_mode": {
    "name": "ipython",
    "version": 3
   },
   "file_extension": ".py",
   "mimetype": "text/x-python",
   "name": "python",
   "nbconvert_exporter": "python",
   "pygments_lexer": "ipython3",
   "version": "3.11.3"
  }
 },
 "nbformat": 4,
 "nbformat_minor": 2
}
