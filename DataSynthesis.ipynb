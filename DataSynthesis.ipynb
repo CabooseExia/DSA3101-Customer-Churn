{
 "cells": [
  {
   "cell_type": "code",
   "execution_count": 575,
   "metadata": {},
   "outputs": [],
   "source": [
    "import pdb\n",
    "import pandas as pd\n",
    "import numpy as np\n",
    "import os\n",
    "import random\n",
    "from scipy import stats\n",
    "from scipy.stats import gaussian_kde\n",
    "from datetime import datetime, timedelta\n",
    "from faker import Faker\n",
    "from sklearn.neighbors import KernelDensity\n",
    "np.random.seed(3101)\n",
    "random_state = np.random.RandomState(3101)\n",
    "fake = Faker()\n",
    "pd.set_option('display.float_format', lambda x: '{:.6f}'.format(x))"
   ]
  },
  {
   "cell_type": "markdown",
   "metadata": {},
   "source": [
    "# Importing data:\n",
    "bank1 = archive  \n",
    "bank2 = bank+marketing"
   ]
  },
  {
   "cell_type": "code",
   "execution_count": 576,
   "metadata": {},
   "outputs": [],
   "source": [
    "# print(os.getcwd())\n",
    "bank_df_train = pd.read_csv('./data/main/train.csv')\n",
    "bank_df_test = pd.read_csv('./data/main/test.csv')"
   ]
  },
  {
   "cell_type": "code",
   "execution_count": 577,
   "metadata": {},
   "outputs": [
    {
     "name": "stdout",
     "output_type": "stream",
     "text": [
      "   id  CustomerId         Surname  CreditScore Geography Gender       Age  \\\n",
      "0   0    15674932  Okwudilichukwu          668    France   Male 33.000000   \n",
      "1   1    15749177   Okwudiliolisa          627    France   Male 33.000000   \n",
      "2   2    15694510           Hsueh          678    France   Male 40.000000   \n",
      "3   3    15741417             Kao          581    France   Male 34.000000   \n",
      "4   4    15766172       Chiemenam          716     Spain   Male 33.000000   \n",
      "\n",
      "   Tenure       Balance  NumOfProducts  HasCrCard  IsActiveMember  \\\n",
      "0       3      0.000000              2   1.000000        0.000000   \n",
      "1       1      0.000000              2   1.000000        1.000000   \n",
      "2      10      0.000000              2   1.000000        0.000000   \n",
      "3       2 148882.540000              1   1.000000        1.000000   \n",
      "4       5      0.000000              2   1.000000        1.000000   \n",
      "\n",
      "   EstimatedSalary  Exited  \n",
      "0    181449.970000       0  \n",
      "1     49503.500000       0  \n",
      "2    184866.690000       0  \n",
      "3     84560.880000       0  \n",
      "4     15068.830000       0  \n",
      "165034\n"
     ]
    }
   ],
   "source": [
    "print(bank_df_train.head())\n",
    "print(len(bank_df_train))\n",
    "\n",
    "# bank_df_train_clean = bank_df_train.drop_duplicates(subset=\"CustomerId\", keep=\"first\")\n",
    "# print(len(bank_df_train_clean))"
   ]
  },
  {
   "cell_type": "code",
   "execution_count": 578,
   "metadata": {},
   "outputs": [
    {
     "name": "stdout",
     "output_type": "stream",
     "text": [
      "       id  CustomerId    Surname  CreditScore Geography  Gender       Age  \\\n",
      "0  165034    15773898   Lucchese          586    France  Female 23.000000   \n",
      "1  165035    15782418       Nott          683    France  Female 46.000000   \n",
      "2  165036    15807120         K?          656    France  Female 34.000000   \n",
      "3  165037    15808905  O'Donnell          681    France    Male 36.000000   \n",
      "4  165038    15607314    Higgins          752   Germany    Male 38.000000   \n",
      "\n",
      "   Tenure       Balance  NumOfProducts  HasCrCard  IsActiveMember  \\\n",
      "0       2      0.000000              2   0.000000        1.000000   \n",
      "1       2      0.000000              1   1.000000        0.000000   \n",
      "2       7      0.000000              2   1.000000        0.000000   \n",
      "3       8      0.000000              1   1.000000        0.000000   \n",
      "4      10 121263.620000              1   1.000000        0.000000   \n",
      "\n",
      "   EstimatedSalary  \n",
      "0    160976.750000  \n",
      "1     72549.270000  \n",
      "2    138882.090000  \n",
      "3    113931.570000  \n",
      "4    139431.000000  \n"
     ]
    },
    {
     "data": {
      "text/plain": [
       "110023"
      ]
     },
     "execution_count": 578,
     "metadata": {},
     "output_type": "execute_result"
    }
   ],
   "source": [
    "print(bank_df_test.head())\n",
    "len(bank_df_test)\n",
    "# duplicates = bank_df_test.duplicated(subset=['CustomerId'], keep=False)\n",
    "# print(duplicates)\n",
    "#no \"exited\" column"
   ]
  },
  {
   "cell_type": "markdown",
   "metadata": {},
   "source": [
    "Data Cleaning\n",
    "\n",
    "Removed CustomerId column in both test & train since it is an unused var in the original dataset\n",
    "All other columns returns no duplicates\n",
    "scalling tenure too to when the bank opened"
   ]
  },
  {
   "cell_type": "code",
   "execution_count": 579,
   "metadata": {},
   "outputs": [
    {
     "name": "stdout",
     "output_type": "stream",
     "text": [
      "Percentage of 0 entries in 'Balance': 54.32%\n"
     ]
    },
    {
     "data": {
      "image/png": "[encoded data removed]",
      "text/plain": [
       "<Figure size 1000x600 with 1 Axes>"
      ]
     },
     "metadata": {},
     "output_type": "display_data"
    }
   ],
   "source": [
    "import matplotlib.pyplot as plt\n",
    "\n",
    "\n",
    "zero_count = (bank_df_train['Balance'] == 0).sum()\n",
    "total_count = len(bank_df_train)\n",
    "zero_percentage = (zero_count / total_count) * 100\n",
    "\n",
    "print(f\"Percentage of 0 entries in 'Balance': {zero_percentage:.2f}%\")\n",
    "\n",
    "non_zero_data = bank_df_train.loc[bank_df_train['Balance'] != 0, 'Balance']\n",
    "mean_non_zero = non_zero_data.mean()\n",
    "std_non_zero = non_zero_data.std()\n",
    "\n",
    "zero_indices = bank_df_train.index[bank_df_train['Balance'] == 0]\n",
    "num_zeros = len(zero_indices)\n",
    "random_samples = np.random.normal(loc=mean_non_zero, scale=std_non_zero, size=num_zeros)\n",
    "bank_df_train.loc[zero_indices, 'Balance'] = random_samples\n",
    "\n",
    "\n",
    "plt.figure(figsize=(10, 6))\n",
    "plt.hist(bank_df_train['Balance'], bins=30, color='skyblue', edgecolor='black')\n",
    "plt.xlabel('Balance')\n",
    "plt.ylabel('Frequency')\n",
    "plt.title('Distribution of Balance')\n",
    "plt.grid(True)\n",
    "plt.show()\n"
   ]
  },
  {
   "cell_type": "code",
   "execution_count": 580,
   "metadata": {},
   "outputs": [
    {
     "name": "stdout",
     "output_type": "stream",
     "text": [
      "Percentage of Exited=1: 21.16%\n",
      "Exited\n",
      "1   0.559159\n",
      "0   0.440841\n",
      "Name: proportion, dtype: float64\n",
      "295147\n"
     ]
    }
   ],
   "source": [
    "from sklearn.utils import resample\n",
    "percentage_exited_1 = (bank_df_train['Exited'] == 1).mean() * 100\n",
    "\n",
    "print(f\"Percentage of Exited=1: {percentage_exited_1:.2f}%\")\n",
    "\n",
    "class_distribution = bank_df_train['Exited'].value_counts(normalize=True)\n",
    "\n",
    "desired_percentage_exited_1 = 0.5\n",
    "\n",
    "while class_distribution[1] < desired_percentage_exited_1:\n",
    "    oversampled_minority = resample(\n",
    "        bank_df_train[bank_df_train['Exited'] == 1], \n",
    "        replace=True,\n",
    "        n_samples=len(bank_df_train[bank_df_train['Exited'] == 0]),  \n",
    "        random_state=42\n",
    "    )\n",
    "    bank_df_train = pd.concat([bank_df_train, oversampled_minority])\n",
    "    class_distribution = bank_df_train['Exited'].value_counts(normalize=True)\n",
    "\n",
    "oversampled_class_distribution = bank_df_train['Exited'].value_counts(normalize=True)\n",
    "print(oversampled_class_distribution)\n",
    "print(len(bank_df_train))"
   ]
  },
  {
   "cell_type": "code",
   "execution_count": 581,
   "metadata": {},
   "outputs": [
    {
     "name": "stdout",
     "output_type": "stream",
     "text": [
      "[0.63461568 0.31213008 0.56974709 ... 0.59702059 0.19984192 0.8792945 ]\n",
      "0      6\n",
      "1      1\n",
      "2     19\n",
      "3      3\n",
      "4      9\n",
      "5      8\n",
      "6     14\n",
      "7      1\n",
      "8      7\n",
      "9      7\n",
      "10    11\n",
      "11     5\n",
      "12    17\n",
      "13     9\n",
      "14    12\n",
      "15     9\n",
      "16    12\n",
      "17     8\n",
      "18    15\n",
      "19     1\n",
      "Name: Tenure, dtype: int32\n"
     ]
    }
   ],
   "source": [
    "# bank_df_train = bank_df_train.loc[:, bank_df_train.columns!='CustomerId'] # extract all columns except for CustomerId\n",
    "# print(bank_df_train[bank_df_train.duplicated() == True]) # check for duplicate columns \n",
    "\n",
    "# bank_df_test = bank_df_test.loc[:, bank_df_test.columns!='CustomerId']\n",
    "\n",
    "### DELETE OR COMMENT OUT THIS LATER ###\n",
    "# bank_df_train.drop_duplicates(subset=['CustomerId'], inplace=True)\n",
    "# bank_df_test.drop_duplicates(subset=['CustomerId'], inplace=True)\n",
    "### DELETE OR COMMENT OUT THIS LATER ###\n",
    "bank_df_train['Age'] = bank_df_train['Age'].astype(int)\n",
    "bank_df_test['Age'] = bank_df_test['Age'].astype(int)\n",
    "\n",
    "n_train = len(bank_df_train)\n",
    "n_test = len(bank_df_test)\n",
    "\n",
    "\n",
    "aug_2022 = datetime(2022, 8, 31)\n",
    "today = datetime.now()\n",
    "months_since_aug_2022 = (today.year - aug_2022.year) * 12 + today.month - aug_2022.month - 2\n",
    "def scale_int_to_months(int_val):\n",
    "    return int_val * (months_since_aug_2022 / 10)\n",
    "bank_df_train['Tenure'] = bank_df_train['Tenure'] * (months_since_aug_2022 / 10)\n",
    "bank_df_train['Tenure'] = bank_df_train['Tenure'].astype(int)\n",
    "\n",
    "random_numbers = np.random.rand(n_train)\n",
    "threshold = 0.5\n",
    "print(random_numbers)\n",
    "bank_df_train.loc[random_numbers > threshold, 'Tenure'] += 1\n",
    "\n",
    "print(bank_df_train['Tenure'].head(20))"
   ]
  },
  {
   "cell_type": "markdown",
   "metadata": {},
   "source": [
    "# Adding and populating features"
   ]
  },
  {
   "cell_type": "markdown",
   "metadata": {},
   "source": [
    "### 13. Churn Date: The exact date the customer decided to exit."
   ]
  },
  {
   "cell_type": "code",
   "execution_count": 582,
   "metadata": {},
   "outputs": [
    {
     "name": "stdout",
     "output_type": "stream",
     "text": [
      "    Tenure  ChurnDate\n",
      "0        6        NaT\n",
      "1        1        NaT\n",
      "2       19        NaT\n",
      "3        3        NaT\n",
      "4        9        NaT\n",
      "5        8 2023-06-17\n",
      "6       14        NaT\n",
      "7        1        NaT\n",
      "8        7        NaT\n",
      "9        7        NaT\n",
      "10      11        NaT\n",
      "11       5        NaT\n",
      "12      17        NaT\n",
      "13       9        NaT\n",
      "14      12        NaT\n",
      "15       9        NaT\n",
      "16      12        NaT\n",
      "17       8        NaT\n",
      "18      15 2024-01-19\n",
      "19       1 2023-09-06\n",
      "20      16        NaT\n",
      "21      15        NaT\n",
      "22      16        NaT\n",
      "23      17 2024-03-14\n",
      "24      10        NaT\n",
      "25      16 2024-01-26\n",
      "26       5        NaT\n",
      "27       3        NaT\n",
      "28       7 2024-01-14\n",
      "29      10        NaT\n"
     ]
    }
   ],
   "source": [
    "start_date = datetime(2022, 8, 31)\n",
    "end_date = end_date = datetime.now().strftime('%Y-%m-%d') \n",
    "\n",
    "# random_dates = pd.date_range(start=start_date, end=end_date, freq='D')\n",
    "# random_dates_str = random_dates.strftime('%Y-%m-%d')\n",
    "# bank_df_train['ChurnDate'] = np.where(bank_df_train['Exited'] == 1, np.random.choice(random_dates_str) , np.nan) \n",
    "def generate_random_date(exited, tenure_months):\n",
    "    if exited == 1:\n",
    "        tenure_days = tenure_months * 30\n",
    "        random_date = np.random.choice(pd.date_range(start=start_date + timedelta(days=tenure_days), end=end_date, freq='D'))\n",
    "        return random_date\n",
    "    else:\n",
    "        return np.nan\n",
    "bank_df_train['ChurnDate'] = bank_df_train.apply(lambda row: generate_random_date(row['Exited'], row['Tenure']), axis=1)\n",
    "\n",
    "# random_dates = pd.date_range(start=start_date, end=end_date, freq='D')\n",
    "# random_dates_str = random_dates.strftime('%Y-%m-%d')\n",
    "# bank_df_train['ChurnDate'] = np.where(bank_df_train['Exited'] == 1, np.random.choice(random_dates_str) , np.nan) \n",
    "# bank_df_train['ChurnDate'] = pd.to_datetime(bank_df_train['ChurnDate'])\n",
    "print(bank_df_train[['Tenure', 'ChurnDate']].head(30))"
   ]
  },
  {
   "cell_type": "markdown",
   "metadata": {},
   "source": [
    "### months inactive\n"
   ]
  },
  {
   "cell_type": "code",
   "execution_count": 583,
   "metadata": {},
   "outputs": [
    {
     "name": "stdout",
     "output_type": "stream",
     "text": [
      "0     0\n",
      "1     0\n",
      "2     0\n",
      "3     0\n",
      "4     0\n",
      "5     0\n",
      "6     0\n",
      "7     0\n",
      "8     2\n",
      "9     0\n",
      "10    0\n",
      "11    2\n",
      "12    0\n",
      "13    0\n",
      "14    0\n",
      "15    0\n",
      "16    0\n",
      "17    0\n",
      "18    1\n",
      "19    0\n",
      "Name: MonthsInactive, dtype: int32\n"
     ]
    }
   ],
   "source": [
    "np.random.seed(3101)\n",
    "bank_df_train['MonthsInactive'] = np.minimum(np.random.normal(0.5, 1.5, n_train), bank_df_train['Tenure'] * 12)\n",
    "bank_df_train['MonthsInactive'] = np.maximum(bank_df_train['MonthsInactive'], 0)\n",
    "\n",
    "bank_df_test['MonthsInactive'] = bank_df_test.apply(lambda row: \n",
    "    np.random.normal(0.5, 1.5) if row['IsActiveMember'] == 0 else 0,\n",
    "    axis=1)\n",
    "\n",
    "\n",
    "def set_max_to_tenure(row):\n",
    "    return min(row['MonthsInactive'], row['Tenure'])\n",
    "\n",
    "bank_df_train['MonthsInactive'] = np.maximum(bank_df_train['MonthsInactive'], 0)\n",
    "bank_df_train['MonthsInactive'] = bank_df_train.apply(set_max_to_tenure, axis=1)\n",
    "bank_df_train['MonthsInactive'] = bank_df_train['MonthsInactive'].astype(int)\n",
    "bank_df_test['MonthsInactive'] = np.maximum(bank_df_test['MonthsInactive'], 0)\n",
    "bank_df_test['MonthsInactive'] = bank_df_test.apply(set_max_to_tenure, axis=1)\n",
    "bank_df_test['MonthsInactive'] = bank_df_test['MonthsInactive'].astype(int)\n",
    "\n",
    "bank_df_train['ChurnDate'] = pd.to_datetime(bank_df_train['ChurnDate'])\n",
    "current_date = pd.Timestamp.today()\n",
    "bank_df_train['MonthsInactive'] = (current_date - bank_df_train['ChurnDate']) // pd.Timedelta(days=30)\n",
    "\n",
    "\n",
    "# print(bank_df_train['MonthsInactive'].head(20))\n",
    "print(bank_df_test['MonthsInactive'].head(20))"
   ]
  },
  {
   "attachments": {
    "image.png": {
     "image/png": "[encoded data removed]"
    }
   },
   "cell_type": "markdown",
   "metadata": {},
   "source": [
    "### 15.Transaction History Freq\n",
    "Detailed transaction data offers insights into spending patterns and engagement. (Transaction frequency in the last 28 days)\n",
    "\n",
    "![image.png](attachment:image.png)\n",
    "\n",
    "\n",
    "inr to sgd is * 0.016"
   ]
  },
  {
   "cell_type": "code",
   "execution_count": 584,
   "metadata": {},
   "outputs": [],
   "source": [
    "# transaction_df = pd.read_excel('./data/transaction_history.xlsx')\n",
    "\n",
    "# # print(transaction_df.head())\n",
    "# transaction_df['DATE'] = pd.to_datetime(transaction_df['DATE'])\n",
    "\n",
    "# grouped_df = transaction_df.groupby('Account No')\n",
    "\n",
    "# results = []\n",
    "# for group_name, group_data in grouped_df:\n",
    "#     # Get max and min dates for the group\n",
    "#     max_date = group_data['DATE'].max()\n",
    "#     min_date = max_date - pd.Timedelta(days=28)\n",
    "    \n",
    "#     # Filter group data for transactions within the date range\n",
    "#     filtered_group = group_data[(group_data['DATE'] >= min_date) & (group_data['DATE'] <= max_date)]\n",
    "    \n",
    "#     # Calculate transaction frequency and amount for the group\n",
    "#     transaction_frequency = len(filtered_group)\n",
    "#     transaction_amount = filtered_group['DEPOSIT AMT'].sum()\n",
    "    \n",
    "#     # Append results to the list\n",
    "#     results.append({\n",
    "#         'Account No': group_name,\n",
    "#         'Total Transaction Amount': transaction_amount,\n",
    "#         'Transaction Frequency': transaction_frequency\n",
    "#     })\n",
    "\n",
    "# # Create DataFrame from results\n",
    "# result_df = pd.DataFrame(results)\n",
    "\n",
    "# result_df['Total Transaction Amount'] = result_df['Total Transaction Amount'].astype(int)\n",
    "# pd.options.display.float_format = '{:,.0f}'.format\n",
    "# # print(result_df['Total Transaction Amount'])\n",
    "\n",
    "# # print(\"Minimum date in the dataset:\", min_date)\n",
    "# # print(\"Maximum date in the dataset:\", max_date)\n",
    "\n",
    "# kde_freq = gaussian_kde(result_df['Transaction Frequency'])\n",
    "# kde_amnt = gaussian_kde(result_df['Total Transaction Amount'])\n",
    "# # print(result_df['Total Transaction Amount'])\n",
    "\n",
    "# fake_data_freq = kde_freq.resample(len(bank_df_train)).flatten()\n",
    "# fake_data_freq = np.round(fake_data_freq).astype(int)\n",
    "# bank_df_train['TransactionFreq'] = fake_data_freq\n",
    "# fake_data_freq = kde_freq.resample(len(bank_df_test)).flatten()\n",
    "# fake_data_freq = np.round(fake_data_freq).astype(int)\n",
    "# bank_df_test['TransactionFreq'] = fake_data_freq\n",
    "\n",
    "# # fake_data_amt = kde_amnt.resample(len(bank_df_train)).flatten()\n",
    "# # # fake_data_amt = np.round(fake_data_amt).astype(int)\n",
    "# # bank_df_train['TransactionAmnt'] = fake_data_amt\n",
    "# # fake_data_amt = kde_amnt.resample(len(bank_df_test)).flatten()\n",
    "# # # fake_data_amt = np.round(fake_data_amt).astype(int)\n",
    "# # bank_df_test['TransactionAmnt'] = fake_data_amt\n",
    "\n",
    "# # print(bank_df_train['TransactionAmnt'].head())\n",
    "# date_28_days_ago = datetime.now() - timedelta(days=28)\n",
    "\n",
    "# bank_df_train['TransactionFreq'] = np.where(\n",
    "#     (bank_df_train['ChurnDate'] <= date_28_days_ago),\n",
    "#     0,\n",
    "#     bank_df_train['TransactionFreq']\n",
    "# )\n",
    "\n",
    "# bank_df_test['TransactionFreq'] = np.where(\n",
    "#     (bank_df_test['IsActiveMember'] == 0),\n",
    "#     0,\n",
    "#     bank_df_test['TransactionFreq']\n",
    "# )\n",
    "\n",
    "# bank_df_train['TransactionFreq'] = np.maximum(bank_df_train['TransactionFreq'], 0)\n",
    "# bank_df_test['TransactionFreq'] = np.maximum(bank_df_test['TransactionFreq'], 0)\n",
    "\n",
    "# min_train_value = bank_df_train['TransactionFreq'].min()\n",
    "# max_train_value = bank_df_train['TransactionFreq'].max()\n",
    "# min_test_value = bank_df_test['TransactionFreq'].min()\n",
    "# max_test_value = bank_df_test['TransactionFreq'].max()\n",
    "\n",
    "# def scale_transaction_freq_train(freq):\n",
    "#     scaled_freq = ((freq - min_train_value) / (max_train_value - min_train_value)) * 150\n",
    "#     return scaled_freq\n",
    "\n",
    "# def scale_transaction_freq_test(freq):\n",
    "#     scaled_freq = ((freq - min_test_value) / (max_test_value - min_test_value)) * 150\n",
    "#     return scaled_freq\n",
    "\n",
    "# bank_df_train['TransactionFreq'] = bank_df_train['TransactionFreq'].apply(scale_transaction_freq_train).astype(int)\n",
    "\n",
    "# bank_df_test['TransactionFreq'] = bank_df_test['TransactionFreq'].apply(scale_transaction_freq_test).astype(int)\n",
    "\n",
    "# print(bank_df_train[['ChurnDate', 'TransactionFreq']].head(20))"
   ]
  },
  {
   "cell_type": "code",
   "execution_count": 585,
   "metadata": {},
   "outputs": [
    {
     "name": "stdout",
     "output_type": "stream",
     "text": [
      "   TransactionFreq  TransactionAmt\n",
      "0               44     1451.211025\n",
      "1                7     1197.820663\n",
      "2                5     1975.873397\n",
      "3               58     1159.449547\n",
      "4                7     1201.936091\n",
      "5                0        0.000000\n",
      "6                8      981.293566\n",
      "7               56     1029.603861\n",
      "8                5      941.718586\n",
      "9               33      254.669775\n"
     ]
    },
    {
     "name": "stderr",
     "output_type": "stream",
     "text": [
      "C:\\Users\\Ethan\\AppData\\Local\\Temp\\ipykernel_41856\\2253686512.py:5: UserWarning: Parsing dates in %d/%m/%Y %H:%M:%S format when dayfirst=False (the default) was specified. Pass `dayfirst=True` or specify a format to silence this warning.\n",
      "  trans_df['Date'] = pd.to_datetime(trans_df['Date'], errors='coerce')\n"
     ]
    }
   ],
   "source": [
    "from sklearn.neighbors import KernelDensity\n",
    "\n",
    "trans_df = pd.read_csv('./data/Daily Household Transactions.csv')\n",
    "\n",
    "trans_df['Date'] = pd.to_datetime(trans_df['Date'], errors='coerce')\n",
    "\n",
    "trans_df = trans_df.dropna(subset=['Date'])\n",
    "\n",
    "trans_df['Date'] = trans_df['Date'].dt.strftime('%Y-%m-%d')\n",
    "\n",
    "trans_df['Year'] = trans_df['Date'].str[:4].astype(int)\n",
    "trans_df['Month'] = trans_df['Date'].str[5:7].astype(int)\n",
    "trans_df['Day'] = trans_df['Date'].str[8:10].astype(int)\n",
    "# print(trans_df['Date'].head(20))\n",
    "\n",
    "exchange_rate_inr_to_sgd = 0.016\n",
    "trans_df['Amount'] = trans_df['Amount'] * exchange_rate_inr_to_sgd\n",
    "trans_df['Amount'] = trans_df['Amount'].round(2)\n",
    "\n",
    "\n",
    "monthly_data = trans_df.groupby(['Year', 'Month']).agg({'Amount': 'sum', 'Date': 'count'}).reset_index()\n",
    "monthly_data.rename(columns={'Amount': 'TotalAmount', 'Date': 'Frequency'}, inplace=True)\n",
    "# print(trans_df.head())\n",
    "\n",
    "\n",
    "kde_freq = KernelDensity(bandwidth=1.0, kernel='gaussian')\n",
    "kde_amount = KernelDensity(bandwidth=1.0, kernel='gaussian')\n",
    "\n",
    "# Fit KDE models to frequency and total amount data\n",
    "kde_freq.fit(monthly_data['Frequency'].values.reshape(-1, 1))\n",
    "kde_amount.fit(monthly_data['TotalAmount'].values.reshape(-1, 1))\n",
    "\n",
    "# Generate new samples using KDE based on the number of rows in bank_df_train\n",
    "new_freq_samples = kde_freq.sample(len(bank_df_train)).reshape(-1)\n",
    "new_amount_samples = kde_amount.sample(len(bank_df_train)).reshape(-1)\n",
    "\n",
    "new_freq_samples_2 = kde_freq.sample(len(bank_df_test)).reshape(-1)\n",
    "new_amount_samples_2 = kde_amount.sample(len(bank_df_test)).reshape(-1)\n",
    "\n",
    "# Add generated samples to the DataFrame bank_df_train\n",
    "bank_df_train['TransactionFreq'] = new_freq_samples\n",
    "bank_df_train['TransactionFreq'] = bank_df_train['TransactionFreq'].astype(int)\n",
    "bank_df_train['TransactionAmt'] = new_amount_samples\n",
    "\n",
    "bank_df_test['TransactionFreq'] = new_freq_samples_2\n",
    "bank_df_test['TransactionFreq'] = bank_df_test['TransactionFreq'].astype(int)\n",
    "bank_df_test['TransactionAmt'] = new_amount_samples_2\n",
    "\n",
    "bank_df_train.loc[(bank_df_train['Exited'] == 1) | (bank_df_train['MonthsInactive'] > 0), ['TransactionFreq', 'TransactionAmt']] = 0\n",
    "\n",
    "print(bank_df_train[['TransactionFreq', 'TransactionAmt']].head(10))"
   ]
  },
  {
   "cell_type": "code",
   "execution_count": 586,
   "metadata": {},
   "outputs": [],
   "source": [
    "# from sklearn.neighbors import KernelDensity\n",
    "\n",
    "# trans_df = pd.read_csv('./data/Daily Household Transactions.csv')\n",
    "# trans_df['Date'] = pd.to_datetime(trans_df['Date'], errors='coerce')\n",
    "# trans_df = trans_df.dropna(subset=['Date'])\n",
    "# trans_df = trans_df[~((trans_df['Date'].dt.year == 2018) & (trans_df['Date'].dt.month == 9))]\n",
    "\n",
    "# max_date = trans_df['Date'].max()\n",
    "# today = pd.to_datetime('today').normalize()\n",
    "# date_diff = today - max_date\n",
    "# trans_df['Date'] += date_diff\n",
    "\n",
    "# exchange_rate_inr_to_sgd = 0.016\n",
    "# trans_df['Amount'] = trans_df['Amount'] * exchange_rate_inr_to_sgd\n",
    "# trans_df['Amount'] = trans_df['Amount'].round(2)\n",
    "\n",
    "# print(trans_df.head())\n",
    "\n"
   ]
  },
  {
   "cell_type": "markdown",
   "metadata": {},
   "source": [
    "### 16. Transaction History Amt\n",
    "Detailed transaction data offers insights into spending patterns and engagement. (Transaction amount in the last 28 days)\n"
   ]
  },
  {
   "cell_type": "code",
   "execution_count": 587,
   "metadata": {},
   "outputs": [],
   "source": [
    "# # Import reference set\n",
    "# # Warning: File size slightly big\n",
    "# trans_hist_data = pd.read_excel('./data/transaction_history.xlsx')\n",
    "\n",
    "# trans_hist_data.dtypes\n",
    "# # trans_hist_data.describe()\n",
    "\n",
    "# # Extract the most recent 2 sets of 3 months assuming the most recent data is the most accurate\n",
    "# trans_1st_3mths = trans_hist_data[(trans_hist_data['DATE'] >= pd.to_datetime('2019-01')) & (trans_hist_data['DATE'] <= pd.to_datetime('2019-03'))]\n",
    "# trans_2ns_3mths = trans_hist_data[(trans_hist_data['DATE'] >= pd.to_datetime('2018-10')) & (trans_hist_data['DATE'] <= pd.to_datetime('2018-12'))]\n",
    "\n",
    "# trans_dist_data = trans_1st_3mths.groupby('Account No').agg({'VALUE DATE': 'size', 'WITHDRAWAL AMT':'sum', 'DEPOSIT AMT': 'sum'}).reset_index()\n",
    "# trans_dist_data['TOTAL AMT'] = -trans_dist_data['WITHDRAWAL AMT'] + trans_dist_data['DEPOSIT AMT']\n",
    "\n",
    "# # kde = gaussian_kde(trans_dist_data['VALUE DATE'])\n",
    "# # train['Transaction Freq'] = abs(kde.resample(n_train).flatten()).astype(int)\n",
    "\n",
    "# kde = gaussian_kde(trans_dist_data['TOTAL AMT'])\n",
    "# bank_df_train['Cashflow'] = kde.resample(n_train).flatten().astype(float)\n",
    "# bank_df_test['Cashflow'] = kde.resample(n_test).flatten().astype(float)\n",
    "\n",
    "# date_28_days_ago = datetime.now() - timedelta(days=28)\n",
    "\n",
    "# bank_df_train['Cashflow'] = np.where(\n",
    "#     (bank_df_train['ChurnDate'] <= date_28_days_ago),\n",
    "#     0,\n",
    "#     bank_df_train['Cashflow']\n",
    "# )\n",
    "\n",
    "# bank_df_train['Cashflow'] = np.where(\n",
    "#     (bank_df_train['TransactionFreq'] == 0),\n",
    "#     0,\n",
    "#     bank_df_train['Cashflow']\n",
    "# )\n",
    "\n",
    "# bank_df_test['Cashflow'] = np.where(\n",
    "#     (bank_df_test['TransactionFreq'] == 0),\n",
    "#     0,\n",
    "#     bank_df_test['Cashflow']\n",
    "# )\n",
    "\n",
    "# new_min = -20000\n",
    "# new_max = 20000\n",
    "\n",
    "# current_min = bank_df_train['Cashflow'].min()\n",
    "# current_max = bank_df_train['Cashflow'].max()\n",
    "\n",
    "# # Perform Min-Max scaling\n",
    "# bank_df_train['Cashflow'] = ((bank_df_train['Cashflow'] - current_min) / (current_max - current_min)) * (new_max - new_min) + new_min\n",
    "\n",
    "\n",
    "# print(bank_df_train[['ChurnDate', 'TransactionFreq', 'Cashflow']].head(20))\n",
    "# # print(bank_df_test[['TransactionFreq', 'TransactionAmt']].head(20))"
   ]
  },
  {
   "cell_type": "code",
   "execution_count": 588,
   "metadata": {},
   "outputs": [],
   "source": [
    "#np.random.uniform(0, 1, size=bank_df_train.shape[0])\n",
    "\n",
    "#bank_df_train.loc[bank_df_train['TransactionAmt'] > bank_df_train['Balance'], 'TransactionAmt'] = bank_df_train.loc[bank_df_train['TransactionAmt'] > bank_df_train['Balance'], 'TransactionAmt'] * unif[bank_df_train['TransactionAmt'] > bank_df_train['Balance']]\n",
    "#bank_df_train['TransactionAmt'] > bank_df_train['Balance'] == True\n",
    "\n",
    "# print(bank_df_train['TransactionAmt'].head(20))"
   ]
  },
  {
   "cell_type": "markdown",
   "metadata": {},
   "source": [
    "### 17.Service Support Frequency (per mth)"
   ]
  },
  {
   "cell_type": "code",
   "execution_count": 589,
   "metadata": {},
   "outputs": [
    {
     "name": "stdout",
     "output_type": "stream",
     "text": [
      "0         4\n",
      "1        23\n",
      "2         7\n",
      "3         3\n",
      "4        28\n",
      "         ..\n",
      "45221     8\n",
      "97560    42\n",
      "51170    14\n",
      "77844     7\n",
      "46445    11\n",
      "Name: ServiceSupportFrequency, Length: 295147, dtype: int32\n"
     ]
    }
   ],
   "source": [
    "\n",
    "support_freq = pd.read_csv(\"./data/support_frequency.csv\")\n",
    "kde = gaussian_kde(support_freq['no_of_cases'])\n",
    "bank_df_train['ServiceSupportFrequency'] = abs(kde.resample(n_train).flatten()/12).astype(int)\n",
    "bank_df_test['ServiceSupportFrequency'] = abs(kde.resample(n_test).flatten()/12).astype(int)\n",
    "\n",
    "print(bank_df_train['ServiceSupportFrequency'])\n"
   ]
  },
  {
   "cell_type": "markdown",
   "metadata": {},
   "source": [
    "### 18.Months Inactive\n",
    "Indicates customer disengagement, potentially preceding churn. "
   ]
  },
  {
   "cell_type": "code",
   "execution_count": 590,
   "metadata": {},
   "outputs": [],
   "source": [
    "# np.random.seed(3101)\n",
    "# bank_df_train['MonthsInactive'] = np.minimum(np.random.normal(0.5, 1.5, n_train), bank_df_train['Tenure'] * 12)\n",
    "# bank_df_train['MonthsInactive'] = np.maximum(bank_df_train['MonthsInactive'], 0)\n",
    "\n",
    "# bank_df_test['MonthsInactive'] = bank_df_test.apply(lambda row: \n",
    "#     np.random.normal(0.5, 1.5) if row['TransactionFreq'] == 0 else 0,\n",
    "#     axis=1)\n",
    "\n",
    "# def set_max_to_tenure(row):\n",
    "#     return min(row['MonthsInactive'], row['Tenure'])\n",
    "\n",
    "# bank_df_train['MonthsInactive'] = np.maximum(bank_df_train['MonthsInactive'], 0)\n",
    "# bank_df_train['MonthsInactive'] = bank_df_train.apply(set_max_to_tenure, axis=1)\n",
    "# bank_df_train['MonthsInactive'] = bank_df_train['MonthsInactive'].astype(int)\n",
    "# bank_df_test['MonthsInactive'] = np.maximum(bank_df_test['MonthsInactive'], 0)\n",
    "# bank_df_test['MonthsInactive'] = bank_df_test.apply(set_max_to_tenure, axis=1)\n",
    "# bank_df_test['MonthsInactive'] = bank_df_test['MonthsInactive'].astype(int)\n",
    "\n",
    "\n",
    "\n",
    "# # print(bank_df_train['MonthsInactive'].head(20))\n",
    "# print(bank_df_test['MonthsInactive'].head(20))"
   ]
  },
  {
   "cell_type": "markdown",
   "metadata": {},
   "source": [
    "### 19.Net Promoter Score (NPS)\n",
    "Measure of customer satisfaction and loyalty.\n",
    "Scaled from 1 to 10 \n"
   ]
  },
  {
   "cell_type": "code",
   "execution_count": 591,
   "metadata": {},
   "outputs": [
    {
     "name": "stdout",
     "output_type": "stream",
     "text": [
      "count   295147.000000\n",
      "mean         5.739882\n",
      "std          2.984798\n",
      "min          0.000000\n",
      "25%          4.000000\n",
      "50%          7.000000\n",
      "75%          8.000000\n",
      "max         10.000000\n",
      "Name: NPS, dtype: float64\n"
     ]
    }
   ],
   "source": [
    "nps = pd.read_csv('./data/NPS.csv')\n",
    "\n",
    "nps_data = nps.groupby('Customer Name').agg({'NPS':'mean'}).reset_index()\n",
    "kde = gaussian_kde(nps_data['NPS'])\n",
    "bank_df_train['NPS'] = abs(kde.resample(n_train).flatten()).astype(int)\n",
    "bank_df_test['NPS'] = abs(kde.resample(n_test).flatten()).astype(int)\n",
    "bank_df_train['NPS'] = np.ceil(bank_df_train['NPS']/12*10)\n",
    "bank_df_test['NPS'] = np.ceil(bank_df_test['NPS']/12*10)\n",
    "print(bank_df_train['NPS'].describe())"
   ]
  },
  {
   "cell_type": "markdown",
   "metadata": {},
   "source": [
    "### 20.Education\n",
    "Education level might influence financial behavior and churn.\n",
    "Shld be correlated to 5. Acct Balance\n"
   ]
  },
  {
   "cell_type": "code",
   "execution_count": 592,
   "metadata": {},
   "outputs": [
    {
     "name": "stdout",
     "output_type": "stream",
     "text": [
      "0           O/N\n",
      "1     Bachelors\n",
      "2           O/N\n",
      "3          PSLE\n",
      "4             A\n",
      "5             A\n",
      "6       Masters\n",
      "7       Masters\n",
      "8     Bachelors\n",
      "9           O/N\n",
      "10         PSLE\n",
      "11          O/N\n",
      "12            A\n",
      "13    Bachelors\n",
      "14     Post-Doc\n",
      "15            A\n",
      "16     Post-Doc\n",
      "17            A\n",
      "18      Diploma\n",
      "19      Masters\n",
      "20     Post-Doc\n",
      "21    Bachelors\n",
      "22          O/N\n",
      "23      Diploma\n",
      "24    Bachelors\n",
      "25          O/N\n",
      "26      Diploma\n",
      "27          PHD\n",
      "28         PSLE\n",
      "29          PHD\n",
      "Name: Education, dtype: object\n"
     ]
    }
   ],
   "source": [
    "education_marital = pd.read_csv(\"./data/education_marital.csv\")\n",
    "\n",
    "education = education_marital['Education_Level'].unique()\n",
    "\n",
    "edu, counts = np.unique(education, return_counts=True)\n",
    "value_to_index = {value: i for i, value in enumerate(edu)}\n",
    "numerical_data = [value_to_index[value] for value in education]\n",
    "\n",
    "kde = gaussian_kde(numerical_data)\n",
    "\n",
    "x_values = np.unique(numerical_data)\n",
    "pdf_values = kde(x_values)\n",
    "\n",
    "pmf = pdf_values / np.sum(pdf_values)\n",
    "\n",
    "resampled_indices = np.random.choice(x_values, size=n_train, p=pmf)\n",
    "resampled_indices_test = np.random.choice(x_values, size=n_test, p=pmf)\n",
    "\n",
    "resampled_values = [edu[index] for index in resampled_indices]\n",
    "resampled_values_test = [edu[index] for index in resampled_indices_test]\n",
    "\n",
    "bank_df_train['Education'] = resampled_values\n",
    "bank_df_test['Education'] = resampled_values_test\n",
    "\n",
    "def convert_phd_to_postdoc(edu_level):\n",
    "    if edu_level == 'PHD':\n",
    "        # Randomly choose between 'PHD' and 'Post-Doc' with equal probability\n",
    "        return np.random.choice(['PHD', 'Post-Doc'])\n",
    "    else:\n",
    "        return edu_level  # Keep other education levels unchanged\n",
    "\n",
    "bank_df_train['Education'].replace({'Unknown': 'PSLE'}, inplace=True)\n",
    "bank_df_train['Education'].replace({'Uneducated': 'O/N'}, inplace=True)\n",
    "bank_df_train['Education'].replace({'High School': 'A'}, inplace=True)\n",
    "bank_df_train['Education'].replace({'College': 'Diploma'}, inplace=True)\n",
    "bank_df_train['Education'].replace({'Graduate': 'Bachelors'}, inplace=True)\n",
    "bank_df_train['Education'].replace({'Post-Graduate': 'Masters'}, inplace=True)\n",
    "bank_df_train['Education'].replace({'Doctorate': 'PHD'}, inplace=True)\n",
    "\n",
    "bank_df_train['Education'] = bank_df_train['Education'].apply(convert_phd_to_postdoc)\n",
    "\n",
    "bank_df_test['Education'].replace({'Unknown': 'PSLE'}, inplace=True)\n",
    "bank_df_test['Education'].replace({'Uneducated': 'O/N'}, inplace=True)\n",
    "bank_df_test['Education'].replace({'High School': 'A'}, inplace=True)\n",
    "bank_df_test['Education'].replace({'College': 'Diploma'}, inplace=True)\n",
    "bank_df_test['Education'].replace({'Graduate': 'Bachelors'}, inplace=True)\n",
    "bank_df_test['Education'].replace({'Post-Graduate': 'Masters'}, inplace=True)\n",
    "bank_df_test['Education'].replace({'Doctorate': 'PHD'}, inplace=True)\n",
    "\n",
    "bank_df_test['Education'] = bank_df_test['Education'].apply(convert_phd_to_postdoc)\n",
    "\n",
    "print(bank_df_train['Education'].head(30))"
   ]
  },
  {
   "cell_type": "markdown",
   "metadata": {},
   "source": [
    "### 21.Employment Status\n",
    "Indicates financial stability, affecting churn likelihood. \n",
    "Shld be correlated to 5. Acct Balance & 21. Education  "
   ]
  },
  {
   "cell_type": "code",
   "execution_count": 593,
   "metadata": {},
   "outputs": [
    {
     "name": "stdout",
     "output_type": "stream",
     "text": [
      "0       Fulltime\n",
      "1       Parttime\n",
      "2       Fulltime\n",
      "3       Parttime\n",
      "4       Fulltime\n",
      "5       Parttime\n",
      "6       Parttime\n",
      "7        Student\n",
      "8       Fulltime\n",
      "9        Retired\n",
      "10      Fulltime\n",
      "11       Student\n",
      "12       Student\n",
      "13      Fulltime\n",
      "14    Unemployed\n",
      "15      Fulltime\n",
      "16      Parttime\n",
      "17       Student\n",
      "18      Fulltime\n",
      "19       Student\n",
      "Name: EmploymentStatus, dtype: object\n"
     ]
    }
   ],
   "source": [
    "employment = pd.read_csv(\"./data/employment.csv\")\n",
    "\n",
    "employment_data = employment['job'].unique()\n",
    "\n",
    "employment_status, counts = np.unique(employment_data, return_counts=True)\n",
    "value_to_index = {value: i for i, value in enumerate(employment_status)}\n",
    "numerical_data = [value_to_index[value] for value in employment_data]\n",
    "\n",
    "kde = gaussian_kde(numerical_data)\n",
    "\n",
    "x_values = np.unique(numerical_data)\n",
    "pdf_values = kde(x_values)\n",
    "pmf = pdf_values / np.sum(pdf_values)\n",
    "\n",
    "resampled_indices = np.random.choice(x_values, size=n_train, p=pmf)\n",
    "resampled_indices_test = np.random.choice(x_values, size=n_test, p=pmf)\n",
    "\n",
    "resampled_values = [employment_status[index] for index in resampled_indices]\n",
    "resampled_values_test = [employment_status[index] for index in resampled_indices_test]\n",
    "\n",
    "bank_df_train['EmploymentStatus'] = resampled_values\n",
    "bank_df_test['EmploymentStatus'] = resampled_values_test\n",
    "\n",
    "bank_df_train['EmploymentStatus'].replace({'admin.': 'Fulltime'}, inplace=True)\n",
    "bank_df_train['EmploymentStatus'].replace({'blue-collar': 'Fulltime'}, inplace=True)\n",
    "bank_df_train['EmploymentStatus'].replace({'entrepreneur': 'Fulltime'}, inplace=True)\n",
    "bank_df_train['EmploymentStatus'].replace({'housemaid': 'Parttime'}, inplace=True)\n",
    "bank_df_train['EmploymentStatus'].replace({'management': 'Fulltime'}, inplace=True)\n",
    "bank_df_train['EmploymentStatus'].replace({'retired': 'Retired'}, inplace=True)\n",
    "bank_df_train['EmploymentStatus'].replace({'student': 'Student'}, inplace=True)\n",
    "bank_df_train['EmploymentStatus'].replace({'services': 'Fulltime'}, inplace=True)\n",
    "bank_df_train['EmploymentStatus'].replace({'self-employed': 'Self-employed'}, inplace=True)\n",
    "bank_df_train['EmploymentStatus'].replace({'technician': 'Parttime'}, inplace=True)\n",
    "bank_df_train['EmploymentStatus'].replace({'unemployed': 'Unemployed'}, inplace=True)\n",
    "bank_df_train['EmploymentStatus'].replace({'unknown': 'Parttime'}, inplace=True)\n",
    "\n",
    "bank_df_test['EmploymentStatus'].replace({'admin.': 'Fulltime'}, inplace=True)\n",
    "bank_df_test['EmploymentStatus'].replace({'blue-collar': 'Fulltime'}, inplace=True)\n",
    "bank_df_test['EmploymentStatus'].replace({'entrepreneur': 'Fulltime'}, inplace=True)\n",
    "bank_df_test['EmploymentStatus'].replace({'housemaid': 'Parttime'}, inplace=True)\n",
    "bank_df_test['EmploymentStatus'].replace({'management': 'Fulltime'}, inplace=True)\n",
    "bank_df_test['EmploymentStatus'].replace({'retired': 'Retired'}, inplace=True)\n",
    "bank_df_test['EmploymentStatus'].replace({'student': 'Student'}, inplace=True)\n",
    "bank_df_test['EmploymentStatus'].replace({'services': 'Fulltime'}, inplace=True)\n",
    "bank_df_test['EmploymentStatus'].replace({'self-employed': 'Self-employed'}, inplace=True)\n",
    "bank_df_test['EmploymentStatus'].replace({'technician': 'Parttime'}, inplace=True)\n",
    "bank_df_test['EmploymentStatus'].replace({'unemployed': 'Unemployed'}, inplace=True)\n",
    "bank_df_test['EmploymentStatus'].replace({'unknown': 'Parttime'}, inplace=True)\n",
    "\n",
    "print(bank_df_train['EmploymentStatus'].head(20))"
   ]
  },
  {
   "attachments": {
    "image.png": {
     "image/png": "[encoded data removed]"
    }
   },
   "cell_type": "markdown",
   "metadata": {},
   "source": [
    "### 22.Marital Status\n",
    "Can impact financial decision-making and churn behavior. \n",
    "\n",
    "![image.png](attachment:image.png)"
   ]
  },
  {
   "cell_type": "code",
   "execution_count": 594,
   "metadata": {},
   "outputs": [
    {
     "name": "stdout",
     "output_type": "stream",
     "text": [
      "0     Divorced\n",
      "1     Divorced\n",
      "2     Divorced\n",
      "3       Single\n",
      "4       Single\n",
      "5       Single\n",
      "6      Married\n",
      "7      Married\n",
      "8       Single\n",
      "9     Divorced\n",
      "10    Divorced\n",
      "11      Single\n",
      "12    Divorced\n",
      "13    Divorced\n",
      "14      Single\n",
      "15     Married\n",
      "16    Divorced\n",
      "17     Married\n",
      "18      Single\n",
      "19    Divorced\n",
      "Name: MaritalStatus, dtype: object\n"
     ]
    }
   ],
   "source": [
    "education_marital = pd.read_csv(\"./data/education_marital.csv\")\n",
    "\n",
    "marital_status = education_marital['Marital_Status'].unique()\n",
    "\n",
    "marital, counts = np.unique(marital_status, return_counts=True)\n",
    "value_to_index = {value: i for i, value in enumerate(marital)}\n",
    "numerical_data = [value_to_index[value] for value in marital_status]\n",
    "\n",
    "kde = gaussian_kde(numerical_data)\n",
    "\n",
    "x_values = np.unique(numerical_data)\n",
    "pdf_values = kde(x_values)\n",
    "\n",
    "pmf = pdf_values / np.sum(pdf_values)\n",
    "\n",
    "resampled_indices = np.random.choice(x_values, size=n_train, p=pmf)\n",
    "resampled_indices_test = np.random.choice(x_values, size=n_test, p=pmf)\n",
    "\n",
    "resampled_values = [marital[index] for index in resampled_indices]\n",
    "resampled_values_test = [marital[index] for index in resampled_indices_test]\n",
    "\n",
    "bank_df_train['MaritalStatus'] = resampled_values\n",
    "bank_df_test['MaritalStatus'] = resampled_values_test\n",
    "\n",
    "bank_df_train['MaritalStatus'].replace({'Unknown': 'Divorced'}, inplace=True)\n",
    "bank_df_test['MaritalStatus'].replace({'Unknown': 'Divorced'}, inplace=True)\n",
    "\n",
    "print(bank_df_train['MaritalStatus'].head(20))"
   ]
  },
  {
   "cell_type": "markdown",
   "metadata": {},
   "source": [
    "### 23.Housing Status\n",
    "Reflects stability and long-term commitment, influencing churn. "
   ]
  },
  {
   "cell_type": "code",
   "execution_count": 595,
   "metadata": {},
   "outputs": [
    {
     "name": "stdout",
     "output_type": "stream",
     "text": [
      "   id  CustomerId         Surname  CreditScore Geography Gender  Age  Tenure  \\\n",
      "0   0    15674932  Okwudilichukwu          668    France   Male   33       6   \n",
      "1   1    15749177   Okwudiliolisa          627    France   Male   33       1   \n",
      "2   2    15694510           Hsueh          678    France   Male   40      19   \n",
      "3   3    15741417             Kao          581    France   Male   34       3   \n",
      "4   4    15766172       Chiemenam          716     Spain   Male   33       9   \n",
      "\n",
      "        Balance  NumOfProducts  ...  ChurnDate  MonthsInactive  \\\n",
      "0 133877.387693              2  ...        NaT             NaN   \n",
      "1 124654.362135              2  ...        NaT             NaN   \n",
      "2 152137.330246              2  ...        NaT             NaN   \n",
      "3 148882.540000              1  ...        NaT             NaN   \n",
      "4 118487.514477              2  ...        NaT             NaN   \n",
      "\n",
      "   TransactionFreq  TransactionAmt ServiceSupportFrequency       NPS  \\\n",
      "0               44     1451.211025                       4  1.000000   \n",
      "1                7     1197.820663                      23  8.000000   \n",
      "2                5     1975.873397                       7  8.000000   \n",
      "3               58     1159.449547                       3  7.000000   \n",
      "4                7     1201.936091                      28 10.000000   \n",
      "\n",
      "   Education  EmploymentStatus  MaritalStatus  HousingStatus  \n",
      "0        O/N          Fulltime       Divorced         rented  \n",
      "1  Bachelors          Parttime       Divorced   norent_noown  \n",
      "2        O/N          Fulltime       Divorced         rented  \n",
      "3       PSLE          Parttime         Single         rented  \n",
      "4          A          Fulltime         Single         rented  \n",
      "\n",
      "[5 rows x 24 columns]\n"
     ]
    }
   ],
   "source": [
    "housing = pd.read_csv(\"./data/housing.csv\")\n",
    "\n",
    "housing_status = housing['House_Ownership'].unique()\n",
    "\n",
    "house, counts = np.unique(housing_status, return_counts=True)\n",
    "value_to_index = {value: i for i, value in enumerate(house)}\n",
    "numerical_data = [value_to_index[value] for value in housing_status]\n",
    "\n",
    "kde = gaussian_kde(numerical_data)\n",
    "\n",
    "x_values = np.unique(numerical_data)\n",
    "pdf_values = kde(x_values)\n",
    "\n",
    "pmf = pdf_values / np.sum(pdf_values)\n",
    "\n",
    "resampled_indices = np.random.choice(x_values, size=n_train, p=pmf)\n",
    "resampled_indices_test = np.random.choice(x_values, size=n_test, p=pmf)\n",
    "\n",
    "resampled_values = [house[index] for index in resampled_indices]\n",
    "resampled_values_test = [house[index] for index in resampled_indices_test]\n",
    "\n",
    "bank_df_train['HousingStatus'] = resampled_values\n",
    "bank_df_test['HousingStatus'] = resampled_values_test\n",
    "\n",
    "\n",
    "print(bank_df_train.head())"
   ]
  },
  {
   "cell_type": "markdown",
   "metadata": {},
   "source": [
    "### 24.Number of Dependents\n",
    "Impacts financial priorities and risk tolerance, affecting churn."
   ]
  },
  {
   "cell_type": "code",
   "execution_count": 596,
   "metadata": {},
   "outputs": [
    {
     "name": "stdout",
     "output_type": "stream",
     "text": [
      "   id  CustomerId         Surname  CreditScore Geography Gender  Age  Tenure  \\\n",
      "0   0    15674932  Okwudilichukwu          668    France   Male   33       6   \n",
      "1   1    15749177   Okwudiliolisa          627    France   Male   33       1   \n",
      "2   2    15694510           Hsueh          678    France   Male   40      19   \n",
      "3   3    15741417             Kao          581    France   Male   34       3   \n",
      "4   4    15766172       Chiemenam          716     Spain   Male   33       9   \n",
      "\n",
      "        Balance  NumOfProducts  ...  MonthsInactive  TransactionFreq  \\\n",
      "0 133877.387693              2  ...             NaN               44   \n",
      "1 124654.362135              2  ...             NaN                7   \n",
      "2 152137.330246              2  ...             NaN                5   \n",
      "3 148882.540000              1  ...             NaN               58   \n",
      "4 118487.514477              2  ...             NaN                7   \n",
      "\n",
      "   TransactionAmt  ServiceSupportFrequency       NPS  Education  \\\n",
      "0     1451.211025                        4  1.000000        O/N   \n",
      "1     1197.820663                       23  8.000000  Bachelors   \n",
      "2     1975.873397                        7  8.000000        O/N   \n",
      "3     1159.449547                        3  7.000000       PSLE   \n",
      "4     1201.936091                       28 10.000000          A   \n",
      "\n",
      "   EmploymentStatus  MaritalStatus  HousingStatus  Dependents  \n",
      "0          Fulltime       Divorced         rented           4  \n",
      "1          Parttime       Divorced   norent_noown           0  \n",
      "2          Fulltime       Divorced         rented           2  \n",
      "3          Parttime         Single         rented           2  \n",
      "4          Fulltime         Single         rented           5  \n",
      "\n",
      "[5 rows x 25 columns]\n"
     ]
    }
   ],
   "source": [
    "dependents_df = pd.read_csv('./data/education+dependents+maritalstatus/BankChurners.csv')\n",
    "\n",
    "kde = gaussian_kde(dependents_df['Dependent_count'])\n",
    "\n",
    "bank_df_train['Dependents'] = np.maximum(kde.resample(len(bank_df_train)).flatten(), 0)\n",
    "bank_df_train['Dependents'] = np.round(bank_df_train['Dependents']).astype(int)\n",
    "bank_df_test['Dependents'] = np.maximum(kde.resample(len(bank_df_test)).flatten(), 0)\n",
    "bank_df_test['Dependents'] = np.round(bank_df_test['Dependents']).astype(int)\n",
    "\n",
    "print(bank_df_train.head())"
   ]
  },
  {
   "cell_type": "markdown",
   "metadata": {},
   "source": [
    "### 25.Marketing Offers Accepted\n",
    "Indicates responsiveness to incentives, affecting churn. Range 0-1, (percentage of marketing offers they accept, e.g.5 offer, 4 accepted, the value of the column 0.8)"
   ]
  },
  {
   "cell_type": "code",
   "execution_count": 597,
   "metadata": {},
   "outputs": [
    {
     "name": "stdout",
     "output_type": "stream",
     "text": [
      "   id  CustomerId         Surname  CreditScore Geography Gender  Age  Tenure  \\\n",
      "0   0    15674932  Okwudilichukwu          668    France   Male   33       6   \n",
      "1   1    15749177   Okwudiliolisa          627    France   Male   33       1   \n",
      "2   2    15694510           Hsueh          678    France   Male   40      19   \n",
      "3   3    15741417             Kao          581    France   Male   34       3   \n",
      "4   4    15766172       Chiemenam          716     Spain   Male   33       9   \n",
      "\n",
      "        Balance  NumOfProducts  ...  TransactionFreq  TransactionAmt  \\\n",
      "0 133877.387693              2  ...               44     1451.211025   \n",
      "1 124654.362135              2  ...                7     1197.820663   \n",
      "2 152137.330246              2  ...                5     1975.873397   \n",
      "3 148882.540000              1  ...               58     1159.449547   \n",
      "4 118487.514477              2  ...                7     1201.936091   \n",
      "\n",
      "   ServiceSupportFrequency       NPS  Education  EmploymentStatus  \\\n",
      "0                        4  1.000000        O/N          Fulltime   \n",
      "1                       23  8.000000  Bachelors          Parttime   \n",
      "2                        7  8.000000        O/N          Fulltime   \n",
      "3                        3  7.000000       PSLE          Parttime   \n",
      "4                       28 10.000000          A          Fulltime   \n",
      "\n",
      "   MaritalStatus  HousingStatus  Dependents  MarketingOffersAcceptance  \n",
      "0       Divorced         rented           4                   0.015571  \n",
      "1       Divorced   norent_noown           0                   0.243957  \n",
      "2       Divorced         rented           2                   0.000667  \n",
      "3         Single         rented           2                   0.000000  \n",
      "4         Single         rented           5                   0.000000  \n",
      "\n",
      "[5 rows x 26 columns]\n"
     ]
    }
   ],
   "source": [
    "marketing_df = pd.read_csv('./data/marketing offers/marketing_campaign.csv', sep=';')\n",
    "\n",
    "\n",
    "marketing_df[\"MarketingOffersAcceptance\"] = (marketing_df['AcceptedCmp1'] + marketing_df['AcceptedCmp2'] + marketing_df['AcceptedCmp3'] + marketing_df['AcceptedCmp4'] + marketing_df['AcceptedCmp5']) / 5\n",
    "# print(marketing_df.head())\n",
    "\n",
    "kde = gaussian_kde(marketing_df['MarketingOffersAcceptance'])\n",
    "\n",
    "bank_df_train['MarketingOffersAcceptance'] = np.maximum(kde.resample(len(bank_df_train)).flatten(), 0)\n",
    "bank_df_test['MarketingOffersAcceptance'] = np.maximum(kde.resample(len(bank_df_test)).flatten(), 0)\n",
    "\n",
    "print(bank_df_train.head())"
   ]
  },
  {
   "cell_type": "markdown",
   "metadata": {},
   "source": [
    "### 26.Channel Used for Transactions\n",
    "Reflects preferred banking channels and engagement level. \n",
    "faker"
   ]
  },
  {
   "cell_type": "code",
   "execution_count": 598,
   "metadata": {},
   "outputs": [
    {
     "name": "stdout",
     "output_type": "stream",
     "text": [
      "0                                             FAST\n",
      "1    Intrabank transfer (GXS Savings Account only)\n",
      "2    Intrabank transfer (GXS Savings Account only)\n",
      "3                                           PayNow\n",
      "4                                           PayNow\n",
      "5                                             FAST\n",
      "6                                       Debit card\n",
      "7    Intrabank transfer (GXS Savings Account only)\n",
      "8                                       Debit card\n",
      "9                                       Debit card\n",
      "Name: PaymentMethod, dtype: object\n"
     ]
    }
   ],
   "source": [
    "transaction_channel_df = pd.read_csv('./data/main_payment_method/WA_Fn-UseC_-Telco-Customer-Churn.csv')\n",
    "\n",
    "# print(transaction_channel_df.head())\n",
    "methods = transaction_channel_df['PaymentMethod'].unique().tolist()\n",
    "# print(methods)\n",
    "faked_data = [random.choice(methods) for _ in range(len(bank_df_train))]\n",
    "faked_data_2 = [random.choice(methods) for _ in range(len(bank_df_test))]\n",
    "\n",
    "bank_df_train['PaymentMethod'] = faked_data\n",
    "bank_df_test['PaymentMethod'] = faked_data_2\n",
    "\n",
    "bank_df_train['PaymentMethod'].replace({'Bank transfer (automatic)': 'Intrabank transfer (GXS Savings Account only)'}, inplace=True)\n",
    "bank_df_train['PaymentMethod'].replace({'Electronic check': 'PayNow'}, inplace=True)\n",
    "bank_df_train['PaymentMethod'].replace({'Credit card (automatic)': 'Debit card'}, inplace=True)\n",
    "bank_df_train['PaymentMethod'].replace({'Mailed check': 'FAST'}, inplace=True)\n",
    "\n",
    "bank_df_test['PaymentMethod'].replace({'Bank transfer (automatic)': 'Intrabank transfer (GXS Savings Account only)'}, inplace=True)\n",
    "bank_df_test['PaymentMethod'].replace({'Electronic check': 'PayNow'}, inplace=True)\n",
    "bank_df_test['PaymentMethod'].replace({'Credit card (automatic)': 'Debit card'}, inplace=True)\n",
    "bank_df_test['PaymentMethod'].replace({'Mailed check': 'FAST'}, inplace=True)\n",
    "\n",
    "print(bank_df_train['PaymentMethod'].head(10))"
   ]
  },
  {
   "cell_type": "markdown",
   "metadata": {},
   "source": [
    "### 27.Customer Satisfaction Surveys\n",
    "Provides direct feedback on satisfaction levels, predicting churn. "
   ]
  },
  {
   "cell_type": "code",
   "execution_count": 599,
   "metadata": {},
   "outputs": [
    {
     "name": "stdout",
     "output_type": "stream",
     "text": [
      "0    5\n",
      "1    2\n",
      "2    2\n",
      "3    4\n",
      "4    1\n",
      "5    1\n",
      "6    3\n",
      "7    3\n",
      "8    2\n",
      "9    2\n",
      "Name: CustomerSatisfaction, dtype: int32\n"
     ]
    }
   ],
   "source": [
    "cust_satisfaction_df = pd.read_csv('./data/satisfaction score/Customer-Churn-Records.csv')\n",
    "\n",
    "kde = gaussian_kde(cust_satisfaction_df['Satisfaction Score'])\n",
    "\n",
    "fake_data = np.maximum(kde.resample(len(bank_df_train)).flatten(), 0)\n",
    "fake_data = np.minimum(fake_data.flatten(), 5)\n",
    "fake_data = np.round(fake_data).astype(int)\n",
    "\n",
    "fake_data_2 = np.maximum(kde.resample(len(bank_df_test)).flatten(), 0)\n",
    "fake_data_2 = np.minimum(fake_data_2.flatten(), 5)\n",
    "fake_data_2 = np.round(fake_data_2).astype(int)\n",
    "\n",
    "bank_df_train['CustomerSatisfaction'] = fake_data\n",
    "bank_df_test['CustomerSatisfaction'] = fake_data_2\n",
    "# print(len(bank_df_test))\n",
    "# print(len(fake_data_2))\n",
    "\n",
    "print(bank_df_train['CustomerSatisfaction'].head(10))"
   ]
  },
  {
   "cell_type": "markdown",
   "metadata": {},
   "source": [
    "### 28.Feature Satisfaction\n",
    "Scale on 1 to 5\n"
   ]
  },
  {
   "cell_type": "code",
   "execution_count": 600,
   "metadata": {},
   "outputs": [
    {
     "name": "stdout",
     "output_type": "stream",
     "text": [
      "0    5\n",
      "1    4\n",
      "2    0\n",
      "3    2\n",
      "4    5\n",
      "Name: FeatureSatisfaction, dtype: int32\n"
     ]
    }
   ],
   "source": [
    "feature_df = pd.read_csv('./data/feature_and_support_satisfaction/Customer-survey-data.csv')\n",
    "feature_df = feature_df.dropna()\n",
    "kde = gaussian_kde(feature_df['How satisfied were you with your overall delivery experience at Ali?                    1-5 where 1 = extremely dissatisfied and 5 = extremely satisfied'])\n",
    "bank_df_train['FeatureSatisfaction'] = kde.resample(len(bank_df_train)).flatten().astype(int)\n",
    "bank_df_test['FeatureSatisfaction'] = kde.resample(len(bank_df_test)).flatten().astype(int)\n",
    "\n",
    "print(bank_df_train['FeatureSatisfaction'].head())"
   ]
  },
  {
   "cell_type": "markdown",
   "metadata": {},
   "source": [
    "### 29.Support Satisfaction\n",
    "Scale on 1 to 5\n"
   ]
  },
  {
   "cell_type": "code",
   "execution_count": 601,
   "metadata": {},
   "outputs": [
    {
     "name": "stdout",
     "output_type": "stream",
     "text": [
      "0    2\n",
      "1    5\n",
      "2    0\n",
      "3    3\n",
      "4    2\n",
      "Name: SupportSatisfaction, dtype: int32\n"
     ]
    }
   ],
   "source": [
    "feature_df = pd.read_csv('./data/feature_and_support_satisfaction/Customer-survey-data.csv')\n",
    "feature_df = feature_df.dropna()\n",
    "kde = gaussian_kde(feature_df['How satisfied were you with the speed of delivery at Alis?                                1-5 where 1 = extremely dissatisfied and 5 = extremely satisfied'])\n",
    "bank_df_train['SupportSatisfaction'] = kde.resample(len(bank_df_train)).flatten().astype(int)\n",
    "bank_df_test['SupportSatisfaction'] = kde.resample(len(bank_df_test)).flatten().astype(int)\n",
    "\n",
    "print(bank_df_train['SupportSatisfaction'].head())"
   ]
  },
  {
   "cell_type": "markdown",
   "metadata": {},
   "source": [
    "### 30. Feature support frequency\n",
    "\n",
    "Higher calls might indicate issues and dissatisfaction, affecting churn. Past year. Past month \n"
   ]
  },
  {
   "cell_type": "code",
   "execution_count": 602,
   "metadata": {},
   "outputs": [
    {
     "name": "stdout",
     "output_type": "stream",
     "text": [
      "   id  CustomerId         Surname  CreditScore Geography Gender  Age  Tenure  \\\n",
      "0   0    15674932  Okwudilichukwu          668    France   Male   33       6   \n",
      "1   1    15749177   Okwudiliolisa          627    France   Male   33       1   \n",
      "2   2    15694510           Hsueh          678    France   Male   40      19   \n",
      "3   3    15741417             Kao          581    France   Male   34       3   \n",
      "4   4    15766172       Chiemenam          716     Spain   Male   33       9   \n",
      "\n",
      "        Balance  NumOfProducts  ...  EmploymentStatus  MaritalStatus  \\\n",
      "0 133877.387693              2  ...          Fulltime       Divorced   \n",
      "1 124654.362135              2  ...          Parttime       Divorced   \n",
      "2 152137.330246              2  ...          Fulltime       Divorced   \n",
      "3 148882.540000              1  ...          Parttime         Single   \n",
      "4 118487.514477              2  ...          Fulltime         Single   \n",
      "\n",
      "   HousingStatus  Dependents MarketingOffersAcceptance  \\\n",
      "0         rented           4                  0.015571   \n",
      "1   norent_noown           0                  0.243957   \n",
      "2         rented           2                  0.000667   \n",
      "3         rented           2                  0.000000   \n",
      "4         rented           5                  0.000000   \n",
      "\n",
      "                                   PaymentMethod  CustomerSatisfaction  \\\n",
      "0                                           FAST                     5   \n",
      "1  Intrabank transfer (GXS Savings Account only)                     2   \n",
      "2  Intrabank transfer (GXS Savings Account only)                     2   \n",
      "3                                         PayNow                     4   \n",
      "4                                         PayNow                     1   \n",
      "\n",
      "   FeatureSatisfaction  SupportSatisfaction  FeatureSupportFrequency  \n",
      "0                    5                    2                        7  \n",
      "1                    4                    5                        2  \n",
      "2                    0                    0                       28  \n",
      "3                    2                    3                        6  \n",
      "4                    5                    2                       13  \n",
      "\n",
      "[5 rows x 31 columns]\n"
     ]
    }
   ],
   "source": [
    "support_freq = pd.read_csv(\"./data/support_frequency.csv\")\n",
    "\n",
    "kde = gaussian_kde(support_freq['no_of_cases'])\n",
    "bank_df_train['FeatureSupportFrequency'] = abs(kde.resample(n_train).flatten()/12).astype(int)\n",
    "bank_df_test['FeatureSupportFrequency'] = abs(kde.resample(n_test).flatten()/12).astype(int)\n",
    "print(bank_df_train.head())\n"
   ]
  },
  {
   "cell_type": "markdown",
   "metadata": {},
   "source": [
    "### 31.Relationship Count\n",
    "Reflects the breadth of the customer's relationship with the bank.\n",
    "Shld be correlated to 6: No. of products   "
   ]
  },
  {
   "cell_type": "code",
   "execution_count": 603,
   "metadata": {},
   "outputs": [
    {
     "name": "stdout",
     "output_type": "stream",
     "text": [
      "0   22210.204897\n",
      "1   13284.686947\n",
      "2   15785.742823\n",
      "3   27987.443639\n",
      "4   18104.959763\n",
      "5   10157.981850\n",
      "6   14411.163746\n",
      "7   11742.138006\n",
      "8   16075.452314\n",
      "9   16839.792249\n",
      "Name: LoanAmt, dtype: float64\n",
      "30000.0\n",
      "3000.0\n"
     ]
    },
    {
     "data": {
      "image/png": "[encoded data removed]",
      "text/plain": [
       "<Figure size 800x600 with 1 Axes>"
      ]
     },
     "metadata": {},
     "output_type": "display_data"
    }
   ],
   "source": [
    "import seaborn as sns\n",
    "relationship_count = pd.read_csv('./data/loan/credit_train.csv')\n",
    "relationship_count['Current Loan Amount'].fillna(0, inplace=True) \n",
    "relationship_count = relationship_count[relationship_count['Current Loan Amount'] <= 200000]\n",
    "\n",
    "if np.any(np.isinf(relationship_count['Current Loan Amount'])):\n",
    "    # Handle infinite values, such as replacing them with a large finite value\n",
    "    relationship_count['Current Loan Amount'].replace([np.inf, -np.inf], np.finfo(np.float64).max, inplace=True)\n",
    "\n",
    "\n",
    "median_loan_amount = relationship_count['Current Loan Amount'].median()\n",
    "below_median = relationship_count[relationship_count['Current Loan Amount'] < median_loan_amount]\n",
    "above_median = relationship_count[relationship_count['Current Loan Amount'] >= median_loan_amount]\n",
    "\n",
    "# print(above_median)\n",
    "kde_upper = gaussian_kde(above_median['Current Loan Amount'])\n",
    "kde_lower = gaussian_kde(below_median['Current Loan Amount'])\n",
    "\n",
    "bank_df_train['LoanAmt'] = np.where(bank_df_train['CustomerSatisfaction'] >= 4, abs(kde_upper.resample(n_train).flatten()/12).astype(int) , abs(kde_lower.resample(n_train).flatten()/12).astype(int))\n",
    "bank_df_test['LoanAmt'] = np.where(bank_df_test['CustomerSatisfaction'] >= 4, abs(kde_upper.resample(n_test).flatten()/12).astype(int) , abs(kde_lower.resample(n_test).flatten()/12).astype(int))\n",
    "\n",
    "min_value = bank_df_train['LoanAmt'].min()\n",
    "max_value = bank_df_train['LoanAmt'].max()\n",
    "min_value_2 = bank_df_test['LoanAmt'].min()\n",
    "max_value_2 = bank_df_test['LoanAmt'].max()\n",
    "new_min_value = 3000\n",
    "new_max_value = 30000\n",
    "\n",
    "def scale_values(value):\n",
    "    scaled_value = new_min_value + ((value - min_value) / (max_value - min_value)) * (new_max_value - new_min_value)\n",
    "    return scaled_value\n",
    "\n",
    "def scale_values_2(value):\n",
    "    scaled_value = new_min_value + ((value - min_value_2) / (max_value_2 - min_value_2)) * (new_max_value - new_min_value)\n",
    "    return scaled_value\n",
    "\n",
    "bank_df_train['LoanAmt'] = bank_df_train['LoanAmt'].apply(scale_values)\n",
    "bank_df_test['LoanAmt'] = bank_df_test['LoanAmt'].apply(scale_values_2)\n",
    "\n",
    "# kde = gaussian_kde(relationship_count['Current Loan Amount'])\n",
    "# bank_df_train['RelationshipCount'] = abs(kde.resample(n_train).flatten()/12).astype(int)\n",
    "\n",
    "print(bank_df_train['LoanAmt'].head(10))\n",
    "print(bank_df_train['LoanAmt'].max())\n",
    "print(bank_df_train['LoanAmt'].min())\n",
    "\n",
    "sns.set_style('whitegrid')\n",
    "plt.figure(figsize=(8, 6))\n",
    "sns.histplot(bank_df_train['LoanAmt'], kde=True, bins=10)  # Adjust the number of bins as needed\n",
    "plt.xlabel('Loan Amount')\n",
    "plt.ylabel('Frequency')\n",
    "plt.title('Distribution of Loan Amount')\n",
    "plt.show()"
   ]
  },
  {
   "cell_type": "markdown",
   "metadata": {},
   "source": [
    "### 32. Income Source\n",
    "Indicates financial stability and potential churn risk. "
   ]
  },
  {
   "cell_type": "code",
   "execution_count": 604,
   "metadata": {},
   "outputs": [
    {
     "name": "stdout",
     "output_type": "stream",
     "text": [
      "  EmploymentStatus IncomeSource\n",
      "0         Fulltime   Investment\n",
      "1         Parttime   Investment\n",
      "2         Fulltime   Investment\n",
      "3         Parttime   Employment\n",
      "4         Fulltime   Investment\n",
      "5         Parttime   Investment\n",
      "6         Parttime   Employment\n",
      "7          Student    Allowance\n",
      "8         Fulltime   Investment\n",
      "9          Retired   Retirement\n"
     ]
    }
   ],
   "source": [
    "# income_source_df = pd.read_csv('./data/income source/adult.csv')\n",
    "\n",
    "# # print(transaction_channel_df.head())\n",
    "# income_sourcs = income_source_df['workclass'].unique().tolist()\n",
    "# income_sourcs.remove('?')\n",
    "# print(income_sourcs)\n",
    "# faked_data = [random.choice(income_sourcs) for _ in range(len(bank_df_train))]\n",
    "# faked_data_2 = [random.choice(income_sourcs) for _ in range(len(bank_df_test))]\n",
    "\n",
    "# bank_df_train['IncomeSource'] = faked_data\n",
    "# bank_df_test['IncomeSource'] = faked_data_2\n",
    "\n",
    "def choose_value(row):\n",
    "    if row['EmploymentStatus'] == 'Fulltime' or row['EmploymentStatus'] == 'Parttime':\n",
    "        return np.random.choice(['Employment', 'Investment'])\n",
    "    elif row['EmploymentStatus'] == 'Retired':\n",
    "        return np.random.choice(['Retirement', 'Rental', 'Investment'])\n",
    "    elif row['EmploymentStatus'] == 'Student':\n",
    "        return np.random.choice(['Allowance', 'Employment'])\n",
    "    elif row['EmploymentStatus'] == 'Self-employed':\n",
    "        return 'Self-employment'\n",
    "    elif row['EmploymentStatus'] == 'Unemployed':\n",
    "        return np.random.choice(['Rental', 'Investment', 'Allowance'])\n",
    "    \n",
    "bank_df_train['IncomeSource'] = bank_df_train.apply(choose_value, axis=1)\n",
    "print(bank_df_train[['EmploymentStatus', 'IncomeSource']].head(10))"
   ]
  },
  {
   "cell_type": "markdown",
   "metadata": {},
   "source": [
    "### 33. Credit Utilization\n",
    "Reflects financial health and potential churn risk for credit customers."
   ]
  },
  {
   "cell_type": "code",
   "execution_count": 605,
   "metadata": {},
   "outputs": [
    {
     "name": "stdout",
     "output_type": "stream",
     "text": [
      "   id  CustomerId         Surname  CreditScore Geography Gender  Age  Tenure  \\\n",
      "0   0    15674932  Okwudilichukwu          668    France   Male   33       6   \n",
      "1   1    15749177   Okwudiliolisa          627    France   Male   33       1   \n",
      "2   2    15694510           Hsueh          678    France   Male   40      19   \n",
      "3   3    15741417             Kao          581    France   Male   34       3   \n",
      "4   4    15766172       Chiemenam          716     Spain   Male   33       9   \n",
      "\n",
      "        Balance  NumOfProducts  ...  Dependents  MarketingOffersAcceptance  \\\n",
      "0 133877.387693              2  ...           4                   0.015571   \n",
      "1 124654.362135              2  ...           0                   0.243957   \n",
      "2 152137.330246              2  ...           2                   0.000667   \n",
      "3 148882.540000              1  ...           2                   0.000000   \n",
      "4 118487.514477              2  ...           5                   0.000000   \n",
      "\n",
      "                                   PaymentMethod  CustomerSatisfaction  \\\n",
      "0                                           FAST                     5   \n",
      "1  Intrabank transfer (GXS Savings Account only)                     2   \n",
      "2  Intrabank transfer (GXS Savings Account only)                     2   \n",
      "3                                         PayNow                     4   \n",
      "4                                         PayNow                     1   \n",
      "\n",
      "  FeatureSatisfaction  SupportSatisfaction  FeatureSupportFrequency  \\\n",
      "0                   5                    2                        7   \n",
      "1                   4                    5                        2   \n",
      "2                   0                    0                       28   \n",
      "3                   2                    3                        6   \n",
      "4                   5                    2                       13   \n",
      "\n",
      "       LoanAmt  IncomeSource  CreditUtilization  \n",
      "0 22210.204897    Investment           0.041405  \n",
      "1 13284.686947    Investment           0.626069  \n",
      "2 15785.742823    Investment           0.556089  \n",
      "3 27987.443639    Employment           0.045341  \n",
      "4 18104.959763    Investment           0.000000  \n",
      "\n",
      "[5 rows x 34 columns]\n"
     ]
    }
   ],
   "source": [
    "credit_df = pd.read_csv('./data/credit utilization/BankChurners.csv')\n",
    "\n",
    "kde = gaussian_kde(credit_df['Avg_Utilization_Ratio'])\n",
    "\n",
    "fake_data = np.maximum(kde.resample(len(bank_df_train)).flatten(), 0)\n",
    "fake_data = np.minimum(fake_data.flatten(), 1)\n",
    "# fake_data = np.round(fake_data).astype(int)\n",
    "fake_data_2 = np.maximum(kde.resample(len(bank_df_test)).flatten(), 0)\n",
    "fake_data_2 = np.minimum(fake_data_2.flatten(), 1)\n",
    "\n",
    "bank_df_train['CreditUtilization'] = fake_data\n",
    "bank_df_test['CreditUtilization'] = fake_data_2\n",
    "\n",
    "print(bank_df_train.head())"
   ]
  },
  {
   "cell_type": "markdown",
   "metadata": {},
   "source": [
    "### 34. Response to Previous Retention Efforts\n",
    "Records success or failure of previous retention efforts, guiding future strategies. % 0-1"
   ]
  },
  {
   "cell_type": "code",
   "execution_count": 606,
   "metadata": {},
   "outputs": [
    {
     "name": "stdout",
     "output_type": "stream",
     "text": [
      "0    0.029236\n",
      "1    0.000000\n",
      "2    0.000000\n",
      "3    1.000000\n",
      "4    0.008759\n",
      "5    0.000000\n",
      "6    0.019316\n",
      "7    0.041089\n",
      "8    0.000000\n",
      "9    0.013690\n",
      "10   0.000000\n",
      "11   0.003520\n",
      "12   0.000000\n",
      "13   0.036425\n",
      "14   0.000000\n",
      "15   0.004564\n",
      "16   0.000000\n",
      "17   0.000000\n",
      "18   0.000000\n",
      "19   0.000000\n",
      "Name: Retention, dtype: float64\n"
     ]
    }
   ],
   "source": [
    "retention_df = pd.read_csv('./data/retention/HR_comma_sep.csv')\n",
    "\n",
    "kde = gaussian_kde(retention_df['promotion_last_5years'])\n",
    "\n",
    "fake_data = np.maximum(kde.resample(len(bank_df_train)).flatten(), 0)\n",
    "fake_data = np.minimum(fake_data.flatten(), 1)\n",
    "\n",
    "fake_data_2 = np.maximum(kde.resample(len(bank_df_test)).flatten(), 0)\n",
    "fake_data_2 = np.minimum(fake_data_2.flatten(), 1)\n",
    "\n",
    "\n",
    "bank_df_train['Retention'] = fake_data\n",
    "bank_df_test['Retention'] = fake_data_2\n",
    "\n",
    "print(bank_df_train['Retention'].head(20))"
   ]
  },
  {
   "cell_type": "markdown",
   "metadata": {},
   "source": [
    "### 35. Change in behavior before n after\n",
    "Average of percentage of increase/decrease (ranging from 0 - infinity, but most of the times it will be ard 0-2)"
   ]
  },
  {
   "cell_type": "code",
   "execution_count": 607,
   "metadata": {},
   "outputs": [
    {
     "name": "stdout",
     "output_type": "stream",
     "text": [
      "0   1.233250\n",
      "1   1.215542\n",
      "2   0.479779\n",
      "3   0.612647\n",
      "4   0.947172\n",
      "5   0.938571\n",
      "6   0.906948\n",
      "7   1.102880\n",
      "8   0.946512\n",
      "9   1.159410\n",
      "Name: ChangeInBehaviourMkt, dtype: float64\n"
     ]
    }
   ],
   "source": [
    "bank_df_train['ChangeInBehaviourMkt'] = np.random.normal(1, 0.25, len(bank_df_train))\n",
    "bank_df_test['ChangeInBehaviourMkt']= np.random.normal(1, 0.25, len(bank_df_test))\n",
    "# test = np.random.normal(1, 0.25, len(bank_df_train))\n",
    "# # print(test)\n",
    "# bank_df_train['ChangeInBehaviourMkt'] = test.astype(float)\n",
    "\n",
    "print(bank_df_train['ChangeInBehaviourMkt'].head(10))"
   ]
  },
  {
   "cell_type": "markdown",
   "metadata": {},
   "source": [
    "### 36. Change in behavior before n after for Support"
   ]
  },
  {
   "cell_type": "code",
   "execution_count": 608,
   "metadata": {},
   "outputs": [
    {
     "name": "stdout",
     "output_type": "stream",
     "text": [
      "0   1.062556\n",
      "1   1.028564\n",
      "2   1.390125\n",
      "3   1.080717\n",
      "4   0.680556\n",
      "Name: ChangeInBehaviourCust, dtype: float64\n"
     ]
    }
   ],
   "source": [
    "bank_df_train['ChangeInBehaviourCust'] = np.random.normal(1, 0.25, len(bank_df_train))\n",
    "bank_df_test['ChangeInBehaviourCust']= np.random.normal(1, 0.25, len(bank_df_test))\n",
    "\n",
    "print(bank_df_train['ChangeInBehaviourCust'].head())"
   ]
  },
  {
   "cell_type": "markdown",
   "metadata": {},
   "source": [
    "### 37. Previous Lifecycle status "
   ]
  },
  {
   "cell_type": "code",
   "execution_count": 609,
   "metadata": {},
   "outputs": [
    {
     "name": "stdout",
     "output_type": "stream",
     "text": [
      "    ChurnDate  Tenure PrevLifecycle\n",
      "0         NaT       6       Dormant\n",
      "1         NaT       1           NaN\n",
      "2         NaT      19       Dormant\n",
      "3         NaT       3        Active\n",
      "4         NaT       9        Active\n",
      "5  2023-06-17       8       Churned\n",
      "6         NaT      14       Dormant\n",
      "7         NaT       1           NaN\n",
      "8         NaT       7        Active\n",
      "9         NaT       7   Reactivated\n",
      "10        NaT      11   Reactivated\n",
      "11        NaT       5        Active\n",
      "12        NaT      17       Dormant\n",
      "13        NaT       9       Dormant\n",
      "14        NaT      12       Dormant\n",
      "15        NaT       9       Dormant\n",
      "16        NaT      12        Active\n",
      "17        NaT       8       Dormant\n",
      "18 2024-01-19      15       Churned\n",
      "19 2023-09-06       1       Churned\n",
      "20        NaT      16   Reactivated\n",
      "21        NaT      15       Dormant\n",
      "22        NaT      16       Dormant\n",
      "23 2024-03-14      17       Churned\n",
      "24        NaT      10   Reactivated\n",
      "25 2024-01-26      16       Churned\n",
      "26        NaT       5       Dormant\n",
      "27        NaT       3       Dormant\n",
      "28 2024-01-14       7       Churned\n",
      "29        NaT      10   Reactivated\n",
      "30        NaT       9   Reactivated\n",
      "31        NaT      12        Active\n",
      "32 2023-07-22       0       Churned\n",
      "33        NaT      16   Reactivated\n",
      "34 2023-08-07      10       Churned\n",
      "35        NaT       6        Active\n",
      "36        NaT       0           NaN\n",
      "37        NaT      10       Dormant\n",
      "38 2024-01-24      17       Churned\n",
      "39 2024-04-02      17       Churned\n",
      "40        NaT      14        Active\n",
      "41        NaT       7        Active\n",
      "42 2023-10-09       5       Churned\n",
      "43        NaT       9   Reactivated\n",
      "44        NaT      15        Active\n",
      "45        NaT      19   Reactivated\n",
      "46        NaT      10        Active\n",
      "47        NaT      19        Active\n",
      "48        NaT      11   Reactivated\n",
      "49        NaT       1           NaN\n"
     ]
    }
   ],
   "source": [
    "life_cycles = ['Active', 'Dormant', 'Reactivated'] #everything but churned\n",
    "\n",
    "# bank_df_train['PrevLifecycle'] = bank_df_train.apply(lambda row: np.random.choice(life_cycles) if row['Tenure'] > 1 else ('Churned' if row['Exited'] == 1 else np.nan), axis=1)\n",
    "# bank_df_test['PrevLifecycle'] = np.where(bank_df_test['Tenure'] > 1,\n",
    "#                                           np.random.choice(life_cycles, size=len(bank_df_test)),\n",
    "#                                           np.nan)\n",
    "\n",
    "bank_df_train['PrevLifecycle'] = bank_df_train.apply(\n",
    "    lambda row: 'Churned' if row['Exited'] == 1 else np.random.choice(life_cycles) if row['Tenure'] > 1 else np.nan,\n",
    "    axis=1\n",
    ")\n",
    "\n",
    "# bank_df_test['PrevLifecycle'] = np.where(\n",
    "#     bank_df_test['Exited'] == 1,\n",
    "#     'Churned',\n",
    "#     np.where(\n",
    "#         bank_df_test['Tenure'] > 1,\n",
    "#         np.random.choice(life_cycles, size=len(bank_df_test)),\n",
    "#         np.nan\n",
    "#     )\n",
    "# )\n",
    "\n",
    "print(bank_df_train[['ChurnDate', 'Tenure', 'PrevLifecycle']].head(50))\n",
    "# print(bank_df_test[['Tenure', 'PrevLifecycle']].head(20))"
   ]
  },
  {
   "cell_type": "markdown",
   "metadata": {},
   "source": [
    "### 38. Current Lifecycle status "
   ]
  },
  {
   "cell_type": "code",
   "execution_count": 610,
   "metadata": {},
   "outputs": [
    {
     "name": "stdout",
     "output_type": "stream",
     "text": [
      "  PrevLifecycle CurrLifecycle\n",
      "0       Dormant   Reactivated\n",
      "1           NaN        Active\n",
      "2       Dormant   Reactivated\n",
      "3        Active        Active\n",
      "4        Active        Active\n",
      "5       Churned       Churned\n",
      "6       Dormant   Reactivated\n",
      "7           NaN        Active\n",
      "8        Active        Active\n",
      "9   Reactivated        Active\n"
     ]
    }
   ],
   "source": [
    "prev_active = ['Active', 'Dormant'] #excluding churn, also same for reactivated\n",
    "prev_dormant = ['Dormant', 'Reactivated'] #excluding churn\n",
    "\n",
    "# bank_df_train['CurrLifecycle'] = bank_df_train.apply(lambda row: 'Churned' if row['PrevLifecycle'] == 'Churned' else \\\n",
    "#                                                     np.random.choice(prev_active) if (row['PrevLifecycle'] == 'Active' or row['PrevLifecycle'] == 'Reactivated') else \\\n",
    "#                                                     np.random.choice(prev_dormant) if row['PrevLifecycle'] == 'Dormant' else \\\n",
    "#                                                     np.nan, axis=1)\n",
    "bank_df_train['CurrLifecycle'] = bank_df_train.apply(lambda row: 'Churned' if row['PrevLifecycle'] == 'Churned' else \\\n",
    "                                                     'Reactivated' if (row['PrevLifecycle'] == 'Dormant' and row['TransactionFreq'] > 0) else \\\n",
    "                                                     'Dormant' if row['TransactionFreq'] == 0 else \\\n",
    "                                                     'Active', axis=1)\n",
    "\n",
    "print(bank_df_train[['PrevLifecycle', 'CurrLifecycle']].head(10))\n"
   ]
  },
  {
   "cell_type": "markdown",
   "metadata": {},
   "source": [
    "### 39. Customer Happiness Status \n",
    "1 == happy, 0 == unhappy\n",
    "\n",
    "Customer satisfaction survey score \n",
    "\n",
    "Relationship Count \n",
    "\n",
    "Response to previous retention efforts (no more yay)\n",
    "\n",
    "if we want the top 15.9%\n"
   ]
  },
  {
   "cell_type": "code",
   "execution_count": 611,
   "metadata": {},
   "outputs": [
    {
     "name": "stdout",
     "output_type": "stream",
     "text": [
      "0    1\n",
      "1    0\n",
      "2    0\n",
      "3    0\n",
      "4    0\n",
      "5    0\n",
      "6    0\n",
      "7    0\n",
      "8    0\n",
      "9    0\n",
      "Name: Happiness, dtype: int64\n",
      "percentage happy = 20.138516492006218\n"
     ]
    }
   ],
   "source": [
    "happiness_benchmark = 84.1\n",
    "\n",
    "# bank_df_train['Happiness'] = bank_df_train.apply(lambda row: 1 if row['CustomerSatisfaction'] + \\\n",
    "#                                                                   row['FeatureSatisfaction'] + \\\n",
    "#                                                                   row['SupportSatisfaction'] + \\\n",
    "#                                                                   row['NPS'] + \\\n",
    "#                                                                   row['Tenure'] >= happiness_benchmark else \\\n",
    "#                                                                   0, axis=1)\n",
    "\n",
    "\n",
    "# need to delete Custpercentile, RsPercentile and ResponsePercentile later\n",
    "bank_df_train['CustPercentile'] = bank_df_train['CustomerSatisfaction'].apply(lambda x: stats.percentileofscore(bank_df_train['CustomerSatisfaction'], x))\n",
    "bank_df_train['RsPercentile'] = bank_df_train['LoanAmt'].apply(lambda x: stats.percentileofscore(bank_df_train['CustomerSatisfaction'], x))\n",
    "\n",
    "bank_df_test['CustPercentile'] = bank_df_test['CustomerSatisfaction'].apply(lambda x: stats.percentileofscore(bank_df_test['CustomerSatisfaction'], x))\n",
    "bank_df_test['RsPercentile'] = bank_df_test['LoanAmt'].apply(lambda x: stats.percentileofscore(bank_df_test['CustomerSatisfaction'], x))\n",
    "\n",
    "# print(bank_df_train['CustPercentile'].head(10))\n",
    "bank_df_train['Happiness'] = bank_df_train.apply(lambda row: 1 if (row['CustPercentile'] > happiness_benchmark and \\\n",
    "                                                                   row['RsPercentile'] > happiness_benchmark ) else 0, axis=1)\n",
    "bank_df_train.drop(columns=['CustPercentile', 'RsPercentile'], inplace=True)\n",
    "\n",
    "bank_df_test['Happiness'] = bank_df_test.apply(lambda row: 1 if (row['CustPercentile'] > happiness_benchmark and \\\n",
    "                                                                   row['RsPercentile'] > happiness_benchmark ) else 0, axis=1)\n",
    "bank_df_test.drop(columns=['CustPercentile', 'RsPercentile'], inplace=True)\n",
    "\n",
    "# print(bank_df_train['Happiness'].head(10))\n",
    "# print(\"percentage happy =\", (bank_df_train['Happiness'] == 1).mean() * 100)\n",
    "print(bank_df_test['Happiness'].head(10))\n",
    "print(\"percentage happy =\", (bank_df_test['Happiness'] == 1).mean() * 100)"
   ]
  },
  {
   "cell_type": "markdown",
   "metadata": {},
   "source": [
    "### 40.Price Sensitivity %\n",
    "26. marketing offers accepted %\n",
    "35. change in behaviour %\n",
    "\n",
    "Mkting Offers Accepted\n",
    "Change in behavior before n after for mkting offer \n"
   ]
  },
  {
   "cell_type": "code",
   "execution_count": 612,
   "metadata": {},
   "outputs": [],
   "source": [
    "# MarketingOffersAcceptance_df = bank_df_train['MarketingOffersAcceptance'].apply(lambda x: stats.percentileofscore(bank_df_train['MarketingOffersAcceptance'], x))\n",
    "# ChangeInBehaviourMkt_df = bank_df_train['ChangeInBehaviourMkt'].apply(lambda x: stats.percentileofscore(bank_df_train['ChangeInBehaviourMkt'], x))\n",
    "\n",
    "# MarketingOffersAcceptance_df_2 = bank_df_test['MarketingOffersAcceptance'].apply(lambda x: stats.percentileofscore(bank_df_test['MarketingOffersAcceptance'], x))\n",
    "# ChangeInBehaviourMkt_df_2 = bank_df_test['ChangeInBehaviourMkt'].apply(lambda x: stats.percentileofscore(bank_df_test['ChangeInBehaviourMkt'], x))\n",
    "# # print(MarketingOffersAcceptance_df.head())\n",
    "# # print(ChangeInBehaviourMkt_df.head())\n",
    "# bank_df_train['PriceSensitivity'] = (MarketingOffersAcceptance_df + ChangeInBehaviourMkt_df) / 2\n",
    "# bank_df_test['PriceSensitivity'] = (MarketingOffersAcceptance_df_2 + ChangeInBehaviourMkt_df_2) / 2\n",
    "\n",
    "# print(bank_df_train['PriceSensitivity'].head(20))"
   ]
  },
  {
   "cell_type": "code",
   "execution_count": 613,
   "metadata": {},
   "outputs": [],
   "source": [
    "bank_df_train['Savings Savant'] = ((bank_df_train['MarketingOffersAcceptance'].rank(pct=True)*100).astype(int)+(bank_df_train['ChangeInBehaviourMkt'].rank(pct=True)*100).astype(int))/2\n",
    "bank_df_test['Savings Savant'] = ((bank_df_test['MarketingOffersAcceptance'].rank(pct=True)*100).astype(int)+(bank_df_test['ChangeInBehaviourMkt'].rank(pct=True)*100).astype(int))/2"
   ]
  },
  {
   "cell_type": "markdown",
   "metadata": {},
   "source": [
    "### 41.Feature Driven % \n",
    "28. Customer satisfaction survey 0-5\n",
    "6. num products 1-4\n",
    "29. Feature Satisfaction 0-5\n",
    "\n",
    "Number of products last 1 year\n",
    "Feature Satisfaction Column (0 to 1)\n",
    "Feature Support freq\n"
   ]
  },
  {
   "cell_type": "code",
   "execution_count": 614,
   "metadata": {},
   "outputs": [],
   "source": [
    "# print(bank_df_train['NumOfProducts'].max())\n",
    "# print(bank_df_train['NumOfProducts'].min())\n",
    "\n",
    "# feature_driven = bank_df_train['CustomerSatisfaction'] + bank_df_train['NumOfProducts'] + bank_df_train['FeatureSatisfaction']\n",
    "# percentiles = np.percentile(feature_driven, [0, 25, 50, 75, 100]) \n",
    "\n",
    "# def assign_percentile(metric):\n",
    "#     if metric <= percentiles[1]:\n",
    "#         return ((metric / percentiles[1]) * 25)\n",
    "#     elif metric <= percentiles[2]:\n",
    "#         return (25 + ((metric - percentiles[1]) / (percentiles[2] - percentiles[1])) * 25)\n",
    "#     elif metric <= percentiles[3]:\n",
    "#         return (50 + ((metric - percentiles[2]) / (percentiles[3] - percentiles[2])) * 25)\n",
    "#     else:\n",
    "#         return (75 + ((metric - percentiles[3]) / (percentiles[4] - percentiles[3])) * 25)\n",
    "        \n",
    "# bank_df_train['FeatureSensitivity'] = feature_driven.apply(assign_percentile)\n",
    "# bank_df_train['FeatureSensitivity'] = bank_df_train['FeatureSensitivity'].replace(np.NaN, 0, regex=True)\n",
    "\n",
    "# CustomerSatisfaction_df = bank_df_train['CustomerSatisfaction'].apply(lambda x: stats.percentileofscore(bank_df_train['CustomerSatisfaction'], x))\n",
    "# NumOfProducts_df = bank_df_train['NumOfProducts'].apply(lambda x: stats.percentileofscore(bank_df_train['NumOfProducts'], x))\n",
    "# FeatureSatisfaction_df = bank_df_train['FeatureSatisfaction'].apply(lambda x: stats.percentileofscore(bank_df_train['FeatureSatisfaction'], x))\n",
    "# FeatureSupportFrequency_df = bank_df_train['FeatureSupportFrequency'].apply(lambda x: stats.percentileofscore(bank_df_train['FeatureSatisfaction'], x))\n",
    "\n",
    "# CustomerSatisfaction_df_2 = bank_df_test['CustomerSatisfaction'].apply(lambda x: stats.percentileofscore(bank_df_test['CustomerSatisfaction'], x))\n",
    "# NumOfProducts_df_2 = bank_df_test['NumOfProducts'].apply(lambda x: stats.percentileofscore(bank_df_test['NumOfProducts'], x))\n",
    "# FeatureSatisfaction_df_2 = bank_df_test['FeatureSatisfaction'].apply(lambda x: stats.percentileofscore(bank_df_test['FeatureSatisfaction'], x))\n",
    "# FeatureSupportFrequency_df_2 = bank_df_test['FeatureSupportFrequency'].apply(lambda x: stats.percentileofscore(bank_df_test['FeatureSatisfaction'], x))\n",
    "\n",
    "# bank_df_train['FeatureSensitivity'] = (CustomerSatisfaction_df + NumOfProducts_df + FeatureSatisfaction_df + FeatureSupportFrequency_df) / 4\n",
    "# bank_df_test['FeatureSensitivity'] = (CustomerSatisfaction_df_2 + NumOfProducts_df_2 + FeatureSatisfaction_df_2 + FeatureSupportFrequency_df_2) / 4\n",
    "\n",
    "# print(bank_df_train['FeatureSensitivity'].head(20))"
   ]
  },
  {
   "cell_type": "code",
   "execution_count": 615,
   "metadata": {},
   "outputs": [],
   "source": [
    "bank_df_train['Digital Dynamos'] = ((bank_df_train['CustomerSatisfaction'].rank(pct=True)*100).astype(int)+(bank_df_train['NumOfProducts'].rank(pct=True)*100).astype(int)+(bank_df_train['FeatureSatisfaction'].rank(pct=True)*100).astype(int)+(bank_df_train['FeatureSupportFrequency'].rank(pct=True)*100).astype(int))/4\n",
    "bank_df_test['Digital Dynamos'] = ((bank_df_test['CustomerSatisfaction'].rank(pct=True)*100).astype(int)+(bank_df_test['NumOfProducts'].rank(pct=True)*100).astype(int)+(bank_df_test['FeatureSatisfaction'].rank(pct=True)*100).astype(int)+(bank_df_test['FeatureSupportFrequency'].rank(pct=True)*100).astype(int))/4\n"
   ]
  },
  {
   "cell_type": "markdown",
   "metadata": {},
   "source": [
    "### 42.Service Dependent % \n",
    "31. service support freq per month number\n",
    "39. Customer Happiness Status binary\n",
    "36. Change in behavior before n after for Support %\n",
    "\n",
    "CALL Support frequency\n",
    "Support Satisfaction Column (0 to 1)\n",
    "Change in behavior before n after support"
   ]
  },
  {
   "cell_type": "code",
   "execution_count": 616,
   "metadata": {},
   "outputs": [],
   "source": [
    "# print(bank_df_train['ServiceSupportFrequency'])\n",
    "# CallSupportFrequency_df = bank_df_train['CallSupportFrequency'].apply(lambda x: stats.percentileofscore(bank_df_train['CallSupportFrequency'], x))\n",
    "# ServiceSupportFrequency_df = bank_df_train['ServiceSupportFrequency'].apply(lambda x: stats.percentileofscore(bank_df_train['ServiceSupportFrequency'], x))\n",
    "# SupportSatisfaction_df = bank_df_train['SupportSatisfaction'].apply(lambda x: stats.percentileofscore(bank_df_train['SupportSatisfaction'], x))\n",
    "# ChanegInBehaviourCust_df = bank_df_train['ChanegInBehaviourCust'].apply(lambda x: stats.percentileofscore(bank_df_train['ChanegInBehaviourCust'], x))\n",
    "\n",
    "# ServiceSupportFrequency_df_2 = bank_df_test['ServiceSupportFrequency'].apply(lambda x: stats.percentileofscore(bank_df_test['ServiceSupportFrequency'], x))\n",
    "# SupportSatisfaction_df_2 = bank_df_test['SupportSatisfaction'].apply(lambda x: stats.percentileofscore(bank_df_test['SupportSatisfaction'], x))\n",
    "# ChanegInBehaviourCust_df_2 = bank_df_test['ChanegInBehaviourCust'].apply(lambda x: stats.percentileofscore(bank_df_test['ChanegInBehaviourCust'], x))\n",
    "\n",
    "# bank_df_train['ServiceSensitivity'] = (ServiceSupportFrequency_df + SupportSatisfaction_df + ChanegInBehaviourCust_df) / 3\n",
    "# bank_df_test['ServiceSensitivity'] = (ServiceSupportFrequency_df_2 + SupportSatisfaction_df_2 + ChanegInBehaviourCust_df_2) / 3\n",
    "\n",
    "# print(bank_df_train['ServiceSensitivity'].head())"
   ]
  },
  {
   "cell_type": "code",
   "execution_count": 617,
   "metadata": {},
   "outputs": [
    {
     "name": "stdout",
     "output_type": "stream",
     "text": [
      "0   39.000000\n",
      "1   75.000000\n",
      "2   46.000000\n",
      "3   45.000000\n",
      "4   42.333333\n",
      "Name: Trustee Tribe, dtype: float64\n"
     ]
    }
   ],
   "source": [
    "bank_df_train['Trustee Tribe'] = ((bank_df_train['ServiceSupportFrequency'].rank(pct=True)*100).astype(int)+(bank_df_train['SupportSatisfaction'].rank(pct=True)*100).astype(int)+(bank_df_train['ChangeInBehaviourCust'].rank(pct=True)*100).astype(int))/3\n",
    "bank_df_test['Trustee Tribe'] = ((bank_df_test['ServiceSupportFrequency'].rank(pct=True)*100).astype(int)+(bank_df_test['SupportSatisfaction'].rank(pct=True)*100).astype(int)+(bank_df_test['ChangeInBehaviourCust'].rank(pct=True)*100).astype(int))/3\n",
    "print(bank_df_train['Trustee Tribe'].head())"
   ]
  },
  {
   "cell_type": "markdown",
   "metadata": {},
   "source": [
    "### 43.Customer Personas "
   ]
  },
  {
   "cell_type": "code",
   "execution_count": 618,
   "metadata": {},
   "outputs": [
    {
     "name": "stdout",
     "output_type": "stream",
     "text": [
      "       Savings Savant  Digital Dynamos  Trustee Tribe\n",
      "0           68.500000        74.750000      39.000000\n",
      "1           86.000000        48.250000      75.000000\n",
      "2           20.500000        48.500000      46.000000\n",
      "3           12.500000        42.000000      45.000000\n",
      "4           30.000000        59.500000      42.333333\n",
      "...               ...              ...            ...\n",
      "45221       46.000000        68.500000      33.000000\n",
      "97560       51.500000        45.500000      58.666667\n",
      "51170       37.000000        38.250000      52.666667\n",
      "77844       49.000000        42.000000      61.666667\n",
      "46445       53.500000        51.500000      66.000000\n",
      "\n",
      "[295147 rows x 3 columns]\n"
     ]
    }
   ],
   "source": [
    "print(bank_df_train[['Savings Savant', 'Digital Dynamos', 'Trustee Tribe']])"
   ]
  },
  {
   "cell_type": "code",
   "execution_count": 620,
   "metadata": {},
   "outputs": [
    {
     "name": "stdout",
     "output_type": "stream",
     "text": [
      "      FirstPersona    SecondPersona ThirdPersona\n",
      "0  Digital Dynamos   Savings Savant          NaN\n",
      "1   Savings Savant              NaN          NaN\n",
      "2  Digital Dynamos    Trustee Tribe          NaN\n",
      "3    Trustee Tribe  Digital Dynamos          NaN\n",
      "4  Digital Dynamos              NaN          NaN\n",
      "5    Trustee Tribe   Savings Savant          NaN\n",
      "6  Digital Dynamos   Savings Savant          NaN\n",
      "7   Savings Savant              NaN          NaN\n",
      "8    Trustee Tribe  Digital Dynamos          NaN\n",
      "9  Digital Dynamos   Savings Savant          NaN\n",
      "       FirstPersona    SecondPersona     ThirdPersona\n",
      "0   Digital Dynamos              NaN              NaN\n",
      "1    Savings Savant              NaN              NaN\n",
      "2    Savings Savant    Trustee Tribe              NaN\n",
      "3   Digital Dynamos   Savings Savant              NaN\n",
      "4     Trustee Tribe              NaN              NaN\n",
      "5     Trustee Tribe   Savings Savant              NaN\n",
      "6     Trustee Tribe              NaN              NaN\n",
      "7   Digital Dynamos    Trustee Tribe              NaN\n",
      "8     Trustee Tribe  Digital Dynamos              NaN\n",
      "9     Trustee Tribe              NaN              NaN\n",
      "10   Savings Savant    Trustee Tribe              NaN\n",
      "11   Savings Savant    Trustee Tribe  Digital Dynamos\n",
      "12    Trustee Tribe   Savings Savant  Digital Dynamos\n",
      "13   Savings Savant    Trustee Tribe              NaN\n",
      "14   Savings Savant              NaN              NaN\n",
      "15   Savings Savant              NaN              NaN\n",
      "16   Savings Savant              NaN              NaN\n",
      "17   Savings Savant              NaN              NaN\n",
      "18   Savings Savant  Digital Dynamos              NaN\n",
      "19   Savings Savant              NaN              NaN\n"
     ]
    }
   ],
   "source": [
    "import warnings\n",
    "warnings.simplefilter(action='ignore', category=FutureWarning)\n",
    "# Restore default warning behavior after your code\n",
    "# warnings.simplefilter(action='default', category=FutureWarning)\n",
    "\n",
    "persona_df = bank_df_train[['Savings Savant', 'Digital Dynamos', 'Trustee Tribe']]\n",
    "largest_values = persona_df.max(axis=1)\n",
    "smallest_values = persona_df.min(axis=1)\n",
    "\n",
    "sum_values = persona_df.sum(axis=1)\n",
    "second_largest_values = sum_values - largest_values - smallest_values\n",
    "first_diff = largest_values - second_largest_values\n",
    "second_diff = largest_values - smallest_values\n",
    "\n",
    "def get_columns(row):\n",
    "    sorted_indices = np.argsort(row)[::-1]  \n",
    "    largest_index = sorted_indices[0]  \n",
    "    second_largest_index = sorted_indices[1] \n",
    "    smallest_index = sorted_indices[-1] \n",
    "    return (persona_df.columns[largest_index], persona_df.columns[second_largest_index], persona_df.columns[smallest_index])\n",
    "\n",
    "columns_tuple = persona_df.apply(get_columns, axis=1)\n",
    "bank_df_train[['FirstPersona', 'SecondPersona', 'ThirdPersona']] = pd.DataFrame(columns_tuple.tolist(), index=persona_df.index)\n",
    "bank_df_train.loc[first_diff > 10, ['SecondPersona', 'ThirdPersona']] = np.nan\n",
    "bank_df_train.loc[second_diff > 10, ['ThirdPersona']] = np.nan\n",
    "\n",
    "print(bank_df_train[['FirstPersona', 'SecondPersona', 'ThirdPersona']].head(10))\n",
    "\n",
    "persona_df_2 = bank_df_test[['Savings Savant', 'Digital Dynamos', 'Trustee Tribe']]\n",
    "largest_values_2 = persona_df_2.max(axis=1)\n",
    "smallest_values_2 = persona_df_2.min(axis=1)\n",
    "\n",
    "sum_values_2 = persona_df_2.sum(axis=1)\n",
    "second_largest_values_2 = sum_values_2 - largest_values_2 - smallest_values_2\n",
    "first_diff_2 = largest_values_2 - second_largest_values_2\n",
    "second_diff_2 = largest_values_2 - smallest_values_2\n",
    "\n",
    "columns_tuple_2 = persona_df_2.apply(get_columns, axis=1)\n",
    "bank_df_test[['FirstPersona', 'SecondPersona', 'ThirdPersona']] = pd.DataFrame(columns_tuple_2.tolist()).reset_index(drop=True)\n",
    "\n",
    "bank_df_test.loc[first_diff_2 > 10, ['SecondPersona', 'ThirdPersona']] = np.nan\n",
    "bank_df_test.loc[second_diff_2 > 10, ['ThirdPersona']] = np.nan\n",
    "\n",
    "print(bank_df_test[['FirstPersona', 'SecondPersona', 'ThirdPersona']].head(20))\n",
    "# print(persona_df_2.head(10))\n"
   ]
  },
  {
   "cell_type": "code",
   "execution_count": 622,
   "metadata": {},
   "outputs": [
    {
     "name": "stdout",
     "output_type": "stream",
     "text": [
      "       Savings Savant  Digital Dynamos  Trustee Tribe\n",
      "0           37.585734        41.015089      21.399177\n",
      "1           41.099164        23.058542      35.842294\n",
      "2           17.826087        42.173913      40.000000\n",
      "3           12.562814        42.211055      45.226131\n",
      "4           22.756005        45.132743      32.111252\n",
      "...               ...              ...            ...\n",
      "45221       31.186441        46.440678      22.372881\n",
      "97560       33.083512        29.229122      37.687366\n",
      "51170       28.925081        29.902280      41.172638\n",
      "77844       32.096070        27.510917      40.393013\n",
      "46445       31.286550        30.116959      38.596491\n",
      "\n",
      "[295147 rows x 3 columns]\n"
     ]
    }
   ],
   "source": [
    "columns_to_normalize = ['Savings Savant', 'Digital Dynamos', 'Trustee Tribe']\n",
    "\n",
    "bank_df_train[columns_to_normalize] = bank_df_train[columns_to_normalize].div(bank_df_train[columns_to_normalize].sum(axis=1), axis=0) * 100\n",
    "# bank_df_train['CustomerPersona'] = bank_df_train[columns_to_normalize].idxmax(axis=1)\n",
    "\n",
    "bank_df_test[columns_to_normalize] = bank_df_test[columns_to_normalize].div(bank_df_test[columns_to_normalize].sum(axis=1), axis=0) * 100\n",
    "# bank_df_test['CustomerPersona'] = bank_df_test[columns_to_normalize].idxmax(axis=1)\n",
    "\n",
    "print(bank_df_train[['Savings Savant', 'Digital Dynamos', 'Trustee Tribe']])"
   ]
  },
  {
   "cell_type": "markdown",
   "metadata": {},
   "source": [
    "### 44. Social Influencer"
   ]
  },
  {
   "cell_type": "code",
   "execution_count": 623,
   "metadata": {},
   "outputs": [
    {
     "name": "stdout",
     "output_type": "stream",
     "text": [
      "0    0\n",
      "1    0\n",
      "2    0\n",
      "3    0\n",
      "4    1\n",
      "5    0\n",
      "6    1\n",
      "7    1\n",
      "8    0\n",
      "9    0\n",
      "Name: SocialInfluencer, dtype: int64\n",
      "percentage social influencer = 16.58902174170837\n"
     ]
    }
   ],
   "source": [
    "social_benchmark = 84.1\n",
    "\n",
    "bank_df_train['SocialInfluencer'] = bank_df_train['NPS'].apply(lambda x: stats.percentileofscore(bank_df_train['NPS'], x))\n",
    "bank_df_train['SocialInfluencer'] = bank_df_train.apply(lambda row: 1 if (row['SocialInfluencer'] > happiness_benchmark) else 0, axis=1)\n",
    "\n",
    "bank_df_test['SocialInfluencer'] = bank_df_test['NPS'].apply(lambda x: stats.percentileofscore(bank_df_test['NPS'], x))\n",
    "bank_df_test['SocialInfluencer'] = bank_df_test.apply(lambda row: 1 if (row['SocialInfluencer'] > happiness_benchmark) else 0, axis=1)\n",
    "\n",
    "print(bank_df_train['SocialInfluencer'].head(10))\n",
    "print(\"percentage social influencer =\", (bank_df_train['SocialInfluencer'] == 1).mean() * 100)"
   ]
  },
  {
   "cell_type": "markdown",
   "metadata": {},
   "source": [
    "### 45. Combined Personas column"
   ]
  },
  {
   "cell_type": "code",
   "execution_count": 624,
   "metadata": {},
   "outputs": [
    {
     "name": "stdout",
     "output_type": "stream",
     "text": [
      "0             Frugal Innovators\n",
      "1                Savings Savant\n",
      "2               Premium Patrons\n",
      "3               Premium Patrons\n",
      "4               Digital Dynamos\n",
      "5    Cost-Conscious Careseekers\n",
      "6             Frugal Innovators\n",
      "7                Savings Savant\n",
      "8               Premium Patrons\n",
      "9             Frugal Innovators\n",
      "Name: CombinedPersonas, dtype: object\n"
     ]
    }
   ],
   "source": [
    "# bank_df_train['CombinedPersonas'] = bank_df_train[['FirstPersona', 'SecondPersona', 'ThirdPersona']].apply(lambda row: ', '.join(row.dropna().astype(str)), axis=1)\n",
    "# bank_df_test['CombinedPersonas'] = bank_df_test[['FirstPersona', 'SecondPersona', 'ThirdPersona']].apply(lambda row: ', '.join(row.dropna().astype(str)), axis=1)\n",
    "def combine_personas(row):\n",
    "    if ('Savings Savant' in row.values) and ('Digital Dynamos' in row.values) and ('Trustee Tribe' in row.values):\n",
    "        return 'Triple Advantage Allies'\n",
    "    elif ('Savings Savant' in row.values) and ('Digital Dynamos' in row.values):\n",
    "        return 'Frugal Innovators'\n",
    "    elif ('Savings Savant' in row.values) and ('Trustee Tribe' in row.values):\n",
    "        return 'Cost-Conscious Careseekers'\n",
    "    elif ('Digital Dynamos' in row.values) and ('Trustee Tribe' in row.values):\n",
    "        return 'Premium Patrons'\n",
    "    elif 'Savings Savant' in row.values:\n",
    "        return 'Savings Savant'\n",
    "    elif 'Digital Dynamos' in row.values:\n",
    "        return 'Digital Dynamos'\n",
    "    elif 'Trustee Tribe' in row.values:\n",
    "        return 'Trustee Tribe'\n",
    "bank_df_train['CombinedPersonas'] = bank_df_train[['FirstPersona', 'SecondPersona', 'ThirdPersona']].apply(combine_personas, axis=1)\n",
    "print(bank_df_train['CombinedPersonas'].head(10))"
   ]
  },
  {
   "cell_type": "markdown",
   "metadata": {},
   "source": []
  },
  {
   "cell_type": "markdown",
   "metadata": {},
   "source": [
    "# Removing useless columns"
   ]
  },
  {
   "cell_type": "code",
   "execution_count": 625,
   "metadata": {},
   "outputs": [],
   "source": [
    "# print(bank_df_train.dtypes)\n",
    "useless_cols = ['id', 'CustomerId', 'Surname', 'Geography', 'Exited', 'IsActiveMember', 'CreditScore', 'HasCrCard', 'CreditUtilization']\n",
    "useless_cols_2 = ['id', 'CustomerId', 'Surname', 'Geography', 'IsActiveMember', 'CreditScore', 'HasCrCard', 'CreditUtilization']\n",
    "# to_one_hot_encode_cols = ['Gender', 'Education', 'Employment Status', 'Marital Status', 'Housing Status', 'PaymentMethod', 'IncomeSource', 'PrevLifecycle', 'CurrLifecycle', 'CustomerPersona']\n",
    "\n",
    "bank_df_train.drop(columns=useless_cols, inplace=True)\n",
    "bank_df_test.drop(columns=useless_cols_2, inplace=True)\n",
    "# bank_df_train = pd.get_dummies(bank_df_train, columns=to_one_hot_encode_cols)\n",
    "\n"
   ]
  },
  {
   "cell_type": "code",
   "execution_count": 626,
   "metadata": {},
   "outputs": [
    {
     "name": "stdout",
     "output_type": "stream",
     "text": [
      "Gender                               object\n",
      "Age                                   int32\n",
      "Tenure                                int32\n",
      "Balance                             float64\n",
      "NumOfProducts                         int64\n",
      "EstimatedSalary                     float64\n",
      "ChurnDate                    datetime64[ns]\n",
      "MonthsInactive                      float64\n",
      "TransactionFreq                       int32\n",
      "TransactionAmt                      float64\n",
      "ServiceSupportFrequency               int32\n",
      "NPS                                 float64\n",
      "Education                            object\n",
      "EmploymentStatus                     object\n",
      "MaritalStatus                        object\n",
      "HousingStatus                        object\n",
      "Dependents                            int32\n",
      "MarketingOffersAcceptance           float64\n",
      "PaymentMethod                        object\n",
      "CustomerSatisfaction                  int32\n",
      "FeatureSatisfaction                   int32\n",
      "SupportSatisfaction                   int32\n",
      "FeatureSupportFrequency               int32\n",
      "LoanAmt                             float64\n",
      "IncomeSource                         object\n",
      "Retention                           float64\n",
      "ChangeInBehaviourMkt                float64\n",
      "ChangeInBehaviourCust               float64\n",
      "PrevLifecycle                        object\n",
      "CurrLifecycle                        object\n",
      "Happiness                             int64\n",
      "Savings Savant                      float64\n",
      "Digital Dynamos                     float64\n",
      "Trustee Tribe                       float64\n",
      "FirstPersona                         object\n",
      "SecondPersona                        object\n",
      "ThirdPersona                         object\n",
      "SocialInfluencer                      int64\n",
      "CombinedPersonas                     object\n",
      "dtype: object\n",
      "   Gender  Age  Tenure       Balance  NumOfProducts  EstimatedSalary  \\\n",
      "0    Male   33       6 133877.387693              2    181449.970000   \n",
      "1    Male   33       1 124654.362135              2     49503.500000   \n",
      "2    Male   40      19 152137.330246              2    184866.690000   \n",
      "3    Male   34       3 148882.540000              1     84560.880000   \n",
      "4    Male   33       9 118487.514477              2     15068.830000   \n",
      "5    Male   36       8 131778.580000              1    136024.310000   \n",
      "6  Female   30      14 144772.690000              1     29792.110000   \n",
      "7    Male   37       1 138476.410000              1    106851.600000   \n",
      "8    Male   43       7 121692.193074              2    142917.130000   \n",
      "9    Male   40       7  81274.330000              1    170843.070000   \n",
      "\n",
      "   ChurnDate  MonthsInactive  TransactionFreq  TransactionAmt  ...  \\\n",
      "0        NaT             NaN               44     1451.211025  ...   \n",
      "1        NaT             NaN                7     1197.820663  ...   \n",
      "2        NaT             NaN                5     1975.873397  ...   \n",
      "3        NaT             NaN               58     1159.449547  ...   \n",
      "4        NaT             NaN                7     1201.936091  ...   \n",
      "5 2023-06-17       10.000000                0        0.000000  ...   \n",
      "6        NaT             NaN                8      981.293566  ...   \n",
      "7        NaT             NaN               56     1029.603861  ...   \n",
      "8        NaT             NaN                5      941.718586  ...   \n",
      "9        NaT             NaN               33      254.669775  ...   \n",
      "\n",
      "   CurrLifecycle  Happiness Savings Savant Digital Dynamos Trustee Tribe  \\\n",
      "0    Reactivated          1      37.585734       41.015089     21.399177   \n",
      "1         Active          0      41.099164       23.058542     35.842294   \n",
      "2    Reactivated          0      17.826087       42.173913     40.000000   \n",
      "3         Active          0      12.562814       42.211055     45.226131   \n",
      "4         Active          0      22.756005       45.132743     32.111252   \n",
      "5        Churned          0      38.436482       21.824104     39.739414   \n",
      "6    Reactivated          0      41.395718       42.109437     16.494845   \n",
      "7         Active          0      41.626794       24.114833     34.258373   \n",
      "8         Active          0      19.878520       39.260077     40.861403   \n",
      "9         Active          0      35.249042       38.697318     26.053640   \n",
      "\n",
      "      FirstPersona    SecondPersona  ThirdPersona SocialInfluencer  \\\n",
      "0  Digital Dynamos   Savings Savant           NaN                0   \n",
      "1   Savings Savant              NaN           NaN                0   \n",
      "2  Digital Dynamos    Trustee Tribe           NaN                0   \n",
      "3    Trustee Tribe  Digital Dynamos           NaN                0   \n",
      "4  Digital Dynamos              NaN           NaN                1   \n",
      "5    Trustee Tribe   Savings Savant           NaN                0   \n",
      "6  Digital Dynamos   Savings Savant           NaN                1   \n",
      "7   Savings Savant              NaN           NaN                1   \n",
      "8    Trustee Tribe  Digital Dynamos           NaN                0   \n",
      "9  Digital Dynamos   Savings Savant           NaN                0   \n",
      "\n",
      "             CombinedPersonas  \n",
      "0           Frugal Innovators  \n",
      "1              Savings Savant  \n",
      "2             Premium Patrons  \n",
      "3             Premium Patrons  \n",
      "4             Digital Dynamos  \n",
      "5  Cost-Conscious Careseekers  \n",
      "6           Frugal Innovators  \n",
      "7              Savings Savant  \n",
      "8             Premium Patrons  \n",
      "9           Frugal Innovators  \n",
      "\n",
      "[10 rows x 39 columns]\n",
      "      FirstPersona    SecondPersona ThirdPersona  Happiness  SocialInfluencer\n",
      "0  Digital Dynamos              NaN          NaN          1                 0\n",
      "1   Savings Savant              NaN          NaN          0                 0\n",
      "2   Savings Savant    Trustee Tribe          NaN          0                 0\n",
      "3  Digital Dynamos   Savings Savant          NaN          0                 0\n",
      "4    Trustee Tribe              NaN          NaN          0                 0\n",
      "5    Trustee Tribe   Savings Savant          NaN          0                 0\n",
      "6    Trustee Tribe              NaN          NaN          0                 0\n",
      "7  Digital Dynamos    Trustee Tribe          NaN          0                 0\n",
      "8    Trustee Tribe  Digital Dynamos          NaN          0                 0\n",
      "9    Trustee Tribe              NaN          NaN          0                 0\n"
     ]
    }
   ],
   "source": [
    "# reference_date = bank_df_train['ChurnDate'].min()\n",
    "# bank_df_train['ChurnDate_Numeric'] = (bank_df_train['ChurnDate'] - reference_date).dt.days\n",
    "# bank_df_train['ChurnDate_Numeric'] = pd.to_numeric(bank_df_train['ChurnDate'])\n",
    "\n",
    "\n",
    "print(bank_df_train.dtypes)\n",
    "print(bank_df_train.head(10))\n",
    "print(bank_df_test[['FirstPersona', 'SecondPersona', 'ThirdPersona', 'Happiness', 'SocialInfluencer']].head(10))\n",
    "\n",
    "# to get our dates back\n",
    "# bank_df_train['ChurnDate_Back'] = reference_date + pd.to_timedelta(bank_df_train['ChurnDate_Numeric'], unit='D')"
   ]
  },
  {
   "cell_type": "code",
   "execution_count": 627,
   "metadata": {},
   "outputs": [
    {
     "name": "stdout",
     "output_type": "stream",
     "text": [
      "Gender                        object\n",
      "Age                            int32\n",
      "Tenure                         int64\n",
      "Balance                      float64\n",
      "NumOfProducts                  int64\n",
      "EstimatedSalary              float64\n",
      "MonthsInactive                 int32\n",
      "TransactionFreq                int32\n",
      "TransactionAmt               float64\n",
      "ServiceSupportFrequency        int32\n",
      "NPS                          float64\n",
      "Education                     object\n",
      "EmploymentStatus              object\n",
      "MaritalStatus                 object\n",
      "HousingStatus                 object\n",
      "Dependents                     int32\n",
      "MarketingOffersAcceptance    float64\n",
      "PaymentMethod                 object\n",
      "CustomerSatisfaction           int32\n",
      "FeatureSatisfaction            int32\n",
      "SupportSatisfaction            int32\n",
      "FeatureSupportFrequency        int32\n",
      "LoanAmt                      float64\n",
      "Retention                    float64\n",
      "ChangeInBehaviourMkt         float64\n",
      "ChangeInBehaviourCust        float64\n",
      "Happiness                      int64\n",
      "Savings Savant               float64\n",
      "Digital Dynamos              float64\n",
      "Trustee Tribe                float64\n",
      "FirstPersona                  object\n",
      "SecondPersona                 object\n",
      "ThirdPersona                  object\n",
      "SocialInfluencer               int64\n",
      "dtype: object\n",
      "   Gender  Age  Tenure       Balance  NumOfProducts  EstimatedSalary  \\\n",
      "0  Female   23       2      0.000000              2    160976.750000   \n",
      "1  Female   46       2      0.000000              1     72549.270000   \n",
      "2  Female   34       7      0.000000              2    138882.090000   \n",
      "3    Male   36       8      0.000000              1    113931.570000   \n",
      "4    Male   38      10 121263.620000              1    139431.000000   \n",
      "5  Female   22       9      0.000000              2     51907.720000   \n",
      "6    Male   45       4      0.000000              2    157878.670000   \n",
      "7  Female   47       8      0.000000              2    126784.290000   \n",
      "8  Female   47       3 111096.910000              1     94978.100000   \n",
      "9    Male   30       5      0.000000              2    149195.440000   \n",
      "\n",
      "   MonthsInactive  TransactionFreq  TransactionAmt  ServiceSupportFrequency  \\\n",
      "0               0               56     1044.312090                        2   \n",
      "1               0                4      904.421905                       13   \n",
      "2               0               49      837.012985                        8   \n",
      "3               0               35     1175.708013                        0   \n",
      "4               0               35     2334.702405                        5   \n",
      "5               0                4     1308.110549                        7   \n",
      "6               0               13     1201.858526                       30   \n",
      "7               0               38     1307.157741                       23   \n",
      "8               2               58      999.040066                        1   \n",
      "9               0               48     1158.579801                       18   \n",
      "\n",
      "   ...  ChangeInBehaviourMkt ChangeInBehaviourCust Happiness Savings Savant  \\\n",
      "0  ...              0.729590              1.309098         1      10.902896   \n",
      "1  ...              0.952159              1.022025         0      42.293530   \n",
      "2  ...              0.988187              0.883966         0      36.659878   \n",
      "3  ...              0.835320              0.986460         0      38.793103   \n",
      "4  ...              0.873994              1.242784         0      25.561313   \n",
      "5  ...              1.211612              0.925593         0      35.847918   \n",
      "6  ...              0.903155              1.321742         0      26.056746   \n",
      "7  ...              1.022934              0.865909         0      27.393786   \n",
      "8  ...              0.951086              0.943354         0      27.811550   \n",
      "9  ...              1.317464              1.086950         0      28.284592   \n",
      "\n",
      "  Digital Dynamos  Trustee Tribe     FirstPersona    SecondPersona  \\\n",
      "0       58.432709      30.664395  Digital Dynamos              NaN   \n",
      "1       30.773277      26.933193   Savings Savant              NaN   \n",
      "2       28.309572      35.030550   Savings Savant    Trustee Tribe   \n",
      "3       41.009852      20.197044  Digital Dynamos   Savings Savant   \n",
      "4       31.606218      42.832470    Trustee Tribe              NaN   \n",
      "5       27.700664      36.451418    Trustee Tribe   Savings Savant   \n",
      "6       29.704690      44.238564    Trustee Tribe              NaN   \n",
      "7       37.095751      35.510463  Digital Dynamos    Trustee Tribe   \n",
      "8       35.106383      37.082067    Trustee Tribe  Digital Dynamos   \n",
      "9       32.082060      39.633348    Trustee Tribe              NaN   \n",
      "\n",
      "   ThirdPersona  SocialInfluencer  \n",
      "0           NaN                 0  \n",
      "1           NaN                 0  \n",
      "2           NaN                 0  \n",
      "3           NaN                 0  \n",
      "4           NaN                 0  \n",
      "5           NaN                 0  \n",
      "6           NaN                 0  \n",
      "7           NaN                 0  \n",
      "8           NaN                 0  \n",
      "9           NaN                 0  \n",
      "\n",
      "[10 rows x 34 columns]\n"
     ]
    }
   ],
   "source": [
    "print(bank_df_test.dtypes)\n",
    "print(bank_df_test.head(10))"
   ]
  },
  {
   "cell_type": "markdown",
   "metadata": {},
   "source": [
    "### One hot encoding Current Lifecycle "
   ]
  },
  {
   "cell_type": "code",
   "execution_count": 628,
   "metadata": {},
   "outputs": [],
   "source": [
    "one_hot_encode_prev = pd.get_dummies(bank_df_train, columns=['PrevLifecycle'],dtype ='int').iloc[:,-4:]\n",
    "one_hot_encode_curr = pd.get_dummies(bank_df_train, columns=['CurrLifecycle'],dtype ='int').iloc[:,-4:]\n",
    "bank_df_train = pd.concat([bank_df_train, one_hot_encode_prev, one_hot_encode_curr], axis = 1)\n",
    "\n",
    "# one_hot_encode2 = pd.get_dummies(bank_df_test, columns=['PrevLifecycle'],dtype ='int').iloc[:,-4:]\n",
    "# bank_df_test = pd.concat([bank_df_test, one_hot_encode2], axis = 1)"
   ]
  },
  {
   "cell_type": "markdown",
   "metadata": {},
   "source": [
    "### FOR THE TIME BEING, PUT SOME CURR LIFECYCLE = DORMANT "
   ]
  },
  {
   "cell_type": "code",
   "execution_count": 629,
   "metadata": {},
   "outputs": [],
   "source": [
    "# n = round(bank_df_train.shape[0]*0.25)\n",
    "# bank_df_train['CurrLifecycle'].iloc[:n] = \"Dormant\"\n",
    "\n",
    "# print(bank_df_train['CurrLifecycle'].head)"
   ]
  },
  {
   "cell_type": "markdown",
   "metadata": {},
   "source": [
    "# EDA\n"
   ]
  },
  {
   "cell_type": "markdown",
   "metadata": {},
   "source": [
    "### 1. Correlation matrix"
   ]
  },
  {
   "cell_type": "code",
   "execution_count": 630,
   "metadata": {},
   "outputs": [
    {
     "data": {
      "image/png": "[encoded data removed]",
      "text/plain": [
       "<Figure size 1500x1200 with 2 Axes>"
      ]
     },
     "metadata": {},
     "output_type": "display_data"
    },
    {
     "name": "stdout",
     "output_type": "stream",
     "text": [
      "Tenure and MonthsInactive: -0.5993656871756922\n",
      "ChurnDate and MonthsInactive: -0.997848886380136\n",
      "ChurnDate and TransactionFreq: -0.7378453522737648\n",
      "ChurnDate and TransactionAmt: -0.6476909900591108\n",
      "ChurnDate and PrevLifecycle_Churned: 0.9999987976134137\n",
      "ChurnDate and CurrLifecycle_Active: -0.7480814927613579\n",
      "ChurnDate and CurrLifecycle_Churned: 0.9999987976134137\n",
      "MonthsInactive and Tenure: -0.5993656871756922\n",
      "MonthsInactive and ChurnDate: -0.997848886380136\n",
      "TransactionFreq and ChurnDate: -0.7378453522737648\n",
      "TransactionFreq and PrevLifecycle_Churned: -0.7378462394501593\n",
      "TransactionFreq and CurrLifecycle_Active: 0.5529352943058856\n",
      "TransactionFreq and CurrLifecycle_Churned: -0.7378462394501593\n",
      "TransactionAmt and ChurnDate: -0.6476909900591108\n",
      "TransactionAmt and PrevLifecycle_Churned: -0.6476917688349716\n",
      "TransactionAmt and CurrLifecycle_Churned: -0.6476917688349716\n",
      "CustomerSatisfaction and LoanAmt: 0.6989279303075321\n",
      "CustomerSatisfaction and Happiness: 0.7050687603264817\n",
      "LoanAmt and CustomerSatisfaction: 0.6989279303075321\n",
      "ChangeInBehaviourMkt and Savings Savant: 0.6186438901908574\n",
      "PrevLifecycle and PrevLifecycle_Active: -0.5485565686098905\n",
      "PrevLifecycle and PrevLifecycle_Reactivated: 0.6489610783155951\n",
      "CurrLifecycle and PrevLifecycle_Dormant: 0.8741919052102167\n",
      "CurrLifecycle and CurrLifecycle_Active: -0.6968859787236725\n",
      "CurrLifecycle and CurrLifecycle_Reactivated: 0.8741095612062154\n",
      "Happiness and CustomerSatisfaction: 0.7050687603264817\n",
      "Savings Savant and ChangeInBehaviourMkt: 0.6186438901908574\n",
      "Savings Savant and Digital Dynamos: -0.5276791680662066\n",
      "Savings Savant and Trustee Tribe: -0.6137667592821685\n",
      "Digital Dynamos and Savings Savant: -0.5276791680662066\n",
      "Digital Dynamos and FirstPersona: -0.5928998549676358\n",
      "Trustee Tribe and Savings Savant: -0.6137667592821685\n",
      "Trustee Tribe and FirstPersona: 0.5945809433816124\n",
      "FirstPersona and Digital Dynamos: -0.5928998549676358\n",
      "FirstPersona and Trustee Tribe: 0.5945809433816124\n",
      "PrevLifecycle_Active and PrevLifecycle: -0.5485565686098905\n",
      "PrevLifecycle_Active and CurrLifecycle_Active: 0.5957051887238888\n",
      "PrevLifecycle_Churned and ChurnDate: 0.9999987976134137\n",
      "PrevLifecycle_Churned and TransactionFreq: -0.7378462394501593\n",
      "PrevLifecycle_Churned and TransactionAmt: -0.6476917688349716\n",
      "PrevLifecycle_Churned and CurrLifecycle_Active: -0.7480823922455418\n",
      "PrevLifecycle_Churned and CurrLifecycle_Churned: 1.0\n",
      "PrevLifecycle_Dormant and CurrLifecycle: 0.8741919052102167\n",
      "PrevLifecycle_Dormant and CurrLifecycle_Reactivated: 0.9993736616461159\n",
      "PrevLifecycle_Reactivated and PrevLifecycle: 0.6489610783155951\n",
      "PrevLifecycle_Reactivated and CurrLifecycle_Active: 0.5962358403772277\n",
      "CurrLifecycle_Active and ChurnDate: -0.7480814927613579\n",
      "CurrLifecycle_Active and TransactionFreq: 0.5529352943058856\n",
      "CurrLifecycle_Active and CurrLifecycle: -0.6968859787236725\n",
      "CurrLifecycle_Active and PrevLifecycle_Active: 0.5957051887238888\n",
      "CurrLifecycle_Active and PrevLifecycle_Churned: -0.7480823922455418\n",
      "CurrLifecycle_Active and PrevLifecycle_Reactivated: 0.5962358403772277\n",
      "CurrLifecycle_Active and CurrLifecycle_Churned: -0.7480823922455418\n",
      "CurrLifecycle_Churned and ChurnDate: 0.9999987976134137\n",
      "CurrLifecycle_Churned and TransactionFreq: -0.7378462394501593\n",
      "CurrLifecycle_Churned and TransactionAmt: -0.6476917688349716\n",
      "CurrLifecycle_Churned and PrevLifecycle_Churned: 1.0\n",
      "CurrLifecycle_Churned and CurrLifecycle_Active: -0.7480823922455418\n",
      "CurrLifecycle_Reactivated and CurrLifecycle: 0.8741095612062154\n",
      "CurrLifecycle_Reactivated and PrevLifecycle_Dormant: 0.9993736616461159\n"
     ]
    }
   ],
   "source": [
    "from sklearn.preprocessing import LabelEncoder\n",
    "import seaborn as sns\n",
    "import matplotlib.pyplot as plt\n",
    "\n",
    "# Assuming bank_df_train is your DataFrame with both numeric and categorical columns\n",
    "\n",
    "# Create a copy of the DataFrame\n",
    "encoded_df = bank_df_train.copy()\n",
    "\n",
    "# Initialize LabelEncoder\n",
    "label_encoder = LabelEncoder()\n",
    "\n",
    "# Encode categorical columns using LabelEncoder\n",
    "for col in encoded_df.select_dtypes(include=['object']):\n",
    "    encoded_df[col] = label_encoder.fit_transform(encoded_df[col])\n",
    "\n",
    "# Calculate correlation matrix\n",
    "corr_matrix = encoded_df.corr()\n",
    "\n",
    "# Plot the heatmap for all columns without numeric annotations\n",
    "plt.figure(figsize=(15, 12))\n",
    "sns.heatmap(corr_matrix, annot=False, cmap='viridis')\n",
    "\n",
    "# Customize the plot\n",
    "plt.title('Correlation Matrix', fontsize=16)\n",
    "plt.xticks(rotation=45, fontsize=8)\n",
    "plt.yticks(rotation=0, fontsize=8)\n",
    "\n",
    "# Display the plot\n",
    "plt.tight_layout()\n",
    "plt.show()\n",
    "\n",
    "# Identify highly correlated columns\n",
    "correlated_columns = []\n",
    "threshold = 0.51   # Adjust as needed\n",
    "\n",
    "for col in corr_matrix.columns:\n",
    "    correlated_cols = corr_matrix.index[(corr_matrix[col] > threshold) | (corr_matrix[col] < -threshold)].tolist()\n",
    "    correlated_cols.remove(col)  # Remove the current column itself\n",
    "    correlated_columns.extend([(col, corr) for corr in correlated_cols])\n",
    "\n",
    "# Print highly correlated columns and their correlations\n",
    "for col, corr in correlated_columns:\n",
    "    print(f\"{col} and {corr}: {corr_matrix.loc[col, corr]}\")"
   ]
  },
  {
   "cell_type": "code",
   "execution_count": 631,
   "metadata": {},
   "outputs": [
    {
     "name": "stdout",
     "output_type": "stream",
     "text": [
      "The column most highly correlated with 'Balance' is 'Gender' with a correlation of 0.01\n"
     ]
    }
   ],
   "source": [
    "# Identify highly correlated columns with 'Account balance'\n",
    "target_column = 'Balance'\n",
    "correlated_with_target = corr_matrix[target_column].drop(target_column).sort_values(ascending=False)\n",
    "\n",
    "# Print the most highly correlated column and its correlation value\n",
    "most_correlated_column = correlated_with_target.index[0]\n",
    "correlation_value = correlated_with_target.iloc[0]\n",
    "print(f\"The column most highly correlated with '{target_column}' is '{most_correlated_column}' with a correlation of {correlation_value:.2f}\")\n"
   ]
  },
  {
   "cell_type": "code",
   "execution_count": 632,
   "metadata": {},
   "outputs": [
    {
     "name": "stdout",
     "output_type": "stream",
     "text": [
      "The correlation value between 'Balance' and 'Age' is 0.00\n"
     ]
    }
   ],
   "source": [
    "# Assuming 'column1' and 'column2' are the names of the two specific columns you want to find the correlation for\n",
    "column1 = 'Balance'\n",
    "column2 = 'Age'\n",
    "\n",
    "# Find the correlation value between 'column1' and 'column2'\n",
    "correlation_value = corr_matrix.loc[column1, column2]\n",
    "\n",
    "# Print the correlation value\n",
    "print(f\"The correlation value between '{column1}' and '{column2}' is {correlation_value:.2f}\")\n"
   ]
  },
  {
   "cell_type": "markdown",
   "metadata": {},
   "source": [
    "### 2. LDA"
   ]
  },
  {
   "cell_type": "code",
   "execution_count": 633,
   "metadata": {},
   "outputs": [],
   "source": [
    "# from sklearn.discriminant_analysis import LinearDiscriminantAnalysis\n",
    "\n",
    "# # Assuming bank_df_train is already defined and contains your data\n",
    "\n",
    "# # Create a copy of bank_df_train\n",
    "# test_df = bank_df_train.copy()\n",
    "\n",
    "# # Separate features and target\n",
    "# y = test_df['Exited']\n",
    "# X = test_df.drop(columns=['Exited'])  # Drop 'Exited' column and create X\n",
    "\n",
    "# # Convert X and y to numpy arrays\n",
    "# X = np.array(X)\n",
    "# y = np.array(y)\n",
    "\n",
    "# # Reshape y to a 1D array if needed\n",
    "# if y.ndim > 1:\n",
    "#     y = y.ravel()\n",
    "\n",
    "# # Initialize LDA model\n",
    "# lda = LinearDiscriminantAnalysis(n_components=1)  # Set the number of components (dimensions)\n",
    "\n",
    "# # Fit the model to the data\n",
    "# lda.fit(X, y)\n",
    "\n",
    "# # Transform the data\n",
    "# X_lda = lda.transform(X)\n",
    "\n",
    "# # Add the transformed data to the DataFrame\n",
    "# test_df['LDA_Component'] = X_lda\n",
    "\n",
    "# # Print the DataFrame with LDA component\n",
    "# print(test_df)\n"
   ]
  },
  {
   "cell_type": "markdown",
   "metadata": {},
   "source": [
    "### 3. Try MCA "
   ]
  },
  {
   "cell_type": "code",
   "execution_count": 634,
   "metadata": {},
   "outputs": [],
   "source": [
    "#col_idx = [(i, column_name) for i, column_name in enumerate(bank_df_train.columns)]"
   ]
  },
  {
   "cell_type": "code",
   "execution_count": 635,
   "metadata": {},
   "outputs": [],
   "source": [
    "#X_train_1 = bank_df_train.iloc[:, [1] + list(range(14, 17)) + [20, 26]]\n",
    "#X_train_2 = bank_df_train.iloc[:, 21:38]"
   ]
  },
  {
   "cell_type": "code",
   "execution_count": 636,
   "metadata": {},
   "outputs": [],
   "source": [
    "# mca = prince.MCA(n_components=2)\n",
    "# mca = mca.fit(X_train_1)"
   ]
  },
  {
   "cell_type": "code",
   "execution_count": 637,
   "metadata": {},
   "outputs": [],
   "source": [
    "# mca.column_contributions_.head().style.format('{:.0%}')"
   ]
  },
  {
   "cell_type": "markdown",
   "metadata": {},
   "source": [
    "### 4. FAMD"
   ]
  },
  {
   "cell_type": "code",
   "execution_count": 638,
   "metadata": {},
   "outputs": [],
   "source": [
    "# famd = prince.FAMD(n_components=2)\n",
    "# famd = famd.fit(X_train_2)"
   ]
  },
  {
   "cell_type": "markdown",
   "metadata": {},
   "source": [
    "# Export to csv"
   ]
  },
  {
   "cell_type": "code",
   "execution_count": 639,
   "metadata": {},
   "outputs": [
    {
     "name": "stdout",
     "output_type": "stream",
     "text": [
      "Train set size: 236117\n",
      "Test set size: 59030\n"
     ]
    }
   ],
   "source": [
    "from sklearn.model_selection import train_test_split\n",
    "# bank_df_train.to_csv('./data/final/dataset.csv', index=False)\n",
    "# bank_df_test.to_csv('./data/final/test_data.csv', index=False)\n",
    "\n",
    "# Assuming your DataFrame is named df and contains your data\n",
    "# Splitting into train and test sets with a ratio of 2:8\n",
    "train_df, test_df = train_test_split(bank_df_train, test_size=0.2, random_state=42, stratify=bank_df_train['CurrLifecycle'])\n",
    "\n",
    "# Print the sizes of the train and test sets\n",
    "print(\"Train set size:\", len(train_df))\n",
    "print(\"Test set size:\", len(test_df))\n",
    "\n",
    "train_df.to_csv('./data/final/train.csv', index=False)\n",
    "test_df.to_csv('./data/final/test.csv', index=False)"
   ]
  },
  {
   "cell_type": "markdown",
   "metadata": {},
   "source": [
    "# Model Training"
   ]
  },
  {
   "cell_type": "code",
   "execution_count": 640,
   "metadata": {},
   "outputs": [
    {
     "data": {
      "text/html": [
       "<div>\n",
       "<style scoped>\n",
       "    .dataframe tbody tr th:only-of-type {\n",
       "        vertical-align: middle;\n",
       "    }\n",
       "\n",
       "    .dataframe tbody tr th {\n",
       "        vertical-align: top;\n",
       "    }\n",
       "\n",
       "    .dataframe thead th {\n",
       "        text-align: right;\n",
       "    }\n",
       "</style>\n",
       "<table border=\"1\" class=\"dataframe\">\n",
       "  <thead>\n",
       "    <tr style=\"text-align: right;\">\n",
       "      <th></th>\n",
       "      <th>Gender</th>\n",
       "      <th>Age</th>\n",
       "      <th>Tenure</th>\n",
       "      <th>Balance</th>\n",
       "      <th>NumOfProducts</th>\n",
       "      <th>EstimatedSalary</th>\n",
       "      <th>MonthsInactive</th>\n",
       "      <th>TransactionFreq</th>\n",
       "      <th>TransactionAmt</th>\n",
       "      <th>ServiceSupportFrequency</th>\n",
       "      <th>...</th>\n",
       "      <th>ChangeInBehaviourMkt</th>\n",
       "      <th>ChangeInBehaviourCust</th>\n",
       "      <th>Happiness</th>\n",
       "      <th>Savings Savant</th>\n",
       "      <th>Digital Dynamos</th>\n",
       "      <th>Trustee Tribe</th>\n",
       "      <th>FirstPersona</th>\n",
       "      <th>SecondPersona</th>\n",
       "      <th>ThirdPersona</th>\n",
       "      <th>SocialInfluencer</th>\n",
       "    </tr>\n",
       "  </thead>\n",
       "  <tbody>\n",
       "    <tr>\n",
       "      <th>0</th>\n",
       "      <td>Female</td>\n",
       "      <td>23</td>\n",
       "      <td>2</td>\n",
       "      <td>0.000000</td>\n",
       "      <td>2</td>\n",
       "      <td>160976.750000</td>\n",
       "      <td>0</td>\n",
       "      <td>56</td>\n",
       "      <td>1044.312090</td>\n",
       "      <td>2</td>\n",
       "      <td>...</td>\n",
       "      <td>0.729590</td>\n",
       "      <td>1.309098</td>\n",
       "      <td>1</td>\n",
       "      <td>10.902896</td>\n",
       "      <td>58.432709</td>\n",
       "      <td>30.664395</td>\n",
       "      <td>Digital Dynamos</td>\n",
       "      <td>NaN</td>\n",
       "      <td>NaN</td>\n",
       "      <td>0</td>\n",
       "    </tr>\n",
       "    <tr>\n",
       "      <th>1</th>\n",
       "      <td>Female</td>\n",
       "      <td>46</td>\n",
       "      <td>2</td>\n",
       "      <td>0.000000</td>\n",
       "      <td>1</td>\n",
       "      <td>72549.270000</td>\n",
       "      <td>0</td>\n",
       "      <td>4</td>\n",
       "      <td>904.421905</td>\n",
       "      <td>13</td>\n",
       "      <td>...</td>\n",
       "      <td>0.952159</td>\n",
       "      <td>1.022025</td>\n",
       "      <td>0</td>\n",
       "      <td>42.293530</td>\n",
       "      <td>30.773277</td>\n",
       "      <td>26.933193</td>\n",
       "      <td>Savings Savant</td>\n",
       "      <td>NaN</td>\n",
       "      <td>NaN</td>\n",
       "      <td>0</td>\n",
       "    </tr>\n",
       "    <tr>\n",
       "      <th>2</th>\n",
       "      <td>Female</td>\n",
       "      <td>34</td>\n",
       "      <td>7</td>\n",
       "      <td>0.000000</td>\n",
       "      <td>2</td>\n",
       "      <td>138882.090000</td>\n",
       "      <td>0</td>\n",
       "      <td>49</td>\n",
       "      <td>837.012985</td>\n",
       "      <td>8</td>\n",
       "      <td>...</td>\n",
       "      <td>0.988187</td>\n",
       "      <td>0.883966</td>\n",
       "      <td>0</td>\n",
       "      <td>36.659878</td>\n",
       "      <td>28.309572</td>\n",
       "      <td>35.030550</td>\n",
       "      <td>Savings Savant</td>\n",
       "      <td>Trustee Tribe</td>\n",
       "      <td>NaN</td>\n",
       "      <td>0</td>\n",
       "    </tr>\n",
       "    <tr>\n",
       "      <th>3</th>\n",
       "      <td>Male</td>\n",
       "      <td>36</td>\n",
       "      <td>8</td>\n",
       "      <td>0.000000</td>\n",
       "      <td>1</td>\n",
       "      <td>113931.570000</td>\n",
       "      <td>0</td>\n",
       "      <td>35</td>\n",
       "      <td>1175.708013</td>\n",
       "      <td>0</td>\n",
       "      <td>...</td>\n",
       "      <td>0.835320</td>\n",
       "      <td>0.986460</td>\n",
       "      <td>0</td>\n",
       "      <td>38.793103</td>\n",
       "      <td>41.009852</td>\n",
       "      <td>20.197044</td>\n",
       "      <td>Digital Dynamos</td>\n",
       "      <td>Savings Savant</td>\n",
       "      <td>NaN</td>\n",
       "      <td>0</td>\n",
       "    </tr>\n",
       "    <tr>\n",
       "      <th>4</th>\n",
       "      <td>Male</td>\n",
       "      <td>38</td>\n",
       "      <td>10</td>\n",
       "      <td>121263.620000</td>\n",
       "      <td>1</td>\n",
       "      <td>139431.000000</td>\n",
       "      <td>0</td>\n",
       "      <td>35</td>\n",
       "      <td>2334.702405</td>\n",
       "      <td>5</td>\n",
       "      <td>...</td>\n",
       "      <td>0.873994</td>\n",
       "      <td>1.242784</td>\n",
       "      <td>0</td>\n",
       "      <td>25.561313</td>\n",
       "      <td>31.606218</td>\n",
       "      <td>42.832470</td>\n",
       "      <td>Trustee Tribe</td>\n",
       "      <td>NaN</td>\n",
       "      <td>NaN</td>\n",
       "      <td>0</td>\n",
       "    </tr>\n",
       "    <tr>\n",
       "      <th>...</th>\n",
       "      <td>...</td>\n",
       "      <td>...</td>\n",
       "      <td>...</td>\n",
       "      <td>...</td>\n",
       "      <td>...</td>\n",
       "      <td>...</td>\n",
       "      <td>...</td>\n",
       "      <td>...</td>\n",
       "      <td>...</td>\n",
       "      <td>...</td>\n",
       "      <td>...</td>\n",
       "      <td>...</td>\n",
       "      <td>...</td>\n",
       "      <td>...</td>\n",
       "      <td>...</td>\n",
       "      <td>...</td>\n",
       "      <td>...</td>\n",
       "      <td>...</td>\n",
       "      <td>...</td>\n",
       "      <td>...</td>\n",
       "      <td>...</td>\n",
       "    </tr>\n",
       "    <tr>\n",
       "      <th>110018</th>\n",
       "      <td>Male</td>\n",
       "      <td>29</td>\n",
       "      <td>7</td>\n",
       "      <td>116099.820000</td>\n",
       "      <td>1</td>\n",
       "      <td>148087.620000</td>\n",
       "      <td>0</td>\n",
       "      <td>37</td>\n",
       "      <td>254.688057</td>\n",
       "      <td>0</td>\n",
       "      <td>...</td>\n",
       "      <td>0.900880</td>\n",
       "      <td>1.361454</td>\n",
       "      <td>0</td>\n",
       "      <td>41.282980</td>\n",
       "      <td>32.436627</td>\n",
       "      <td>26.280393</td>\n",
       "      <td>Savings Savant</td>\n",
       "      <td>NaN</td>\n",
       "      <td>NaN</td>\n",
       "      <td>0</td>\n",
       "    </tr>\n",
       "    <tr>\n",
       "      <th>110019</th>\n",
       "      <td>Female</td>\n",
       "      <td>36</td>\n",
       "      <td>4</td>\n",
       "      <td>178032.530000</td>\n",
       "      <td>1</td>\n",
       "      <td>42181.680000</td>\n",
       "      <td>0</td>\n",
       "      <td>43</td>\n",
       "      <td>1102.552136</td>\n",
       "      <td>57</td>\n",
       "      <td>...</td>\n",
       "      <td>1.124990</td>\n",
       "      <td>0.658999</td>\n",
       "      <td>0</td>\n",
       "      <td>31.022327</td>\n",
       "      <td>22.209166</td>\n",
       "      <td>46.768508</td>\n",
       "      <td>Trustee Tribe</td>\n",
       "      <td>NaN</td>\n",
       "      <td>NaN</td>\n",
       "      <td>1</td>\n",
       "    </tr>\n",
       "    <tr>\n",
       "      <th>110020</th>\n",
       "      <td>Male</td>\n",
       "      <td>31</td>\n",
       "      <td>2</td>\n",
       "      <td>0.000000</td>\n",
       "      <td>2</td>\n",
       "      <td>16287.380000</td>\n",
       "      <td>1</td>\n",
       "      <td>9</td>\n",
       "      <td>837.489362</td>\n",
       "      <td>0</td>\n",
       "      <td>...</td>\n",
       "      <td>0.654542</td>\n",
       "      <td>0.955527</td>\n",
       "      <td>0</td>\n",
       "      <td>30.211153</td>\n",
       "      <td>40.119112</td>\n",
       "      <td>29.669735</td>\n",
       "      <td>Digital Dynamos</td>\n",
       "      <td>NaN</td>\n",
       "      <td>NaN</td>\n",
       "      <td>0</td>\n",
       "    </tr>\n",
       "    <tr>\n",
       "      <th>110021</th>\n",
       "      <td>Female</td>\n",
       "      <td>32</td>\n",
       "      <td>3</td>\n",
       "      <td>0.000000</td>\n",
       "      <td>1</td>\n",
       "      <td>158816.580000</td>\n",
       "      <td>0</td>\n",
       "      <td>31</td>\n",
       "      <td>8093.976201</td>\n",
       "      <td>3</td>\n",
       "      <td>...</td>\n",
       "      <td>1.166765</td>\n",
       "      <td>1.140539</td>\n",
       "      <td>0</td>\n",
       "      <td>37.349398</td>\n",
       "      <td>34.538153</td>\n",
       "      <td>28.112450</td>\n",
       "      <td>Savings Savant</td>\n",
       "      <td>Digital Dynamos</td>\n",
       "      <td>NaN</td>\n",
       "      <td>0</td>\n",
       "    </tr>\n",
       "    <tr>\n",
       "      <th>110022</th>\n",
       "      <td>Female</td>\n",
       "      <td>37</td>\n",
       "      <td>7</td>\n",
       "      <td>87848.390000</td>\n",
       "      <td>1</td>\n",
       "      <td>24210.560000</td>\n",
       "      <td>0</td>\n",
       "      <td>65</td>\n",
       "      <td>71.829181</td>\n",
       "      <td>7</td>\n",
       "      <td>...</td>\n",
       "      <td>1.223848</td>\n",
       "      <td>1.236450</td>\n",
       "      <td>0</td>\n",
       "      <td>41.569282</td>\n",
       "      <td>32.554257</td>\n",
       "      <td>25.876461</td>\n",
       "      <td>Savings Savant</td>\n",
       "      <td>NaN</td>\n",
       "      <td>NaN</td>\n",
       "      <td>1</td>\n",
       "    </tr>\n",
       "  </tbody>\n",
       "</table>\n",
       "<p>110023 rows × 34 columns</p>\n",
       "</div>"
      ],
      "text/plain": [
       "        Gender  Age  Tenure       Balance  NumOfProducts  EstimatedSalary  \\\n",
       "0       Female   23       2      0.000000              2    160976.750000   \n",
       "1       Female   46       2      0.000000              1     72549.270000   \n",
       "2       Female   34       7      0.000000              2    138882.090000   \n",
       "3         Male   36       8      0.000000              1    113931.570000   \n",
       "4         Male   38      10 121263.620000              1    139431.000000   \n",
       "...        ...  ...     ...           ...            ...              ...   \n",
       "110018    Male   29       7 116099.820000              1    148087.620000   \n",
       "110019  Female   36       4 178032.530000              1     42181.680000   \n",
       "110020    Male   31       2      0.000000              2     16287.380000   \n",
       "110021  Female   32       3      0.000000              1    158816.580000   \n",
       "110022  Female   37       7  87848.390000              1     24210.560000   \n",
       "\n",
       "        MonthsInactive  TransactionFreq  TransactionAmt  \\\n",
       "0                    0               56     1044.312090   \n",
       "1                    0                4      904.421905   \n",
       "2                    0               49      837.012985   \n",
       "3                    0               35     1175.708013   \n",
       "4                    0               35     2334.702405   \n",
       "...                ...              ...             ...   \n",
       "110018               0               37      254.688057   \n",
       "110019               0               43     1102.552136   \n",
       "110020               1                9      837.489362   \n",
       "110021               0               31     8093.976201   \n",
       "110022               0               65       71.829181   \n",
       "\n",
       "        ServiceSupportFrequency  ...  ChangeInBehaviourMkt  \\\n",
       "0                             2  ...              0.729590   \n",
       "1                            13  ...              0.952159   \n",
       "2                             8  ...              0.988187   \n",
       "3                             0  ...              0.835320   \n",
       "4                             5  ...              0.873994   \n",
       "...                         ...  ...                   ...   \n",
       "110018                        0  ...              0.900880   \n",
       "110019                       57  ...              1.124990   \n",
       "110020                        0  ...              0.654542   \n",
       "110021                        3  ...              1.166765   \n",
       "110022                        7  ...              1.223848   \n",
       "\n",
       "       ChangeInBehaviourCust Happiness Savings Savant Digital Dynamos  \\\n",
       "0                   1.309098         1      10.902896       58.432709   \n",
       "1                   1.022025         0      42.293530       30.773277   \n",
       "2                   0.883966         0      36.659878       28.309572   \n",
       "3                   0.986460         0      38.793103       41.009852   \n",
       "4                   1.242784         0      25.561313       31.606218   \n",
       "...                      ...       ...            ...             ...   \n",
       "110018              1.361454         0      41.282980       32.436627   \n",
       "110019              0.658999         0      31.022327       22.209166   \n",
       "110020              0.955527         0      30.211153       40.119112   \n",
       "110021              1.140539         0      37.349398       34.538153   \n",
       "110022              1.236450         0      41.569282       32.554257   \n",
       "\n",
       "        Trustee Tribe     FirstPersona    SecondPersona  ThirdPersona  \\\n",
       "0           30.664395  Digital Dynamos              NaN           NaN   \n",
       "1           26.933193   Savings Savant              NaN           NaN   \n",
       "2           35.030550   Savings Savant    Trustee Tribe           NaN   \n",
       "3           20.197044  Digital Dynamos   Savings Savant           NaN   \n",
       "4           42.832470    Trustee Tribe              NaN           NaN   \n",
       "...               ...              ...              ...           ...   \n",
       "110018      26.280393   Savings Savant              NaN           NaN   \n",
       "110019      46.768508    Trustee Tribe              NaN           NaN   \n",
       "110020      29.669735  Digital Dynamos              NaN           NaN   \n",
       "110021      28.112450   Savings Savant  Digital Dynamos           NaN   \n",
       "110022      25.876461   Savings Savant              NaN           NaN   \n",
       "\n",
       "        SocialInfluencer  \n",
       "0                      0  \n",
       "1                      0  \n",
       "2                      0  \n",
       "3                      0  \n",
       "4                      0  \n",
       "...                  ...  \n",
       "110018                 0  \n",
       "110019                 1  \n",
       "110020                 0  \n",
       "110021                 0  \n",
       "110022                 1  \n",
       "\n",
       "[110023 rows x 34 columns]"
      ]
     },
     "execution_count": 640,
     "metadata": {},
     "output_type": "execute_result"
    }
   ],
   "source": [
    "bank_df_train \n",
    "bank_df_test #missing ChurnDate and CurrLifecycle"
   ]
  },
  {
   "cell_type": "code",
   "execution_count": null,
   "metadata": {},
   "outputs": [],
   "source": []
  },
  {
   "cell_type": "code",
   "execution_count": null,
   "metadata": {},
   "outputs": [],
   "source": []
  }
 ],
 "metadata": {
  "kernelspec": {
   "display_name": "Python 3",
   "language": "python",
   "name": "python3"
  },
  "language_info": {
   "codemirror_mode": {
    "name": "ipython",
    "version": 3
   },
   "file_extension": ".py",
   "mimetype": "text/x-python",
   "name": "python",
   "nbconvert_exporter": "python",
   "pygments_lexer": "ipython3",
   "version": "3.11.9"
  }
 },
 "nbformat": 4,
 "nbformat_minor": 2
}
