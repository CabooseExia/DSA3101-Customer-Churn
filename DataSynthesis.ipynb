{
 "cells": [
  {
   "cell_type": "code",
   "execution_count": 408,
   "metadata": {},
   "outputs": [],
   "source": [
    "import pdb\n",
    "import pandas as pd\n",
    "import numpy as np\n",
    "import os\n",
    "import random\n",
    "from scipy import stats\n",
    "from scipy.stats import gaussian_kde\n",
    "from datetime import datetime, timedelta\n",
    "from faker import Faker\n",
    "import prince\n",
    "np.random.seed(3101)\n",
    "random_state = np.random.RandomState(3101)\n",
    "fake = Faker()\n",
    "pd.set_option('display.float_format', lambda x: '{:.6f}'.format(x))"
   ]
  },
  {
   "cell_type": "markdown",
   "metadata": {},
   "source": [
    "# Importing data:\n",
    "bank1 = archive  \n",
    "bank2 = bank+marketing"
   ]
  },
  {
   "cell_type": "code",
   "execution_count": 409,
   "metadata": {},
   "outputs": [],
   "source": [
    "# print(os.getcwd())\n",
    "bank_df_train = pd.read_csv('./data/main/train.csv')\n",
    "bank_df_test = pd.read_csv('./data/main/test.csv')"
   ]
  },
  {
   "cell_type": "code",
   "execution_count": 410,
   "metadata": {},
   "outputs": [
    {
     "name": "stdout",
     "output_type": "stream",
     "text": [
      "   id  CustomerId         Surname  CreditScore Geography Gender       Age  \\\n",
      "0   0    15674932  Okwudilichukwu          668    France   Male 33.000000   \n",
      "1   1    15749177   Okwudiliolisa          627    France   Male 33.000000   \n",
      "2   2    15694510           Hsueh          678    France   Male 40.000000   \n",
      "3   3    15741417             Kao          581    France   Male 34.000000   \n",
      "4   4    15766172       Chiemenam          716     Spain   Male 33.000000   \n",
      "\n",
      "   Tenure       Balance  NumOfProducts  HasCrCard  IsActiveMember  \\\n",
      "0       3      0.000000              2   1.000000        0.000000   \n",
      "1       1      0.000000              2   1.000000        1.000000   \n",
      "2      10      0.000000              2   1.000000        0.000000   \n",
      "3       2 148882.540000              1   1.000000        1.000000   \n",
      "4       5      0.000000              2   1.000000        1.000000   \n",
      "\n",
      "   EstimatedSalary  Exited  \n",
      "0    181449.970000       0  \n",
      "1     49503.500000       0  \n",
      "2    184866.690000       0  \n",
      "3     84560.880000       0  \n",
      "4     15068.830000       0  \n",
      "165034\n"
     ]
    }
   ],
   "source": [
    "print(bank_df_train.head())\n",
    "print(len(bank_df_train))\n",
    "\n",
    "# bank_df_train_clean = bank_df_train.drop_duplicates(subset=\"CustomerId\", keep=\"first\")\n",
    "# print(len(bank_df_train_clean))"
   ]
  },
  {
   "cell_type": "code",
   "execution_count": 411,
   "metadata": {},
   "outputs": [
    {
     "name": "stdout",
     "output_type": "stream",
     "text": [
      "       id  CustomerId    Surname  CreditScore Geography  Gender       Age  \\\n",
      "0  165034    15773898   Lucchese          586    France  Female 23.000000   \n",
      "1  165035    15782418       Nott          683    France  Female 46.000000   \n",
      "2  165036    15807120         K?          656    France  Female 34.000000   \n",
      "3  165037    15808905  O'Donnell          681    France    Male 36.000000   \n",
      "4  165038    15607314    Higgins          752   Germany    Male 38.000000   \n",
      "\n",
      "   Tenure       Balance  NumOfProducts  HasCrCard  IsActiveMember  \\\n",
      "0       2      0.000000              2   0.000000        1.000000   \n",
      "1       2      0.000000              1   1.000000        0.000000   \n",
      "2       7      0.000000              2   1.000000        0.000000   \n",
      "3       8      0.000000              1   1.000000        0.000000   \n",
      "4      10 121263.620000              1   1.000000        0.000000   \n",
      "\n",
      "   EstimatedSalary  \n",
      "0    160976.750000  \n",
      "1     72549.270000  \n",
      "2    138882.090000  \n",
      "3    113931.570000  \n",
      "4    139431.000000  \n"
     ]
    },
    {
     "data": {
      "text/plain": [
       "110023"
      ]
     },
     "execution_count": 411,
     "metadata": {},
     "output_type": "execute_result"
    }
   ],
   "source": [
    "print(bank_df_test.head())\n",
    "len(bank_df_test)\n",
    "# duplicates = bank_df_test.duplicated(subset=['CustomerId'], keep=False)\n",
    "# print(duplicates)\n",
    "#no \"exited\" column"
   ]
  },
  {
   "cell_type": "markdown",
   "metadata": {},
   "source": [
    "Data Cleaning\n",
    "\n",
    "Removed CustomerId column in both test & train since it is an unused var in the original dataset\n",
    "All other columns returns no duplicates\n",
    "scalling tenure too to when the bank opened"
   ]
  },
  {
   "cell_type": "code",
   "execution_count": 412,
   "metadata": {},
   "outputs": [
    {
     "name": "stdout",
     "output_type": "stream",
     "text": [
      "0      5\n",
      "1      1\n",
      "2     19\n",
      "3      3\n",
      "4      9\n",
      "5      7\n",
      "6     15\n",
      "7      1\n",
      "8      7\n",
      "9      7\n",
      "10    11\n",
      "11     5\n",
      "12    17\n",
      "13     9\n",
      "14    13\n",
      "15     9\n",
      "16    13\n",
      "17     7\n",
      "18    15\n",
      "19     1\n",
      "Name: Tenure, dtype: int32\n"
     ]
    }
   ],
   "source": [
    "# bank_df_train = bank_df_train.loc[:, bank_df_train.columns!='CustomerId'] # extract all columns except for CustomerId\n",
    "# print(bank_df_train[bank_df_train.duplicated() == True]) # check for duplicate columns \n",
    "\n",
    "# bank_df_test = bank_df_test.loc[:, bank_df_test.columns!='CustomerId']\n",
    "\n",
    "### DELETE OR COMMENT OUT THIS LATER ###\n",
    "# bank_df_train.drop_duplicates(subset=['CustomerId'], inplace=True)\n",
    "# bank_df_test.drop_duplicates(subset=['CustomerId'], inplace=True)\n",
    "### DELETE OR COMMENT OUT THIS LATER ###\n",
    "bank_df_train['Age'] = bank_df_train['Age'].astype(int)\n",
    "bank_df_test['Age'] = bank_df_test['Age'].astype(int)\n",
    "\n",
    "n_train = len(bank_df_train)\n",
    "n_test = len(bank_df_test)\n",
    "\n",
    "aug_2022 = datetime(2022, 8, 31)\n",
    "today = datetime.now()\n",
    "months_since_aug_2022 = (today.year - aug_2022.year) * 12 + today.month - aug_2022.month - 1\n",
    "def scale_int_to_months(int_val):\n",
    "    return int_val * (months_since_aug_2022 / 10)\n",
    "bank_df_train['Tenure'] = bank_df_train['Tenure'] * (months_since_aug_2022 / 10)\n",
    "bank_df_train['Tenure'] = bank_df_train['Tenure'].astype(int)\n",
    "print(bank_df_train['Tenure'].head(20))"
   ]
  },
  {
   "cell_type": "markdown",
   "metadata": {},
   "source": [
    "# Adding and populating features"
   ]
  },
  {
   "cell_type": "markdown",
   "metadata": {},
   "source": [
    "### 13. Churn Date: The exact date the customer decided to exit."
   ]
  },
  {
   "cell_type": "code",
   "execution_count": 413,
   "metadata": {},
   "outputs": [
    {
     "name": "stdout",
     "output_type": "stream",
     "text": [
      "    Tenure  ChurnDate\n",
      "0        5        NaT\n",
      "1        1        NaT\n",
      "2       19        NaT\n",
      "3        3        NaT\n",
      "4        9        NaT\n",
      "5        7 2023-10-15\n",
      "6       15        NaT\n",
      "7        1        NaT\n",
      "8        7        NaT\n",
      "9        7        NaT\n",
      "10      11        NaT\n",
      "11       5        NaT\n",
      "12      17        NaT\n",
      "13       9        NaT\n",
      "14      13        NaT\n",
      "15       9        NaT\n",
      "16      13        NaT\n",
      "17       7        NaT\n",
      "18      15 2024-01-31\n",
      "19       1 2023-03-08\n",
      "20      17        NaT\n",
      "21      15        NaT\n",
      "22      17        NaT\n",
      "23      17 2024-03-24\n",
      "24      11        NaT\n",
      "25      17 2024-03-03\n",
      "26       5        NaT\n",
      "27       3        NaT\n",
      "28       7 2023-08-15\n",
      "29      11        NaT\n"
     ]
    }
   ],
   "source": [
    "start_date = datetime(2022, 8, 31)\n",
    "end_date = end_date = datetime.now().strftime('%Y-%m-%d') \n",
    "\n",
    "# random_dates = pd.date_range(start=start_date, end=end_date, freq='D')\n",
    "# random_dates_str = random_dates.strftime('%Y-%m-%d')\n",
    "# bank_df_train['ChurnDate'] = np.where(bank_df_train['Exited'] == 1, np.random.choice(random_dates_str) , np.nan) \n",
    "def generate_random_date(exited, tenure_months):\n",
    "    if exited == 1:\n",
    "        tenure_days = tenure_months * 30\n",
    "        random_date = np.random.choice(pd.date_range(start=start_date + timedelta(days=tenure_days), end=end_date, freq='D'))\n",
    "        return random_date\n",
    "    else:\n",
    "        return np.nan\n",
    "bank_df_train['ChurnDate'] = bank_df_train.apply(lambda row: generate_random_date(row['Exited'], row['Tenure']), axis=1)\n",
    "\n",
    "# random_dates = pd.date_range(start=start_date, end=end_date, freq='D')\n",
    "# random_dates_str = random_dates.strftime('%Y-%m-%d')\n",
    "# bank_df_train['ChurnDate'] = np.where(bank_df_train['Exited'] == 1, np.random.choice(random_dates_str) , np.nan) \n",
    "# bank_df_train['ChurnDate'] = pd.to_datetime(bank_df_train['ChurnDate'])\n",
    "print(bank_df_train[['Tenure', 'ChurnDate']].head(30))"
   ]
  },
  {
   "cell_type": "markdown",
   "metadata": {},
   "source": [
    "### 14. Sign Up Date: When did the customer create an account\n",
    "has to be linked with churn date if any, and tenure. Tenure is usually rounded down, so (not needed anymore)\n"
   ]
  },
  {
   "cell_type": "code",
   "execution_count": 414,
   "metadata": {},
   "outputs": [],
   "source": [
    "# def generate_signon_date(churn_date, tenure, exited):\n",
    "#     if exited == 0:\n",
    "#         churn_date = datetime.now().strftime('%Y-%m-%d')\n",
    "#     churn_date = pd.to_datetime(churn_date)\n",
    "#     max = churn_date - pd.DateOffset(years=tenure)\n",
    "#     min = churn_date - pd.DateOffset(years=(tenure + 1))\n",
    "#     random_dates = pd.date_range(min, max, freq='D').strftime('%Y-%m-%d')\n",
    "#     random_date = np.random.choice(random_dates)\n",
    "#     return random_date\n",
    "\n",
    "\n",
    "# bank_df_train['SignDate'] = bank_df_train.apply(lambda row: generate_signon_date(row['ChurnDate'], row['Tenure'], row['Exited']), axis = 1)\n",
    "# print(bank_df_train[['SignDate', 'ChurnDate', 'Tenure']].head(10))\n",
    "\n",
    "# bank_df_test['SignDate'] = bank_df_train.apply(lambda row: generate_signon_date(\"2023-12-31\", row['Tenure'], 0), axis = 1)\n",
    "# # print(bank_df_train_clean.head(10))\n",
    "# bank_df_train['SignDate'] = pd.to_datetime(bank_df_train['SignDate'])"
   ]
  },
  {
   "cell_type": "markdown",
   "metadata": {},
   "source": [
    "### 15.Transaction History Freq\n",
    "Detailed transaction data offers insights into spending patterns and engagement. (Transaction frequency in the last 28 days)"
   ]
  },
  {
   "cell_type": "code",
   "execution_count": 415,
   "metadata": {},
   "outputs": [
    {
     "name": "stdout",
     "output_type": "stream",
     "text": [
      "    ChurnDate  TransactionFreq\n",
      "0         NaT               24\n",
      "1         NaT                0\n",
      "2         NaT               64\n",
      "3         NaT                7\n",
      "4         NaT                0\n",
      "5  2023-10-15                0\n",
      "6         NaT               28\n",
      "7         NaT               88\n",
      "8         NaT               12\n",
      "9         NaT               19\n",
      "10        NaT                6\n",
      "11        NaT                0\n",
      "12        NaT                0\n",
      "13        NaT               28\n",
      "14        NaT               20\n",
      "15        NaT                0\n",
      "16        NaT               41\n",
      "17        NaT                0\n",
      "18 2024-01-31                0\n",
      "19 2023-03-08                0\n"
     ]
    }
   ],
   "source": [
    "transaction_df = pd.read_excel('./data/transaction_history.xlsx')\n",
    "\n",
    "# print(transaction_df.head())\n",
    "transaction_df['DATE'] = pd.to_datetime(transaction_df['DATE'])\n",
    "\n",
    "grouped_df = transaction_df.groupby('Account No')\n",
    "\n",
    "results = []\n",
    "for group_name, group_data in grouped_df:\n",
    "    # Get max and min dates for the group\n",
    "    max_date = group_data['DATE'].max()\n",
    "    min_date = max_date - pd.Timedelta(days=28)\n",
    "    \n",
    "    # Filter group data for transactions within the date range\n",
    "    filtered_group = group_data[(group_data['DATE'] >= min_date) & (group_data['DATE'] <= max_date)]\n",
    "    \n",
    "    # Calculate transaction frequency and amount for the group\n",
    "    transaction_frequency = len(filtered_group)\n",
    "    transaction_amount = filtered_group['DEPOSIT AMT'].sum()\n",
    "    \n",
    "    # Append results to the list\n",
    "    results.append({\n",
    "        'Account No': group_name,\n",
    "        'Total Transaction Amount': transaction_amount,\n",
    "        'Transaction Frequency': transaction_frequency\n",
    "    })\n",
    "\n",
    "# Create DataFrame from results\n",
    "result_df = pd.DataFrame(results)\n",
    "\n",
    "result_df['Total Transaction Amount'] = result_df['Total Transaction Amount'].astype(int)\n",
    "pd.options.display.float_format = '{:,.0f}'.format\n",
    "# print(result_df['Total Transaction Amount'])\n",
    "\n",
    "# print(\"Minimum date in the dataset:\", min_date)\n",
    "# print(\"Maximum date in the dataset:\", max_date)\n",
    "\n",
    "kde_freq = gaussian_kde(result_df['Transaction Frequency'])\n",
    "kde_amnt = gaussian_kde(result_df['Total Transaction Amount'])\n",
    "# print(result_df['Total Transaction Amount'])\n",
    "\n",
    "fake_data_freq = kde_freq.resample(len(bank_df_train)).flatten()\n",
    "fake_data_freq = np.round(fake_data_freq).astype(int)\n",
    "bank_df_train['TransactionFreq'] = fake_data_freq\n",
    "fake_data_freq = kde_freq.resample(len(bank_df_test)).flatten()\n",
    "fake_data_freq = np.round(fake_data_freq).astype(int)\n",
    "bank_df_test['TransactionFreq'] = fake_data_freq\n",
    "\n",
    "# fake_data_amt = kde_amnt.resample(len(bank_df_train)).flatten()\n",
    "# # fake_data_amt = np.round(fake_data_amt).astype(int)\n",
    "# bank_df_train['TransactionAmnt'] = fake_data_amt\n",
    "# fake_data_amt = kde_amnt.resample(len(bank_df_test)).flatten()\n",
    "# # fake_data_amt = np.round(fake_data_amt).astype(int)\n",
    "# bank_df_test['TransactionAmnt'] = fake_data_amt\n",
    "\n",
    "# print(bank_df_train['TransactionAmnt'].head())\n",
    "date_28_days_ago = datetime.now() - timedelta(days=28)\n",
    "\n",
    "bank_df_train['TransactionFreq'] = np.where(\n",
    "    (bank_df_train['ChurnDate'] <= date_28_days_ago),\n",
    "    0,\n",
    "    bank_df_train['TransactionFreq']\n",
    ")\n",
    "\n",
    "bank_df_test['TransactionFreq'] = np.where(\n",
    "    (bank_df_test['IsActiveMember'] == 0),\n",
    "    0,\n",
    "    bank_df_test['TransactionFreq']\n",
    ")\n",
    "\n",
    "bank_df_train['TransactionFreq'] = np.maximum(bank_df_train['TransactionFreq'], 0)\n",
    "bank_df_test['TransactionFreq'] = np.maximum(bank_df_test['TransactionFreq'], 0)\n",
    "\n",
    "min_train_value = bank_df_train['TransactionFreq'].min()\n",
    "max_train_value = bank_df_train['TransactionFreq'].max()\n",
    "min_test_value = bank_df_test['TransactionFreq'].min()\n",
    "max_test_value = bank_df_test['TransactionFreq'].max()\n",
    "\n",
    "def scale_transaction_freq_train(freq):\n",
    "    scaled_freq = ((freq - min_train_value) / (max_train_value - min_train_value)) * 150\n",
    "    return scaled_freq\n",
    "\n",
    "def scale_transaction_freq_test(freq):\n",
    "    scaled_freq = ((freq - min_test_value) / (max_test_value - min_test_value)) * 150\n",
    "    return scaled_freq\n",
    "\n",
    "bank_df_train['TransactionFreq'] = bank_df_train['TransactionFreq'].apply(scale_transaction_freq_train).astype(int)\n",
    "\n",
    "bank_df_test['TransactionFreq'] = bank_df_test['TransactionFreq'].apply(scale_transaction_freq_test).astype(int)\n",
    "\n",
    "print(bank_df_train[['ChurnDate', 'TransactionFreq']].head(20))"
   ]
  },
  {
   "cell_type": "markdown",
   "metadata": {},
   "source": [
    "### 16. Transaction History Amt\n",
    "Detailed transaction data offers insights into spending patterns and engagement. (Transaction amount in the last 28 days)\n"
   ]
  },
  {
   "cell_type": "code",
   "execution_count": 416,
   "metadata": {},
   "outputs": [
    {
     "name": "stdout",
     "output_type": "stream",
     "text": [
      "    TransactionFreq  TransactionAmt\n",
      "0                 0               0\n",
      "1                 0               0\n",
      "2                 0               0\n",
      "3                 0               0\n",
      "4                 0               0\n",
      "5                 0               0\n",
      "6                53      -1,948,716\n",
      "7                29      -3,968,846\n",
      "8                 0               0\n",
      "9                 0               0\n",
      "10               73      -7,980,888\n",
      "11                0               0\n",
      "12               37         832,912\n",
      "13                9        -386,676\n",
      "14                0               0\n",
      "15               32        -273,663\n",
      "16               10      -2,795,294\n",
      "17                0               0\n",
      "18                0               0\n",
      "19                0               0\n"
     ]
    }
   ],
   "source": [
    "# Import reference set\n",
    "# Warning: File size slightly big\n",
    "trans_hist_data = pd.read_excel('./data/transaction_history.xlsx')\n",
    "\n",
    "trans_hist_data.dtypes\n",
    "# trans_hist_data.describe()\n",
    "\n",
    "# Extract the most recent 2 sets of 3 months assuming the most recent data is the most accurate\n",
    "trans_1st_3mths = trans_hist_data[(trans_hist_data['DATE'] >= pd.to_datetime('2019-01')) & (trans_hist_data['DATE'] <= pd.to_datetime('2019-03'))]\n",
    "trans_2ns_3mths = trans_hist_data[(trans_hist_data['DATE'] >= pd.to_datetime('2018-10')) & (trans_hist_data['DATE'] <= pd.to_datetime('2018-12'))]\n",
    "\n",
    "trans_dist_data = trans_1st_3mths.groupby('Account No').agg({'VALUE DATE': 'size', 'WITHDRAWAL AMT':'sum', 'DEPOSIT AMT': 'sum'}).reset_index()\n",
    "trans_dist_data['TOTAL AMT'] = -trans_dist_data['WITHDRAWAL AMT'] + trans_dist_data['DEPOSIT AMT']\n",
    "\n",
    "# kde = gaussian_kde(trans_dist_data['VALUE DATE'])\n",
    "# train['Transaction Freq'] = abs(kde.resample(n_train).flatten()).astype(int)\n",
    "\n",
    "kde = gaussian_kde(trans_dist_data['TOTAL AMT'])\n",
    "bank_df_train['TransactionAmt'] = kde.resample(n_train).flatten().astype(float)\n",
    "bank_df_test['TransactionAmt'] = kde.resample(n_test).flatten().astype(float)\n",
    "\n",
    "date_28_days_ago = datetime.now() - timedelta(days=28)\n",
    "\n",
    "bank_df_train['TransactionAmt'] = np.where(\n",
    "    (bank_df_train['ChurnDate'] <= date_28_days_ago),\n",
    "    0,\n",
    "    bank_df_train['TransactionAmt']\n",
    ")\n",
    "\n",
    "bank_df_train['TransactionAmt'] = np.where(\n",
    "    (bank_df_train['TransactionFreq'] == 0),\n",
    "    0,\n",
    "    bank_df_train['TransactionAmt']\n",
    ")\n",
    "\n",
    "bank_df_test['TransactionAmt'] = np.where(\n",
    "    (bank_df_test['TransactionFreq'] == 0),\n",
    "    0,\n",
    "    bank_df_test['TransactionAmt']\n",
    ")\n",
    "\n",
    "# bank_df_train['Transaction Amt'] = np.maximum(bank_df_train['Transaction Amt'], 0)\n",
    "bank_df_train['TransactionAmt'] = bank_df_train['TransactionAmt'] / 50\n",
    "\n",
    "# print(bank_df_train[['ChurnDate', 'TransactionFreq', 'TransactionAmt']].head(20))\n",
    "print(bank_df_test[['TransactionFreq', 'TransactionAmt']].head(20))"
   ]
  },
  {
   "cell_type": "code",
   "execution_count": 417,
   "metadata": {},
   "outputs": [],
   "source": [
    "#np.random.uniform(0, 1, size=bank_df_train.shape[0])\n",
    "\n",
    "#bank_df_train.loc[bank_df_train['TransactionAmt'] > bank_df_train['Balance'], 'TransactionAmt'] = bank_df_train.loc[bank_df_train['TransactionAmt'] > bank_df_train['Balance'], 'TransactionAmt'] * unif[bank_df_train['TransactionAmt'] > bank_df_train['Balance']]\n",
    "#bank_df_train['TransactionAmt'] > bank_df_train['Balance'] == True\n",
    "\n",
    "# print(bank_df_train['TransactionAmt'].head(20))"
   ]
  },
  {
   "cell_type": "markdown",
   "metadata": {},
   "source": [
    "### 17.Service Support Frequency (per mth)"
   ]
  },
  {
   "cell_type": "code",
   "execution_count": 418,
   "metadata": {},
   "outputs": [
    {
     "name": "stdout",
     "output_type": "stream",
     "text": [
      "0          4\n",
      "1          4\n",
      "2         12\n",
      "3          0\n",
      "4         45\n",
      "          ..\n",
      "165029     1\n",
      "165030    11\n",
      "165031     6\n",
      "165032    25\n",
      "165033     2\n",
      "Name: ServiceSupportFrequency, Length: 165034, dtype: int32\n"
     ]
    }
   ],
   "source": [
    "\n",
    "support_freq = pd.read_csv(\"./data/support_frequency.csv\")\n",
    "kde = gaussian_kde(support_freq['no_of_cases'])\n",
    "bank_df_train['ServiceSupportFrequency'] = abs(kde.resample(n_train).flatten()/12).astype(int)\n",
    "bank_df_test['ServiceSupportFrequency'] = abs(kde.resample(n_test).flatten()/12).astype(int)\n",
    "\n",
    "print(bank_df_train['ServiceSupportFrequency'])\n"
   ]
  },
  {
   "cell_type": "markdown",
   "metadata": {},
   "source": [
    "### 18.Months Inactive\n",
    "Indicates customer disengagement, potentially preceding churn. "
   ]
  },
  {
   "cell_type": "code",
   "execution_count": 419,
   "metadata": {},
   "outputs": [
    {
     "name": "stdout",
     "output_type": "stream",
     "text": [
      "0     0\n",
      "1     0\n",
      "2     0\n",
      "3     1\n",
      "4     0\n",
      "5     0\n",
      "6     0\n",
      "7     0\n",
      "8     0\n",
      "9     1\n",
      "10    0\n",
      "11    0\n",
      "12    0\n",
      "13    0\n",
      "14    2\n",
      "15    0\n",
      "16    0\n",
      "17    2\n",
      "18    0\n",
      "19    0\n",
      "Name: MonthsInactive, dtype: int32\n"
     ]
    }
   ],
   "source": [
    "np.random.seed(3101)\n",
    "bank_df_train['MonthsInactive'] = np.minimum(np.random.normal(0.5, 1.5, n_train), bank_df_train['Tenure'] * 12)\n",
    "bank_df_train['MonthsInactive'] = np.maximum(bank_df_train['MonthsInactive'], 0)\n",
    "\n",
    "bank_df_test['MonthsInactive'] = bank_df_test.apply(lambda row: \n",
    "    np.random.normal(0.5, 1.5) if row['TransactionFreq'] == 0 else 0,\n",
    "    axis=1)\n",
    "\n",
    "def set_max_to_tenure(row):\n",
    "    return min(row['MonthsInactive'], row['Tenure'])\n",
    "\n",
    "bank_df_train['MonthsInactive'] = np.maximum(bank_df_train['MonthsInactive'], 0)\n",
    "bank_df_train['MonthsInactive'] = bank_df_train.apply(set_max_to_tenure, axis=1)\n",
    "bank_df_train['MonthsInactive'] = bank_df_train['MonthsInactive'].astype(int)\n",
    "bank_df_test['MonthsInactive'] = np.maximum(bank_df_test['MonthsInactive'], 0)\n",
    "bank_df_test['MonthsInactive'] = bank_df_test.apply(set_max_to_tenure, axis=1)\n",
    "bank_df_test['MonthsInactive'] = bank_df_test['MonthsInactive'].astype(int)\n",
    "\n",
    "# print(bank_df_train['MonthsInactive'].head(20))\n",
    "print(bank_df_test['MonthsInactive'].head(20))"
   ]
  },
  {
   "cell_type": "markdown",
   "metadata": {},
   "source": [
    "### 19.Net Promoter Score (NPS)\n",
    "Measure of customer satisfaction and loyalty.\n",
    "Scaled from 1 to 10 \n"
   ]
  },
  {
   "cell_type": "code",
   "execution_count": 420,
   "metadata": {},
   "outputs": [
    {
     "name": "stdout",
     "output_type": "stream",
     "text": [
      "count   165,034\n",
      "mean          6\n",
      "std           3\n",
      "min           0\n",
      "25%           4\n",
      "50%           7\n",
      "75%           8\n",
      "max          10\n",
      "Name: NPS, dtype: float64\n"
     ]
    }
   ],
   "source": [
    "nps = pd.read_csv('./data/NPS.csv')\n",
    "\n",
    "nps_data = nps.groupby('Customer Name').agg({'NPS':'mean'}).reset_index()\n",
    "kde = gaussian_kde(nps_data['NPS'])\n",
    "bank_df_train['NPS'] = abs(kde.resample(n_train).flatten()).astype(int)\n",
    "bank_df_test['NPS'] = abs(kde.resample(n_test).flatten()).astype(int)\n",
    "bank_df_train['NPS'] = np.ceil(bank_df_train['NPS']/12*10)\n",
    "bank_df_test['NPS'] = np.ceil(bank_df_test['NPS']/12*10)\n",
    "print(bank_df_train['NPS'].describe())"
   ]
  },
  {
   "cell_type": "markdown",
   "metadata": {},
   "source": [
    "### 20.Education\n",
    "Education level might influence financial behavior and churn.\n",
    "Shld be correlated to 5. Acct Balance\n"
   ]
  },
  {
   "cell_type": "code",
   "execution_count": 421,
   "metadata": {},
   "outputs": [
    {
     "name": "stdout",
     "output_type": "stream",
     "text": [
      "0             A\n",
      "1           PHD\n",
      "2             A\n",
      "3           O/N\n",
      "4       Diploma\n",
      "5             A\n",
      "6           O/N\n",
      "7     Bachelors\n",
      "8       Masters\n",
      "9           O/N\n",
      "10          PHD\n",
      "11          PHD\n",
      "12         PSLE\n",
      "13      Diploma\n",
      "14      Diploma\n",
      "15    Bachelors\n",
      "16          O/N\n",
      "17     Post-Doc\n",
      "18          O/N\n",
      "19     Post-Doc\n",
      "20     Post-Doc\n",
      "21          O/N\n",
      "22         PSLE\n",
      "23            A\n",
      "24      Masters\n",
      "25          O/N\n",
      "26          PHD\n",
      "27      Masters\n",
      "28     Post-Doc\n",
      "29          O/N\n",
      "Name: Education, dtype: object\n"
     ]
    }
   ],
   "source": [
    "education_marital = pd.read_csv(\"./data/education_marital.csv\")\n",
    "\n",
    "education = education_marital['Education_Level'].unique()\n",
    "\n",
    "edu, counts = np.unique(education, return_counts=True)\n",
    "value_to_index = {value: i for i, value in enumerate(edu)}\n",
    "numerical_data = [value_to_index[value] for value in education]\n",
    "\n",
    "kde = gaussian_kde(numerical_data)\n",
    "\n",
    "x_values = np.unique(numerical_data)\n",
    "pdf_values = kde(x_values)\n",
    "\n",
    "pmf = pdf_values / np.sum(pdf_values)\n",
    "\n",
    "resampled_indices = np.random.choice(x_values, size=n_train, p=pmf)\n",
    "resampled_indices_test = np.random.choice(x_values, size=n_test, p=pmf)\n",
    "\n",
    "resampled_values = [edu[index] for index in resampled_indices]\n",
    "resampled_values_test = [edu[index] for index in resampled_indices_test]\n",
    "\n",
    "bank_df_train['Education'] = resampled_values\n",
    "bank_df_test['Education'] = resampled_values_test\n",
    "\n",
    "def convert_phd_to_postdoc(edu_level):\n",
    "    if edu_level == 'PHD':\n",
    "        # Randomly choose between 'PHD' and 'Post-Doc' with equal probability\n",
    "        return np.random.choice(['PHD', 'Post-Doc'])\n",
    "    else:\n",
    "        return edu_level  # Keep other education levels unchanged\n",
    "\n",
    "bank_df_train['Education'].replace({'Unknown': 'PSLE'}, inplace=True)\n",
    "bank_df_train['Education'].replace({'Uneducated': 'O/N'}, inplace=True)\n",
    "bank_df_train['Education'].replace({'High School': 'A'}, inplace=True)\n",
    "bank_df_train['Education'].replace({'College': 'Diploma'}, inplace=True)\n",
    "bank_df_train['Education'].replace({'Graduate': 'Bachelors'}, inplace=True)\n",
    "bank_df_train['Education'].replace({'Post-Graduate': 'Masters'}, inplace=True)\n",
    "bank_df_train['Education'].replace({'Doctorate': 'PHD'}, inplace=True)\n",
    "\n",
    "bank_df_train['Education'] = bank_df_train['Education'].apply(convert_phd_to_postdoc)\n",
    "\n",
    "bank_df_test['Education'].replace({'Unknown': 'PSLE'}, inplace=True)\n",
    "bank_df_test['Education'].replace({'Uneducated': 'O/N'}, inplace=True)\n",
    "bank_df_test['Education'].replace({'High School': 'A'}, inplace=True)\n",
    "bank_df_test['Education'].replace({'College': 'Diploma'}, inplace=True)\n",
    "bank_df_test['Education'].replace({'Graduate': 'Bachelors'}, inplace=True)\n",
    "bank_df_test['Education'].replace({'Post-Graduate': 'Masters'}, inplace=True)\n",
    "bank_df_test['Education'].replace({'Doctorate': 'PHD'}, inplace=True)\n",
    "\n",
    "bank_df_test['Education'] = bank_df_test['Education'].apply(convert_phd_to_postdoc)\n",
    "\n",
    "print(bank_df_train['Education'].head(30))"
   ]
  },
  {
   "cell_type": "markdown",
   "metadata": {},
   "source": [
    "### 21.Employment Status\n",
    "Indicates financial stability, affecting churn likelihood. \n",
    "Shld be correlated to 5. Acct Balance & 21. Education  "
   ]
  },
  {
   "cell_type": "code",
   "execution_count": 422,
   "metadata": {},
   "outputs": [
    {
     "name": "stdout",
     "output_type": "stream",
     "text": [
      "0     Unemployed\n",
      "1       Fulltime\n",
      "2       Fulltime\n",
      "3        Student\n",
      "4       Fulltime\n",
      "5        Retired\n",
      "6       Parttime\n",
      "7     Unemployed\n",
      "8       Fulltime\n",
      "9       Fulltime\n",
      "10      Parttime\n",
      "11    Unemployed\n",
      "12      Parttime\n",
      "13      Parttime\n",
      "14      Fulltime\n",
      "15      Fulltime\n",
      "16       Student\n",
      "17      Fulltime\n",
      "18      Fulltime\n",
      "19    Unemployed\n",
      "Name: EmploymentStatus, dtype: object\n"
     ]
    }
   ],
   "source": [
    "employment = pd.read_csv(\"./data/employment.csv\")\n",
    "\n",
    "employment_data = employment['job'].unique()\n",
    "\n",
    "employment_status, counts = np.unique(employment_data, return_counts=True)\n",
    "value_to_index = {value: i for i, value in enumerate(employment_status)}\n",
    "numerical_data = [value_to_index[value] for value in employment_data]\n",
    "\n",
    "kde = gaussian_kde(numerical_data)\n",
    "\n",
    "x_values = np.unique(numerical_data)\n",
    "pdf_values = kde(x_values)\n",
    "pmf = pdf_values / np.sum(pdf_values)\n",
    "\n",
    "resampled_indices = np.random.choice(x_values, size=n_train, p=pmf)\n",
    "resampled_indices_test = np.random.choice(x_values, size=n_test, p=pmf)\n",
    "\n",
    "resampled_values = [employment_status[index] for index in resampled_indices]\n",
    "resampled_values_test = [employment_status[index] for index in resampled_indices_test]\n",
    "\n",
    "bank_df_train['EmploymentStatus'] = resampled_values\n",
    "bank_df_test['EmploymentStatus'] = resampled_values_test\n",
    "\n",
    "bank_df_train['EmploymentStatus'].replace({'admin.': 'Fulltime'}, inplace=True)\n",
    "bank_df_train['EmploymentStatus'].replace({'blue-collar': 'Fulltime'}, inplace=True)\n",
    "bank_df_train['EmploymentStatus'].replace({'entrepreneur': 'Fulltime'}, inplace=True)\n",
    "bank_df_train['EmploymentStatus'].replace({'housemaid': 'Parttime'}, inplace=True)\n",
    "bank_df_train['EmploymentStatus'].replace({'management': 'Fulltime'}, inplace=True)\n",
    "bank_df_train['EmploymentStatus'].replace({'retired': 'Retired'}, inplace=True)\n",
    "bank_df_train['EmploymentStatus'].replace({'student': 'Student'}, inplace=True)\n",
    "bank_df_train['EmploymentStatus'].replace({'services': 'Fulltime'}, inplace=True)\n",
    "bank_df_train['EmploymentStatus'].replace({'self-employed': 'Self-employed'}, inplace=True)\n",
    "bank_df_train['EmploymentStatus'].replace({'technician': 'Parttime'}, inplace=True)\n",
    "bank_df_train['EmploymentStatus'].replace({'unemployed': 'Unemployed'}, inplace=True)\n",
    "bank_df_train['EmploymentStatus'].replace({'unknown': 'Parttime'}, inplace=True)\n",
    "\n",
    "bank_df_test['EmploymentStatus'].replace({'admin.': 'Fulltime'}, inplace=True)\n",
    "bank_df_test['EmploymentStatus'].replace({'blue-collar': 'Fulltime'}, inplace=True)\n",
    "bank_df_test['EmploymentStatus'].replace({'entrepreneur': 'Fulltime'}, inplace=True)\n",
    "bank_df_test['EmploymentStatus'].replace({'housemaid': 'Parttime'}, inplace=True)\n",
    "bank_df_test['EmploymentStatus'].replace({'management': 'Fulltime'}, inplace=True)\n",
    "bank_df_test['EmploymentStatus'].replace({'retired': 'Retired'}, inplace=True)\n",
    "bank_df_test['EmploymentStatus'].replace({'student': 'Student'}, inplace=True)\n",
    "bank_df_test['EmploymentStatus'].replace({'services': 'Fulltime'}, inplace=True)\n",
    "bank_df_test['EmploymentStatus'].replace({'self-employed': 'Self-employed'}, inplace=True)\n",
    "bank_df_test['EmploymentStatus'].replace({'technician': 'Parttime'}, inplace=True)\n",
    "bank_df_test['EmploymentStatus'].replace({'unemployed': 'Unemployed'}, inplace=True)\n",
    "bank_df_test['EmploymentStatus'].replace({'unknown': 'Parttime'}, inplace=True)\n",
    "\n",
    "print(bank_df_train['EmploymentStatus'].head(20))"
   ]
  },
  {
   "cell_type": "markdown",
   "metadata": {},
   "source": [
    "### 22.Marital Status\n",
    "Can impact financial decision-making and churn behavior. "
   ]
  },
  {
   "cell_type": "code",
   "execution_count": 423,
   "metadata": {},
   "outputs": [
    {
     "name": "stdout",
     "output_type": "stream",
     "text": [
      "0       Single\n",
      "1      Married\n",
      "2     Divorced\n",
      "3     Divorced\n",
      "4      Married\n",
      "5     Divorced\n",
      "6     Divorced\n",
      "7       Single\n",
      "8     Divorced\n",
      "9     Divorced\n",
      "10     Married\n",
      "11    Divorced\n",
      "12    Divorced\n",
      "13    Divorced\n",
      "14     Married\n",
      "15    Divorced\n",
      "16    Divorced\n",
      "17     Married\n",
      "18    Divorced\n",
      "19    Divorced\n",
      "Name: MaritalStatus, dtype: object\n"
     ]
    }
   ],
   "source": [
    "education_marital = pd.read_csv(\"./data/education_marital.csv\")\n",
    "\n",
    "marital_status = education_marital['Marital_Status'].unique()\n",
    "\n",
    "marital, counts = np.unique(marital_status, return_counts=True)\n",
    "value_to_index = {value: i for i, value in enumerate(marital)}\n",
    "numerical_data = [value_to_index[value] for value in marital_status]\n",
    "\n",
    "kde = gaussian_kde(numerical_data)\n",
    "\n",
    "x_values = np.unique(numerical_data)\n",
    "pdf_values = kde(x_values)\n",
    "\n",
    "pmf = pdf_values / np.sum(pdf_values)\n",
    "\n",
    "resampled_indices = np.random.choice(x_values, size=n_train, p=pmf)\n",
    "resampled_indices_test = np.random.choice(x_values, size=n_test, p=pmf)\n",
    "\n",
    "resampled_values = [marital[index] for index in resampled_indices]\n",
    "resampled_values_test = [marital[index] for index in resampled_indices_test]\n",
    "\n",
    "bank_df_train['MaritalStatus'] = resampled_values\n",
    "bank_df_test['MaritalStatus'] = resampled_values_test\n",
    "\n",
    "bank_df_train['MaritalStatus'].replace({'Unknown': 'Divorced'}, inplace=True)\n",
    "bank_df_test['MaritalStatus'].replace({'Unknown': 'Divorced'}, inplace=True)\n",
    "\n",
    "print(bank_df_train['MaritalStatus'].head(20))"
   ]
  },
  {
   "cell_type": "markdown",
   "metadata": {},
   "source": [
    "### 23.Housing Status\n",
    "Reflects stability and long-term commitment, influencing churn. "
   ]
  },
  {
   "cell_type": "code",
   "execution_count": 424,
   "metadata": {},
   "outputs": [
    {
     "name": "stdout",
     "output_type": "stream",
     "text": [
      "   id  CustomerId         Surname  CreditScore Geography Gender  Age  Tenure  \\\n",
      "0   0    15674932  Okwudilichukwu          668    France   Male   33       5   \n",
      "1   1    15749177   Okwudiliolisa          627    France   Male   33       1   \n",
      "2   2    15694510           Hsueh          678    France   Male   40      19   \n",
      "3   3    15741417             Kao          581    France   Male   34       3   \n",
      "4   4    15766172       Chiemenam          716     Spain   Male   33       9   \n",
      "\n",
      "   Balance  NumOfProducts  ...  ChurnDate  TransactionFreq  TransactionAmt  \\\n",
      "0        0              2  ...        NaT               24        -109,725   \n",
      "1        0              2  ...        NaT                0               0   \n",
      "2        0              2  ...        NaT               64         -46,974   \n",
      "3  148,883              1  ...        NaT                7        -133,701   \n",
      "4        0              2  ...        NaT                0               0   \n",
      "\n",
      "   ServiceSupportFrequency MonthsInactive  NPS  Education  EmploymentStatus  \\\n",
      "0                        4              1    0          A        Unemployed   \n",
      "1                        4              0    0        PHD          Fulltime   \n",
      "2                       12              2    9          A          Fulltime   \n",
      "3                        0              0    9        O/N           Student   \n",
      "4                       45              0    7    Diploma          Fulltime   \n",
      "\n",
      "   MaritalStatus  HousingStatus  \n",
      "0         Single   norent_noown  \n",
      "1        Married          owned  \n",
      "2       Divorced   norent_noown  \n",
      "3       Divorced          owned  \n",
      "4        Married         rented  \n",
      "\n",
      "[5 rows x 24 columns]\n"
     ]
    }
   ],
   "source": [
    "housing = pd.read_csv(\"./data/housing.csv\")\n",
    "\n",
    "housing_status = housing['House_Ownership'].unique()\n",
    "\n",
    "house, counts = np.unique(housing_status, return_counts=True)\n",
    "value_to_index = {value: i for i, value in enumerate(house)}\n",
    "numerical_data = [value_to_index[value] for value in housing_status]\n",
    "\n",
    "kde = gaussian_kde(numerical_data)\n",
    "\n",
    "x_values = np.unique(numerical_data)\n",
    "pdf_values = kde(x_values)\n",
    "\n",
    "pmf = pdf_values / np.sum(pdf_values)\n",
    "\n",
    "resampled_indices = np.random.choice(x_values, size=n_train, p=pmf)\n",
    "resampled_indices_test = np.random.choice(x_values, size=n_test, p=pmf)\n",
    "\n",
    "resampled_values = [house[index] for index in resampled_indices]\n",
    "resampled_values_test = [house[index] for index in resampled_indices_test]\n",
    "\n",
    "bank_df_train['HousingStatus'] = resampled_values\n",
    "bank_df_test['HousingStatus'] = resampled_values_test\n",
    "\n",
    "\n",
    "print(bank_df_train.head())"
   ]
  },
  {
   "cell_type": "markdown",
   "metadata": {},
   "source": [
    "### 24.Number of Dependents\n",
    "Impacts financial priorities and risk tolerance, affecting churn."
   ]
  },
  {
   "cell_type": "code",
   "execution_count": 425,
   "metadata": {},
   "outputs": [
    {
     "name": "stdout",
     "output_type": "stream",
     "text": [
      "   id  CustomerId         Surname  CreditScore Geography Gender  Age  Tenure  \\\n",
      "0   0    15674932  Okwudilichukwu          668    France   Male   33       5   \n",
      "1   1    15749177   Okwudiliolisa          627    France   Male   33       1   \n",
      "2   2    15694510           Hsueh          678    France   Male   40      19   \n",
      "3   3    15741417             Kao          581    France   Male   34       3   \n",
      "4   4    15766172       Chiemenam          716     Spain   Male   33       9   \n",
      "\n",
      "   Balance  NumOfProducts  ...  TransactionFreq  TransactionAmt  \\\n",
      "0        0              2  ...               24        -109,725   \n",
      "1        0              2  ...                0               0   \n",
      "2        0              2  ...               64         -46,974   \n",
      "3  148,883              1  ...                7        -133,701   \n",
      "4        0              2  ...                0               0   \n",
      "\n",
      "   ServiceSupportFrequency  MonthsInactive NPS  Education  EmploymentStatus  \\\n",
      "0                        4               1   0          A        Unemployed   \n",
      "1                        4               0   0        PHD          Fulltime   \n",
      "2                       12               2   9          A          Fulltime   \n",
      "3                        0               0   9        O/N           Student   \n",
      "4                       45               0   7    Diploma          Fulltime   \n",
      "\n",
      "   MaritalStatus  HousingStatus  Dependants  \n",
      "0         Single   norent_noown           2  \n",
      "1        Married          owned           1  \n",
      "2       Divorced   norent_noown           2  \n",
      "3       Divorced          owned           3  \n",
      "4        Married         rented           4  \n",
      "\n",
      "[5 rows x 25 columns]\n"
     ]
    }
   ],
   "source": [
    "dependants_df = pd.read_csv('./data/education+dependents+maritalstatus/BankChurners.csv')\n",
    "\n",
    "kde = gaussian_kde(dependants_df['Dependent_count'])\n",
    "\n",
    "bank_df_train['Dependants'] = np.maximum(kde.resample(len(bank_df_train)).flatten(), 0)\n",
    "bank_df_train['Dependants'] = np.round(bank_df_train['Dependants']).astype(int)\n",
    "bank_df_test['Dependants'] = np.maximum(kde.resample(len(bank_df_test)).flatten(), 0)\n",
    "bank_df_test['Dependants'] = np.round(bank_df_test['Dependants']).astype(int)\n",
    "\n",
    "print(bank_df_train.head())"
   ]
  },
  {
   "cell_type": "markdown",
   "metadata": {},
   "source": [
    "### 25.Marketing Offers Accepted\n",
    "Indicates responsiveness to incentives, affecting churn. Range 0-1, (percentage of marketing offers they accept, e.g.5 offer, 4 accepted, the value of the column 0.8)"
   ]
  },
  {
   "cell_type": "code",
   "execution_count": 426,
   "metadata": {},
   "outputs": [
    {
     "name": "stdout",
     "output_type": "stream",
     "text": [
      "   id  CustomerId         Surname  CreditScore Geography Gender  Age  Tenure  \\\n",
      "0   0    15674932  Okwudilichukwu          668    France   Male   33       5   \n",
      "1   1    15749177   Okwudiliolisa          627    France   Male   33       1   \n",
      "2   2    15694510           Hsueh          678    France   Male   40      19   \n",
      "3   3    15741417             Kao          581    France   Male   34       3   \n",
      "4   4    15766172       Chiemenam          716     Spain   Male   33       9   \n",
      "\n",
      "   Balance  NumOfProducts  ...  TransactionAmt  ServiceSupportFrequency  \\\n",
      "0        0              2  ...        -109,725                        4   \n",
      "1        0              2  ...               0                        4   \n",
      "2        0              2  ...         -46,974                       12   \n",
      "3  148,883              1  ...        -133,701                        0   \n",
      "4        0              2  ...               0                       45   \n",
      "\n",
      "   MonthsInactive  NPS Education  EmploymentStatus  MaritalStatus  \\\n",
      "0               1    0         A        Unemployed         Single   \n",
      "1               0    0       PHD          Fulltime        Married   \n",
      "2               2    9         A          Fulltime       Divorced   \n",
      "3               0    9       O/N           Student       Divorced   \n",
      "4               0    7   Diploma          Fulltime        Married   \n",
      "\n",
      "   HousingStatus  Dependants  MarketingOffersAcceptance  \n",
      "0   norent_noown           2                          0  \n",
      "1          owned           1                          0  \n",
      "2   norent_noown           2                          0  \n",
      "3          owned           3                          0  \n",
      "4         rented           4                          0  \n",
      "\n",
      "[5 rows x 26 columns]\n"
     ]
    }
   ],
   "source": [
    "marketing_df = pd.read_csv('./data/marketing offers/marketing_campaign.csv', sep=';')\n",
    "\n",
    "\n",
    "marketing_df[\"MarketingOffersAcceptance\"] = (marketing_df['AcceptedCmp1'] + marketing_df['AcceptedCmp2'] + marketing_df['AcceptedCmp3'] + marketing_df['AcceptedCmp4'] + marketing_df['AcceptedCmp5']) / 5\n",
    "# print(marketing_df.head())\n",
    "\n",
    "kde = gaussian_kde(marketing_df['MarketingOffersAcceptance'])\n",
    "\n",
    "bank_df_train['MarketingOffersAcceptance'] = np.maximum(kde.resample(len(bank_df_train)).flatten(), 0)\n",
    "bank_df_test['MarketingOffersAcceptance'] = np.maximum(kde.resample(len(bank_df_test)).flatten(), 0)\n",
    "\n",
    "print(bank_df_train.head())"
   ]
  },
  {
   "cell_type": "markdown",
   "metadata": {},
   "source": [
    "### 26.Channel Used for Transactions\n",
    "Reflects preferred banking channels and engagement level. \n",
    "faker"
   ]
  },
  {
   "cell_type": "code",
   "execution_count": 427,
   "metadata": {},
   "outputs": [
    {
     "name": "stdout",
     "output_type": "stream",
     "text": [
      "0                                             FAST\n",
      "1                                       Debit card\n",
      "2                                             FAST\n",
      "3                                       Debit card\n",
      "4    Intrabank transfer (GXS Savings Account only)\n",
      "5                                           PayNow\n",
      "6                                       Debit card\n",
      "7    Intrabank transfer (GXS Savings Account only)\n",
      "8    Intrabank transfer (GXS Savings Account only)\n",
      "9                                           PayNow\n",
      "Name: PaymentMethod, dtype: object\n"
     ]
    }
   ],
   "source": [
    "transaction_channel_df = pd.read_csv('./data/main_payment_method/WA_Fn-UseC_-Telco-Customer-Churn.csv')\n",
    "\n",
    "# print(transaction_channel_df.head())\n",
    "methods = transaction_channel_df['PaymentMethod'].unique().tolist()\n",
    "# print(methods)\n",
    "faked_data = [random.choice(methods) for _ in range(len(bank_df_train))]\n",
    "faked_data_2 = [random.choice(methods) for _ in range(len(bank_df_test))]\n",
    "\n",
    "bank_df_train['PaymentMethod'] = faked_data\n",
    "bank_df_test['PaymentMethod'] = faked_data_2\n",
    "\n",
    "bank_df_train['PaymentMethod'].replace({'Bank transfer (automatic)': 'Intrabank transfer (GXS Savings Account only)'}, inplace=True)\n",
    "bank_df_train['PaymentMethod'].replace({'Electronic check': 'PayNow'}, inplace=True)\n",
    "bank_df_train['PaymentMethod'].replace({'Credit card (automatic)': 'Debit card'}, inplace=True)\n",
    "bank_df_train['PaymentMethod'].replace({'Mailed check': 'FAST'}, inplace=True)\n",
    "\n",
    "bank_df_test['PaymentMethod'].replace({'Bank transfer (automatic)': 'Intrabank transfer (GXS Savings Account only)'}, inplace=True)\n",
    "bank_df_test['PaymentMethod'].replace({'Electronic check': 'PayNow'}, inplace=True)\n",
    "bank_df_test['PaymentMethod'].replace({'Credit card (automatic)': 'Debit card'}, inplace=True)\n",
    "bank_df_test['PaymentMethod'].replace({'Mailed check': 'FAST'}, inplace=True)\n",
    "\n",
    "print(bank_df_train['PaymentMethod'].head(10))"
   ]
  },
  {
   "cell_type": "markdown",
   "metadata": {},
   "source": [
    "### 27.Customer Satisfaction Surveys\n",
    "Provides direct feedback on satisfaction levels, predicting churn. "
   ]
  },
  {
   "cell_type": "code",
   "execution_count": 428,
   "metadata": {},
   "outputs": [
    {
     "name": "stdout",
     "output_type": "stream",
     "text": [
      "0    5\n",
      "1    4\n",
      "2    5\n",
      "3    4\n",
      "4    2\n",
      "5    4\n",
      "6    5\n",
      "7    1\n",
      "8    4\n",
      "9    2\n",
      "Name: CustomerSatisfaction, dtype: int32\n"
     ]
    }
   ],
   "source": [
    "cust_satisfaction_df = pd.read_csv('./data/satisfaction score/Customer-Churn-Records.csv')\n",
    "\n",
    "kde = gaussian_kde(cust_satisfaction_df['Satisfaction Score'])\n",
    "\n",
    "fake_data = np.maximum(kde.resample(len(bank_df_train)).flatten(), 0)\n",
    "fake_data = np.minimum(fake_data.flatten(), 5)\n",
    "fake_data = np.round(fake_data).astype(int)\n",
    "\n",
    "fake_data_2 = np.maximum(kde.resample(len(bank_df_test)).flatten(), 0)\n",
    "fake_data_2 = np.minimum(fake_data_2.flatten(), 5)\n",
    "fake_data_2 = np.round(fake_data_2).astype(int)\n",
    "\n",
    "bank_df_train['CustomerSatisfaction'] = fake_data\n",
    "bank_df_test['CustomerSatisfaction'] = fake_data_2\n",
    "# print(len(bank_df_test))\n",
    "# print(len(fake_data_2))\n",
    "\n",
    "print(bank_df_train['CustomerSatisfaction'].head(10))"
   ]
  },
  {
   "cell_type": "markdown",
   "metadata": {},
   "source": [
    "### 28.Feature Satisfaction\n",
    "Scale on 1 to 5\n"
   ]
  },
  {
   "cell_type": "code",
   "execution_count": 429,
   "metadata": {},
   "outputs": [
    {
     "name": "stdout",
     "output_type": "stream",
     "text": [
      "0    4\n",
      "1    4\n",
      "2    4\n",
      "3    2\n",
      "4    5\n",
      "Name: FeatureSatisfaction, dtype: int32\n"
     ]
    }
   ],
   "source": [
    "feature_df = pd.read_csv('./data/feature_and_support_satisfaction/Customer-survey-data.csv')\n",
    "feature_df = feature_df.dropna()\n",
    "kde = gaussian_kde(feature_df['How satisfied were you with your overall delivery experience at Ali?                    1-5 where 1 = extremely dissatisfied and 5 = extremely satisfied'])\n",
    "bank_df_train['FeatureSatisfaction'] = kde.resample(len(bank_df_train)).flatten().astype(int)\n",
    "bank_df_test['FeatureSatisfaction'] = kde.resample(len(bank_df_test)).flatten().astype(int)\n",
    "\n",
    "print(bank_df_train['FeatureSatisfaction'].head())"
   ]
  },
  {
   "cell_type": "markdown",
   "metadata": {},
   "source": [
    "### 29.Support Satisfaction\n",
    "Scale on 1 to 5\n"
   ]
  },
  {
   "cell_type": "code",
   "execution_count": 430,
   "metadata": {},
   "outputs": [
    {
     "name": "stdout",
     "output_type": "stream",
     "text": [
      "0    3\n",
      "1    1\n",
      "2    2\n",
      "3    4\n",
      "4    0\n",
      "Name: SupportSatisfaction, dtype: int32\n"
     ]
    }
   ],
   "source": [
    "feature_df = pd.read_csv('./data/feature_and_support_satisfaction/Customer-survey-data.csv')\n",
    "feature_df = feature_df.dropna()\n",
    "kde = gaussian_kde(feature_df['How satisfied were you with the speed of delivery at Alis?                                1-5 where 1 = extremely dissatisfied and 5 = extremely satisfied'])\n",
    "bank_df_train['SupportSatisfaction'] = kde.resample(len(bank_df_train)).flatten().astype(int)\n",
    "bank_df_test['SupportSatisfaction'] = kde.resample(len(bank_df_test)).flatten().astype(int)\n",
    "\n",
    "print(bank_df_train['SupportSatisfaction'].head())"
   ]
  },
  {
   "cell_type": "markdown",
   "metadata": {},
   "source": [
    "### 30. Feature support frequency\n",
    "\n",
    "Higher calls might indicate issues and dissatisfaction, affecting churn. Past year. Past month \n"
   ]
  },
  {
   "cell_type": "code",
   "execution_count": 431,
   "metadata": {},
   "outputs": [
    {
     "name": "stdout",
     "output_type": "stream",
     "text": [
      "   id  CustomerId         Surname  CreditScore Geography Gender  Age  Tenure  \\\n",
      "0   0    15674932  Okwudilichukwu          668    France   Male   33       5   \n",
      "1   1    15749177   Okwudiliolisa          627    France   Male   33       1   \n",
      "2   2    15694510           Hsueh          678    France   Male   40      19   \n",
      "3   3    15741417             Kao          581    France   Male   34       3   \n",
      "4   4    15766172       Chiemenam          716     Spain   Male   33       9   \n",
      "\n",
      "   Balance  NumOfProducts  ...  EmploymentStatus  MaritalStatus  \\\n",
      "0        0              2  ...        Unemployed         Single   \n",
      "1        0              2  ...          Fulltime        Married   \n",
      "2        0              2  ...          Fulltime       Divorced   \n",
      "3  148,883              1  ...           Student       Divorced   \n",
      "4        0              2  ...          Fulltime        Married   \n",
      "\n",
      "   HousingStatus  Dependants MarketingOffersAcceptance  \\\n",
      "0   norent_noown           2                         0   \n",
      "1          owned           1                         0   \n",
      "2   norent_noown           2                         0   \n",
      "3          owned           3                         0   \n",
      "4         rented           4                         0   \n",
      "\n",
      "                                   PaymentMethod  CustomerSatisfaction  \\\n",
      "0                                           FAST                     5   \n",
      "1                                     Debit card                     4   \n",
      "2                                           FAST                     5   \n",
      "3                                     Debit card                     4   \n",
      "4  Intrabank transfer (GXS Savings Account only)                     2   \n",
      "\n",
      "   FeatureSatisfaction  SupportSatisfaction  FeatureSupportFrequency  \n",
      "0                    4                    3                        3  \n",
      "1                    4                    1                       13  \n",
      "2                    4                    2                        0  \n",
      "3                    2                    4                        5  \n",
      "4                    5                    0                       10  \n",
      "\n",
      "[5 rows x 31 columns]\n"
     ]
    }
   ],
   "source": [
    "support_freq = pd.read_csv(\"./data/support_frequency.csv\")\n",
    "\n",
    "kde = gaussian_kde(support_freq['no_of_cases'])\n",
    "bank_df_train['FeatureSupportFrequency'] = abs(kde.resample(n_train).flatten()/12).astype(int)\n",
    "bank_df_test['FeatureSupportFrequency'] = abs(kde.resample(n_test).flatten()/12).astype(int)\n",
    "print(bank_df_train.head())\n"
   ]
  },
  {
   "cell_type": "markdown",
   "metadata": {},
   "source": [
    "### 31.Relationship Count\n",
    "Reflects the breadth of the customer's relationship with the bank.\n",
    "Shld be correlated to 6: No. of products   "
   ]
  },
  {
   "cell_type": "code",
   "execution_count": 432,
   "metadata": {},
   "outputs": [
    {
     "name": "stdout",
     "output_type": "stream",
     "text": [
      "0    3,476\n",
      "1    3,133\n",
      "2    4,379\n",
      "3    3,120\n",
      "4    3,069\n",
      "5   24,967\n",
      "6    3,009\n",
      "7    3,069\n",
      "8    4,232\n",
      "9    3,030\n",
      "Name: RelationshipCount, dtype: float64\n",
      "30000.0\n",
      "3000.0\n"
     ]
    }
   ],
   "source": [
    "relationship_count = pd.read_csv('./data/loan/credit_train.csv')\n",
    "relationship_count['Current Loan Amount'].fillna(0, inplace=True) \n",
    "\n",
    "if np.any(np.isinf(relationship_count['Current Loan Amount'])):\n",
    "    # Handle infinite values, such as replacing them with a large finite value\n",
    "    relationship_count['Current Loan Amount'].replace([np.inf, -np.inf], np.finfo(np.float64).max, inplace=True)\n",
    "\n",
    "\n",
    "median_loan_amount = relationship_count['Current Loan Amount'].median()\n",
    "below_median = relationship_count[relationship_count['Current Loan Amount'] < median_loan_amount]\n",
    "above_median = relationship_count[relationship_count['Current Loan Amount'] >= median_loan_amount]\n",
    "\n",
    "# print(above_median)\n",
    "kde_upper = gaussian_kde(above_median['Current Loan Amount'])\n",
    "kde_lower = gaussian_kde(below_median['Current Loan Amount'])\n",
    "\n",
    "bank_df_train['RelationshipCount'] = np.where(bank_df_train['CustomerSatisfaction'] >= 4, abs(kde_upper.resample(n_train).flatten()/12).astype(int) , abs(kde_lower.resample(n_train).flatten()/12).astype(int))\n",
    "bank_df_test['RelationshipCount'] = np.where(bank_df_test['CustomerSatisfaction'] >= 4, abs(kde_upper.resample(n_test).flatten()/12).astype(int) , abs(kde_lower.resample(n_test).flatten()/12).astype(int))\n",
    "\n",
    "min_value = bank_df_train['RelationshipCount'].min()\n",
    "max_value = bank_df_train['RelationshipCount'].max()\n",
    "min_value_2 = bank_df_test['RelationshipCount'].min()\n",
    "max_value_2 = bank_df_test['RelationshipCount'].max()\n",
    "new_min_value = 3000\n",
    "new_max_value = 30000\n",
    "\n",
    "def scale_values(value):\n",
    "    scaled_value = new_min_value + ((value - min_value) / (max_value - min_value)) * (new_max_value - new_min_value)\n",
    "    return scaled_value\n",
    "\n",
    "def scale_values_2(value):\n",
    "    scaled_value = new_min_value + ((value - min_value_2) / (max_value_2 - min_value_2)) * (new_max_value - new_min_value)\n",
    "    return scaled_value\n",
    "\n",
    "bank_df_train['RelationshipCount'] = bank_df_train['RelationshipCount'].apply(scale_values)\n",
    "bank_df_test['RelationshipCount'] = bank_df_test['RelationshipCount'].apply(scale_values_2)\n",
    "\n",
    "# kde = gaussian_kde(relationship_count['Current Loan Amount'])\n",
    "# bank_df_train['RelationshipCount'] = abs(kde.resample(n_train).flatten()/12).astype(int)\n",
    "\n",
    "print(bank_df_train['RelationshipCount'].head(10))\n",
    "print(bank_df_train['RelationshipCount'].max())\n",
    "print(bank_df_train['RelationshipCount'].min())"
   ]
  },
  {
   "cell_type": "markdown",
   "metadata": {},
   "source": [
    "### 32. Income Source\n",
    "Indicates financial stability and potential churn risk. "
   ]
  },
  {
   "cell_type": "code",
   "execution_count": 433,
   "metadata": {},
   "outputs": [
    {
     "name": "stdout",
     "output_type": "stream",
     "text": [
      "  EmploymentStatus IncomeSource\n",
      "0       Unemployed   Investment\n",
      "1         Fulltime   Investment\n",
      "2         Fulltime   Investment\n",
      "3          Student    Allowance\n",
      "4         Fulltime   Investment\n",
      "5          Retired   Investment\n",
      "6         Parttime   Investment\n",
      "7       Unemployed   Investment\n",
      "8         Fulltime   Investment\n",
      "9         Fulltime   Investment\n"
     ]
    }
   ],
   "source": [
    "# income_source_df = pd.read_csv('./data/income source/adult.csv')\n",
    "\n",
    "# # print(transaction_channel_df.head())\n",
    "# income_sourcs = income_source_df['workclass'].unique().tolist()\n",
    "# income_sourcs.remove('?')\n",
    "# print(income_sourcs)\n",
    "# faked_data = [random.choice(income_sourcs) for _ in range(len(bank_df_train))]\n",
    "# faked_data_2 = [random.choice(income_sourcs) for _ in range(len(bank_df_test))]\n",
    "\n",
    "# bank_df_train['IncomeSource'] = faked_data\n",
    "# bank_df_test['IncomeSource'] = faked_data_2\n",
    "\n",
    "def choose_value(row):\n",
    "    if row['EmploymentStatus'] == 'Fulltime' or row['EmploymentStatus'] == 'Parttime':\n",
    "        return np.random.choice(['Employment', 'Investment'])\n",
    "    elif row['EmploymentStatus'] == 'Retired':\n",
    "        return np.random.choice(['Retirement', 'Rental', 'Investment'])\n",
    "    elif row['EmploymentStatus'] == 'Student':\n",
    "        return np.random.choice(['Allowance', 'Employment'])\n",
    "    elif row['EmploymentStatus'] == 'Self-employed':\n",
    "        return 'Self-employment'\n",
    "    elif row['EmploymentStatus'] == 'Unemployed':\n",
    "        return np.random.choice(['Rental', 'Investment', 'Allowance'])\n",
    "    \n",
    "bank_df_train['IncomeSource'] = bank_df_train.apply(choose_value, axis=1)\n",
    "print(bank_df_train[['EmploymentStatus', 'IncomeSource']].head(10))"
   ]
  },
  {
   "cell_type": "markdown",
   "metadata": {},
   "source": [
    "### 33. Credit Utilization\n",
    "Reflects financial health and potential churn risk for credit customers."
   ]
  },
  {
   "cell_type": "code",
   "execution_count": 434,
   "metadata": {},
   "outputs": [
    {
     "name": "stdout",
     "output_type": "stream",
     "text": [
      "   id  CustomerId         Surname  CreditScore Geography Gender  Age  Tenure  \\\n",
      "0   0    15674932  Okwudilichukwu          668    France   Male   33       5   \n",
      "1   1    15749177   Okwudiliolisa          627    France   Male   33       1   \n",
      "2   2    15694510           Hsueh          678    France   Male   40      19   \n",
      "3   3    15741417             Kao          581    France   Male   34       3   \n",
      "4   4    15766172       Chiemenam          716     Spain   Male   33       9   \n",
      "\n",
      "   Balance  NumOfProducts  ...  Dependants  MarketingOffersAcceptance  \\\n",
      "0        0              2  ...           2                          0   \n",
      "1        0              2  ...           1                          0   \n",
      "2        0              2  ...           2                          0   \n",
      "3  148,883              1  ...           3                          0   \n",
      "4        0              2  ...           4                          0   \n",
      "\n",
      "                                   PaymentMethod  CustomerSatisfaction  \\\n",
      "0                                           FAST                     5   \n",
      "1                                     Debit card                     4   \n",
      "2                                           FAST                     5   \n",
      "3                                     Debit card                     4   \n",
      "4  Intrabank transfer (GXS Savings Account only)                     2   \n",
      "\n",
      "  FeatureSatisfaction  SupportSatisfaction  FeatureSupportFrequency  \\\n",
      "0                   4                    3                        3   \n",
      "1                   4                    1                       13   \n",
      "2                   4                    2                        0   \n",
      "3                   2                    4                        5   \n",
      "4                   5                    0                       10   \n",
      "\n",
      "   RelationshipCount  IncomeSource  CreditUtilization  \n",
      "0              3,476    Investment                  0  \n",
      "1              3,133    Investment                  0  \n",
      "2              4,379    Investment                  1  \n",
      "3              3,120     Allowance                  0  \n",
      "4              3,069    Investment                  0  \n",
      "\n",
      "[5 rows x 34 columns]\n"
     ]
    }
   ],
   "source": [
    "credit_df = pd.read_csv('./data/credit utilization/BankChurners.csv')\n",
    "\n",
    "kde = gaussian_kde(credit_df['Avg_Utilization_Ratio'])\n",
    "\n",
    "fake_data = np.maximum(kde.resample(len(bank_df_train)).flatten(), 0)\n",
    "fake_data = np.minimum(fake_data.flatten(), 1)\n",
    "# fake_data = np.round(fake_data).astype(int)\n",
    "fake_data_2 = np.maximum(kde.resample(len(bank_df_test)).flatten(), 0)\n",
    "fake_data_2 = np.minimum(fake_data_2.flatten(), 1)\n",
    "\n",
    "bank_df_train['CreditUtilization'] = fake_data\n",
    "bank_df_test['CreditUtilization'] = fake_data_2\n",
    "\n",
    "print(bank_df_train.head())"
   ]
  },
  {
   "cell_type": "markdown",
   "metadata": {},
   "source": [
    "### 34. Response to Previous Retention Efforts\n",
    "Records success or failure of previous retention efforts, guiding future strategies. % 0-1"
   ]
  },
  {
   "cell_type": "code",
   "execution_count": 435,
   "metadata": {},
   "outputs": [
    {
     "name": "stdout",
     "output_type": "stream",
     "text": [
      "0    0\n",
      "1    0\n",
      "2    0\n",
      "3    0\n",
      "4    0\n",
      "5    1\n",
      "6    0\n",
      "7    0\n",
      "8    0\n",
      "9    0\n",
      "10   0\n",
      "11   0\n",
      "12   0\n",
      "13   0\n",
      "14   0\n",
      "15   0\n",
      "16   0\n",
      "17   0\n",
      "18   0\n",
      "19   0\n",
      "Name: Retention, dtype: float64\n"
     ]
    }
   ],
   "source": [
    "retention_df = pd.read_csv('./data/retention/HR_comma_sep.csv')\n",
    "\n",
    "kde = gaussian_kde(retention_df['promotion_last_5years'])\n",
    "\n",
    "fake_data = np.maximum(kde.resample(len(bank_df_train)).flatten(), 0)\n",
    "fake_data = np.minimum(fake_data.flatten(), 1)\n",
    "\n",
    "fake_data_2 = np.maximum(kde.resample(len(bank_df_test)).flatten(), 0)\n",
    "fake_data_2 = np.minimum(fake_data_2.flatten(), 1)\n",
    "\n",
    "\n",
    "bank_df_train['Retention'] = fake_data\n",
    "bank_df_test['Retention'] = fake_data_2\n",
    "\n",
    "print(bank_df_train['Retention'].head(20))"
   ]
  },
  {
   "cell_type": "markdown",
   "metadata": {},
   "source": [
    "### 35. Change in behavior before n after\n",
    "Average of percentage of increase/decrease (ranging from 0 - infinity, but most of the times it will be ard 0-2)"
   ]
  },
  {
   "cell_type": "code",
   "execution_count": 436,
   "metadata": {},
   "outputs": [
    {
     "name": "stdout",
     "output_type": "stream",
     "text": [
      "0   1\n",
      "1   1\n",
      "2   1\n",
      "3   1\n",
      "4   1\n",
      "5   1\n",
      "6   1\n",
      "7   0\n",
      "8   1\n",
      "9   1\n",
      "Name: ChangeInBehaviourMkt, dtype: float64\n"
     ]
    }
   ],
   "source": [
    "bank_df_train['ChangeInBehaviourMkt'] = np.random.normal(1, 0.25, len(bank_df_train))\n",
    "bank_df_test['ChangeInBehaviourMkt']= np.random.normal(1, 0.25, len(bank_df_test))\n",
    "# test = np.random.normal(1, 0.25, len(bank_df_train))\n",
    "# # print(test)\n",
    "# bank_df_train['ChangeInBehaviourMkt'] = test.astype(float)\n",
    "\n",
    "print(bank_df_train['ChangeInBehaviourMkt'].head(10))"
   ]
  },
  {
   "cell_type": "markdown",
   "metadata": {},
   "source": [
    "### 36. Change in behavior before n after for Support"
   ]
  },
  {
   "cell_type": "code",
   "execution_count": 437,
   "metadata": {},
   "outputs": [
    {
     "name": "stdout",
     "output_type": "stream",
     "text": [
      "0   1\n",
      "1   1\n",
      "2   1\n",
      "3   1\n",
      "4   1\n",
      "Name: ChanegInBehaviourCust, dtype: float64\n"
     ]
    }
   ],
   "source": [
    "bank_df_train['ChanegInBehaviourCust'] = np.random.normal(1, 0.25, len(bank_df_train))\n",
    "bank_df_test['ChanegInBehaviourCust']= np.random.normal(1, 0.25, len(bank_df_test))\n",
    "\n",
    "print(bank_df_train['ChanegInBehaviourCust'].head())"
   ]
  },
  {
   "cell_type": "markdown",
   "metadata": {},
   "source": [
    "### 37. Previous Lifecycle status "
   ]
  },
  {
   "cell_type": "code",
   "execution_count": 438,
   "metadata": {},
   "outputs": [
    {
     "name": "stdout",
     "output_type": "stream",
     "text": [
      "0        Dormant\n",
      "1        Dormant\n",
      "2        Dormant\n",
      "3         Active\n",
      "4        Dormant\n",
      "5    Reactivated\n",
      "6        Dormant\n",
      "7         Active\n",
      "8    Reactivated\n",
      "9        Dormant\n",
      "Name: PrevLifecycle, dtype: object\n"
     ]
    }
   ],
   "source": [
    "life_cycles = ['Active', 'Dormant', 'Reactivated'] #everything but churned\n",
    "\n",
    "bank_df_train['PrevLifecycle'] = bank_df_train.apply(lambda row: 'Churned' if row['Exited'] == 1 else np.random.choice(life_cycles), axis=1)\n",
    "bank_df_test['PrevLifecycle'] = np.random.choice(life_cycles, size=len(bank_df_test))\n",
    "\n",
    "# print(bank_df_train['PrevLifecycle'].head(10))\n",
    "print(bank_df_test['PrevLifecycle'].head(10))"
   ]
  },
  {
   "cell_type": "markdown",
   "metadata": {},
   "source": [
    "### 38. Current Lifecycle status "
   ]
  },
  {
   "cell_type": "code",
   "execution_count": 439,
   "metadata": {},
   "outputs": [
    {
     "name": "stdout",
     "output_type": "stream",
     "text": [
      "  PrevLifecycle CurrLifecycle\n",
      "0   Reactivated        Active\n",
      "1   Reactivated       Dormant\n",
      "2        Active        Active\n",
      "3   Reactivated        Active\n",
      "4       Dormant       Dormant\n",
      "5       Churned       Churned\n",
      "6       Dormant   Reactivated\n",
      "7       Dormant   Reactivated\n",
      "8        Active        Active\n",
      "9        Active        Active\n"
     ]
    }
   ],
   "source": [
    "prev_active = ['Active', 'Dormant'] #excluding churn, also same for reactivated\n",
    "prev_dormant = ['Dormant', 'Reactivated'] #excluding churn\n",
    "\n",
    "# bank_df_train['CurrLifecycle'] = bank_df_train.apply(lambda row: 'Churned' if row['PrevLifecycle'] == 'Churned' else \\\n",
    "#                                                     np.random.choice(prev_active) if (row['PrevLifecycle'] == 'Active' or row['PrevLifecycle'] == 'Reactivated') else \\\n",
    "#                                                     np.random.choice(prev_dormant) if row['PrevLifecycle'] == 'Dormant' else \\\n",
    "#                                                     np.nan, axis=1)\n",
    "bank_df_train['CurrLifecycle'] = bank_df_train.apply(lambda row: 'Churned' if row['PrevLifecycle'] == 'Churned' else \\\n",
    "                                                     'Reactivated' if (row['PrevLifecycle'] == 'Dormant' and row['TransactionFreq'] > 0) else \\\n",
    "                                                     'Dormant' if row['TransactionFreq'] == 0 else \\\n",
    "                                                     'Active', axis=1)\n",
    "\n",
    "print(bank_df_train[['PrevLifecycle', 'CurrLifecycle']].head(10))\n"
   ]
  },
  {
   "cell_type": "markdown",
   "metadata": {},
   "source": [
    "### 39. Customer Happiness Status \n",
    "1 == happy, 0 == unhappy\n",
    "\n",
    "Customer satisfaction survey score \n",
    "\n",
    "Relationship Count \n",
    "\n",
    "Response to previous retention efforts (no more yay)\n",
    "\n",
    "if we want the top 15.9%\n"
   ]
  },
  {
   "cell_type": "code",
   "execution_count": 440,
   "metadata": {},
   "outputs": [
    {
     "name": "stdout",
     "output_type": "stream",
     "text": [
      "0    0\n",
      "1    0\n",
      "2    1\n",
      "3    0\n",
      "4    1\n",
      "5    1\n",
      "6    0\n",
      "7    0\n",
      "8    1\n",
      "9    0\n",
      "Name: Happiness, dtype: int64\n",
      "percentage happy = 20.065804422711615\n"
     ]
    }
   ],
   "source": [
    "happiness_benchmark = 84.1\n",
    "\n",
    "# bank_df_train['Happiness'] = bank_df_train.apply(lambda row: 1 if row['CustomerSatisfaction'] + \\\n",
    "#                                                                   row['FeatureSatisfaction'] + \\\n",
    "#                                                                   row['SupportSatisfaction'] + \\\n",
    "#                                                                   row['NPS'] + \\\n",
    "#                                                                   row['Tenure'] >= happiness_benchmark else \\\n",
    "#                                                                   0, axis=1)\n",
    "\n",
    "\n",
    "# need to delete Custpercentile, RsPercentile and ResponsePercentile later\n",
    "bank_df_train['CustPercentile'] = bank_df_train['CustomerSatisfaction'].apply(lambda x: stats.percentileofscore(bank_df_train['CustomerSatisfaction'], x))\n",
    "bank_df_train['RsPercentile'] = bank_df_train['RelationshipCount'].apply(lambda x: stats.percentileofscore(bank_df_train['CustomerSatisfaction'], x))\n",
    "\n",
    "bank_df_test['CustPercentile'] = bank_df_test['CustomerSatisfaction'].apply(lambda x: stats.percentileofscore(bank_df_test['CustomerSatisfaction'], x))\n",
    "bank_df_test['RsPercentile'] = bank_df_test['RelationshipCount'].apply(lambda x: stats.percentileofscore(bank_df_test['CustomerSatisfaction'], x))\n",
    "\n",
    "# print(bank_df_train['CustPercentile'].head(10))\n",
    "bank_df_train['Happiness'] = bank_df_train.apply(lambda row: 1 if (row['CustPercentile'] > happiness_benchmark and \\\n",
    "                                                                   row['RsPercentile'] > happiness_benchmark ) else 0, axis=1)\n",
    "bank_df_train.drop(columns=['CustPercentile', 'RsPercentile'], inplace=True)\n",
    "\n",
    "bank_df_test['Happiness'] = bank_df_test.apply(lambda row: 1 if (row['CustPercentile'] > happiness_benchmark and \\\n",
    "                                                                   row['RsPercentile'] > happiness_benchmark ) else 0, axis=1)\n",
    "bank_df_test.drop(columns=['CustPercentile', 'RsPercentile'], inplace=True)\n",
    "\n",
    "# print(bank_df_train['Happiness'].head(10))\n",
    "# print(\"percentage happy =\", (bank_df_train['Happiness'] == 1).mean() * 100)\n",
    "print(bank_df_test['Happiness'].head(10))\n",
    "print(\"percentage happy =\", (bank_df_test['Happiness'] == 1).mean() * 100)"
   ]
  },
  {
   "cell_type": "markdown",
   "metadata": {},
   "source": [
    "### 40.Price Sensitivity %\n",
    "26. marketing offers accepted %\n",
    "35. change in behaviour %\n",
    "\n",
    "Mkting Offers Accepted\n",
    "Change in behavior before n after for mkting offer \n"
   ]
  },
  {
   "cell_type": "code",
   "execution_count": 441,
   "metadata": {},
   "outputs": [],
   "source": [
    "# MarketingOffersAcceptance_df = bank_df_train['MarketingOffersAcceptance'].apply(lambda x: stats.percentileofscore(bank_df_train['MarketingOffersAcceptance'], x))\n",
    "# ChangeInBehaviourMkt_df = bank_df_train['ChangeInBehaviourMkt'].apply(lambda x: stats.percentileofscore(bank_df_train['ChangeInBehaviourMkt'], x))\n",
    "\n",
    "# MarketingOffersAcceptance_df_2 = bank_df_test['MarketingOffersAcceptance'].apply(lambda x: stats.percentileofscore(bank_df_test['MarketingOffersAcceptance'], x))\n",
    "# ChangeInBehaviourMkt_df_2 = bank_df_test['ChangeInBehaviourMkt'].apply(lambda x: stats.percentileofscore(bank_df_test['ChangeInBehaviourMkt'], x))\n",
    "# # print(MarketingOffersAcceptance_df.head())\n",
    "# # print(ChangeInBehaviourMkt_df.head())\n",
    "# bank_df_train['PriceSensitivity'] = (MarketingOffersAcceptance_df + ChangeInBehaviourMkt_df) / 2\n",
    "# bank_df_test['PriceSensitivity'] = (MarketingOffersAcceptance_df_2 + ChangeInBehaviourMkt_df_2) / 2\n",
    "\n",
    "# print(bank_df_train['PriceSensitivity'].head(20))"
   ]
  },
  {
   "cell_type": "code",
   "execution_count": 442,
   "metadata": {},
   "outputs": [],
   "source": [
    "bank_df_train['PriceSensitive'] = ((bank_df_train['MarketingOffersAcceptance'].rank(pct=True)*100).astype(int)+(bank_df_train['ChangeInBehaviourMkt'].rank(pct=True)*100).astype(int))/2\n",
    "bank_df_test['PriceSensitive'] = ((bank_df_test['MarketingOffersAcceptance'].rank(pct=True)*100).astype(int)+(bank_df_test['ChangeInBehaviourMkt'].rank(pct=True)*100).astype(int))/2"
   ]
  },
  {
   "cell_type": "markdown",
   "metadata": {},
   "source": [
    "### 41.Feature Driven % \n",
    "28. Customer satisfaction survey 0-5\n",
    "6. num products 1-4\n",
    "29. Feature Satisfaction 0-5\n",
    "\n",
    "Number of products last 1 year\n",
    "Feature Satisfaction Column (0 to 1)\n",
    "Feature Support freq\n"
   ]
  },
  {
   "cell_type": "code",
   "execution_count": 443,
   "metadata": {},
   "outputs": [],
   "source": [
    "# print(bank_df_train['NumOfProducts'].max())\n",
    "# print(bank_df_train['NumOfProducts'].min())\n",
    "\n",
    "# feature_driven = bank_df_train['CustomerSatisfaction'] + bank_df_train['NumOfProducts'] + bank_df_train['FeatureSatisfaction']\n",
    "# percentiles = np.percentile(feature_driven, [0, 25, 50, 75, 100]) \n",
    "\n",
    "# def assign_percentile(metric):\n",
    "#     if metric <= percentiles[1]:\n",
    "#         return ((metric / percentiles[1]) * 25)\n",
    "#     elif metric <= percentiles[2]:\n",
    "#         return (25 + ((metric - percentiles[1]) / (percentiles[2] - percentiles[1])) * 25)\n",
    "#     elif metric <= percentiles[3]:\n",
    "#         return (50 + ((metric - percentiles[2]) / (percentiles[3] - percentiles[2])) * 25)\n",
    "#     else:\n",
    "#         return (75 + ((metric - percentiles[3]) / (percentiles[4] - percentiles[3])) * 25)\n",
    "        \n",
    "# bank_df_train['FeatureSensitivity'] = feature_driven.apply(assign_percentile)\n",
    "# bank_df_train['FeatureSensitivity'] = bank_df_train['FeatureSensitivity'].replace(np.NaN, 0, regex=True)\n",
    "\n",
    "# CustomerSatisfaction_df = bank_df_train['CustomerSatisfaction'].apply(lambda x: stats.percentileofscore(bank_df_train['CustomerSatisfaction'], x))\n",
    "# NumOfProducts_df = bank_df_train['NumOfProducts'].apply(lambda x: stats.percentileofscore(bank_df_train['NumOfProducts'], x))\n",
    "# FeatureSatisfaction_df = bank_df_train['FeatureSatisfaction'].apply(lambda x: stats.percentileofscore(bank_df_train['FeatureSatisfaction'], x))\n",
    "# FeatureSupportFrequency_df = bank_df_train['FeatureSupportFrequency'].apply(lambda x: stats.percentileofscore(bank_df_train['FeatureSatisfaction'], x))\n",
    "\n",
    "# CustomerSatisfaction_df_2 = bank_df_test['CustomerSatisfaction'].apply(lambda x: stats.percentileofscore(bank_df_test['CustomerSatisfaction'], x))\n",
    "# NumOfProducts_df_2 = bank_df_test['NumOfProducts'].apply(lambda x: stats.percentileofscore(bank_df_test['NumOfProducts'], x))\n",
    "# FeatureSatisfaction_df_2 = bank_df_test['FeatureSatisfaction'].apply(lambda x: stats.percentileofscore(bank_df_test['FeatureSatisfaction'], x))\n",
    "# FeatureSupportFrequency_df_2 = bank_df_test['FeatureSupportFrequency'].apply(lambda x: stats.percentileofscore(bank_df_test['FeatureSatisfaction'], x))\n",
    "\n",
    "# bank_df_train['FeatureSensitivity'] = (CustomerSatisfaction_df + NumOfProducts_df + FeatureSatisfaction_df + FeatureSupportFrequency_df) / 4\n",
    "# bank_df_test['FeatureSensitivity'] = (CustomerSatisfaction_df_2 + NumOfProducts_df_2 + FeatureSatisfaction_df_2 + FeatureSupportFrequency_df_2) / 4\n",
    "\n",
    "# print(bank_df_train['FeatureSensitivity'].head(20))"
   ]
  },
  {
   "cell_type": "code",
   "execution_count": 444,
   "metadata": {},
   "outputs": [],
   "source": [
    "bank_df_train['FeatureDriven'] = ((bank_df_train['CustomerSatisfaction'].rank(pct=True)*100).astype(int)+(bank_df_train['NumOfProducts'].rank(pct=True)*100).astype(int)+(bank_df_train['FeatureSatisfaction'].rank(pct=True)*100).astype(int)+(bank_df_train['FeatureSupportFrequency'].rank(pct=True)*100).astype(int))/4\n",
    "bank_df_test['FeatureDriven'] = ((bank_df_test['CustomerSatisfaction'].rank(pct=True)*100).astype(int)+(bank_df_test['NumOfProducts'].rank(pct=True)*100).astype(int)+(bank_df_test['FeatureSatisfaction'].rank(pct=True)*100).astype(int)+(bank_df_test['FeatureSupportFrequency'].rank(pct=True)*100).astype(int))/4\n"
   ]
  },
  {
   "cell_type": "markdown",
   "metadata": {},
   "source": [
    "### 42.Service Dependent % \n",
    "31. service support freq per month number\n",
    "39. Customer Happiness Status binary\n",
    "36. Change in behavior before n after for Support %\n",
    "\n",
    "CALL Support frequency\n",
    "Support Satisfaction Column (0 to 1)\n",
    "Change in behavior before n after support"
   ]
  },
  {
   "cell_type": "code",
   "execution_count": 445,
   "metadata": {},
   "outputs": [],
   "source": [
    "# print(bank_df_train['ServiceSupportFrequency'])\n",
    "# CallSupportFrequency_df = bank_df_train['CallSupportFrequency'].apply(lambda x: stats.percentileofscore(bank_df_train['CallSupportFrequency'], x))\n",
    "# ServiceSupportFrequency_df = bank_df_train['ServiceSupportFrequency'].apply(lambda x: stats.percentileofscore(bank_df_train['ServiceSupportFrequency'], x))\n",
    "# SupportSatisfaction_df = bank_df_train['SupportSatisfaction'].apply(lambda x: stats.percentileofscore(bank_df_train['SupportSatisfaction'], x))\n",
    "# ChanegInBehaviourCust_df = bank_df_train['ChanegInBehaviourCust'].apply(lambda x: stats.percentileofscore(bank_df_train['ChanegInBehaviourCust'], x))\n",
    "\n",
    "# ServiceSupportFrequency_df_2 = bank_df_test['ServiceSupportFrequency'].apply(lambda x: stats.percentileofscore(bank_df_test['ServiceSupportFrequency'], x))\n",
    "# SupportSatisfaction_df_2 = bank_df_test['SupportSatisfaction'].apply(lambda x: stats.percentileofscore(bank_df_test['SupportSatisfaction'], x))\n",
    "# ChanegInBehaviourCust_df_2 = bank_df_test['ChanegInBehaviourCust'].apply(lambda x: stats.percentileofscore(bank_df_test['ChanegInBehaviourCust'], x))\n",
    "\n",
    "# bank_df_train['ServiceSensitivity'] = (ServiceSupportFrequency_df + SupportSatisfaction_df + ChanegInBehaviourCust_df) / 3\n",
    "# bank_df_test['ServiceSensitivity'] = (ServiceSupportFrequency_df_2 + SupportSatisfaction_df_2 + ChanegInBehaviourCust_df_2) / 3\n",
    "\n",
    "# print(bank_df_train['ServiceSensitivity'].head())"
   ]
  },
  {
   "cell_type": "code",
   "execution_count": 446,
   "metadata": {},
   "outputs": [
    {
     "name": "stdout",
     "output_type": "stream",
     "text": [
      "0   35\n",
      "1   27\n",
      "2   52\n",
      "3   54\n",
      "4   51\n",
      "Name: ServiceDependent, dtype: float64\n"
     ]
    }
   ],
   "source": [
    "bank_df_train['ServiceDependent'] = ((bank_df_train['ServiceSupportFrequency'].rank(pct=True)*100).astype(int)+(bank_df_train['SupportSatisfaction'].rank(pct=True)*100).astype(int)+(bank_df_train['ChanegInBehaviourCust'].rank(pct=True)*100).astype(int))/3\n",
    "bank_df_test['ServiceDependent'] = ((bank_df_test['ServiceSupportFrequency'].rank(pct=True)*100).astype(int)+(bank_df_test['SupportSatisfaction'].rank(pct=True)*100).astype(int)+(bank_df_test['ChanegInBehaviourCust'].rank(pct=True)*100).astype(int))/3\n",
    "print(bank_df_train['ServiceDependent'].head())"
   ]
  },
  {
   "cell_type": "markdown",
   "metadata": {},
   "source": [
    "### 43.Customer Personas "
   ]
  },
  {
   "cell_type": "code",
   "execution_count": 447,
   "metadata": {},
   "outputs": [
    {
     "name": "stdout",
     "output_type": "stream",
     "text": [
      "        PriceSensitive  FeatureDriven  ServiceDependent\n",
      "0                   68             64                35\n",
      "1                   78             68                27\n",
      "2                   24             59                52\n",
      "3                   30             39                54\n",
      "4                   44             61                51\n",
      "...                ...            ...               ...\n",
      "165029              74             33                32\n",
      "165030              16             39                39\n",
      "165031              66             28                51\n",
      "165032              52             37                72\n",
      "165033              83             39                29\n",
      "\n",
      "[165034 rows x 3 columns]\n"
     ]
    }
   ],
   "source": [
    "print(bank_df_train[['PriceSensitive', 'FeatureDriven', 'ServiceDependent']])"
   ]
  },
  {
   "cell_type": "code",
   "execution_count": 448,
   "metadata": {},
   "outputs": [
    {
     "name": "stdout",
     "output_type": "stream",
     "text": [
      "       FirstPersona     SecondPersona ThirdPersona\n",
      "0    PriceSensitive     FeatureDriven          NaN\n",
      "1    PriceSensitive     FeatureDriven          NaN\n",
      "2     FeatureDriven  ServiceDependent          NaN\n",
      "3  ServiceDependent               NaN          NaN\n",
      "4     FeatureDriven  ServiceDependent          NaN\n",
      "5  ServiceDependent               NaN          NaN\n",
      "6    PriceSensitive               NaN          NaN\n",
      "7  ServiceDependent    PriceSensitive          NaN\n",
      "8    PriceSensitive     FeatureDriven          NaN\n",
      "9     FeatureDriven  ServiceDependent          NaN\n",
      "        FirstPersona     SecondPersona ThirdPersona\n",
      "0     PriceSensitive               NaN          NaN\n",
      "1     PriceSensitive               NaN          NaN\n",
      "2      FeatureDriven               NaN          NaN\n",
      "3   ServiceDependent     FeatureDriven          NaN\n",
      "4      FeatureDriven  ServiceDependent          NaN\n",
      "5   ServiceDependent     FeatureDriven          NaN\n",
      "6     PriceSensitive  ServiceDependent          NaN\n",
      "7   ServiceDependent               NaN          NaN\n",
      "8     PriceSensitive     FeatureDriven          NaN\n",
      "9      FeatureDriven               NaN          NaN\n",
      "10    PriceSensitive               NaN          NaN\n",
      "11     FeatureDriven    PriceSensitive          NaN\n",
      "12    PriceSensitive     FeatureDriven          NaN\n",
      "13    PriceSensitive               NaN          NaN\n",
      "14    PriceSensitive               NaN          NaN\n",
      "15  ServiceDependent     FeatureDriven          NaN\n",
      "16     FeatureDriven               NaN          NaN\n",
      "17    PriceSensitive     FeatureDriven          NaN\n",
      "18    PriceSensitive     FeatureDriven          NaN\n",
      "19  ServiceDependent               NaN          NaN\n"
     ]
    }
   ],
   "source": [
    "import warnings\n",
    "warnings.simplefilter(action='ignore', category=FutureWarning)\n",
    "# Restore default warning behavior after your code\n",
    "# warnings.simplefilter(action='default', category=FutureWarning)\n",
    "\n",
    "persona_df = bank_df_train[['PriceSensitive', 'FeatureDriven', 'ServiceDependent']]\n",
    "largest_values = persona_df.max(axis=1)\n",
    "smallest_values = persona_df.min(axis=1)\n",
    "\n",
    "sum_values = persona_df.sum(axis=1)\n",
    "second_largest_values = sum_values - largest_values - smallest_values\n",
    "first_diff = largest_values - second_largest_values\n",
    "second_diff = largest_values - smallest_values\n",
    "\n",
    "def get_columns(row):\n",
    "    sorted_indices = np.argsort(row)[::-1]  # Sort indices in descending order of values\n",
    "    largest_index = sorted_indices[0]  # Index of the largest value\n",
    "    second_largest_index = sorted_indices[1]  # Index of the second largest value\n",
    "    smallest_index = sorted_indices[-1]  # Index of the smallest value\n",
    "    return (persona_df.columns[largest_index], persona_df.columns[second_largest_index], persona_df.columns[smallest_index])\n",
    "\n",
    "columns_tuple = persona_df.apply(get_columns, axis=1)\n",
    "bank_df_train[['FirstPersona', 'SecondPersona', 'ThirdPersona']] = pd.DataFrame(columns_tuple.tolist(), index=persona_df.index)\n",
    "bank_df_train.loc[first_diff > 10, ['SecondPersona', 'ThirdPersona']] = np.nan\n",
    "bank_df_train.loc[second_diff > 10, ['ThirdPersona']] = np.nan\n",
    "\n",
    "print(bank_df_train[['FirstPersona', 'SecondPersona', 'ThirdPersona']].head(10))\n",
    "\n",
    "persona_df_2 = bank_df_test[['PriceSensitive', 'FeatureDriven', 'ServiceDependent']]\n",
    "largest_values_2 = persona_df_2.max(axis=1)\n",
    "smallest_values_2 = persona_df_2.min(axis=1)\n",
    "\n",
    "sum_values_2 = persona_df_2.sum(axis=1)\n",
    "second_largest_values_2 = sum_values_2 - largest_values_2 - smallest_values_2\n",
    "first_diff_2 = largest_values_2 - second_largest_values_2\n",
    "second_diff_2 = largest_values_2 - smallest_values_2\n",
    "\n",
    "columns_tuple_2 = persona_df_2.apply(get_columns, axis=1)\n",
    "bank_df_test[['FirstPersona', 'SecondPersona', 'ThirdPersona']] = pd.DataFrame(columns_tuple.tolist(), index=persona_df.index)\n",
    "\n",
    "bank_df_test.loc[first_diff_2 > 10, ['SecondPersona', 'ThirdPersona']] = np.nan\n",
    "bank_df_test.loc[second_diff_2 > 10, ['ThirdPersona']] = np.nan\n",
    "\n",
    "print(bank_df_test[['FirstPersona', 'SecondPersona', 'ThirdPersona']].head(20))\n",
    "# print(persona_df_2.head(10))\n"
   ]
  },
  {
   "cell_type": "code",
   "execution_count": 449,
   "metadata": {},
   "outputs": [
    {
     "name": "stdout",
     "output_type": "stream",
     "text": [
      "        PriceSensitive  FeatureDriven  ServiceDependent\n",
      "0                   41             38                21\n",
      "1                   45             40                16\n",
      "2                   18             44                38\n",
      "3                   25             31                44\n",
      "4                   28             39                33\n",
      "...                ...            ...               ...\n",
      "165029              53             24                23\n",
      "165030              17             42                42\n",
      "165031              46             20                35\n",
      "165032              32             23                45\n",
      "165033              55             26                19\n",
      "\n",
      "[165034 rows x 3 columns]\n"
     ]
    }
   ],
   "source": [
    "columns_to_normalize = ['PriceSensitive', 'FeatureDriven', 'ServiceDependent']\n",
    "\n",
    "bank_df_train[columns_to_normalize] = bank_df_train[columns_to_normalize].div(bank_df_train[columns_to_normalize].sum(axis=1), axis=0) * 100\n",
    "# bank_df_train['CustomerPersona'] = bank_df_train[columns_to_normalize].idxmax(axis=1)\n",
    "\n",
    "bank_df_test[columns_to_normalize] = bank_df_test[columns_to_normalize].div(bank_df_test[columns_to_normalize].sum(axis=1), axis=0) * 100\n",
    "# bank_df_test['CustomerPersona'] = bank_df_test[columns_to_normalize].idxmax(axis=1)\n",
    "\n",
    "print(bank_df_train[['PriceSensitive', 'FeatureDriven', 'ServiceDependent']])"
   ]
  },
  {
   "cell_type": "markdown",
   "metadata": {},
   "source": [
    "### 44. Social Influencer"
   ]
  },
  {
   "cell_type": "code",
   "execution_count": 450,
   "metadata": {},
   "outputs": [
    {
     "name": "stdout",
     "output_type": "stream",
     "text": [
      "0    0\n",
      "1    0\n",
      "2    1\n",
      "3    1\n",
      "4    0\n",
      "5    0\n",
      "6    0\n",
      "7    0\n",
      "8    0\n",
      "9    0\n",
      "Name: SocialInfluencer, dtype: int64\n",
      "percentage social influencer = 16.587491062447736\n"
     ]
    }
   ],
   "source": [
    "social_benchmark = 84.1\n",
    "\n",
    "bank_df_train['SocialInfluencer'] = bank_df_train['NPS'].apply(lambda x: stats.percentileofscore(bank_df_train['NPS'], x))\n",
    "bank_df_train['SocialInfluencer'] = bank_df_train.apply(lambda row: 1 if (row['SocialInfluencer'] > happiness_benchmark) else 0, axis=1)\n",
    "\n",
    "bank_df_test['SocialInfluencer'] = bank_df_test['NPS'].apply(lambda x: stats.percentileofscore(bank_df_test['NPS'], x))\n",
    "bank_df_test['SocialInfluencer'] = bank_df_test.apply(lambda row: 1 if (row['SocialInfluencer'] > happiness_benchmark) else 0, axis=1)\n",
    "\n",
    "print(bank_df_train['SocialInfluencer'].head(10))\n",
    "print(\"percentage social influencer =\", (bank_df_train['SocialInfluencer'] == 1).mean() * 100)"
   ]
  },
  {
   "cell_type": "markdown",
   "metadata": {},
   "source": [
    "### 45. Combined Personas column"
   ]
  },
  {
   "cell_type": "code",
   "execution_count": 451,
   "metadata": {},
   "outputs": [
    {
     "name": "stdout",
     "output_type": "stream",
     "text": [
      "0       Price-sensitive, Feature-driven\n",
      "1       Price-sensitive, Feature-driven\n",
      "2     Feature-driven, Service-dependent\n",
      "3                     Service-dependent\n",
      "4     Feature-driven, Service-dependent\n",
      "5                     Service-dependent\n",
      "6                       Price-sensitive\n",
      "7    Price-sensitive, Service-dependent\n",
      "8       Price-sensitive, Feature-driven\n",
      "9     Feature-driven, Service-dependent\n",
      "Name: CombinedPersonas, dtype: object\n"
     ]
    }
   ],
   "source": [
    "# bank_df_train['CombinedPersonas'] = bank_df_train[['FirstPersona', 'SecondPersona', 'ThirdPersona']].apply(lambda row: ', '.join(row.dropna().astype(str)), axis=1)\n",
    "# bank_df_test['CombinedPersonas'] = bank_df_test[['FirstPersona', 'SecondPersona', 'ThirdPersona']].apply(lambda row: ', '.join(row.dropna().astype(str)), axis=1)\n",
    "def combine_personas(row):\n",
    "    if ('PriceSensitive' in row.values) and ('FeatureDriven' in row.values) and ('ServiceDependent' in row.values):\n",
    "        return 'Price-sensitive, Feature-driven, Service-dependent'\n",
    "    elif ('PriceSensitive' in row.values) and ('FeatureDriven' in row.values):\n",
    "        return 'Price-sensitive, Feature-driven'\n",
    "    elif ('PriceSensitive' in row.values) and ('ServiceDependent' in row.values):\n",
    "        return 'Price-sensitive, Service-dependent'\n",
    "    elif ('FeatureDriven' in row.values) and ('ServiceDependent' in row.values):\n",
    "        return 'Feature-driven, Service-dependent'\n",
    "    elif 'PriceSensitive' in row.values:\n",
    "        return 'Price-sensitive'\n",
    "    elif 'FeatureDriven' in row.values:\n",
    "        return 'Feature-driven'\n",
    "    elif 'ServiceDependent' in row.values:\n",
    "        return 'Service-dependent'\n",
    "bank_df_train['CombinedPersonas'] = bank_df_train[['FirstPersona', 'SecondPersona', 'ThirdPersona']].apply(combine_personas, axis=1)\n",
    "print(bank_df_train['CombinedPersonas'].head(10))"
   ]
  },
  {
   "cell_type": "markdown",
   "metadata": {},
   "source": []
  },
  {
   "cell_type": "markdown",
   "metadata": {},
   "source": [
    "# Removing useless columns"
   ]
  },
  {
   "cell_type": "code",
   "execution_count": 452,
   "metadata": {},
   "outputs": [],
   "source": [
    "# print(bank_df_train.dtypes)\n",
    "useless_cols = ['id', 'CustomerId', 'Surname', 'Geography', 'Exited', 'IsActiveMember', 'CreditScore', 'HasCrCard']\n",
    "useless_cols_2 = ['id', 'CustomerId', 'Surname', 'Geography', 'IsActiveMember', 'CreditScore', 'HasCrCard']\n",
    "# to_one_hot_encode_cols = ['Gender', 'Education', 'Employment Status', 'Marital Status', 'Housing Status', 'PaymentMethod', 'IncomeSource', 'PrevLifecycle', 'CurrLifecycle', 'CustomerPersona']\n",
    "\n",
    "bank_df_train.drop(columns=useless_cols, inplace=True)\n",
    "bank_df_test.drop(columns=useless_cols_2, inplace=True)\n",
    "# bank_df_train = pd.get_dummies(bank_df_train, columns=to_one_hot_encode_cols)\n",
    "\n"
   ]
  },
  {
   "cell_type": "code",
   "execution_count": 453,
   "metadata": {},
   "outputs": [
    {
     "name": "stdout",
     "output_type": "stream",
     "text": [
      "Gender                               object\n",
      "Age                                   int32\n",
      "Tenure                                int32\n",
      "Balance                             float64\n",
      "NumOfProducts                         int64\n",
      "EstimatedSalary                     float64\n",
      "ChurnDate                    datetime64[ns]\n",
      "TransactionFreq                       int32\n",
      "TransactionAmt                      float64\n",
      "ServiceSupportFrequency               int32\n",
      "MonthsInactive                        int32\n",
      "NPS                                 float64\n",
      "Education                            object\n",
      "EmploymentStatus                     object\n",
      "MaritalStatus                        object\n",
      "HousingStatus                        object\n",
      "Dependants                            int32\n",
      "MarketingOffersAcceptance           float64\n",
      "PaymentMethod                        object\n",
      "CustomerSatisfaction                  int32\n",
      "FeatureSatisfaction                   int32\n",
      "SupportSatisfaction                   int32\n",
      "FeatureSupportFrequency               int32\n",
      "RelationshipCount                   float64\n",
      "IncomeSource                         object\n",
      "CreditUtilization                   float64\n",
      "Retention                           float64\n",
      "ChangeInBehaviourMkt                float64\n",
      "ChanegInBehaviourCust               float64\n",
      "PrevLifecycle                        object\n",
      "CurrLifecycle                        object\n",
      "Happiness                             int64\n",
      "PriceSensitive                      float64\n",
      "FeatureDriven                       float64\n",
      "ServiceDependent                    float64\n",
      "FirstPersona                         object\n",
      "SecondPersona                        object\n",
      "ThirdPersona                         object\n",
      "SocialInfluencer                      int64\n",
      "CombinedPersonas                     object\n",
      "dtype: object\n",
      "   Gender  Age  Tenure  Balance  NumOfProducts  EstimatedSalary  ChurnDate  \\\n",
      "0    Male   33       5        0              2          181,450        NaT   \n",
      "1    Male   33       1        0              2           49,504        NaT   \n",
      "2    Male   40      19        0              2          184,867        NaT   \n",
      "3    Male   34       3  148,883              1           84,561        NaT   \n",
      "4    Male   33       9        0              2           15,069        NaT   \n",
      "5    Male   36       7  131,779              1          136,024 2023-10-15   \n",
      "6  Female   30      15  144,773              1           29,792        NaT   \n",
      "7    Male   37       1  138,476              1          106,852        NaT   \n",
      "8    Male   43       7        0              2          142,917        NaT   \n",
      "9    Male   40       7   81,274              1          170,843        NaT   \n",
      "\n",
      "   TransactionFreq  TransactionAmt  ServiceSupportFrequency  ...  \\\n",
      "0               24        -109,725                        4  ...   \n",
      "1                0               0                        4  ...   \n",
      "2               64         -46,974                       12  ...   \n",
      "3                7        -133,701                        0  ...   \n",
      "4                0               0                       45  ...   \n",
      "5                0               0                       37  ...   \n",
      "6               28         -23,863                       15  ...   \n",
      "7               88         -89,625                        8  ...   \n",
      "8               12         -34,062                        0  ...   \n",
      "9               19         -60,001                       16  ...   \n",
      "\n",
      "   CurrLifecycle  Happiness PriceSensitive FeatureDriven ServiceDependent  \\\n",
      "0         Active          1             41            38               21   \n",
      "1        Dormant          0             45            40               16   \n",
      "2         Active          1             18            44               38   \n",
      "3         Active          0             25            31               44   \n",
      "4        Dormant          0             28            39               33   \n",
      "5        Churned          0             27            30               43   \n",
      "6    Reactivated          1             39            28               33   \n",
      "7    Reactivated          0             38            22               39   \n",
      "8         Active          0             43            41               17   \n",
      "9         Active          0             25            38               37   \n",
      "\n",
      "       FirstPersona     SecondPersona  ThirdPersona SocialInfluencer  \\\n",
      "0    PriceSensitive     FeatureDriven           NaN                0   \n",
      "1    PriceSensitive     FeatureDriven           NaN                0   \n",
      "2     FeatureDriven  ServiceDependent           NaN                1   \n",
      "3  ServiceDependent               NaN           NaN                1   \n",
      "4     FeatureDriven  ServiceDependent           NaN                0   \n",
      "5  ServiceDependent               NaN           NaN                0   \n",
      "6    PriceSensitive               NaN           NaN                0   \n",
      "7  ServiceDependent    PriceSensitive           NaN                0   \n",
      "8    PriceSensitive     FeatureDriven           NaN                0   \n",
      "9     FeatureDriven  ServiceDependent           NaN                0   \n",
      "\n",
      "                     CombinedPersonas  \n",
      "0     Price-sensitive, Feature-driven  \n",
      "1     Price-sensitive, Feature-driven  \n",
      "2   Feature-driven, Service-dependent  \n",
      "3                   Service-dependent  \n",
      "4   Feature-driven, Service-dependent  \n",
      "5                   Service-dependent  \n",
      "6                     Price-sensitive  \n",
      "7  Price-sensitive, Service-dependent  \n",
      "8     Price-sensitive, Feature-driven  \n",
      "9   Feature-driven, Service-dependent  \n",
      "\n",
      "[10 rows x 40 columns]\n",
      "       FirstPersona     SecondPersona ThirdPersona  Happiness  \\\n",
      "0    PriceSensitive               NaN          NaN          0   \n",
      "1    PriceSensitive               NaN          NaN          0   \n",
      "2     FeatureDriven               NaN          NaN          1   \n",
      "3  ServiceDependent     FeatureDriven          NaN          0   \n",
      "4     FeatureDriven  ServiceDependent          NaN          1   \n",
      "5  ServiceDependent     FeatureDriven          NaN          1   \n",
      "6    PriceSensitive  ServiceDependent          NaN          0   \n",
      "7  ServiceDependent               NaN          NaN          0   \n",
      "8    PriceSensitive     FeatureDriven          NaN          1   \n",
      "9     FeatureDriven               NaN          NaN          0   \n",
      "\n",
      "   SocialInfluencer  \n",
      "0                 0  \n",
      "1                 0  \n",
      "2                 0  \n",
      "3                 0  \n",
      "4                 0  \n",
      "5                 0  \n",
      "6                 0  \n",
      "7                 0  \n",
      "8                 0  \n",
      "9                 0  \n"
     ]
    }
   ],
   "source": [
    "# reference_date = bank_df_train['ChurnDate'].min()\n",
    "# bank_df_train['ChurnDate_Numeric'] = (bank_df_train['ChurnDate'] - reference_date).dt.days\n",
    "# bank_df_train['ChurnDate_Numeric'] = pd.to_numeric(bank_df_train['ChurnDate'])\n",
    "\n",
    "\n",
    "print(bank_df_train.dtypes)\n",
    "print(bank_df_train.head(10))\n",
    "print(bank_df_test[['FirstPersona', 'SecondPersona', 'ThirdPersona', 'Happiness', 'SocialInfluencer']].head(10))\n",
    "\n",
    "# to get our dates back\n",
    "# bank_df_train['ChurnDate_Back'] = reference_date + pd.to_timedelta(bank_df_train['ChurnDate_Numeric'], unit='D')"
   ]
  },
  {
   "cell_type": "code",
   "execution_count": 454,
   "metadata": {},
   "outputs": [
    {
     "name": "stdout",
     "output_type": "stream",
     "text": [
      "Gender                        object\n",
      "Age                            int32\n",
      "Tenure                         int64\n",
      "Balance                      float64\n",
      "NumOfProducts                  int64\n",
      "EstimatedSalary              float64\n",
      "TransactionFreq                int32\n",
      "TransactionAmt               float64\n",
      "ServiceSupportFrequency        int32\n",
      "MonthsInactive                 int32\n",
      "NPS                          float64\n",
      "Education                     object\n",
      "EmploymentStatus              object\n",
      "MaritalStatus                 object\n",
      "HousingStatus                 object\n",
      "Dependants                     int32\n",
      "MarketingOffersAcceptance    float64\n",
      "PaymentMethod                 object\n",
      "CustomerSatisfaction           int32\n",
      "FeatureSatisfaction            int32\n",
      "SupportSatisfaction            int32\n",
      "FeatureSupportFrequency        int32\n",
      "RelationshipCount            float64\n",
      "CreditUtilization            float64\n",
      "Retention                    float64\n",
      "ChangeInBehaviourMkt         float64\n",
      "ChanegInBehaviourCust        float64\n",
      "PrevLifecycle                 object\n",
      "Happiness                      int64\n",
      "PriceSensitive               float64\n",
      "FeatureDriven                float64\n",
      "ServiceDependent             float64\n",
      "FirstPersona                  object\n",
      "SecondPersona                 object\n",
      "ThirdPersona                  object\n",
      "SocialInfluencer               int64\n",
      "dtype: object\n",
      "   Gender  Age  Tenure  Balance  NumOfProducts  EstimatedSalary  \\\n",
      "0  Female   23       2        0              2          160,977   \n",
      "1  Female   46       2        0              1           72,549   \n",
      "2  Female   34       7        0              2          138,882   \n",
      "3    Male   36       8        0              1          113,932   \n",
      "4    Male   38      10  121,264              1          139,431   \n",
      "5  Female   22       9        0              2           51,908   \n",
      "6    Male   45       4        0              2          157,879   \n",
      "7  Female   47       8        0              2          126,784   \n",
      "8  Female   47       3  111,097              1           94,978   \n",
      "9    Male   30       5        0              2          149,195   \n",
      "\n",
      "   TransactionFreq  TransactionAmt  ServiceSupportFrequency  MonthsInactive  \\\n",
      "0                0               0                        0               0   \n",
      "1                0               0                        0               0   \n",
      "2                0               0                        7               0   \n",
      "3                0               0                        2               1   \n",
      "4                0               0                       33               0   \n",
      "5                0               0                        5               0   \n",
      "6               53      -1,948,716                       46               0   \n",
      "7               29      -3,968,846                        6               0   \n",
      "8                0               0                        2               0   \n",
      "9                0               0                       39               1   \n",
      "\n",
      "   ...  ChanegInBehaviourCust PrevLifecycle Happiness PriceSensitive  \\\n",
      "0  ...                      1       Dormant         0             28   \n",
      "1  ...                      1       Dormant         0             42   \n",
      "2  ...                      1       Dormant         1             17   \n",
      "3  ...                      1        Active         0             34   \n",
      "4  ...                      1       Dormant         1             23   \n",
      "5  ...                      1   Reactivated         1             25   \n",
      "6  ...                      1       Dormant         0             22   \n",
      "7  ...                      1        Active         0             43   \n",
      "8  ...                      1   Reactivated         1             27   \n",
      "9  ...                      1       Dormant         0             22   \n",
      "\n",
      "  FeatureDriven  ServiceDependent      FirstPersona     SecondPersona  \\\n",
      "0            48                24    PriceSensitive               NaN   \n",
      "1            32                26    PriceSensitive               NaN   \n",
      "2            55                28     FeatureDriven               NaN   \n",
      "3            40                27  ServiceDependent     FeatureDriven   \n",
      "4            38                39     FeatureDriven  ServiceDependent   \n",
      "5            40                35  ServiceDependent     FeatureDriven   \n",
      "6            39                39    PriceSensitive  ServiceDependent   \n",
      "7            22                35  ServiceDependent               NaN   \n",
      "8            37                36    PriceSensitive     FeatureDriven   \n",
      "9            34                44     FeatureDriven               NaN   \n",
      "\n",
      "   ThirdPersona  SocialInfluencer  \n",
      "0           NaN                 0  \n",
      "1           NaN                 0  \n",
      "2           NaN                 0  \n",
      "3           NaN                 0  \n",
      "4           NaN                 0  \n",
      "5           NaN                 0  \n",
      "6           NaN                 0  \n",
      "7           NaN                 0  \n",
      "8           NaN                 0  \n",
      "9           NaN                 0  \n",
      "\n",
      "[10 rows x 36 columns]\n"
     ]
    }
   ],
   "source": [
    "print(bank_df_test.dtypes)\n",
    "print(bank_df_test.head(10))"
   ]
  },
  {
   "cell_type": "markdown",
   "metadata": {},
   "source": [
    "# EDA\n"
   ]
  },
  {
   "cell_type": "markdown",
   "metadata": {},
   "source": [
    "### 1. Correlation matrix"
   ]
  },
  {
   "cell_type": "code",
   "execution_count": 455,
   "metadata": {},
   "outputs": [
    {
     "data": {
      "image/png": "[encoded data removed]",
      "text/plain": [
       "<Figure size 1500x1200 with 2 Axes>"
      ]
     },
     "metadata": {},
     "output_type": "display_data"
    }
   ],
   "source": [
    "from sklearn.preprocessing import LabelEncoder\n",
    "import seaborn as sns\n",
    "import matplotlib.pyplot as plt\n",
    "\n",
    "# Assuming bank_df_train is your DataFrame with both numeric and categorical columns\n",
    "\n",
    "# Create a copy of the DataFrame\n",
    "encoded_df = bank_df_train.copy()\n",
    "\n",
    "# Initialize LabelEncoder\n",
    "label_encoder = LabelEncoder()\n",
    "\n",
    "# Encode categorical columns using LabelEncoder\n",
    "for col in encoded_df.select_dtypes(include=['object']):\n",
    "    encoded_df[col] = label_encoder.fit_transform(encoded_df[col])\n",
    "\n",
    "# Calculate correlation matrix\n",
    "corr_matrix = encoded_df.corr()\n",
    "\n",
    "# Plot the heatmap for all columns without numeric annotations\n",
    "plt.figure(figsize=(15, 12))\n",
    "sns.heatmap(corr_matrix, annot=False, cmap='viridis')\n",
    "\n",
    "# Customize the plot\n",
    "plt.title('Correlation Matrix', fontsize=16)\n",
    "plt.xticks(rotation=45, fontsize=8)\n",
    "plt.yticks(rotation=0, fontsize=8)\n",
    "\n",
    "# Display the plot\n",
    "plt.tight_layout()\n",
    "plt.show()\n",
    "\n",
    "# Identify highly correlated columns\n",
    "correlated_columns = []\n",
    "threshold = 0.75   # Adjust as needed\n",
    "\n",
    "for col in corr_matrix.columns:\n",
    "    correlated_cols = corr_matrix.index[(corr_matrix[col] > threshold) | (corr_matrix[col] < -threshold)].tolist()\n",
    "    correlated_cols.remove(col)  # Remove the current column itself\n",
    "    correlated_columns.extend([(col, corr) for corr in correlated_cols])\n",
    "\n",
    "# Print highly correlated columns and their correlations\n",
    "for col, corr in correlated_columns:\n",
    "    print(f\"{col} and {corr}: {corr_matrix.loc[col, corr]}\")"
   ]
  },
  {
   "cell_type": "markdown",
   "metadata": {},
   "source": [
    "### 2. LDA"
   ]
  },
  {
   "cell_type": "code",
   "execution_count": 456,
   "metadata": {},
   "outputs": [],
   "source": [
    "# from sklearn.discriminant_analysis import LinearDiscriminantAnalysis\n",
    "\n",
    "# # Assuming bank_df_train is already defined and contains your data\n",
    "\n",
    "# # Create a copy of bank_df_train\n",
    "# test_df = bank_df_train.copy()\n",
    "\n",
    "# # Separate features and target\n",
    "# y = test_df['Exited']\n",
    "# X = test_df.drop(columns=['Exited'])  # Drop 'Exited' column and create X\n",
    "\n",
    "# # Convert X and y to numpy arrays\n",
    "# X = np.array(X)\n",
    "# y = np.array(y)\n",
    "\n",
    "# # Reshape y to a 1D array if needed\n",
    "# if y.ndim > 1:\n",
    "#     y = y.ravel()\n",
    "\n",
    "# # Initialize LDA model\n",
    "# lda = LinearDiscriminantAnalysis(n_components=1)  # Set the number of components (dimensions)\n",
    "\n",
    "# # Fit the model to the data\n",
    "# lda.fit(X, y)\n",
    "\n",
    "# # Transform the data\n",
    "# X_lda = lda.transform(X)\n",
    "\n",
    "# # Add the transformed data to the DataFrame\n",
    "# test_df['LDA_Component'] = X_lda\n",
    "\n",
    "# # Print the DataFrame with LDA component\n",
    "# print(test_df)\n"
   ]
  },
  {
   "cell_type": "markdown",
   "metadata": {},
   "source": [
    "### 3. Try MCA "
   ]
  },
  {
   "cell_type": "code",
   "execution_count": 457,
   "metadata": {},
   "outputs": [],
   "source": [
    "col_idx = [(i, column_name) for i, column_name in enumerate(bank_df_train.columns)]"
   ]
  },
  {
   "cell_type": "code",
   "execution_count": 458,
   "metadata": {},
   "outputs": [],
   "source": [
    "X_train_1 = bank_df_train.iloc[:, [1] + list(range(14, 17)) + [20, 26]]\n",
    "X_train_2 = bank_df_train.iloc[:, 21:38]"
   ]
  },
  {
   "cell_type": "code",
   "execution_count": 459,
   "metadata": {},
   "outputs": [
    {
     "ename": "MemoryError",
     "evalue": "Unable to allocate 101. GiB for an array with shape (165034, 82394) and data type float64",
     "output_type": "error",
     "traceback": [
      "\u001b[1;31m---------------------------------------------------------------------------\u001b[0m",
      "\u001b[1;31mMemoryError\u001b[0m                               Traceback (most recent call last)",
      "Cell \u001b[1;32mIn[459], line 2\u001b[0m\n\u001b[0;32m      1\u001b[0m mca \u001b[38;5;241m=\u001b[39m prince\u001b[38;5;241m.\u001b[39mMCA(n_components\u001b[38;5;241m=\u001b[39m\u001b[38;5;241m2\u001b[39m)\n\u001b[1;32m----> 2\u001b[0m mca \u001b[38;5;241m=\u001b[39m \u001b[43mmca\u001b[49m\u001b[38;5;241;43m.\u001b[39;49m\u001b[43mfit\u001b[49m\u001b[43m(\u001b[49m\u001b[43mX_train_1\u001b[49m\u001b[43m)\u001b[49m\n",
      "File \u001b[1;32m~\\AppData\\Local\\Packages\\PythonSoftwareFoundation.Python.3.11_qbz5n2kfra8p0\\LocalCache\\local-packages\\Python311\\site-packages\\prince\\utils.py:28\u001b[0m, in \u001b[0;36mcheck_is_dataframe_input.<locals>.wrapper\u001b[1;34m(*args, **kwargs)\u001b[0m\n\u001b[0;32m     24\u001b[0m \u001b[38;5;28;01mif\u001b[39;00m \u001b[38;5;129;01mnot\u001b[39;00m \u001b[38;5;28misinstance\u001b[39m(X, pd\u001b[38;5;241m.\u001b[39mDataFrame):\n\u001b[0;32m     25\u001b[0m     \u001b[38;5;28;01mraise\u001b[39;00m \u001b[38;5;167;01mValueError\u001b[39;00m(\n\u001b[0;32m     26\u001b[0m         \u001b[38;5;124mf\u001b[39m\u001b[38;5;124m\"\u001b[39m\u001b[38;5;124mThe X argument must be a pandas DataFrame, but got \u001b[39m\u001b[38;5;132;01m{\u001b[39;00m\u001b[38;5;28mtype\u001b[39m(X)\u001b[38;5;241m.\u001b[39m\u001b[38;5;18m__name__\u001b[39m\u001b[38;5;132;01m}\u001b[39;00m\u001b[38;5;124m\"\u001b[39m\n\u001b[0;32m     27\u001b[0m     )\n\u001b[1;32m---> 28\u001b[0m \u001b[38;5;28;01mreturn\u001b[39;00m \u001b[43mfunc\u001b[49m\u001b[43m(\u001b[49m\u001b[38;5;241;43m*\u001b[39;49m\u001b[43margs\u001b[49m\u001b[43m,\u001b[49m\u001b[43m \u001b[49m\u001b[38;5;241;43m*\u001b[39;49m\u001b[38;5;241;43m*\u001b[39;49m\u001b[43mkwargs\u001b[49m\u001b[43m)\u001b[49m\n",
      "File \u001b[1;32m~\\AppData\\Local\\Packages\\PythonSoftwareFoundation.Python.3.11_qbz5n2kfra8p0\\LocalCache\\local-packages\\Python311\\site-packages\\prince\\mca.py:63\u001b[0m, in \u001b[0;36mMCA.fit\u001b[1;34m(self, X, y)\u001b[0m\n\u001b[0;32m     60\u001b[0m \u001b[38;5;28mself\u001b[39m\u001b[38;5;241m.\u001b[39mJ_ \u001b[38;5;241m=\u001b[39m one_hot\u001b[38;5;241m.\u001b[39mshape[\u001b[38;5;241m1\u001b[39m]\n\u001b[0;32m     62\u001b[0m \u001b[38;5;66;03m# Apply CA to the indicator matrix\u001b[39;00m\n\u001b[1;32m---> 63\u001b[0m \u001b[38;5;28;43msuper\u001b[39;49m\u001b[43m(\u001b[49m\u001b[43m)\u001b[49m\u001b[38;5;241;43m.\u001b[39;49m\u001b[43mfit\u001b[49m\u001b[43m(\u001b[49m\u001b[43mone_hot\u001b[49m\u001b[43m)\u001b[49m\n\u001b[0;32m     65\u001b[0m \u001b[38;5;28;01mreturn\u001b[39;00m \u001b[38;5;28mself\u001b[39m\n",
      "File \u001b[1;32m~\\AppData\\Local\\Packages\\PythonSoftwareFoundation.Python.3.11_qbz5n2kfra8p0\\LocalCache\\local-packages\\Python311\\site-packages\\prince\\utils.py:28\u001b[0m, in \u001b[0;36mcheck_is_dataframe_input.<locals>.wrapper\u001b[1;34m(*args, **kwargs)\u001b[0m\n\u001b[0;32m     24\u001b[0m \u001b[38;5;28;01mif\u001b[39;00m \u001b[38;5;129;01mnot\u001b[39;00m \u001b[38;5;28misinstance\u001b[39m(X, pd\u001b[38;5;241m.\u001b[39mDataFrame):\n\u001b[0;32m     25\u001b[0m     \u001b[38;5;28;01mraise\u001b[39;00m \u001b[38;5;167;01mValueError\u001b[39;00m(\n\u001b[0;32m     26\u001b[0m         \u001b[38;5;124mf\u001b[39m\u001b[38;5;124m\"\u001b[39m\u001b[38;5;124mThe X argument must be a pandas DataFrame, but got \u001b[39m\u001b[38;5;132;01m{\u001b[39;00m\u001b[38;5;28mtype\u001b[39m(X)\u001b[38;5;241m.\u001b[39m\u001b[38;5;18m__name__\u001b[39m\u001b[38;5;132;01m}\u001b[39;00m\u001b[38;5;124m\"\u001b[39m\n\u001b[0;32m     27\u001b[0m     )\n\u001b[1;32m---> 28\u001b[0m \u001b[38;5;28;01mreturn\u001b[39;00m \u001b[43mfunc\u001b[49m\u001b[43m(\u001b[49m\u001b[38;5;241;43m*\u001b[39;49m\u001b[43margs\u001b[49m\u001b[43m,\u001b[49m\u001b[43m \u001b[49m\u001b[38;5;241;43m*\u001b[39;49m\u001b[38;5;241;43m*\u001b[39;49m\u001b[43mkwargs\u001b[49m\u001b[43m)\u001b[49m\n",
      "File \u001b[1;32m~\\AppData\\Local\\Packages\\PythonSoftwareFoundation.Python.3.11_qbz5n2kfra8p0\\LocalCache\\local-packages\\Python311\\site-packages\\prince\\ca.py:71\u001b[0m, in \u001b[0;36mCA.fit\u001b[1;34m(self, X, y)\u001b[0m\n\u001b[0;32m     68\u001b[0m     X \u001b[38;5;241m=\u001b[39m np\u001b[38;5;241m.\u001b[39mcopy(X)\n\u001b[0;32m     70\u001b[0m \u001b[38;5;66;03m# Compute the correspondence matrix which contains the relative frequencies\u001b[39;00m\n\u001b[1;32m---> 71\u001b[0m X \u001b[38;5;241m=\u001b[39m \u001b[43mX\u001b[49m\u001b[38;5;241;43m.\u001b[39;49m\u001b[43mastype\u001b[49m\u001b[43m(\u001b[49m\u001b[38;5;28;43mfloat\u001b[39;49m\u001b[43m)\u001b[49m \u001b[38;5;241m/\u001b[39m np\u001b[38;5;241m.\u001b[39msum(X)\n\u001b[0;32m     73\u001b[0m \u001b[38;5;66;03m# Compute row and column masses\u001b[39;00m\n\u001b[0;32m     74\u001b[0m \u001b[38;5;28mself\u001b[39m\u001b[38;5;241m.\u001b[39mrow_masses_ \u001b[38;5;241m=\u001b[39m pd\u001b[38;5;241m.\u001b[39mSeries(X\u001b[38;5;241m.\u001b[39msum(axis\u001b[38;5;241m=\u001b[39m\u001b[38;5;241m1\u001b[39m), index\u001b[38;5;241m=\u001b[39mrow_names)\n",
      "\u001b[1;31mMemoryError\u001b[0m: Unable to allocate 101. GiB for an array with shape (165034, 82394) and data type float64"
     ]
    }
   ],
   "source": [
    "mca = prince.MCA(n_components=2)\n",
    "mca = mca.fit(X_train_1)"
   ]
  },
  {
   "cell_type": "code",
   "execution_count": null,
   "metadata": {},
   "outputs": [],
   "source": [
    "# mca.column_contributions_.head().style.format('{:.0%}')"
   ]
  },
  {
   "cell_type": "markdown",
   "metadata": {},
   "source": [
    "### 4. FAMD"
   ]
  },
  {
   "cell_type": "code",
   "execution_count": null,
   "metadata": {},
   "outputs": [],
   "source": [
    "# famd = prince.FAMD(n_components=2)\n",
    "# famd = famd.fit(X_train_2)"
   ]
  },
  {
   "cell_type": "markdown",
   "metadata": {},
   "source": [
    "# Export to csv"
   ]
  },
  {
   "cell_type": "code",
   "execution_count": null,
   "metadata": {},
   "outputs": [],
   "source": [
    "bank_df_train.to_csv('./data/final/train_data.csv', index=False)\n",
    "bank_df_test.to_csv('./data/final/test_data.csv', index=False)\n"
   ]
  },
  {
   "cell_type": "markdown",
   "metadata": {},
   "source": [
    "# Model Training"
   ]
  },
  {
   "cell_type": "code",
   "execution_count": null,
   "metadata": {},
   "outputs": [
    {
     "data": {
      "text/html": [
       "<div>\n",
       "<style scoped>\n",
       "    .dataframe tbody tr th:only-of-type {\n",
       "        vertical-align: middle;\n",
       "    }\n",
       "\n",
       "    .dataframe tbody tr th {\n",
       "        vertical-align: top;\n",
       "    }\n",
       "\n",
       "    .dataframe thead th {\n",
       "        text-align: right;\n",
       "    }\n",
       "</style>\n",
       "<table border=\"1\" class=\"dataframe\">\n",
       "  <thead>\n",
       "    <tr style=\"text-align: right;\">\n",
       "      <th></th>\n",
       "      <th>CreditScore</th>\n",
       "      <th>Gender</th>\n",
       "      <th>Age</th>\n",
       "      <th>Tenure</th>\n",
       "      <th>Balance</th>\n",
       "      <th>NumOfProducts</th>\n",
       "      <th>HasCrCard</th>\n",
       "      <th>EstimatedSalary</th>\n",
       "      <th>TransactionFreq</th>\n",
       "      <th>TransactionAmt</th>\n",
       "      <th>...</th>\n",
       "      <th>PrevLifecycle</th>\n",
       "      <th>Happiness</th>\n",
       "      <th>PriceSensitivity</th>\n",
       "      <th>FeatureDriven</th>\n",
       "      <th>ServiceDependant</th>\n",
       "      <th>FirstPersona</th>\n",
       "      <th>SecondPersona</th>\n",
       "      <th>ThirdPersona</th>\n",
       "      <th>SocialInfluencer</th>\n",
       "      <th>CombinedPersonas</th>\n",
       "    </tr>\n",
       "  </thead>\n",
       "  <tbody>\n",
       "    <tr>\n",
       "      <th>0</th>\n",
       "      <td>586</td>\n",
       "      <td>Female</td>\n",
       "      <td>23</td>\n",
       "      <td>2</td>\n",
       "      <td>0</td>\n",
       "      <td>2</td>\n",
       "      <td>0</td>\n",
       "      <td>160,977</td>\n",
       "      <td>18</td>\n",
       "      <td>1,436,921</td>\n",
       "      <td>...</td>\n",
       "      <td>Reactivated</td>\n",
       "      <td>0</td>\n",
       "      <td>14</td>\n",
       "      <td>43</td>\n",
       "      <td>43</td>\n",
       "      <td>PriceSensitivity</td>\n",
       "      <td>FeatureDriven</td>\n",
       "      <td>NaN</td>\n",
       "      <td>1</td>\n",
       "      <td>PriceSensitivity, FeatureDriven</td>\n",
       "    </tr>\n",
       "    <tr>\n",
       "      <th>1</th>\n",
       "      <td>683</td>\n",
       "      <td>Female</td>\n",
       "      <td>46</td>\n",
       "      <td>2</td>\n",
       "      <td>0</td>\n",
       "      <td>1</td>\n",
       "      <td>1</td>\n",
       "      <td>72,549</td>\n",
       "      <td>0</td>\n",
       "      <td>0</td>\n",
       "      <td>...</td>\n",
       "      <td>Active</td>\n",
       "      <td>0</td>\n",
       "      <td>37</td>\n",
       "      <td>31</td>\n",
       "      <td>33</td>\n",
       "      <td>FeatureDriven</td>\n",
       "      <td>ServiceDependant</td>\n",
       "      <td>NaN</td>\n",
       "      <td>0</td>\n",
       "      <td>FeatureDriven, ServiceDependant</td>\n",
       "    </tr>\n",
       "    <tr>\n",
       "      <th>2</th>\n",
       "      <td>656</td>\n",
       "      <td>Female</td>\n",
       "      <td>34</td>\n",
       "      <td>7</td>\n",
       "      <td>0</td>\n",
       "      <td>2</td>\n",
       "      <td>1</td>\n",
       "      <td>138,882</td>\n",
       "      <td>0</td>\n",
       "      <td>0</td>\n",
       "      <td>...</td>\n",
       "      <td>Active</td>\n",
       "      <td>0</td>\n",
       "      <td>46</td>\n",
       "      <td>31</td>\n",
       "      <td>23</td>\n",
       "      <td>PriceSensitivity</td>\n",
       "      <td>NaN</td>\n",
       "      <td>NaN</td>\n",
       "      <td>0</td>\n",
       "      <td>PriceSensitivity</td>\n",
       "    </tr>\n",
       "    <tr>\n",
       "      <th>3</th>\n",
       "      <td>681</td>\n",
       "      <td>Male</td>\n",
       "      <td>36</td>\n",
       "      <td>8</td>\n",
       "      <td>0</td>\n",
       "      <td>1</td>\n",
       "      <td>1</td>\n",
       "      <td>113,932</td>\n",
       "      <td>0</td>\n",
       "      <td>0</td>\n",
       "      <td>...</td>\n",
       "      <td>Reactivated</td>\n",
       "      <td>0</td>\n",
       "      <td>43</td>\n",
       "      <td>22</td>\n",
       "      <td>34</td>\n",
       "      <td>PriceSensitivity</td>\n",
       "      <td>NaN</td>\n",
       "      <td>NaN</td>\n",
       "      <td>0</td>\n",
       "      <td>PriceSensitivity</td>\n",
       "    </tr>\n",
       "    <tr>\n",
       "      <th>4</th>\n",
       "      <td>752</td>\n",
       "      <td>Male</td>\n",
       "      <td>38</td>\n",
       "      <td>10</td>\n",
       "      <td>121,264</td>\n",
       "      <td>1</td>\n",
       "      <td>1</td>\n",
       "      <td>139,431</td>\n",
       "      <td>0</td>\n",
       "      <td>0</td>\n",
       "      <td>...</td>\n",
       "      <td>Active</td>\n",
       "      <td>0</td>\n",
       "      <td>33</td>\n",
       "      <td>38</td>\n",
       "      <td>28</td>\n",
       "      <td>PriceSensitivity</td>\n",
       "      <td>FeatureDriven</td>\n",
       "      <td>NaN</td>\n",
       "      <td>0</td>\n",
       "      <td>PriceSensitivity, FeatureDriven</td>\n",
       "    </tr>\n",
       "    <tr>\n",
       "      <th>...</th>\n",
       "      <td>...</td>\n",
       "      <td>...</td>\n",
       "      <td>...</td>\n",
       "      <td>...</td>\n",
       "      <td>...</td>\n",
       "      <td>...</td>\n",
       "      <td>...</td>\n",
       "      <td>...</td>\n",
       "      <td>...</td>\n",
       "      <td>...</td>\n",
       "      <td>...</td>\n",
       "      <td>...</td>\n",
       "      <td>...</td>\n",
       "      <td>...</td>\n",
       "      <td>...</td>\n",
       "      <td>...</td>\n",
       "      <td>...</td>\n",
       "      <td>...</td>\n",
       "      <td>...</td>\n",
       "      <td>...</td>\n",
       "      <td>...</td>\n",
       "    </tr>\n",
       "    <tr>\n",
       "      <th>110018</th>\n",
       "      <td>570</td>\n",
       "      <td>Male</td>\n",
       "      <td>29</td>\n",
       "      <td>7</td>\n",
       "      <td>116,100</td>\n",
       "      <td>1</td>\n",
       "      <td>1</td>\n",
       "      <td>148,088</td>\n",
       "      <td>135</td>\n",
       "      <td>-245,548</td>\n",
       "      <td>...</td>\n",
       "      <td>Reactivated</td>\n",
       "      <td>1</td>\n",
       "      <td>29</td>\n",
       "      <td>32</td>\n",
       "      <td>39</td>\n",
       "      <td>ServiceDependant</td>\n",
       "      <td>NaN</td>\n",
       "      <td>NaN</td>\n",
       "      <td>0</td>\n",
       "      <td>ServiceDependant</td>\n",
       "    </tr>\n",
       "    <tr>\n",
       "      <th>110019</th>\n",
       "      <td>575</td>\n",
       "      <td>Female</td>\n",
       "      <td>36</td>\n",
       "      <td>4</td>\n",
       "      <td>178,033</td>\n",
       "      <td>1</td>\n",
       "      <td>1</td>\n",
       "      <td>42,182</td>\n",
       "      <td>1049</td>\n",
       "      <td>-2,125,329</td>\n",
       "      <td>...</td>\n",
       "      <td>Active</td>\n",
       "      <td>0</td>\n",
       "      <td>34</td>\n",
       "      <td>27</td>\n",
       "      <td>40</td>\n",
       "      <td>ServiceDependant</td>\n",
       "      <td>FeatureDriven</td>\n",
       "      <td>NaN</td>\n",
       "      <td>0</td>\n",
       "      <td>ServiceDependant, FeatureDriven</td>\n",
       "    </tr>\n",
       "    <tr>\n",
       "      <th>110020</th>\n",
       "      <td>712</td>\n",
       "      <td>Male</td>\n",
       "      <td>31</td>\n",
       "      <td>2</td>\n",
       "      <td>0</td>\n",
       "      <td>2</td>\n",
       "      <td>1</td>\n",
       "      <td>16,287</td>\n",
       "      <td>0</td>\n",
       "      <td>0</td>\n",
       "      <td>...</td>\n",
       "      <td>Dormant</td>\n",
       "      <td>0</td>\n",
       "      <td>10</td>\n",
       "      <td>44</td>\n",
       "      <td>46</td>\n",
       "      <td>PriceSensitivity</td>\n",
       "      <td>FeatureDriven</td>\n",
       "      <td>NaN</td>\n",
       "      <td>0</td>\n",
       "      <td>PriceSensitivity, FeatureDriven</td>\n",
       "    </tr>\n",
       "    <tr>\n",
       "      <th>110021</th>\n",
       "      <td>709</td>\n",
       "      <td>Female</td>\n",
       "      <td>32</td>\n",
       "      <td>3</td>\n",
       "      <td>0</td>\n",
       "      <td>1</td>\n",
       "      <td>1</td>\n",
       "      <td>158,817</td>\n",
       "      <td>0</td>\n",
       "      <td>0</td>\n",
       "      <td>...</td>\n",
       "      <td>Active</td>\n",
       "      <td>0</td>\n",
       "      <td>48</td>\n",
       "      <td>13</td>\n",
       "      <td>39</td>\n",
       "      <td>PriceSensitivity</td>\n",
       "      <td>NaN</td>\n",
       "      <td>NaN</td>\n",
       "      <td>0</td>\n",
       "      <td>PriceSensitivity</td>\n",
       "    </tr>\n",
       "    <tr>\n",
       "      <th>110022</th>\n",
       "      <td>621</td>\n",
       "      <td>Female</td>\n",
       "      <td>37</td>\n",
       "      <td>7</td>\n",
       "      <td>87,848</td>\n",
       "      <td>1</td>\n",
       "      <td>1</td>\n",
       "      <td>24,211</td>\n",
       "      <td>0</td>\n",
       "      <td>0</td>\n",
       "      <td>...</td>\n",
       "      <td>Reactivated</td>\n",
       "      <td>0</td>\n",
       "      <td>41</td>\n",
       "      <td>38</td>\n",
       "      <td>22</td>\n",
       "      <td>PriceSensitivity</td>\n",
       "      <td>ServiceDependant</td>\n",
       "      <td>NaN</td>\n",
       "      <td>1</td>\n",
       "      <td>PriceSensitivity, ServiceDependant</td>\n",
       "    </tr>\n",
       "  </tbody>\n",
       "</table>\n",
       "<p>110023 rows × 40 columns</p>\n",
       "</div>"
      ],
      "text/plain": [
       "        CreditScore  Gender  Age  Tenure  Balance  NumOfProducts  HasCrCard  \\\n",
       "0               586  Female   23       2        0              2          0   \n",
       "1               683  Female   46       2        0              1          1   \n",
       "2               656  Female   34       7        0              2          1   \n",
       "3               681    Male   36       8        0              1          1   \n",
       "4               752    Male   38      10  121,264              1          1   \n",
       "...             ...     ...  ...     ...      ...            ...        ...   \n",
       "110018          570    Male   29       7  116,100              1          1   \n",
       "110019          575  Female   36       4  178,033              1          1   \n",
       "110020          712    Male   31       2        0              2          1   \n",
       "110021          709  Female   32       3        0              1          1   \n",
       "110022          621  Female   37       7   87,848              1          1   \n",
       "\n",
       "        EstimatedSalary  TransactionFreq  TransactionAmt  ...  PrevLifecycle  \\\n",
       "0               160,977               18       1,436,921  ...    Reactivated   \n",
       "1                72,549                0               0  ...         Active   \n",
       "2               138,882                0               0  ...         Active   \n",
       "3               113,932                0               0  ...    Reactivated   \n",
       "4               139,431                0               0  ...         Active   \n",
       "...                 ...              ...             ...  ...            ...   \n",
       "110018          148,088              135        -245,548  ...    Reactivated   \n",
       "110019           42,182             1049      -2,125,329  ...         Active   \n",
       "110020           16,287                0               0  ...        Dormant   \n",
       "110021          158,817                0               0  ...         Active   \n",
       "110022           24,211                0               0  ...    Reactivated   \n",
       "\n",
       "        Happiness  PriceSensitivity FeatureDriven ServiceDependant  \\\n",
       "0               0                14            43               43   \n",
       "1               0                37            31               33   \n",
       "2               0                46            31               23   \n",
       "3               0                43            22               34   \n",
       "4               0                33            38               28   \n",
       "...           ...               ...           ...              ...   \n",
       "110018          1                29            32               39   \n",
       "110019          0                34            27               40   \n",
       "110020          0                10            44               46   \n",
       "110021          0                48            13               39   \n",
       "110022          0                41            38               22   \n",
       "\n",
       "            FirstPersona     SecondPersona  ThirdPersona  SocialInfluencer  \\\n",
       "0       PriceSensitivity     FeatureDriven           NaN                 1   \n",
       "1          FeatureDriven  ServiceDependant           NaN                 0   \n",
       "2       PriceSensitivity               NaN           NaN                 0   \n",
       "3       PriceSensitivity               NaN           NaN                 0   \n",
       "4       PriceSensitivity     FeatureDriven           NaN                 0   \n",
       "...                  ...               ...           ...               ...   \n",
       "110018  ServiceDependant               NaN           NaN                 0   \n",
       "110019  ServiceDependant     FeatureDriven           NaN                 0   \n",
       "110020  PriceSensitivity     FeatureDriven           NaN                 0   \n",
       "110021  PriceSensitivity               NaN           NaN                 0   \n",
       "110022  PriceSensitivity  ServiceDependant           NaN                 1   \n",
       "\n",
       "                          CombinedPersonas  \n",
       "0          PriceSensitivity, FeatureDriven  \n",
       "1          FeatureDriven, ServiceDependant  \n",
       "2                         PriceSensitivity  \n",
       "3                         PriceSensitivity  \n",
       "4          PriceSensitivity, FeatureDriven  \n",
       "...                                    ...  \n",
       "110018                    ServiceDependant  \n",
       "110019     ServiceDependant, FeatureDriven  \n",
       "110020     PriceSensitivity, FeatureDriven  \n",
       "110021                    PriceSensitivity  \n",
       "110022  PriceSensitivity, ServiceDependant  \n",
       "\n",
       "[110023 rows x 40 columns]"
      ]
     },
     "execution_count": 207,
     "metadata": {},
     "output_type": "execute_result"
    }
   ],
   "source": [
    "bank_df_train \n",
    "bank_df_test #missing ChurnDate and CurrLifecycle"
   ]
  },
  {
   "cell_type": "code",
   "execution_count": null,
   "metadata": {},
   "outputs": [],
   "source": []
  },
  {
   "cell_type": "code",
   "execution_count": null,
   "metadata": {},
   "outputs": [],
   "source": []
  }
 ],
 "metadata": {
  "kernelspec": {
   "display_name": "Python 3",
   "language": "python",
   "name": "python3"
  },
  "language_info": {
   "codemirror_mode": {
    "name": "ipython",
    "version": 3
   },
   "file_extension": ".py",
   "mimetype": "text/x-python",
   "name": "python",
   "nbconvert_exporter": "python",
   "pygments_lexer": "ipython3",
   "version": "3.11.9"
  }
 },
 "nbformat": 4,
 "nbformat_minor": 2
}
