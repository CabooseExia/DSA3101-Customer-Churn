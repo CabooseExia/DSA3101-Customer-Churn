{
 "cells": [
  {
   "cell_type": "code",
   "execution_count": 15,
   "id": "b45dc4b9",
   "metadata": {},
   "outputs": [],
   "source": [
    "import numpy as np\n",
    "import pandas as pd\n",
    "from sklearn.model_selection import StratifiedKFold, RandomizedSearchCV, train_test_split\n",
    "from sklearn.linear_model import LogisticRegression\n",
    "from sklearn.ensemble import GradientBoostingClassifier, RandomForestClassifier\n",
    "from sklearn.metrics import accuracy_score, classification_report, confusion_matrix\n",
    "from sklearn.utils import resample\n",
    "import seaborn as sns\n",
    "from skopt import BayesSearchCV\n",
    "from sklearn.preprocessing import StandardScaler"
   ]
  },
  {
   "cell_type": "code",
   "execution_count": 57,
   "id": "05dc1309",
   "metadata": {},
   "outputs": [],
   "source": [
    "# For testing of code, remove this afterwards, and add in the line to receive the processed data\n",
    "raw_train = pd.read_csv('train.csv')\n",
    "raw_test = pd.read_csv('test.csv')"
   ]
  },
  {
   "cell_type": "code",
   "execution_count": 58,
   "id": "990e79ae",
   "metadata": {},
   "outputs": [],
   "source": [
    "cols = raw_train.columns\n",
    "X = raw_train[cols[3:-1]].drop(columns=['Gender', 'Geography'])\n",
    "y = raw_train[[cols[-1]]]\n",
    "X_train, X_test, y_train, y_test = train_test_split(X, y, test_size=0.2, random_state=42)"
   ]
  },
  {
   "cell_type": "markdown",
   "id": "79d80892",
   "metadata": {},
   "source": [
    "## Logistic Regression"
   ]
  },
  {
   "cell_type": "code",
   "execution_count": 37,
   "id": "16c91119",
   "metadata": {},
   "outputs": [],
   "source": [
    "lr_model = LogisticRegression()"
   ]
  },
  {
   "cell_type": "code",
   "execution_count": null,
   "id": "e391fc3f",
   "metadata": {},
   "outputs": [],
   "source": [
    "# Hyperparameter Tuning\n",
    "lr_param_dist = {\n",
    "    'penalty': ['l1', 'l2', 'elasticnet', None],\n",
    "    'C': [0.001, 0.01, 0.1, 1, 10, 100],\n",
    "    'solver': ['lbfgs', 'liblinear', 'newton-cg', 'newton-cholesky', 'sag', 'saga']\n",
    "}\n",
    "\n",
    "search = BayesSearchCV(\n",
    "    estimator=lr_model,\n",
    "    search_spaces=lr_param_dist,\n",
    "    n_iter=50,\n",
    "    cv=5\n",
    ")\n",
    "\n",
    "# Scale the data for Logistic Regression\n",
    "scaler = StandardScaler()\n",
    "X_train_scaled = scaler.fit_transform(X_train)\n",
    "X_test_scaled = scaler.transform(X_test)\n",
    "\n",
    "# Perform optimization\n",
    "search.fit(X_train, y_train)\n",
    "\n",
    "print(\"Best parameters found: \", search.best_params_)\n",
    "\n",
    "# Evaluate the best model on the test set\n",
    "best_model = search.best_estimator_\n",
    "test_score = best_model.score(X_test, y_test)\n",
    "print(\"Test score of the best model: \", test_score)\n"
   ]
  },
  {
   "cell_type": "code",
   "execution_count": null,
   "id": "f9341136",
   "metadata": {},
   "outputs": [],
   "source": [
    "predict_proba(X)"
   ]
  },
  {
   "cell_type": "markdown",
   "id": "b265bd94",
   "metadata": {},
   "source": [
    "## Gradient Booster"
   ]
  },
  {
   "cell_type": "code",
   "execution_count": 60,
   "id": "7a352cdd",
   "metadata": {},
   "outputs": [],
   "source": [
    "gb_model = GradientBoostingClassifier()"
   ]
  },
  {
   "cell_type": "code",
   "execution_count": null,
   "id": "81638087",
   "metadata": {},
   "outputs": [],
   "source": [
    "# Hyperparameter Tuning\n",
    "gb_param_dist = {\n",
    "    'loss': ['log_loss', 'exponential'],\n",
    "    'learning_rate': np.arange(0., 5., 0.2).tolist(),\n",
    "    'n_estimators': np.arange(100, 501, 100).tolist(),\n",
    "    'criterion': ['friedman_mse', 'squared_error'],\n",
    "    'min_samples_leaf': np.arange(6,21, 2).tolist(),\n",
    "    'max_features': ['sqrt', 'log2', None],\n",
    "    'min_samples_split': np.arange(2,21, 2).tolist(),\n",
    "    'max_depth': np.arange(3,22, 3).tolist()\n",
    "}\n",
    "\n",
    "#search = BayesSearchCV(\n",
    "#    estimator=gb_model,\n",
    "#    search_spaces=gb_param_dist,\n",
    "#    n_iter=50,\n",
    "#    cv=5\n",
    "#)\n",
    "\n",
    "search = RandomizedSearchCV(gb_model, param_distributions=gb_param_dist, n_iter=10, scoring='f1_weighted', cv=5, random_state=42)\n",
    "\n",
    "# Perform optimization\n",
    "search.fit(X_train, y_train.ravel())\n",
    "\n",
    "print(\"Best parameters found: \", search.best_params_)\n",
    "\n",
    "# Evaluate the best model on the test set\n",
    "best_model = search.best_estimator_\n",
    "test_score = best_model.score(X_test, y_test)\n",
    "print(\"Test score of the best model: \", test_score)\n"
   ]
  },
  {
   "cell_type": "markdown",
   "id": "bffac9f0",
   "metadata": {},
   "source": [
    "## Random Forest"
   ]
  },
  {
   "cell_type": "code",
   "execution_count": 4,
   "id": "2c9ef173",
   "metadata": {},
   "outputs": [],
   "source": [
    "rf_model = RandomForestClassifier()"
   ]
  },
  {
   "cell_type": "code",
   "execution_count": null,
   "id": "53d7f1bb",
   "metadata": {},
   "outputs": [],
   "source": [
    "# Hyperparameter Tuning\n",
    "rf_param_dist = {\n",
    "    'n_estimators': np.arange(100,1001, 100).tolist(),\n",
    "    'criterion': ['gini', 'entropy', 'log_loss'],\n",
    "    'max_depth': np.arange(3,22, 3).tolist(),\n",
    "    'min_samples_leaf': np.arange(6,21).tolist()[0::2],\n",
    "    'max_features': ['sqrt', 'log2', None],\n",
    "    'min_samples_split': np.arange(2,21, 2).tolist()\n",
    "}\n",
    "\n",
    "search = BayesSearchCV(\n",
    "    estimator=rf_model,\n",
    "    search_spaces=rf_param_dist,\n",
    "    n_iter=50,\n",
    "    cv=5\n",
    ")\n",
    "\n",
    "# Perform optimization\n",
    "search.fit(X_train, y_train)\n",
    "\n",
    "print(\"Best parameters found: \", search.best_params_)\n",
    "\n",
    "# Evaluate the best model on the test set\n",
    "best_model = search.best_estimator_\n",
    "test_score = best_model.score(X_test, y_test)\n",
    "print(\"Test score of the best model: \", test_score)"
   ]
  }
 ],
 "metadata": {
  "kernelspec": {
   "display_name": "Python 3 (ipykernel)",
   "language": "python",
   "name": "python3"
  },
  "language_info": {
   "codemirror_mode": {
    "name": "ipython",
    "version": 3
   },
   "file_extension": ".py",
   "mimetype": "text/x-python",
   "name": "python",
   "nbconvert_exporter": "python",
   "pygments_lexer": "ipython3",
   "version": "3.11.5"
  }
 },
 "nbformat": 4,
 "nbformat_minor": 5
}
